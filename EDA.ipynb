{
  "nbformat": 4,
  "nbformat_minor": 0,
  "metadata": {
    "colab": {
      "name": "EDA",
      "provenance": [],
      "collapsed_sections": [],
      "machine_shape": "hm",
      "include_colab_link": true
    },
    "kernelspec": {
      "name": "python3",
      "display_name": "Python 3"
    }
  },
  "cells": [
    {
      "cell_type": "markdown",
      "metadata": {
        "id": "view-in-github",
        "colab_type": "text"
      },
      "source": [
        "<a href=\"https://colab.research.google.com/github/AmbiTyga/Task-Stylumia/blob/main/EDA.ipynb\" target=\"_parent\"><img src=\"https://colab.research.google.com/assets/colab-badge.svg\" alt=\"Open In Colab\"/></a>"
      ]
    },
    {
      "cell_type": "code",
      "metadata": {
        "id": "x2kqiBG7050G",
        "colab": {
          "resources": {
            "http://localhost:8080/nbextensions/google.colab/files.js": {
              "data": "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",
              "ok": true,
              "headers": [
                [
                  "content-type",
                  "application/javascript"
                ]
              ],
              "status": 200,
              "status_text": ""
            }
          },
          "base_uri": "https://localhost:8080/",
          "height": 304
        },
        "cellView": "form",
        "outputId": "472a4c05-0b4f-4ef3-b0a2-1776b3ba75f1"
      },
      "source": [
        "#@title Kaggle Download\r\n",
        "! pip install -q kaggle\r\n",
        "from google.colab import files\r\n",
        "files.upload()\r\n",
        "! mkdir ~/.kaggle\r\n",
        "! cp kaggle.json ~/.kaggle/\r\n",
        "! chmod 600 ~/.kaggle/kaggle.json\r\n",
        "! kaggle competitions download -c stumbleupon"
      ],
      "execution_count": 1,
      "outputs": [
        {
          "output_type": "display_data",
          "data": {
            "text/html": [
              "\n",
              "     <input type=\"file\" id=\"files-159ab277-464f-44de-a477-76a3e6859d5f\" name=\"files[]\" multiple disabled\n",
              "        style=\"border:none\" />\n",
              "     <output id=\"result-159ab277-464f-44de-a477-76a3e6859d5f\">\n",
              "      Upload widget is only available when the cell has been executed in the\n",
              "      current browser session. Please rerun this cell to enable.\n",
              "      </output>\n",
              "      <script src=\"/nbextensions/google.colab/files.js\"></script> "
            ],
            "text/plain": [
              "<IPython.core.display.HTML object>"
            ]
          },
          "metadata": {
            "tags": []
          }
        },
        {
          "output_type": "stream",
          "text": [
            "Saving kaggle.json to kaggle.json\n",
            "Warning: Looks like you're using an outdated API Version, please consider updating (server 1.5.10 / client 1.5.4)\n",
            "Downloading raw_content.zip to /content\n",
            " 99% 156M/157M [00:01<00:00, 96.1MB/s]\n",
            "100% 157M/157M [00:01<00:00, 95.7MB/s]\n",
            "Downloading sampleSubmission.csv to /content\n",
            "  0% 0.00/21.5k [00:00<?, ?B/s]\n",
            "100% 21.5k/21.5k [00:00<00:00, 17.7MB/s]\n",
            "Downloading test.tsv.zip to /content\n",
            "  0% 0.00/3.45M [00:00<?, ?B/s]\n",
            "100% 3.45M/3.45M [00:00<00:00, 219MB/s]\n",
            "Downloading train.tsv.zip to /content\n",
            " 62% 5.00M/8.02M [00:00<00:00, 20.6MB/s]\n",
            "100% 8.02M/8.02M [00:00<00:00, 26.7MB/s]\n"
          ],
          "name": "stdout"
        }
      ]
    },
    {
      "cell_type": "code",
      "metadata": {
        "id": "j3F6Jobi1djH"
      },
      "source": [
        "!unzip -q /content/raw_content.zip"
      ],
      "execution_count": 2,
      "outputs": []
    },
    {
      "cell_type": "code",
      "metadata": {
        "id": "f8z98PsF3xXe",
        "colab": {
          "base_uri": "https://localhost:8080/"
        },
        "outputId": "82aab553-6754-49a5-90dc-c28e7edd0110"
      },
      "source": [
        "!pip install boilerpy3 -q\r\n",
        "!pip install scrapy -q"
      ],
      "execution_count": 3,
      "outputs": [
        {
          "output_type": "stream",
          "text": [
            "\u001b[K     |████████████████████████████████| 245kB 11.7MB/s \n",
            "\u001b[K     |████████████████████████████████| 245kB 15.6MB/s \n",
            "\u001b[K     |████████████████████████████████| 3.2MB 29.7MB/s \n",
            "\u001b[K     |████████████████████████████████| 3.2MB 54.6MB/s \n",
            "\u001b[K     |████████████████████████████████| 3.1MB 39.3MB/s \n",
            "\u001b[K     |████████████████████████████████| 61kB 5.4MB/s \n",
            "\u001b[K     |████████████████████████████████| 61kB 6.3MB/s \n",
            "\u001b[K     |████████████████████████████████| 81kB 7.2MB/s \n",
            "\u001b[?25h  Building wheel for protego (setup.py) ... \u001b[?25l\u001b[?25hdone\n",
            "  Building wheel for PyDispatcher (setup.py) ... \u001b[?25l\u001b[?25hdone\n"
          ],
          "name": "stdout"
        }
      ]
    },
    {
      "cell_type": "code",
      "metadata": {
        "id": "5L1zAnM61Ouy"
      },
      "source": [
        "import pandas as pd \r\n",
        "import numpy as np\r\n",
        "import json\r\n",
        "from bs4 import BeautifulSoup\r\n",
        "from boilerpy3 import extractors\r\n",
        "import re"
      ],
      "execution_count": 53,
      "outputs": []
    },
    {
      "cell_type": "code",
      "metadata": {
        "id": "O793eqjJ7hHp"
      },
      "source": [
        "def extract_domain(df_url):\r\n",
        "    # extract domains\r\n",
        "    domain = df_url.str.lower().apply(lambda x:x.split('/')[2])\r\n",
        "    domain_parts = domain.str.split('.')\r\n",
        "\r\n",
        "    return domain_parts.apply(lambda x:'.'.join(x[-2:]) if x[-2] not in ['com', 'co'] else '.'.join(x[-3:]))"
      ],
      "execution_count": 6,
      "outputs": []
    },
    {
      "cell_type": "code",
      "metadata": {
        "id": "40WYPNJurhol"
      },
      "source": [
        "def clean_string(s):\r\n",
        "    s = re.sub(r'[\\n\\r\\t]', ' ',s)\r\n",
        "    s = re.sub(r\"\\s+\", ' ', s)\r\n",
        "    return s.strip()"
      ],
      "execution_count": 51,
      "outputs": []
    },
    {
      "cell_type": "code",
      "metadata": {
        "id": "uRunKFdUr-8W"
      },
      "source": [
        "def get_boilerPipe(urlid):\r\n",
        "  ext = extractors.ArticleExtractor()\r\n",
        "  f = open(\"/content/raw_content/\"+str(urlid), 'rb')\r\n",
        "  s = ext.get_content(f.read())\r\n",
        "  return clean_string(s)"
      ],
      "execution_count": 72,
      "outputs": []
    },
    {
      "cell_type": "code",
      "metadata": {
        "id": "DYgFVJ5m7GPi"
      },
      "source": [
        "data = pd.concat([pd.read_csv('/content/train.tsv.zip',sep = '\\t'),\r\n",
        "                  pd.read_csv('/content/test.tsv.zip',sep = '\\t')],ignore_index = True)"
      ],
      "execution_count": 5,
      "outputs": []
    },
    {
      "cell_type": "code",
      "metadata": {
        "id": "ApRP5YIt9L2p"
      },
      "source": [
        "item = data.copy()"
      ],
      "execution_count": 7,
      "outputs": []
    },
    {
      "cell_type": "code",
      "metadata": {
        "id": "V5yYB0oC87gc"
      },
      "source": [
        "item['real_url'] = item['url'].str.lower()"
      ],
      "execution_count": 8,
      "outputs": []
    },
    {
      "cell_type": "code",
      "metadata": {
        "id": "uIDvACNM9Q0K"
      },
      "source": [
        "item['domain'] = extract_domain(item['real_url'])"
      ],
      "execution_count": 9,
      "outputs": []
    },
    {
      "cell_type": "code",
      "metadata": {
        "id": "a44cpAUZ9ZAb"
      },
      "source": [
        "item['tld'] = item['domain'].str.split('.').apply(lambda x:x[-1])"
      ],
      "execution_count": 10,
      "outputs": []
    },
    {
      "cell_type": "code",
      "metadata": {
        "id": "Dey_-Sl69ZdK"
      },
      "source": [
        "item['boilerplate'] = item['boilerplate'].apply(lambda x:json.loads(x))\r\n",
        "item.rename(columns = {'url':'org_url'},inplace = True)\r\n",
        "\r\n",
        "item = pd.concat([item,pd.DataFrame(item['boilerplate'].tolist(),columns=['title','body','url'])],axis = 1)\r\n",
        "item.drop(columns = ['boilerplate'],inplace = True)"
      ],
      "execution_count": 11,
      "outputs": []
    },
    {
      "cell_type": "code",
      "metadata": {
        "id": "o0K1FnlMkax-"
      },
      "source": [
        "item['boilerplate'] = item[['title','body']].values.tolist()"
      ],
      "execution_count": 19,
      "outputs": []
    },
    {
      "cell_type": "code",
      "metadata": {
        "id": "JbGBkceEl2nb"
      },
      "source": [
        "def boil_soup(urlid, parser=\"lxml\"):\r\n",
        "    filename = '/content/raw_content/' + urlid\r\n",
        "\r\n",
        "    with open(filename, 'rb') as f:\r\n",
        "        html = f.read()\r\n",
        "\r\n",
        "        for parser in [\"lxml\", \"xml\", \"html5lib\"]:\r\n",
        "            soup = BeautifulSoup(html, parser)\r\n",
        "            if soup.body:\r\n",
        "                return soup\r\n",
        "\r\n",
        "        return BeautifulSoup(html)"
      ],
      "execution_count": 23,
      "outputs": []
    },
    {
      "cell_type": "code",
      "metadata": {
        "id": "VoHeoNATkyrS",
        "outputId": "e92c7b5e-1beb-4d8b-876a-4772290e2f89",
        "colab": {
          "base_uri": "https://localhost:8080/",
          "height": 391
        }
      },
      "source": [
        "item['boilerpipe'] = item['urlid'].apply(get_boilerPipe)"
      ],
      "execution_count": 59,
      "outputs": [
        {
          "output_type": "stream",
          "text": [
            "Warning: SAX input contains nested A elements -- You have probably hit a bug in your HTML parser (e.g., NekoHTML bug #2909310). Please clean the HTML externally and feed it to BoilerPy3 again. Trying to recover somehow...\n"
          ],
          "name": "stderr"
        },
        {
          "output_type": "error",
          "ename": "UnicodeDecodeError",
          "evalue": "ignored",
          "traceback": [
            "\u001b[0;31m---------------------------------------------------------------------------\u001b[0m",
            "\u001b[0;31mUnicodeDecodeError\u001b[0m                        Traceback (most recent call last)",
            "\u001b[0;32m<ipython-input-59-e29ef4398700>\u001b[0m in \u001b[0;36m<module>\u001b[0;34m()\u001b[0m\n\u001b[0;32m----> 1\u001b[0;31m \u001b[0mitem\u001b[0m\u001b[0;34m[\u001b[0m\u001b[0;34m'boilerpipe'\u001b[0m\u001b[0;34m]\u001b[0m \u001b[0;34m=\u001b[0m \u001b[0mitem\u001b[0m\u001b[0;34m[\u001b[0m\u001b[0;34m'urlid'\u001b[0m\u001b[0;34m]\u001b[0m\u001b[0;34m.\u001b[0m\u001b[0mapply\u001b[0m\u001b[0;34m(\u001b[0m\u001b[0mget_boilerPipe\u001b[0m\u001b[0;34m)\u001b[0m\u001b[0;34m\u001b[0m\u001b[0;34m\u001b[0m\u001b[0m\n\u001b[0m",
            "\u001b[0;32m/usr/local/lib/python3.7/dist-packages/pandas/core/series.py\u001b[0m in \u001b[0;36mapply\u001b[0;34m(self, func, convert_dtype, args, **kwds)\u001b[0m\n\u001b[1;32m   4211\u001b[0m             \u001b[0;32melse\u001b[0m\u001b[0;34m:\u001b[0m\u001b[0;34m\u001b[0m\u001b[0;34m\u001b[0m\u001b[0m\n\u001b[1;32m   4212\u001b[0m                 \u001b[0mvalues\u001b[0m \u001b[0;34m=\u001b[0m \u001b[0mself\u001b[0m\u001b[0;34m.\u001b[0m\u001b[0mastype\u001b[0m\u001b[0;34m(\u001b[0m\u001b[0mobject\u001b[0m\u001b[0;34m)\u001b[0m\u001b[0;34m.\u001b[0m\u001b[0m_values\u001b[0m\u001b[0;34m\u001b[0m\u001b[0;34m\u001b[0m\u001b[0m\n\u001b[0;32m-> 4213\u001b[0;31m                 \u001b[0mmapped\u001b[0m \u001b[0;34m=\u001b[0m \u001b[0mlib\u001b[0m\u001b[0;34m.\u001b[0m\u001b[0mmap_infer\u001b[0m\u001b[0;34m(\u001b[0m\u001b[0mvalues\u001b[0m\u001b[0;34m,\u001b[0m \u001b[0mf\u001b[0m\u001b[0;34m,\u001b[0m \u001b[0mconvert\u001b[0m\u001b[0;34m=\u001b[0m\u001b[0mconvert_dtype\u001b[0m\u001b[0;34m)\u001b[0m\u001b[0;34m\u001b[0m\u001b[0;34m\u001b[0m\u001b[0m\n\u001b[0m\u001b[1;32m   4214\u001b[0m \u001b[0;34m\u001b[0m\u001b[0m\n\u001b[1;32m   4215\u001b[0m         \u001b[0;32mif\u001b[0m \u001b[0mlen\u001b[0m\u001b[0;34m(\u001b[0m\u001b[0mmapped\u001b[0m\u001b[0;34m)\u001b[0m \u001b[0;32mand\u001b[0m \u001b[0misinstance\u001b[0m\u001b[0;34m(\u001b[0m\u001b[0mmapped\u001b[0m\u001b[0;34m[\u001b[0m\u001b[0;36m0\u001b[0m\u001b[0;34m]\u001b[0m\u001b[0;34m,\u001b[0m \u001b[0mSeries\u001b[0m\u001b[0;34m)\u001b[0m\u001b[0;34m:\u001b[0m\u001b[0;34m\u001b[0m\u001b[0;34m\u001b[0m\u001b[0m\n",
            "\u001b[0;32mpandas/_libs/lib.pyx\u001b[0m in \u001b[0;36mpandas._libs.lib.map_infer\u001b[0;34m()\u001b[0m\n",
            "\u001b[0;32m<ipython-input-58-6a2b6538713a>\u001b[0m in \u001b[0;36mget_boilerPipe\u001b[0;34m(urlid)\u001b[0m\n\u001b[1;32m      1\u001b[0m \u001b[0mext\u001b[0m \u001b[0;34m=\u001b[0m \u001b[0mextractors\u001b[0m\u001b[0;34m.\u001b[0m\u001b[0mArticleExtractor\u001b[0m\u001b[0;34m(\u001b[0m\u001b[0;34m)\u001b[0m\u001b[0;34m\u001b[0m\u001b[0;34m\u001b[0m\u001b[0m\n\u001b[1;32m      2\u001b[0m \u001b[0;32mdef\u001b[0m \u001b[0mget_boilerPipe\u001b[0m\u001b[0;34m(\u001b[0m\u001b[0murlid\u001b[0m\u001b[0;34m)\u001b[0m\u001b[0;34m:\u001b[0m\u001b[0;34m\u001b[0m\u001b[0;34m\u001b[0m\u001b[0m\n\u001b[0;32m----> 3\u001b[0;31m   \u001b[0ms\u001b[0m \u001b[0;34m=\u001b[0m \u001b[0mext\u001b[0m\u001b[0;34m.\u001b[0m\u001b[0mget_content_from_file\u001b[0m\u001b[0;34m(\u001b[0m\u001b[0;34m'/content/raw_content/'\u001b[0m\u001b[0;34m+\u001b[0m\u001b[0mstr\u001b[0m\u001b[0;34m(\u001b[0m\u001b[0murlid\u001b[0m\u001b[0;34m)\u001b[0m\u001b[0;34m)\u001b[0m\u001b[0;34m\u001b[0m\u001b[0;34m\u001b[0m\u001b[0m\n\u001b[0m\u001b[1;32m      4\u001b[0m   \u001b[0;32mreturn\u001b[0m \u001b[0mclean_string\u001b[0m\u001b[0;34m(\u001b[0m\u001b[0ms\u001b[0m\u001b[0;34m)\u001b[0m\u001b[0;34m\u001b[0m\u001b[0;34m\u001b[0m\u001b[0m\n",
            "\u001b[0;32m/usr/local/lib/python3.7/dist-packages/boilerpy3/extractors.py\u001b[0m in \u001b[0;36mget_content_from_file\u001b[0;34m(self, filename)\u001b[0m\n\u001b[1;32m     46\u001b[0m \u001b[0;34m\u001b[0m\u001b[0m\n\u001b[1;32m     47\u001b[0m     \u001b[0;32mdef\u001b[0m \u001b[0mget_content_from_file\u001b[0m\u001b[0;34m(\u001b[0m\u001b[0mself\u001b[0m\u001b[0;34m,\u001b[0m \u001b[0mfilename\u001b[0m\u001b[0;34m)\u001b[0m \u001b[0;34m->\u001b[0m \u001b[0mstr\u001b[0m\u001b[0;34m:\u001b[0m\u001b[0;34m\u001b[0m\u001b[0;34m\u001b[0m\u001b[0m\n\u001b[0;32m---> 48\u001b[0;31m         \u001b[0;32mreturn\u001b[0m \u001b[0mself\u001b[0m\u001b[0;34m.\u001b[0m\u001b[0mget_doc_from_file\u001b[0m\u001b[0;34m(\u001b[0m\u001b[0mfilename\u001b[0m\u001b[0;34m)\u001b[0m\u001b[0;34m.\u001b[0m\u001b[0mcontent\u001b[0m\u001b[0;34m\u001b[0m\u001b[0;34m\u001b[0m\u001b[0m\n\u001b[0m\u001b[1;32m     49\u001b[0m \u001b[0;34m\u001b[0m\u001b[0m\n\u001b[1;32m     50\u001b[0m     \u001b[0;32mdef\u001b[0m \u001b[0mget_doc_from_file\u001b[0m\u001b[0;34m(\u001b[0m\u001b[0mself\u001b[0m\u001b[0;34m,\u001b[0m \u001b[0mfilename\u001b[0m\u001b[0;34m)\u001b[0m \u001b[0;34m->\u001b[0m \u001b[0mTextDocument\u001b[0m\u001b[0;34m:\u001b[0m\u001b[0;34m\u001b[0m\u001b[0;34m\u001b[0m\u001b[0m\n",
            "\u001b[0;32m/usr/local/lib/python3.7/dist-packages/boilerpy3/extractors.py\u001b[0m in \u001b[0;36mget_doc_from_file\u001b[0;34m(self, filename)\u001b[0m\n\u001b[1;32m     49\u001b[0m \u001b[0;34m\u001b[0m\u001b[0m\n\u001b[1;32m     50\u001b[0m     \u001b[0;32mdef\u001b[0m \u001b[0mget_doc_from_file\u001b[0m\u001b[0;34m(\u001b[0m\u001b[0mself\u001b[0m\u001b[0;34m,\u001b[0m \u001b[0mfilename\u001b[0m\u001b[0;34m)\u001b[0m \u001b[0;34m->\u001b[0m \u001b[0mTextDocument\u001b[0m\u001b[0;34m:\u001b[0m\u001b[0;34m\u001b[0m\u001b[0;34m\u001b[0m\u001b[0m\n\u001b[0;32m---> 51\u001b[0;31m         \u001b[0;32mreturn\u001b[0m \u001b[0mself\u001b[0m\u001b[0;34m.\u001b[0m\u001b[0mget_doc\u001b[0m\u001b[0;34m(\u001b[0m\u001b[0mself\u001b[0m\u001b[0;34m.\u001b[0m\u001b[0mread_from_file\u001b[0m\u001b[0;34m(\u001b[0m\u001b[0mfilename\u001b[0m\u001b[0;34m)\u001b[0m\u001b[0;34m)\u001b[0m\u001b[0;34m\u001b[0m\u001b[0;34m\u001b[0m\u001b[0m\n\u001b[0m\u001b[1;32m     52\u001b[0m \u001b[0;34m\u001b[0m\u001b[0m\n\u001b[1;32m     53\u001b[0m     \u001b[0;32mdef\u001b[0m \u001b[0mget_doc_from_url\u001b[0m\u001b[0;34m(\u001b[0m\u001b[0mself\u001b[0m\u001b[0;34m,\u001b[0m \u001b[0murl\u001b[0m\u001b[0;34m)\u001b[0m \u001b[0;34m->\u001b[0m \u001b[0mTextDocument\u001b[0m\u001b[0;34m:\u001b[0m\u001b[0;34m\u001b[0m\u001b[0;34m\u001b[0m\u001b[0m\n",
            "\u001b[0;32m/usr/local/lib/python3.7/dist-packages/boilerpy3/extractors.py\u001b[0m in \u001b[0;36mread_from_file\u001b[0;34m(self, filename)\u001b[0m\n\u001b[1;32m     66\u001b[0m     \u001b[0;32mdef\u001b[0m \u001b[0mread_from_file\u001b[0m\u001b[0;34m(\u001b[0m\u001b[0mself\u001b[0m\u001b[0;34m,\u001b[0m \u001b[0mfilename\u001b[0m\u001b[0;34m:\u001b[0m \u001b[0mstr\u001b[0m\u001b[0;34m)\u001b[0m \u001b[0;34m->\u001b[0m \u001b[0mstr\u001b[0m\u001b[0;34m:\u001b[0m\u001b[0;34m\u001b[0m\u001b[0;34m\u001b[0m\u001b[0m\n\u001b[1;32m     67\u001b[0m         \u001b[0;32mwith\u001b[0m \u001b[0mopen\u001b[0m\u001b[0;34m(\u001b[0m\u001b[0mfilename\u001b[0m\u001b[0;34m)\u001b[0m \u001b[0;32mas\u001b[0m \u001b[0mtext_file\u001b[0m\u001b[0;34m:\u001b[0m\u001b[0;34m\u001b[0m\u001b[0;34m\u001b[0m\u001b[0m\n\u001b[0;32m---> 68\u001b[0;31m             \u001b[0;32mreturn\u001b[0m \u001b[0mtext_file\u001b[0m\u001b[0;34m.\u001b[0m\u001b[0mread\u001b[0m\u001b[0;34m(\u001b[0m\u001b[0;34m)\u001b[0m\u001b[0;34m\u001b[0m\u001b[0;34m\u001b[0m\u001b[0m\n\u001b[0m\u001b[1;32m     69\u001b[0m \u001b[0;34m\u001b[0m\u001b[0m\n\u001b[1;32m     70\u001b[0m     \u001b[0;32mdef\u001b[0m \u001b[0mread_from_url\u001b[0m\u001b[0;34m(\u001b[0m\u001b[0mself\u001b[0m\u001b[0;34m,\u001b[0m \u001b[0murl\u001b[0m\u001b[0;34m:\u001b[0m \u001b[0mstr\u001b[0m\u001b[0;34m)\u001b[0m \u001b[0;34m->\u001b[0m \u001b[0mstr\u001b[0m\u001b[0;34m:\u001b[0m\u001b[0;34m\u001b[0m\u001b[0;34m\u001b[0m\u001b[0m\n",
            "\u001b[0;32m/usr/lib/python3.7/codecs.py\u001b[0m in \u001b[0;36mdecode\u001b[0;34m(self, input, final)\u001b[0m\n\u001b[1;32m    320\u001b[0m         \u001b[0;31m# decode input (taking the buffer into account)\u001b[0m\u001b[0;34m\u001b[0m\u001b[0;34m\u001b[0m\u001b[0;34m\u001b[0m\u001b[0m\n\u001b[1;32m    321\u001b[0m         \u001b[0mdata\u001b[0m \u001b[0;34m=\u001b[0m \u001b[0mself\u001b[0m\u001b[0;34m.\u001b[0m\u001b[0mbuffer\u001b[0m \u001b[0;34m+\u001b[0m \u001b[0minput\u001b[0m\u001b[0;34m\u001b[0m\u001b[0;34m\u001b[0m\u001b[0m\n\u001b[0;32m--> 322\u001b[0;31m         \u001b[0;34m(\u001b[0m\u001b[0mresult\u001b[0m\u001b[0;34m,\u001b[0m \u001b[0mconsumed\u001b[0m\u001b[0;34m)\u001b[0m \u001b[0;34m=\u001b[0m \u001b[0mself\u001b[0m\u001b[0;34m.\u001b[0m\u001b[0m_buffer_decode\u001b[0m\u001b[0;34m(\u001b[0m\u001b[0mdata\u001b[0m\u001b[0;34m,\u001b[0m \u001b[0mself\u001b[0m\u001b[0;34m.\u001b[0m\u001b[0merrors\u001b[0m\u001b[0;34m,\u001b[0m \u001b[0mfinal\u001b[0m\u001b[0;34m)\u001b[0m\u001b[0;34m\u001b[0m\u001b[0;34m\u001b[0m\u001b[0m\n\u001b[0m\u001b[1;32m    323\u001b[0m         \u001b[0;31m# keep undecoded input until the next call\u001b[0m\u001b[0;34m\u001b[0m\u001b[0;34m\u001b[0m\u001b[0;34m\u001b[0m\u001b[0m\n\u001b[1;32m    324\u001b[0m         \u001b[0mself\u001b[0m\u001b[0;34m.\u001b[0m\u001b[0mbuffer\u001b[0m \u001b[0;34m=\u001b[0m \u001b[0mdata\u001b[0m\u001b[0;34m[\u001b[0m\u001b[0mconsumed\u001b[0m\u001b[0;34m:\u001b[0m\u001b[0;34m]\u001b[0m\u001b[0;34m\u001b[0m\u001b[0;34m\u001b[0m\u001b[0m\n",
            "\u001b[0;31mUnicodeDecodeError\u001b[0m: 'utf-8' codec can't decode byte 0xe9 in position 35066: invalid continuation byte"
          ]
        }
      ]
    },
    {
      "cell_type": "code",
      "metadata": {
        "id": "sGJY5HeEnKNy",
        "outputId": "e90cd002-2e39-420a-9f1d-6b37f9161972",
        "colab": {
          "base_uri": "https://localhost:8080/",
          "height": 460
        }
      },
      "source": [
        "a = []\r\n",
        "for i, id in enumerate(item['urlid'].values):\r\n",
        "  print(i)\r\n",
        "  a.append(get_boilerPipe(id))\r\n"
      ],
      "execution_count": 73,
      "outputs": [
        {
          "output_type": "stream",
          "text": [
            "0\n"
          ],
          "name": "stdout"
        },
        {
          "output_type": "error",
          "ename": "TypeError",
          "evalue": "ignored",
          "traceback": [
            "\u001b[0;31m---------------------------------------------------------------------------\u001b[0m",
            "\u001b[0;31mTypeError\u001b[0m                                 Traceback (most recent call last)",
            "\u001b[0;32m/usr/local/lib/python3.7/dist-packages/boilerpy3/extractors.py\u001b[0m in \u001b[0;36mparse_doc\u001b[0;34m(self, input_str)\u001b[0m\n\u001b[1;32m     89\u001b[0m         \u001b[0;32mtry\u001b[0m\u001b[0;34m:\u001b[0m\u001b[0;34m\u001b[0m\u001b[0;34m\u001b[0m\u001b[0m\n\u001b[0;32m---> 90\u001b[0;31m             \u001b[0mbp_parser\u001b[0m\u001b[0;34m.\u001b[0m\u001b[0mfeed\u001b[0m\u001b[0;34m(\u001b[0m\u001b[0minput_str\u001b[0m\u001b[0;34m)\u001b[0m\u001b[0;34m\u001b[0m\u001b[0;34m\u001b[0m\u001b[0m\n\u001b[0m\u001b[1;32m     91\u001b[0m         \u001b[0;32mexcept\u001b[0m\u001b[0;34m:\u001b[0m\u001b[0;34m\u001b[0m\u001b[0;34m\u001b[0m\u001b[0m\n",
            "\u001b[0;32m/usr/local/lib/python3.7/dist-packages/boilerpy3/parser.py\u001b[0m in \u001b[0;36mfeed\u001b[0;34m(self, data)\u001b[0m\n\u001b[1;32m    656\u001b[0m         \u001b[0mself\u001b[0m\u001b[0;34m.\u001b[0m\u001b[0mstart_document\u001b[0m\u001b[0;34m(\u001b[0m\u001b[0;34m)\u001b[0m\u001b[0;34m\u001b[0m\u001b[0;34m\u001b[0m\u001b[0m\n\u001b[0;32m--> 657\u001b[0;31m         \u001b[0mHTMLParser\u001b[0m\u001b[0;34m.\u001b[0m\u001b[0mfeed\u001b[0m\u001b[0;34m(\u001b[0m\u001b[0mself\u001b[0m\u001b[0;34m,\u001b[0m \u001b[0mdata\u001b[0m\u001b[0;34m)\u001b[0m\u001b[0;34m\u001b[0m\u001b[0;34m\u001b[0m\u001b[0m\n\u001b[0m\u001b[1;32m    658\u001b[0m         \u001b[0mself\u001b[0m\u001b[0;34m.\u001b[0m\u001b[0mend_document\u001b[0m\u001b[0;34m(\u001b[0m\u001b[0;34m)\u001b[0m\u001b[0;34m\u001b[0m\u001b[0;34m\u001b[0m\u001b[0m\n",
            "\u001b[0;32m/usr/lib/python3.7/html/parser.py\u001b[0m in \u001b[0;36mfeed\u001b[0;34m(self, data)\u001b[0m\n\u001b[1;32m    109\u001b[0m         \"\"\"\n\u001b[0;32m--> 110\u001b[0;31m         \u001b[0mself\u001b[0m\u001b[0;34m.\u001b[0m\u001b[0mrawdata\u001b[0m \u001b[0;34m=\u001b[0m \u001b[0mself\u001b[0m\u001b[0;34m.\u001b[0m\u001b[0mrawdata\u001b[0m \u001b[0;34m+\u001b[0m \u001b[0mdata\u001b[0m\u001b[0;34m\u001b[0m\u001b[0;34m\u001b[0m\u001b[0m\n\u001b[0m\u001b[1;32m    111\u001b[0m         \u001b[0mself\u001b[0m\u001b[0;34m.\u001b[0m\u001b[0mgoahead\u001b[0m\u001b[0;34m(\u001b[0m\u001b[0;36m0\u001b[0m\u001b[0;34m)\u001b[0m\u001b[0;34m\u001b[0m\u001b[0;34m\u001b[0m\u001b[0m\n",
            "\u001b[0;31mTypeError\u001b[0m: can only concatenate str (not \"bytes\") to str",
            "\nDuring handling of the above exception, another exception occurred:\n",
            "\u001b[0;31mTypeError\u001b[0m                                 Traceback (most recent call last)",
            "\u001b[0;32m<ipython-input-73-8acbaa075932>\u001b[0m in \u001b[0;36m<module>\u001b[0;34m()\u001b[0m\n\u001b[1;32m      2\u001b[0m \u001b[0;32mfor\u001b[0m \u001b[0mi\u001b[0m\u001b[0;34m,\u001b[0m \u001b[0mid\u001b[0m \u001b[0;32min\u001b[0m \u001b[0menumerate\u001b[0m\u001b[0;34m(\u001b[0m\u001b[0mitem\u001b[0m\u001b[0;34m[\u001b[0m\u001b[0;34m'urlid'\u001b[0m\u001b[0;34m]\u001b[0m\u001b[0;34m.\u001b[0m\u001b[0mvalues\u001b[0m\u001b[0;34m)\u001b[0m\u001b[0;34m:\u001b[0m\u001b[0;34m\u001b[0m\u001b[0;34m\u001b[0m\u001b[0m\n\u001b[1;32m      3\u001b[0m   \u001b[0mprint\u001b[0m\u001b[0;34m(\u001b[0m\u001b[0mi\u001b[0m\u001b[0;34m)\u001b[0m\u001b[0;34m\u001b[0m\u001b[0;34m\u001b[0m\u001b[0m\n\u001b[0;32m----> 4\u001b[0;31m   \u001b[0ma\u001b[0m\u001b[0;34m.\u001b[0m\u001b[0mappend\u001b[0m\u001b[0;34m(\u001b[0m\u001b[0mget_boilerPipe\u001b[0m\u001b[0;34m(\u001b[0m\u001b[0mid\u001b[0m\u001b[0;34m)\u001b[0m\u001b[0;34m)\u001b[0m\u001b[0;34m\u001b[0m\u001b[0;34m\u001b[0m\u001b[0m\n\u001b[0m",
            "\u001b[0;32m<ipython-input-72-cbc54ddebcad>\u001b[0m in \u001b[0;36mget_boilerPipe\u001b[0;34m(urlid)\u001b[0m\n\u001b[1;32m      2\u001b[0m   \u001b[0mext\u001b[0m \u001b[0;34m=\u001b[0m \u001b[0mextractors\u001b[0m\u001b[0;34m.\u001b[0m\u001b[0mArticleExtractor\u001b[0m\u001b[0;34m(\u001b[0m\u001b[0;34m)\u001b[0m\u001b[0;34m\u001b[0m\u001b[0;34m\u001b[0m\u001b[0m\n\u001b[1;32m      3\u001b[0m   \u001b[0mf\u001b[0m \u001b[0;34m=\u001b[0m \u001b[0mopen\u001b[0m\u001b[0;34m(\u001b[0m\u001b[0;34m\"/content/raw_content/\"\u001b[0m\u001b[0;34m+\u001b[0m\u001b[0mstr\u001b[0m\u001b[0;34m(\u001b[0m\u001b[0murlid\u001b[0m\u001b[0;34m)\u001b[0m\u001b[0;34m,\u001b[0m \u001b[0;34m'rb'\u001b[0m\u001b[0;34m)\u001b[0m\u001b[0;34m\u001b[0m\u001b[0;34m\u001b[0m\u001b[0m\n\u001b[0;32m----> 4\u001b[0;31m   \u001b[0ms\u001b[0m \u001b[0;34m=\u001b[0m \u001b[0mext\u001b[0m\u001b[0;34m.\u001b[0m\u001b[0mget_content\u001b[0m\u001b[0;34m(\u001b[0m\u001b[0mf\u001b[0m\u001b[0;34m.\u001b[0m\u001b[0mread\u001b[0m\u001b[0;34m(\u001b[0m\u001b[0;34m)\u001b[0m\u001b[0;34m)\u001b[0m\u001b[0;34m\u001b[0m\u001b[0;34m\u001b[0m\u001b[0m\n\u001b[0m\u001b[1;32m      5\u001b[0m   \u001b[0;32mreturn\u001b[0m \u001b[0mclean_string\u001b[0m\u001b[0;34m(\u001b[0m\u001b[0ms\u001b[0m\u001b[0;34m)\u001b[0m\u001b[0;34m\u001b[0m\u001b[0;34m\u001b[0m\u001b[0m\n",
            "\u001b[0;32m/usr/local/lib/python3.7/dist-packages/boilerpy3/extractors.py\u001b[0m in \u001b[0;36mget_content\u001b[0;34m(self, text)\u001b[0m\n\u001b[1;32m     40\u001b[0m \u001b[0;34m\u001b[0m\u001b[0m\n\u001b[1;32m     41\u001b[0m     \u001b[0;32mdef\u001b[0m \u001b[0mget_content\u001b[0m\u001b[0;34m(\u001b[0m\u001b[0mself\u001b[0m\u001b[0;34m,\u001b[0m \u001b[0mtext\u001b[0m\u001b[0;34m:\u001b[0m \u001b[0mstr\u001b[0m\u001b[0;34m)\u001b[0m \u001b[0;34m->\u001b[0m \u001b[0mstr\u001b[0m\u001b[0;34m:\u001b[0m\u001b[0;34m\u001b[0m\u001b[0;34m\u001b[0m\u001b[0m\n\u001b[0;32m---> 42\u001b[0;31m         \u001b[0;32mreturn\u001b[0m \u001b[0mself\u001b[0m\u001b[0;34m.\u001b[0m\u001b[0mget_doc\u001b[0m\u001b[0;34m(\u001b[0m\u001b[0mtext\u001b[0m\u001b[0;34m)\u001b[0m\u001b[0;34m.\u001b[0m\u001b[0mcontent\u001b[0m\u001b[0;34m\u001b[0m\u001b[0;34m\u001b[0m\u001b[0m\n\u001b[0m\u001b[1;32m     43\u001b[0m \u001b[0;34m\u001b[0m\u001b[0m\n\u001b[1;32m     44\u001b[0m     \u001b[0;32mdef\u001b[0m \u001b[0mget_content_from_url\u001b[0m\u001b[0;34m(\u001b[0m\u001b[0mself\u001b[0m\u001b[0;34m,\u001b[0m \u001b[0murl\u001b[0m\u001b[0;34m:\u001b[0m \u001b[0mstr\u001b[0m\u001b[0;34m)\u001b[0m \u001b[0;34m->\u001b[0m \u001b[0mstr\u001b[0m\u001b[0;34m:\u001b[0m\u001b[0;34m\u001b[0m\u001b[0;34m\u001b[0m\u001b[0m\n",
            "\u001b[0;32m/usr/local/lib/python3.7/dist-packages/boilerpy3/extractors.py\u001b[0m in \u001b[0;36mget_doc\u001b[0;34m(self, text)\u001b[0m\n\u001b[1;32m     55\u001b[0m \u001b[0;34m\u001b[0m\u001b[0m\n\u001b[1;32m     56\u001b[0m     \u001b[0;32mdef\u001b[0m \u001b[0mget_doc\u001b[0m\u001b[0;34m(\u001b[0m\u001b[0mself\u001b[0m\u001b[0;34m,\u001b[0m \u001b[0mtext\u001b[0m\u001b[0;34m)\u001b[0m \u001b[0;34m->\u001b[0m \u001b[0mTextDocument\u001b[0m\u001b[0;34m:\u001b[0m\u001b[0;34m\u001b[0m\u001b[0;34m\u001b[0m\u001b[0m\n\u001b[0;32m---> 57\u001b[0;31m         \u001b[0mdoc\u001b[0m \u001b[0;34m=\u001b[0m \u001b[0mself\u001b[0m\u001b[0;34m.\u001b[0m\u001b[0mparse_doc\u001b[0m\u001b[0;34m(\u001b[0m\u001b[0mtext\u001b[0m\u001b[0;34m)\u001b[0m\u001b[0;34m\u001b[0m\u001b[0;34m\u001b[0m\u001b[0m\n\u001b[0m\u001b[1;32m     58\u001b[0m         \u001b[0mself\u001b[0m\u001b[0;34m.\u001b[0m\u001b[0mfilter\u001b[0m\u001b[0;34m.\u001b[0m\u001b[0mprocess\u001b[0m\u001b[0;34m(\u001b[0m\u001b[0mdoc\u001b[0m\u001b[0;34m)\u001b[0m\u001b[0;34m\u001b[0m\u001b[0;34m\u001b[0m\u001b[0m\n\u001b[1;32m     59\u001b[0m         \u001b[0;32mreturn\u001b[0m \u001b[0mdoc\u001b[0m\u001b[0;34m\u001b[0m\u001b[0;34m\u001b[0m\u001b[0m\n",
            "\u001b[0;32m/usr/local/lib/python3.7/dist-packages/boilerpy3/extractors.py\u001b[0m in \u001b[0;36mparse_doc\u001b[0;34m(self, input_str)\u001b[0m\n\u001b[1;32m     92\u001b[0m             \u001b[0;31m# in case of error, try again, first removing script tag content\u001b[0m\u001b[0;34m\u001b[0m\u001b[0;34m\u001b[0m\u001b[0;34m\u001b[0m\u001b[0m\n\u001b[1;32m     93\u001b[0m             \u001b[0mbp_parser\u001b[0m \u001b[0;34m=\u001b[0m \u001b[0mparser\u001b[0m\u001b[0;34m.\u001b[0m\u001b[0mBoilerpipeHTMLParser\u001b[0m\u001b[0;34m(\u001b[0m\u001b[0mraise_on_failure\u001b[0m\u001b[0;34m=\u001b[0m\u001b[0mself\u001b[0m\u001b[0;34m.\u001b[0m\u001b[0mraise_on_failure\u001b[0m\u001b[0;34m)\u001b[0m\u001b[0;34m\u001b[0m\u001b[0;34m\u001b[0m\u001b[0m\n\u001b[0;32m---> 94\u001b[0;31m             \u001b[0minput_str\u001b[0m \u001b[0;34m=\u001b[0m \u001b[0mself\u001b[0m\u001b[0;34m.\u001b[0m\u001b[0mSCRIPT_REGEX\u001b[0m\u001b[0;34m.\u001b[0m\u001b[0msub\u001b[0m\u001b[0;34m(\u001b[0m\u001b[0;34m'<script></script>'\u001b[0m\u001b[0;34m,\u001b[0m \u001b[0minput_str\u001b[0m\u001b[0;34m)\u001b[0m\u001b[0;34m\u001b[0m\u001b[0;34m\u001b[0m\u001b[0m\n\u001b[0m\u001b[1;32m     95\u001b[0m             \u001b[0;32mtry\u001b[0m\u001b[0;34m:\u001b[0m\u001b[0;34m\u001b[0m\u001b[0;34m\u001b[0m\u001b[0m\n\u001b[1;32m     96\u001b[0m                 \u001b[0mbp_parser\u001b[0m\u001b[0;34m.\u001b[0m\u001b[0mfeed\u001b[0m\u001b[0;34m(\u001b[0m\u001b[0minput_str\u001b[0m\u001b[0;34m)\u001b[0m\u001b[0;34m\u001b[0m\u001b[0;34m\u001b[0m\u001b[0m\n",
            "\u001b[0;31mTypeError\u001b[0m: cannot use a string pattern on a bytes-like object"
          ]
        }
      ]
    },
    {
      "cell_type": "code",
      "metadata": {
        "id": "SkNRGjbvsu5f",
        "outputId": "38f237d1-8ba7-404c-bf2b-a6ca0b996661",
        "colab": {
          "base_uri": "https://localhost:8080/"
        }
      },
      "source": [
        "item['urlid'][0]"
      ],
      "execution_count": 74,
      "outputs": [
        {
          "output_type": "execute_result",
          "data": {
            "text/plain": [
              "4042"
            ]
          },
          "metadata": {
            "tags": []
          },
          "execution_count": 74
        }
      ]
    },
    {
      "cell_type": "code",
      "metadata": {
        "id": "MbRcbrc9s23e"
      },
      "source": [
        "f = open('/content/raw_content/3651','rb')"
      ],
      "execution_count": 80,
      "outputs": []
    },
    {
      "cell_type": "code",
      "metadata": {
        "id": "VsM1UDyJtf71"
      },
      "source": [
        "a = f.read()"
      ],
      "execution_count": 81,
      "outputs": []
    },
    {
      "cell_type": "code",
      "metadata": {
        "id": "04W2SmEwthPa",
        "outputId": "681c6b47-4131-4a0f-9d1d-b5a69ae5eae8",
        "colab": {
          "base_uri": "https://localhost:8080/"
        }
      },
      "source": [
        "type(a)"
      ],
      "execution_count": 82,
      "outputs": [
        {
          "output_type": "execute_result",
          "data": {
            "text/plain": [
              "bytes"
            ]
          },
          "metadata": {
            "tags": []
          },
          "execution_count": 82
        }
      ]
    },
    {
      "cell_type": "code",
      "metadata": {
        "id": "3kJK6qCeuFoN",
        "outputId": "522b7fe9-beb5-4b40-a057-50bb4b538590",
        "colab": {
          "base_uri": "https://localhost:8080/",
          "height": 169
        }
      },
      "source": [
        "a.decode('utf-8')"
      ],
      "execution_count": 89,
      "outputs": [
        {
          "output_type": "error",
          "ename": "UnicodeDecodeError",
          "evalue": "ignored",
          "traceback": [
            "\u001b[0;31m---------------------------------------------------------------------------\u001b[0m",
            "\u001b[0;31mUnicodeDecodeError\u001b[0m                        Traceback (most recent call last)",
            "\u001b[0;32m<ipython-input-89-fe89aebaa52b>\u001b[0m in \u001b[0;36m<module>\u001b[0;34m()\u001b[0m\n\u001b[0;32m----> 1\u001b[0;31m \u001b[0ma\u001b[0m\u001b[0;34m.\u001b[0m\u001b[0mdecode\u001b[0m\u001b[0;34m(\u001b[0m\u001b[0;34m'utf-8'\u001b[0m\u001b[0;34m)\u001b[0m\u001b[0;34m\u001b[0m\u001b[0;34m\u001b[0m\u001b[0m\n\u001b[0m",
            "\u001b[0;31mUnicodeDecodeError\u001b[0m: 'utf-8' codec can't decode byte 0xe9 in position 35066: invalid continuation byte"
          ]
        }
      ]
    },
    {
      "cell_type": "code",
      "metadata": {
        "id": "JKlIE81OuQ86",
        "outputId": "b961edf4-c512-41a3-fe54-f7d7e57db4af",
        "colab": {
          "base_uri": "https://localhost:8080/",
          "height": 36
        }
      },
      "source": [
        "\r\n",
        "ext = extractors.ArticleExtractor()\r\n",
        "clean_string(ext.get_content(soup.text))"
      ],
      "execution_count": 99,
      "outputs": [
        {
          "output_type": "execute_result",
          "data": {
            "application/vnd.google.colaboratory.intrinsic+json": {
              "type": "string"
            },
            "text/plain": [
              "''"
            ]
          },
          "metadata": {
            "tags": []
          },
          "execution_count": 99
        }
      ]
    },
    {
      "cell_type": "code",
      "metadata": {
        "id": "HQ8ThgKwucSe",
        "outputId": "bbc8415b-2ac6-44f4-880a-462c4856db57",
        "colab": {
          "base_uri": "https://localhost:8080/",
          "height": 142
        }
      },
      "source": [
        "soup.text"
      ],
      "execution_count": 98,
      "outputs": [
        {
          "output_type": "execute_result",
          "data": {
            "application/vnd.google.colaboratory.intrinsic+json": {
              "type": "string"
            },
            "text/plain": [
              "'\\n\\n\\r\\n\\r\\n/* Layout CSS MUST load locally on all pages*/\\r\\nbody {text-align: center;margin: 0;padding: 0; background-image:url(http://images.media-allrecipes.com/global/nav/topnav2/backgrounds/background.gif);}\\r\\n\\t\\r\\n#topads {width: 998px;margin: 5px auto;text-align: center;}\\r\\n#wrap {width: 998px;margin: 0 auto;text-align: left;border: 2px solid #e6e4d7;border-bottom:none;}\\r\\n\\r\\n#main {float: left;width: 675px;}\\r\\n\\r\\n#farright {float: right;width: 310px;}\\r\\n#left {float: left;width: 170px;}\\r\\n#center {float: right;width: 505px;}\\r\\n#copyright \\t{width: 998px; margin: 0 auto; padding: 6px 0px; color: #666666; font-family: Verdana, San-Serif; font-size: 9px;}\\r\\n\\r\\n.right {float: right;}\\r\\n.left {float: left;}\\r\\n\\r\\n.clearfix:after {content: \".\"; display: block; height: 0; clear: both; visibility: hidden;}\\r\\n\\r\\n.clearfix {display:inline-block;}\\r\\n/* Hide from IE Mac */\\r\\n.clearfix {display:block;}\\r\\n/* End hide from IE Mac */\\r\\n\\r\\n.navlist {list-style-type: none; padding: 0 0 1px 0;}\\r\\nul.navlist li {display: inline;}\\r\\n\\t\\r\\n/* end layout styles */\\r\\n\\r\\n.truncate-inline {text-overflow:ellipsis;-o-text-overflow:ellipsis;-moz-binding:url(http://allrecipes.com/xbl/ellipsis.xml#ellipsis);white-space:nowrap;overflow:hidden;display:inline-block;max-width:100%;}\\r\\n.truncate-block {text-overflow:ellipsis;-o-text-overflow:ellipsis;-moz-binding:url(http://allrecipes.com/xbl/ellipsis.xml#ellipsis);white-space:nowrap;overflow:hidden;display:block;max-width:100%;}\\r\\n.ellipsis2 {-moz-binding: url(\\'/xbl/ellipsis.xml#ellipsis\\');}\\n\\r\\n#pr\\\\intdiv { \\r\\ndisplay: list-item; \\r\\nlist-style-image: url(http://metric.allrecipes.com/b/ss/rdirdallrecipes/1/H.9--NS/0?pev1=%2fRecipe%2fBaked-Apples-in-Caramel-Cream%2f&pev2=Print+RecipeDetailPage&pe=lnk_o&c32=124878&t=66);\\r\\nlist-style-position: inside;\\r\\nword-spacing: -5000em;\\r\\noverflow: hidden;\\r\\nfont-size: 1pt;\\r\\ncolor: #fff;\\r\\n}\\n\\r\\n\\tBaked Apples in Caramel Cream Recipe - Allrecipes.com\\r\\nadid=\"\";aradsord=Math.random()*10000000000000000;function fbs_click() {AR.Analytics.RecordExternalShare(\\'Recipe Page\\', \\'Share on Facebook\\', \\'Kitchen Approved\\', \\'\\');u=\\'http://allrecipes.com/Recipe/Baked-Apples-in-Caramel-Cream/Detail.aspx?src=ShareOnFacebook&recipeID=124878\\';t=document.title;window.open(\\'http://www.facebook.com/sharer.php?u=\\'+encodeURIComponent(u)+\\'&t=\\'+encodeURIComponent(t),\\'sharer\\',\\'toolbar=0,status=0,width=626,height=436\\');return false;}\\n\\n\\n\\r\\n    AR.TypeSpecificID = 124878;\\r\\n    AR.ImageServer = \"http://images.media-allrecipes.com/\";\\r\\n    AR.Config.ClientServiceUrl = \"/Services/Client.svc/\";\\r\\n    AR.Config.ApplicationPath = \"\";\\r\\n\\r\\n    AR.VisitorInfo._data = {\"_isLoggedIn\":false,\"_isRecognized\":false,\"_isSupportingMember\":false,\"_ID\":0};\\r\\n\\n\\n\\n\\n\\n\\n\\n\\n\\n\\n\\n\\n\\n\\n\\n\\n\\n\\n\\n\\n\\n\\n\\n\\n\\r\\n                                    var arscr_t =\"J\";\\r\\n                                    function arscr_sw() { arscr_t=\"V\"; }\\r\\n                                \\n\\r\\n                                    Call arscr_sw()\\r\\n                                \\n\\r\\n                                    try{\\r\\n                                        var sheight = screen.height;\\r\\n                                        var swidth = screen.width;\\r\\n                                        document.cookie = \"ARST=\" + sheight + arscr_t + swidth + \"; path=/; domain=\" + document.domain;\\r\\n                                    }\\r\\n                                    catch(err)\\r\\n                                    {                                       \\r\\n                                        if (typeof (console) != \"undefined\") {\\r\\n                                            console.error(err.message);    \\r\\n                                        }\\r\\n                                    }\\r\\n                                \\n\\r\\n//<![CDATA[\\r\\nvar b = \\'http://allrecipes.com/Search/\\';\\r\\nfunction getDisplayName() {return \\'\\';}AR.ServerSideData.Initialize({\"Item_RateAndReview_Rating\":\"4.7\",\"ctl00_CenterColumnPlaceHolder_recipe_photoStuff_lnkOpenCarousel\":{\"itemID\":124878,\"isRecipe\":\"True\",\"photoGalleryUrl\":\"\\\\/Recipe\\\\/Baked-Apples-in-Caramel-Cream\\\\/Photo-Gallery.aspx\"},\"ctl00_CenterColumnPlaceHolder_recipe_photoStuff_lnkOpenCarousel2\":{\"itemID\":124878,\"isRecipe\":\"True\",\"photoGalleryUrl\":\"\\\\/Recipe\\\\/Baked-Apples-in-Caramel-Cream\\\\/Photo-Gallery.aspx\"},\"currentItemTitle\":\"Baked Apples in Caramel Cream\",\"sharedItemType\":\"Kitchen Approved\",\"ctl00_CenterColumnPlaceHolder_recipe_photoStuff_PhotoSelector_uploadLink_lnkOpenPhotoUpload\":{\"IframeSrc\":\"\\\\/Controls\\\\/UserPhoto2\\\\/UserPhotoUploadIframe.aspx?recipeID=124878\",\"ResultField\":\"ctl00_CenterColumnPlaceHolder_recipe_photoStuff_PhotoSelector_uploadLink\",\"ClientCallback\":\"OnPhotoUploadHandler_ctl00_CenterColumnPlaceHolder_recipe_photoStuff_PhotoSelector\",\"ItemType\":1},\"IsRecipe\":true,\"IsMenu\":false,\"IsWebLink\":false,\"IsWebReference\":false,\"ItemType\":\"1\",\"userWhoSaved\":{\"2538945\":{\"imgUrl\":\"http:\\\\/\\\\/images.media-allrecipes.com\\\\/global\\\\/profile\\\\/nophoto\\\\/weebil_50.gif\",\"userName\":\"msambrise\",\"userUrl\":\"http:\\\\/\\\\/allrecipes.com\\\\/Cook\\\\/10635416\\\\/Profile.aspx\",\"isSupporting\":\"false\",\"saved\":\"Mar. 18\\\\, 2011\",\"reviews\":\"true\",\"isBP\":false},\"6595727\":{\"imgUrl\":\"http:\\\\/\\\\/images.media-allrecipes.com\\\\/global\\\\/profile\\\\/nophoto\\\\/weebil_50.gif\",\"userName\":\"cutechef22\",\"userUrl\":\"http:\\\\/\\\\/allrecipes.com\\\\/Cook\\\\/12646909\\\\/Profile.aspx\",\"isSupporting\":\"false\",\"regionName\":\"California\",\"regionUrl\":\"http:\\\\/\\\\/allrecipes.com\\\\/Cooks\\\\/USA\\\\/Western-USA\\\\/Pacific-West\\\\/California\\\\/Main.aspx\",\"countryName\":\"USA\",\"countryUrl\":\"http:\\\\/\\\\/allrecipes.com\\\\/Cooks\\\\/USA\\\\/Main.aspx\",\"saved\":\"Mar. 9\\\\, 2011\",\"reviews\":\"false\",\"isBP\":false},\"3075299\":{\"imgUrl\":\"http:\\\\/\\\\/images.media-allrecipes.com\\\\/site\\\\/allrecipes\\\\/area\\\\/community\\\\/userphoto\\\\/mini\\\\/403192.jpg\",\"userName\":\"pinaydancercv3\",\"userUrl\":\"http:\\\\/\\\\/allrecipes.com\\\\/Cook\\\\/13796044\\\\/Profile.aspx\",\"isSupporting\":\"false\",\"saved\":\"Mar. 5\\\\, 2011\",\"reviews\":\"true\",\"isBP\":false},\"6621700\":{\"imgUrl\":\"http:\\\\/\\\\/images.media-allrecipes.com\\\\/site\\\\/allrecipes\\\\/area\\\\/community\\\\/userphoto\\\\/mini\\\\/592829.jpg\",\"userName\":\"cook88\",\"userUrl\":\"http:\\\\/\\\\/allrecipes.com\\\\/Cook\\\\/12208977\\\\/Profile.aspx\",\"isSupporting\":\"false\",\"regionName\":\"Wisconsin\",\"regionUrl\":\"http:\\\\/\\\\/allrecipes.com\\\\/Cooks\\\\/USA\\\\/Midwestern-USA\\\\/Great-Lakes-Midwest\\\\/Wisconsin\\\\/Main.aspx\",\"countryName\":\"USA\",\"countryUrl\":\"http:\\\\/\\\\/allrecipes.com\\\\/Cooks\\\\/USA\\\\/Main.aspx\",\"saved\":\"Mar. 5\\\\, 2011\",\"reviews\":\"true\",\"isBP\":false},\"3470966\":{\"imgUrl\":\"http:\\\\/\\\\/images.media-allrecipes.com\\\\/global\\\\/profile\\\\/nophoto\\\\/weebil_50.gif\",\"userName\":\"parapo\",\"userUrl\":\"http:\\\\/\\\\/allrecipes.com\\\\/Cook\\\\/13197422\\\\/Profile.aspx\",\"isSupporting\":\"false\",\"saved\":\"Mar. 4\\\\, 2011\",\"reviews\":\"true\",\"isBP\":false},\"2961574\":{\"imgUrl\":\"http:\\\\/\\\\/images.media-allrecipes.com\\\\/global\\\\/profile\\\\/nophoto\\\\/weebil_50.gif\",\"userName\":\"ColdPizzaisaFoodGroup\",\"userUrl\":\"http:\\\\/\\\\/allrecipes.com\\\\/Cook\\\\/10428691\\\\/Profile.aspx\",\"isSupporting\":\"false\",\"saved\":\"Mar. 2\\\\, 2011\",\"reviews\":\"true\",\"isBP\":false},\"5341339\":{\"imgUrl\":\"http:\\\\/\\\\/images.media-allrecipes.com\\\\/global\\\\/profile\\\\/nophoto\\\\/weebil_50.gif\",\"userName\":\"swcoyote\",\"userUrl\":\"http:\\\\/\\\\/allrecipes.com\\\\/Cook\\\\/16318334\\\\/Profile.aspx\",\"isSupporting\":\"true\",\"saved\":\"Feb. 27\\\\, 2011\",\"reviews\":\"true\",\"isBP\":false},\"3162734\":{\"imgUrl\":\"http:\\\\/\\\\/images.media-allrecipes.com\\\\/site\\\\/allrecipes\\\\/area\\\\/community\\\\/userphoto\\\\/mini\\\\/445337.jpg\",\"userName\":\"spicyAK\",\"userUrl\":\"http:\\\\/\\\\/allrecipes.com\\\\/Cook\\\\/13820931\\\\/Profile.aspx\",\"isSupporting\":\"false\",\"saved\":\"Feb. 21\\\\, 2011\",\"reviews\":\"true\",\"isBP\":false},\"1299932\":{\"imgUrl\":\"http:\\\\/\\\\/images.media-allrecipes.com\\\\/global\\\\/profile\\\\/nophoto\\\\/weebil_50.gif\",\"userName\":\"BABYGLITTLELO\",\"userUrl\":\"http:\\\\/\\\\/allrecipes.com\\\\/Cook\\\\/18044430\\\\/Profile.aspx\",\"isSupporting\":\"false\",\"saved\":\"Feb. 15\\\\, 2011\",\"reviews\":\"true\",\"isBP\":false},\"5171451\":{\"imgUrl\":\"http:\\\\/\\\\/images.media-allrecipes.com\\\\/global\\\\/profile\\\\/nophoto\\\\/weebil_50.gif\",\"userName\":\"dkania\",\"userUrl\":\"http:\\\\/\\\\/allrecipes.com\\\\/Cook\\\\/16898168\\\\/Profile.aspx\",\"isSupporting\":\"false\",\"saved\":\"Feb. 9\\\\, 2011\",\"reviews\":\"true\",\"isBP\":false}}});//]]>\\r\\n\\n\\n\\n\\n\\n\\n\\nRecipes\\xa0\\xa0|\\xa0\\xa0Ingredients\\xa0\\xa0|\\xa0\\xa0Articles\\xa0\\xa0|\\xa0\\xa0\\r\\n                           \\n\\n\\n\\n\\n\\n\\n\\nMore »\\n\\nAdvanced Search\\n\\nCollection Search\\n\\n\\n\\n\\n\\n\\n\\n \\n\\n\\r\\n\\r\\n$(document).ready(function() {\\r\\n    $(\\'#my_ar2\\').bind(\\'keypress\\', function(e) {\\r\\n        if (e.keyCode == 13) { $(\\'#ctl00_AccessPanel_imgBtnSignIn\\').trigger(\\'click\\'); }\\r\\n    });\\r\\n});\\r\\n\\r\\n\\n\\n\\n\\n\\nEmail or User Name\\nPassword (forgot?)\\n\\n\\n\\n\\n\\n\\n\\n\\n Remember Me\\xa0\\xa0\\xa0\\r\\n\\t                        Join for FREE!\\n\\n\\n\\n\\n\\n\\n\\n\\n\\n\\n\\n\\n\\n\\n\\n\\nMy Allrecipes\\n\\n\\n\\n\\n\\n\\n\\n\\n\\xa0\\nRecipes\\n\\xa0\\n\\n\\n\\xa0\\nMenus\\n\\xa0\\n\\n\\n\\xa0\\nRecipe Buzz\\n\\xa0\\n\\n\\n\\xa0\\nHealthy Cooking\\n\\xa0\\n\\n\\n\\xa0\\nEaster\\n\\xa0\\n\\n\\n\\xa0\\nMost Popular\\n\\xa0\\n\\n\\n\\xa0\\nVideo\\n\\xa0\\n\\n\\n\\n\\n\\n\\n\\r\\n                    <!-- \\r\\n                    /*\\r\\n                    var arr = location.pathname.split(\\'/\\');\\r\\n                    if(arr[arr.length-1] == \\'Ingredients.aspx\\')\\r\\n                    {\\r\\n                        showHideCarat(\\'imgIngredientSearch\\');\\r\\n                    }\\r\\n                    else if(arr[arr.length-1] == \\'Articles.aspx\\')\\r\\n                    {\\r\\n                        showHideCarat(\\'imgArticleSearch\\');\\r\\n                    }\\r\\n                    else\\r\\n                    {\\r\\n                        showHideCarat(\\'imgRecipeSearch\\');\\r\\n                    }\\r\\n                    */\\r\\n                    //-->\\r\\n                \\n\\n\\r\\n                \\xa0\\n\\n\\n\\n\\n\\n\\n\\nMore Recipes Like This\\nSpiced Baked Apples\\nStuffed Apples with Custard Sauce\\nTangy Baked Apples\\nReal German Baked Apples\\nBaked Pears\\n\\nmore »\\n\\nTop Related Articles\\n\\nCaramel Apples\\n\\nHow to Make Ice Cream in a Bag\\n\\nPrintable Cookbooks: Ice Cream in a Bag\\n\\nBaking with Apples\\n\\nApples\\n\\nApple Desserts\\n\\nTips for Cookie and Brownie Mix In a Jar\\n\\nHomemade Ice Cream\\n\\nPhiladelphia NY-Style Sour Cream Cheesecake (Video)\\n\\nWho Wants Ice Cream?\\n\\nRelated Collections\\n\\nFall - Fresh Apples\\n\\nApple\\n\\nSeasonal Cooking - Fall\\n\\nFruit\\n\\nSeasonal Cooking\\nFor Members - JOIN!\\nRegister FREE!\\nSupporting Membership!\\n\\n\\nMenu Planner\\n\\n\\nCreate a Recipe Box\\n\\n\\nFREE Newsletters\\n\\n\\nGift Membership\\n\\nFun and Games\\nContests & Sweepstakes\\nSecret Pantry Deals\\nCommunity Blogs\\nVote For Photos!\\niPhone Dinner Spinner\\niPad Your Kitchen Inspiration\\nAllrecipes eBooks\\nFind us on Facebook\\nDish with us on Twitter\\nNew Videos from Allrecipes.tv\\nOnline Cooking Classes\\n\\n\\n\\n\\n\\n\\n\\n\\n\\n\\n\\n\\n\\n\\n\\nAdd a photo \\n\\n\\n\\n\\n\\r\\n            Add a Photo\\n\\n\\n\\n\\n\\n\\n\\nCancel\\n\\n\\n\\n\\n\\n\\n\\n\\n\\n\\n\\n\\n\\n\\n\\r\\n\\r\\n    OnPhotoUploadHandler_ctl00_CenterColumnPlaceHolder_recipe_photoStuff_PhotoSelector = AR.DetailPage.GetPhotoUploadHandler.apply(null, \\r\\n        [124878,1,\"#ctl00_CenterColumnPlaceHolder_recipe_photoStuff_imgPhoto\",\"#msgLabel\"]);\\r\\n\\r\\n    \\n\\n\\r\\n        1 of\\r\\n        2 Photos\\n\\n\\n\\n\\n\\r\\n            Recipe Photos\\n\\n\\n\\n\\n\\n\\n\\n\\n\\n\\n\\n\\n\\n\\n\\n\\n\\n\\n\\n\\n\\r\\n                        Posted: \\n\\n\\n\\n\\n\\n\\n\\n\\n\\n\\n\\n\\n\\n\\n\\n\\r\\n                            Photographer:\\n\\n\\n\\n\\n\\n\\n\\n\\nProfileProfile\\r\\n                            | RecipesRecipes\\r\\n                            | Photos\\n\\nCooking Level: Intermediate\\n\\nHome Town: CityCity, \\r\\n                                    StateState,\\r\\n                            Country\\r\\n                                Country\\n\\n\\nLiving In: CityCity, \\r\\n                                    StateState,\\r\\n                            Country\\r\\n                                Country\\n\\n\\n\\n\\n\\n\\r\\n            | View All »\\n\\nleft\\n\\n1 of 15\\nright\\n\\n\\r\\n            $(document).ready(function() { AR.PhotoCarousel.Initialize(); });\\r\\n        \\n\\n\\n\\n\\n\\n\\n\\n\\n\\n\\n\\n\\n\\n\\n\\n\\n\\nLEARN MORE\\n\\nBaked Apples in Caramel Cream\\n\\n\\n\\n\\n\\n\\n\\n\\n\\n\\n\\n\\r\\n                        By:\\r\\n                        Karen Ann Bland\\xa0\\r\\n                    \\n\\r\\n                        \"\\'What\\'s better on a cool fall day than baked apples with a yummy sauce?\\' inquires Karen Ann Bland, Gove, Kansas.\"\\n\\n\\n\\n\\n\\n\\nRate/Review\\r\\n    \\r\\n        \\r\\n        |\\r\\n        Read Reviews\\r\\n            (9) \\r\\n        \\r\\n        \\r\\n        \\r\\n    \\n\\n1,135 people have saved this\\r\\n            \\r\\n        \\r\\n        \\r\\n            |        \\r\\n            0 custom versions\\n\\n\\n\\n\\n\\n\\n\\n\\n\\n\\n\\n\\n\\n\\n\\n\\n\\n    $(\"#ctl00_CenterColumnPlaceHolder_recipe_ToolboxControl_ucToolBoxHeaderLink_link\").click(function(e) {\\n        AR.CreateAspxDialog(\"http://allrecipes.com/Controls/Dialogs/TypesDlg.aspx?itemtype=Recipe\");\\n        e.preventDefault();\\n    });\\n\\n\\n\\n\\n\\nAdd to Recipe Box\\n\\n\\n\\n\\n\\nAdd\\n\\n\\nAdd to Shopping List\\n\\n\\n\\n\\n\\nAdd\\nNew List\\n\\n\\nPrint this Recipe\\n\\n\\n Share/Email\\n\\n\\n\\n\\nShare on Facebook\\n\\n\\nEmail this recipe\\n\\n\\n\\n\\n\\n\\nAdd to Menu\\n\\n\\n\\n\\nAdd\\nNew Menu\\n\\n\\n\\nCustomize Recipe\\n\\n\\n\\n\\nKitchen-friendly View \\n\\n\\n\\n\\n\\n\\n\\n\\n\\n\\r\\n            Prep Time:\\n\\n15 Min\\r\\n            Cook Time:\\n\\n1 Hr \\r\\n            Ready In:\\n\\n1 Hr 15 Min\\n\\n\\n\\n\\n\\r\\n                Servings\\xa0\\xa0(Help)\\n\\n\\n\\nUS\\n\\nMetric\\nCalculate\\n\\r\\n                \\xa0\\r\\n            \\nOriginal Recipe Yield\\n4 servings\\n\\r\\n                \\xa0\\n\\n\\n\\n\\n\\r\\n            Ingredients\\n\\n\\r\\n                    3 tablespoons brown sugar\\n\\r\\n                    1/4 cup hot water\\n\\r\\n                    4 large Rome beauty apples, cored\\n\\r\\n                    1 tablespoon lemon juice\\n\\r\\n                    12 individually wrapped caramels, unwrapped\\n\\r\\n                    1/2 cup whipping cream\\n\\n\\n\\n\\n\\n\\r\\n            Directions\\n\\n\\r\\n                    Combine brown sugar and water in an 9-in. square baking dish. Peel the top half of each apple; brush with lemon juice. Place in the baking dish. Fill each with three caramels. Bake at 350 degrees F for 60-65 minutes or until apples are tender, basting every 20 minutes. Carefully lift apples, allowing any caramel in centers to drip into pan, and place in individual dessert dishes. Pour sauce into a small saucepan; add cream. Cook and stir over medium-low heat until sauce is smooth and thick. Spoon over apples; serve immediately.\\r\\n                \\n\\n\\n\\n\\n\\n\\n\\n\\ndocument.write(\\'<scr\\' + \\'ipt language=\"JavaScript\" src=\"http://ad.doubleclick.net/adj/ar.recipes/dessert;dcopt=ist;r=124878;k=4;k=13;k=42;k=71;k=83;k=95;k=106;k=245;k=261;k=268;k=624;ssngroup=0;status=unrecognized;tile=1;sz=468x60;pos=1;ord=\\' + aradsord + \\'?\" type=\"text/javascript\"><\\\\/script>\\');\\nADVERTISE WITH US\\n\\r\\n\\tADVERTISEMENT\\r\\n\\n\\n\\n\\nreviews\\ncustom versions\\nmenus\\npeople who saved this\\n\\xa0\\n\\n\\r\\n        \\xa0\\r\\n\\n\\n\\n\\n\\n\\n\\n\\n\\n\\n\\n\\n\\n\\n\\n\\r\\n                            Reviewed on\\r\\n                            Nov. 4, 2007\\r\\n                            by\\r\\n                            Sarah\\xa0\\r\\n                            \\xa0\\n\\n\\n\\r\\n                    Everyone raved so much over this recipe that I made these apples two days in a row!  The recipe is very easy and difficult to mess up, I\\'m sure.  Make sure not to let the caramels harden on the apples, as they\\'re much better as part of the cream.  I also added some cinnamon, extra brown sugar and mulling spices on top of the caramels to cover the apples, which only made the taste better.  This is great for a large group -- just make plenty!!!\\r\\n                    \\r\\n                            \\r\\n                                Was this review helpful? \\r\\n                                    [\\r\\n                                    YES\\r\\n                                    ]\\n6 users found this review helpful \\r\\n                            \\n\\n\\r\\n                    Everyone raved so much over this recipe that I made these apples two days in a row!  The...\\r\\n                    \\n\\n\\n\\n\\n\\n\\n\\n\\n\\n\\n\\n\\n\\n\\n\\n\\n\\n\\n\\n\\n\\n\\r\\n                            Reviewed on\\r\\n                            Nov. 16, 2009\\r\\n                            by\\r\\n                            Anastace\\xa0\\r\\n                            \\xa0\\n\\n\\n\\r\\n                    This recipe is awesome!  Simple yet so delicious. The flavors combine but the ingredients are so simple. You can make it just fun for the family or really make it look special.  I modified it slightly after I made it a few times.  I add  more carmel into the saucepan and let them melt before adding the cream.  I also add a touch of cinnamon. It rounds out the flavor.  This last time I didn\\'t have any whipping cream so I used evaporated milk.  Still excellent.  Top with some redi whip and sprinkle of cinnamon.  Wow.  Karen was thinking when she made this.  Easy and Delicious.  Thanks.\\r\\n                    \\r\\n                            \\r\\n                                Was this review helpful? \\r\\n                                    [\\r\\n                                    YES\\r\\n                                    ]\\n4 users found this review helpful \\r\\n                            \\n\\n\\r\\n                    This recipe is awesome!  Simple yet so delicious. The flavors combine but the ingredients are...\\r\\n                    \\n\\n\\n\\n\\n\\n\\n\\n\\n\\n\\n\\n\\n\\n\\n\\n\\n\\n\\n\\n\\n\\n\\r\\n                            Reviewed on\\r\\n                            Sep. 17, 2009\\r\\n                            by\\r\\n                            passionatebaker\\xa0\\r\\n                            \\xa0\\n\\n\\n\\r\\n                    I really enjoyed this recipe. I just gala apples it was all I had on hand, and I ended up using an extra caramel or two inside of the apples. The sauce was smooth and really yummy.  Great recipe!\\r\\n                    \\r\\n                            \\r\\n                                Was this review helpful? \\r\\n                                    [\\r\\n                                    YES\\r\\n                                    ]\\n3 users found this review helpful \\r\\n                            \\n\\n\\r\\n                    I really enjoyed this recipe. I just gala apples it was all I had on hand, and I ended up...\\r\\n                    \\n\\n\\n\\n\\n\\n\\n\\n\\ndocument.write(\\'<scr\\' + \\'ipt language=\"JavaScript\" src=\"http://ad.doubleclick.net/adj/ar.recipes/dessert;comp=\\' + adid + \\';r=124878;k=4;k=13;k=42;k=71;k=83;k=95;k=106;k=245;k=261;k=268;k=624;ssngroup=0;status=unrecognized;tile=2;sz=468x60;pos=2;ord=\\' + aradsord + \\'?\" type=\"text/javascript\"><\\\\/script>\\');\\n\\n\\n\\n\\n\\n\\n\\n\\n\\n\\n\\n\\n\\n\\n\\r\\n                            Reviewed on\\r\\n                            Sep. 20, 2010\\r\\n                            by\\r\\n                            GVB\\xa0\\r\\n                            \\xa0\\n\\n\\n\\r\\n                    Great and easy recipe.  Followed the suggestions of other reviewers and sprinkled a little cinnamon and nutmeg on top.  Family loved them and the caramel cream was to die for.\\r\\n                    \\r\\n                            \\r\\n                                Was this review helpful? \\r\\n                                    [\\r\\n                                    YES\\r\\n                                    ]\\n2 users found this review helpful \\r\\n                            \\n\\n\\r\\n                    Great and easy recipe.  Followed the suggestions of other reviewers and sprinkled a little...\\r\\n                    \\n\\n\\n\\n\\n\\n\\n\\n\\n\\n\\n\\n\\n\\n\\n\\n\\n\\n\\n\\n\\n\\n\\r\\n                            Reviewed on\\r\\n                            Jan. 15, 2010\\r\\n                            by\\r\\n                            HAESCHLIMAN\\xa0\\r\\n                            \\xa0\\n\\n\\n\\r\\n                    These were delicious, but I only could get Half and half at the local grocer so I had to improvise to thicken the carmel sauce.  It was still delicious looking foreward to making it with real cream next time.\\r\\n                    \\r\\n                            \\r\\n                                Was this review helpful? \\r\\n                                    [\\r\\n                                    YES\\r\\n                                    ]\\n2 users found this review helpful \\r\\n                            \\n\\n\\r\\n                    These were delicious, but I only could get Half and half at the local grocer so I had to...\\r\\n                    \\n\\n\\n\\n\\n\\n\\n\\n\\n\\n\\n\\n\\n\\n\\n\\n\\n\\n\\n\\n\\n\\n\\r\\n                            Reviewed on\\r\\n                            Nov. 5, 2006\\r\\n                            by\\r\\n                            Frosty0\\xa0\\r\\n                            \\xa0\\n\\n\\n\\r\\n                    GREAT comfort food dessert. The longest part of preparing was paring the apples and unwrapping the caramels. Absolutely delicious!\\r\\n                    \\r\\n                            \\r\\n                                Was this review helpful? \\r\\n                                    [\\r\\n                                    YES\\r\\n                                    ]\\n2 users found this review helpful \\r\\n                            \\n\\n\\r\\n                    GREAT comfort food dessert. The longest part of preparing was paring the apples and unwrapping...\\r\\n                    \\n\\n\\n\\n\\n\\n\\n\\n\\ndocument.write(\\'<scr\\' + \\'ipt language=\"JavaScript\" src=\"http://ad.doubleclick.net/adj/ar.recipes/dessert;comp=\\' + adid + \\';r=124878;k=4;k=13;k=42;k=71;k=83;k=95;k=106;k=245;k=261;k=268;k=624;ssngroup=0;status=unrecognized;tile=3;sz=468x60;pos=3;ord=\\' + aradsord + \\'?\" type=\"text/javascript\"><\\\\/script>\\');\\n\\n\\n\\n\\n\\n\\n\\n\\n\\n\\n\\n\\n\\n\\n\\r\\n                            Reviewed on\\r\\n                            Mar. 24, 2008\\r\\n                            by\\r\\n                            Tricia Jaeger\\xa0\\r\\n                            \\xa0\\n\\n\\n\\r\\n                    Yummy!\\r\\n                    \\r\\n                            \\r\\n                                Was this review helpful? \\r\\n                                    [\\r\\n                                    YES\\r\\n                                    ]\\n1 user found this review helpful \\r\\n                            \\n\\n\\r\\n                    Yummy!\\r\\n                    \\n\\n\\n\\n\\n\\n\\n\\n\\n\\n\\n\\n\\n\\n\\n\\n\\n\\n\\n\\n\\n\\n\\r\\n                            Reviewed on\\r\\n                            Oct. 12, 2010\\r\\n                            by\\r\\n                            TNAJK\\xa0\\r\\n                            \\xa0\\n\\n\\n\\r\\n                    Everyone enjoyed these!\\r\\n                    \\r\\n                            \\r\\n                                Was this review helpful? \\r\\n                                    [\\r\\n                                    YES\\r\\n                                    ]\\n0 users found this review helpful \\r\\n                            \\n\\n\\r\\n                    Everyone enjoyed these!\\r\\n                    \\n\\n\\n\\n\\n\\n\\n\\n\\n\\n\\n\\n\\n\\n\\n\\n\\n\\n\\n\\n\\n\\n\\r\\n                            Reviewed on\\r\\n                            Nov. 16, 2008\\r\\n                            by\\r\\n                            Megan A.\\xa0\\r\\n                            \\xa0\\n\\n\\n\\r\\n                    This recipe is amazing!  It is simple, delicious and everyone young and old can enjoy this.  After it was finished I topped the apples with a bit of brown sugar and cinnamon.  Huge success!!!\\r\\n                    \\r\\n                            \\r\\n                                Was this review helpful? \\r\\n                                    [\\r\\n                                    YES\\r\\n                                    ]\\n0 users found this review helpful \\r\\n                            \\n\\n\\r\\n                    This recipe is amazing!  It is simple, delicious and everyone young and old can enjoy this. ...\\r\\n                    \\n\\n\\n\\n\\n\\n\\n\\n\\n\\r\\n    \\r\\n        Uh-oh, looks like no one has created a custom version of this recipe yet. Be the first to do it - make changes to this recipe now!\\r\\n    \\r\\n\\n\\r\\n    \\r\\n        Sorry, there are no related menus here yet. To build your own menu using this recipe, click Add to Menu.\\r\\n    \\r\\n\\n\\n\\n\\n\\n\\n\\n\\n\\n\\n\\n\\n\\n\\n\\n\\n\\n\\n\\n\\n\\r\\n                    By:\\r\\n                    \\n\\xa0\\n\\n\\n\\n\\n\\n\\n\\n\\n\\n\\n\\n\\n\\n\\n\\n\\n\\n\\n\\n\\xa0\\n\\n\\n:\\xa0\\n\\n\\n\\nMeals\\n\\n\\n\\n\\nRecipes\\n\\n\\n\\n\\nTags \\n\\n\\n\\n\\n\\n\\n\\n\\n\\n\\n\\n\\n\\n\\n\\n\\n\\n\\n\\n\\n\\n\\n\\xa0\\r\\n                    \\n\\xa0|\\xa0, \\n\\r\\n                    Saved on \\n\\n\\nRecipe BoxRecipe Box\\xa0|\\xa0ProfileProfile\\xa0|\\xa0ReviewsReviews\\n\\n\\n\\n\\n\\n\\r\\n    $(document).ready(\\r\\n    function() {\\r\\n        var isMetric = ($(\\'#ctl00_CenterColumnPlaceHolder_recipe_hdnIsMetric\\').val() == \\'1\\');\\r\\n        $(\\'#ctl00_CenterColumnPlaceHolder_recipe_rblMetric\\').attr(\\'checked\\', isMetric);\\r\\n        $(\\'#ctl00_CenterColumnPlaceHolder_recipe_rblUS\\').attr(\\'checked\\', !isMetric);       \\r\\n    });    \\r\\n\\n\\n\\n\\n\\n\\r\\n                    \\xa0\\n\\n\\n\\n\\n\\n\\n\\nRecipe Box\\n\\n\\nMenus\\n\\n\\nShopping Lists\\n\\n\\n\\n\\n\\n\\n\\n\\nSee something worth saving?\\n\\nRegister now to save all your favorites in your Recipe Box.\\n\\n\\n\\nSign up for FREE Now!\\n\\n\\n\\n\\n\\n\\n\\n\\n\\n\\nCollect ready-to-go menus!\\n\\nSave our dinner and party menus, tweak them to suit your needs, or create your own.\\nView menus.\\n\\n\\n\\nSign Up Now!\\n\\n\\n\\n\\n\\n\\n\\n\\n\\n\\nGoing grocery shopping?\\n\\nStart creating lists organized by grocery aisle today!\\n\\n\\n\\nSign up for FREE Now!\\n\\n\\n\\n\\n\\n\\n\\n\\n\\n\\r\\n    AR.RBM.SetInitial();\\r\\n\\n\\ndocument.write(\\'<scr\\' + \\'ipt language=\"JavaScript\" src=\"http://ad.doubleclick.net/adj/ar.recipes/dessert;comp=\\' + adid + \\';r=124878;k=4;k=13;k=42;k=71;k=83;k=95;k=106;k=245;k=261;k=268;k=624;ssngroup=0;status=unrecognized;tile=4;sz=160x600,300x250,300x600,1x12;ord=\\' + aradsord + \\'?\" type=\"text/javascript\"><\\\\/script>\\');\\nADVERTISE WITH US\\n\\r\\n\\tADVERTISEMENT\\r\\n\\n\\n\\n\\n\\n\\n\\r\\n        Related Menus\\n\\n\\n\\n\\n\\n\\nBuy Once, Eat Twice! Oven Baked Dinners\\n\\n\\nThanksgiving Dinner in Two Hours\\n\\n\\nGluten-Free and Lovin\\' It: Cheesy Baked Omelet\\n\\n\\nBun in the Oven Menu\\n\\n\\nChicken Delight: Baked Chicken and Soup\\n\\n\\n\\nTry Menu Planner\\r\\n            \\r\\n            \\r\\n             | \\r\\n            View Sample Menus »\\n\\n\\n\\n\\n\\n\\r\\n            Most Popular Blogs\\n\\nmore\\xa0»\\n\\xa0\\n\\n\\n\\n\\n\\nCountless Cute Cupcakes\\n\\n\\r\\n                        March 30, 2011 2:19 PM\\r\\n                    \\n\\n\\n\\nDancing with the Stars 3.28.11\\n\\n\\r\\n                        March 29, 2011 11:39 AM\\r\\n                    \\n\\n\\n\\nHow does your garden grow\\n\\n\\r\\n                        April 4, 2011 8:22 AM\\r\\n                    \\n\\n\\n\\nKitchen Secrets: My Best Tip for Decorating (Cakes, cupcakes, cookies, pies...)\\n\\n\\r\\n                        April 2, 2011 6:00 AM\\r\\n                    \\n\\n\\n\\nGangUp Challenge ~ Just in Time for Easter!\\n\\n\\r\\n                        March 31, 2011 10:02 AM\\r\\n                    \\n\\n\\n\\r\\n            Read our allrecipes.com blog\\n\\n\\r\\n            Quick Links:\\r\\n            Start a Blog\\n\\r\\n            |\\r\\n            Read All Blogs\\n\\n\\n\\n\\n\\r\\n                    Recently Viewed Recipes\\n\\nmore »\\n\\n\\n\\n\\n\\r\\n\\t\\r\\n            You haven\\'t looked at any recipes lately. Get clicking!\\r\\n\\n\\r\\n            Quick Links:\\r\\n            Recipe Box\\r\\n            |\\r\\n            Shopping List\\n\\n\\n\\n\\n\\r\\n            Top Searches\\n\\n\\n\\n\\n\\n\\nchicken\\n\\npork chops\\n\\nmeatloaf\\n\\nsalmon\\n\\nbanana bread\\n\\nLasagna\\n\\npasta\\n\\nchicken salad\\n\\nshrimp\\n\\nasparagus\\n\\nground beef\\n\\nquinoa\\n\\nchili\\n\\ntilapia\\n\\nmeatballs\\n\\nbrownies\\n\\ncookies\\n\\nslow cooker\\n\\nchocolate chip cookies\\n\\nquiche\\n\\n\\n\\ndocument.write(\\'<scr\\' + \\'ipt language=\"JavaScript\" src=\"http://ad.doubleclick.net/adj/ar.recipes/dessert;comp=\\' + adid + \\';r=124878;k=4;k=13;k=42;k=71;k=83;k=95;k=106;k=245;k=261;k=268;k=624;ssngroup=0;status=unrecognized;tile=5;sz=301x251;ord=\\' + aradsord + \\'?\" type=\"text/javascript\"><\\\\/script>\\');\\n\\n\\r\\n                        \\xa0\\n\\n\\n\\n\\n\\n\\n\\n\\r\\n                        Allrecipes.com\\n\\nContact Us\\n\\nAdvertising\\n\\nNewsroom\\n\\nJobs\\n\\nLicensing\\n\\nLegal\\n\\nPrivacy\\n\\nSite Map\\n\\nRSS Feeds\\n\\nCustomer Support\\n\\nAllrecipes Blog\\n\\n\\nAllrecipes.tv\\nMan Tested Recipes\\nTaste of Home Recipes\\n\\nEvery Day with Rachael Ray\\n\\nReader’s Digest\\n\\n\\n\\n\\n\\r\\n//<![CDATA[\\r\\nAR.Extenders.BindEnterToButton(\\'ctl00_txtSearch\\',\\'ctl00_btnSearch\\');$(document).ready(function() {\\r\\n        $(\".arlb_jq\").bind(\"mousedown\", function(e) {\\r\\n            $(\".arlb_jq\").removeClass(\"active\");\\r\\n            $(this).addClass(\"active\");\\r\\n        }).bind(\"mouseup\", function(e) {\\r\\n            $(this).removeClass(\"active\");\\r\\n        })\\r\\n    });\\r\\n        var EllipsisText = (function(){\\r\\n        if( document.getBoxObjectFor && window.openDialog){\\r\\n                        var d = document.createElement(\\'div\\');\\r\\n                        var sNS = \\'http://www.mozilla.org/keymaster/gatekeeper/there.is.only.xul\\';\\r\\n                        var xml =  document.createElementNS(sNS , \\'window\\');\\r\\n                        var label = document.createElementNS(sNS, \\'description\\');\\r\\n                label.setAttribute(\\'crop\\',\\'end\\');\\r\\n                xml.appendChild(label); \\r\\n        \\r\\n                        var fn = function(el){\\r\\n        \\r\\n                                var xml2 =  xml.cloneNode(true);\\r\\n                                xml2.firstChild.setAttribute(\\'value\\',el.textContent);\\r\\n                                el.innerHTML = \\'\\';\\r\\n                                el.appendChild(xml2);\\r\\n                        };\\r\\n                        \\r\\n                        var a = getElementsByClassName(\\'ellipsis_inner\\');\\r\\n                        for(var i=0;el=a[i];i++){\\r\\n                                fn(el);\\r\\n                        };\\r\\n        \\r\\n                }else{\\r\\n                        return function(){};\\r\\n                };\\r\\n                return fn;\\r\\n        \\r\\n        })();\\r\\n//]]>\\r\\n\\n\\n\\n\\nSelect Your Version:\\xa0\\nArgentina\\n\\xa0|\\xa0\\nAustralia & New Zealand\\n\\xa0|\\xa0\\nBrazil\\n\\xa0|\\xa0\\nCanada\\n\\xa0|\\xa0\\nChina\\n\\xa0|\\xa0\\nFrance\\n\\xa0|\\xa0\\nGermany\\n\\xa0|\\xa0\\nIndia\\n\\xa0|\\xa0\\nJapan\\n\\xa0|\\xa0\\nKorea\\n\\xa0|\\xa0\\nMexico\\n\\xa0|\\xa0\\nNetherlands\\n\\xa0|\\xa0\\nPoland\\n\\n\\nQuebec\\n\\xa0|\\xa0\\nRussia\\n\\xa0|\\xa0\\nSE Asia\\n\\xa0|\\xa0\\nUnited Kingdom & Ireland\\n\\xa0|\\xa0\\r\\n        \\r\\n        \\r\\n        United States\\r\\n        \\xa0|\\xa0\\n\\nWhat\\'s this?\\n\\n\\r\\n        ALL RIGHTS RESERVED Copyright\\r\\n        2011\\r\\n        Allrecipes.com\\r\\n    \\n\\n\\n\\n\\n\\n\\n\\n\\n\\n\\n\\n\\n\\n\\n\\n\\n\\n\\n\\n\\n\\n\\n\\n\\n<!--\\r\\nvar omnitureAccount=\"rdirdallrecipes\";\\r\\n// --><!--\\r\\nfunction getHourOfDay(){\\r\\n    var hourOfDay;\\r\\n    var date=new Date();\\r\\n    var hours=date.getHours();\\r\\n    if (hours==12) {hourOfDay=hours + \\' PM\\';}\\r\\n    else if (hours>12) {hourOfDay=( hours-12 )+ \\' PM\\';}\\r\\n    else {hourOfDay=hours+ \\' AM\\';}\\r\\n    return hourOfDay;\\r\\n}\\r\\n\\r\\nfunction getDayOfWeek(){\\r\\n    var retVal = \\'\\';\\r\\n    switch (new Date().getDay()){\\r\\n        case 0:retVal = \\'Sun\\';break;\\r\\n        case 1:retVal = \\'Mon\\';break;\\r\\n        case 2:retVal = \\'Tue\\';break;\\r\\n        case 3:retVal = \\'Wed\\';break;\\r\\n        case 4:retVal = \\'Thu\\';break;\\r\\n        case 5:retVal = \\'Fri\\';break;\\r\\n        case 6:retVal = \\'Sat\\';break;\\r\\n    }\\r\\n    return retVal;\\r\\n}s.pageName=\"/recipe/baked-apples-in-caramel-cream/detail.aspx\";s.server=\"WEB209\";s.channel=\"Recipes\";s.events=\"event1\";s.eVar1=s.pageName;s.eVar10=\"Anonymous Visitor\";s.prop5=\"ar.recipes/dessert\";s.prop6=\"Recipe\";s.prop8=\"r=124878;k=4;k=13;k=42;k=71;k=83;k=95;k=106;k=245;k=261;k=268;k=624;ssngroup=0;status=unrecognized\";s.prop9=\"5\";s.prop20=\"22\";s.prop22=getHourOfDay();s.prop23=getDayOfWeek();s.hier=\"AR|Recipes\";s.eVar6=\"NON MEMBER\"; if (s.getQueryParam(\"prop30\") != \"\" && !isNaN(s.getQueryParam(\"prop30\"))) s.prop30 = s.getQueryParam(\"prop30\"); else s.prop30 = \"blank\"; if (s.getQueryParam(\"prop31\") != \"\" && !isNaN(s.getQueryParam(\"prop31\"))) s.prop31 = s.getQueryParam(\"prop31\"); else s.prop31 = \"blank\";\\r\\n                    function querySt(ji) {\\r\\n    hu = window.location.search.substring(1).toLowerCase();\\r\\n    ji = ji.toLowerCase();\\r\\n    gy = hu.split(\"&\");\\r\\n    rt = \\'\\';\\r\\n    cm = \\'\\';\\r\\n    for (i=0;i<gy.length;i++) {\\r\\n        ft = gy[i].split(\"=\");\\r\\n        if (ft[0] == ji) {\\r\\n            rt += cm + ft[1];\\r\\n            cm = \\',\\';\\r\\n        }\\r\\n    }\\r\\n    return rt;\\r\\n}\\r\\n\\r\\n                    if (s.getQueryParam(\"RecipeID\") != \"\" && !isNaN(s.getQueryParam(\"RecipeID\")))\\r\\n                        s.prop32 = querySt(\"RecipeID\"); else s.prop32 = \"blank\";\\r\\nvar s_code=s.t();if(s_code)document.write(s_code);\\r\\n// --><!--\\r\\nif(navigator.appVersion.indexOf(\\'MSIE\\')>=0)document.write(unescape(\\'%3C\\')+\\'\\\\!-\\'+\\'-\\')\\r\\n//-->\\n\\n\\n\\n\\n\\r\\n        function nielsen_sitecensus() {\\r\\n            var d = new Image(1, 1);\\r\\n            d.onerror = d.onload = function () {\\r\\n                d.onerror = d.onload = null;\\r\\n            };\\r\\n            d.src = [\"//secure-us.imrworldwide.com/cgi-bin/m?ci=us-104143h&cg=0&cc=1&si=\", escape(window.location.href), \"&rp=\", escape(document.referrer), \"&ts=compact&rnd=\", (new Date()).getTime()].join(\\'\\');\\r\\n        }\\r\\n        $(document).ready(function () {\\r\\n            var t = setTimeout(\"nielsen_sitecensus()\", 15);\\r\\n        });\\r\\n    \\n\\n\\n\\n\\n\\n\\n\\n'"
            ]
          },
          "metadata": {
            "tags": []
          },
          "execution_count": 98
        }
      ]
    },
    {
      "cell_type": "code",
      "metadata": {
        "id": "BYyRo0Nyu-y7"
      },
      "source": [
        ""
      ],
      "execution_count": null,
      "outputs": []
    }
  ]
}