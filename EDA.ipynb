{
  "nbformat": 4,
  "nbformat_minor": 0,
  "metadata": {
    "colab": {
      "name": "EDA",
      "provenance": [],
      "collapsed_sections": [],
      "toc_visible": true,
      "machine_shape": "hm",
      "include_colab_link": true
    },
    "kernelspec": {
      "name": "python3",
      "display_name": "Python 3"
    }
  },
  "cells": [
    {
      "cell_type": "markdown",
      "metadata": {
        "id": "view-in-github",
        "colab_type": "text"
      },
      "source": [
        "<a href=\"https://colab.research.google.com/github/AmbiTyga/Task-Stylumia/blob/Basic/EDA.ipynb\" target=\"_parent\"><img src=\"https://colab.research.google.com/assets/colab-badge.svg\" alt=\"Open In Colab\"/></a>"
      ]
    },
    {
      "cell_type": "code",
      "metadata": {
        "id": "x2kqiBG7050G",
        "colab": {
          "resources": {
            "http://localhost:8080/nbextensions/google.colab/files.js": {
              "data": "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",
              "ok": true,
              "headers": [
                [
                  "content-type",
                  "application/javascript"
                ]
              ],
              "status": 200,
              "status_text": ""
            }
          },
          "base_uri": "https://localhost:8080/",
          "height": 304
        },
        "cellView": "form",
        "outputId": "d76a8928-56f9-4a8e-dd6f-fc421a6baec8"
      },
      "source": [
        "#@title Kaggle Download\r\n",
        "! pip install -q kaggle\r\n",
        "from google.colab import files\r\n",
        "files.upload()\r\n",
        "! mkdir ~/.kaggle\r\n",
        "! cp kaggle.json ~/.kaggle/\r\n",
        "! chmod 600 ~/.kaggle/kaggle.json\r\n",
        "! kaggle competitions download -c stumbleupon"
      ],
      "execution_count": 1,
      "outputs": [
        {
          "output_type": "display_data",
          "data": {
            "text/html": [
              "\n",
              "     <input type=\"file\" id=\"files-85b3fd62-df3e-4082-b8a9-1e9fc5c56ab3\" name=\"files[]\" multiple disabled\n",
              "        style=\"border:none\" />\n",
              "     <output id=\"result-85b3fd62-df3e-4082-b8a9-1e9fc5c56ab3\">\n",
              "      Upload widget is only available when the cell has been executed in the\n",
              "      current browser session. Please rerun this cell to enable.\n",
              "      </output>\n",
              "      <script src=\"/nbextensions/google.colab/files.js\"></script> "
            ],
            "text/plain": [
              "<IPython.core.display.HTML object>"
            ]
          },
          "metadata": {
            "tags": []
          }
        },
        {
          "output_type": "stream",
          "text": [
            "Saving kaggle.json to kaggle.json\n",
            "Warning: Looks like you're using an outdated API Version, please consider updating (server 1.5.10 / client 1.5.4)\n",
            "Downloading sampleSubmission.csv to /content\n",
            "  0% 0.00/21.5k [00:00<?, ?B/s]\n",
            "100% 21.5k/21.5k [00:00<00:00, 40.1MB/s]\n",
            "Downloading raw_content.zip to /content\n",
            " 97% 153M/157M [00:12<00:00, 9.05MB/s]\n",
            "100% 157M/157M [00:12<00:00, 13.2MB/s]\n",
            "Downloading train.tsv.zip to /content\n",
            "100% 8.02M/8.02M [00:02<00:00, 3.50MB/s]\n",
            "\n",
            "Downloading test.tsv.zip to /content\n",
            "  0% 0.00/3.45M [00:00<?, ?B/s]\n",
            "100% 3.45M/3.45M [00:00<00:00, 114MB/s]\n"
          ],
          "name": "stdout"
        }
      ]
    },
    {
      "cell_type": "code",
      "metadata": {
        "id": "j3F6Jobi1djH"
      },
      "source": [
        "!unzip -q /content/raw_content.zip"
      ],
      "execution_count": 2,
      "outputs": []
    },
    {
      "cell_type": "code",
      "metadata": {
        "id": "f8z98PsF3xXe",
        "colab": {
          "base_uri": "https://localhost:8080/"
        },
        "outputId": "b6577ee8-e396-4363-93e4-9223b43a311c"
      },
      "source": [
        "!git clone https://github.com/misja/python-boilerpipe.git\r\n",
        "%cd python-boilerpipe\r\n",
        "!pip install -r requirements.txt -q\r\n",
        "!python setup.py install -q\r\n",
        "%cd .."
      ],
      "execution_count": 3,
      "outputs": [
        {
          "output_type": "stream",
          "text": [
            "Cloning into 'python-boilerpipe'...\n",
            "remote: Enumerating objects: 264, done.\u001b[K\n",
            "remote: Total 264 (delta 0), reused 0 (delta 0), pack-reused 264\u001b[K\n",
            "Receiving objects: 100% (264/264), 30.06 KiB | 669.00 KiB/s, done.\n",
            "Resolving deltas: 100% (91/91), done.\n",
            "/content/python-boilerpipe\n",
            "\u001b[K     |████████████████████████████████| 460kB 12.2MB/s \n",
            "\u001b[?25h/usr/lib/python3.7/distutils/dist.py:274: UserWarning: Unknown distribution option: 'install_requires'\n",
            "  warnings.warn(msg)\n",
            "running install\n",
            "running build\n",
            "running build_py\n",
            "creating build\n",
            "creating build/lib\n",
            "creating build/lib/boilerpipe\n",
            "copying src/boilerpipe/__init__.py -> build/lib/boilerpipe\n",
            "creating build/lib/boilerpipe/extract\n",
            "copying src/boilerpipe/extract/__init__.py -> build/lib/boilerpipe/extract\n",
            "creating build/lib/boilerpipe/data\n",
            "creating build/lib/boilerpipe/data/boilerpipe-1.2.0\n",
            "copying src/boilerpipe/data/boilerpipe-1.2.0/boilerpipe-1.2.0.jar -> build/lib/boilerpipe/data/boilerpipe-1.2.0\n",
            "creating build/lib/boilerpipe/data/boilerpipe-1.2.0/lib\n",
            "copying src/boilerpipe/data/boilerpipe-1.2.0/lib/xerces-2.9.1.jar -> build/lib/boilerpipe/data/boilerpipe-1.2.0/lib\n",
            "copying src/boilerpipe/data/boilerpipe-1.2.0/lib/nekohtml-1.9.13.jar -> build/lib/boilerpipe/data/boilerpipe-1.2.0/lib\n",
            "running install_lib\n",
            "creating /usr/local/lib/python3.7/dist-packages/boilerpipe\n",
            "creating /usr/local/lib/python3.7/dist-packages/boilerpipe/extract\n",
            "copying build/lib/boilerpipe/extract/__init__.py -> /usr/local/lib/python3.7/dist-packages/boilerpipe/extract\n",
            "copying build/lib/boilerpipe/__init__.py -> /usr/local/lib/python3.7/dist-packages/boilerpipe\n",
            "creating /usr/local/lib/python3.7/dist-packages/boilerpipe/data\n",
            "creating /usr/local/lib/python3.7/dist-packages/boilerpipe/data/boilerpipe-1.2.0\n",
            "copying build/lib/boilerpipe/data/boilerpipe-1.2.0/boilerpipe-1.2.0.jar -> /usr/local/lib/python3.7/dist-packages/boilerpipe/data/boilerpipe-1.2.0\n",
            "creating /usr/local/lib/python3.7/dist-packages/boilerpipe/data/boilerpipe-1.2.0/lib\n",
            "copying build/lib/boilerpipe/data/boilerpipe-1.2.0/lib/xerces-2.9.1.jar -> /usr/local/lib/python3.7/dist-packages/boilerpipe/data/boilerpipe-1.2.0/lib\n",
            "copying build/lib/boilerpipe/data/boilerpipe-1.2.0/lib/nekohtml-1.9.13.jar -> /usr/local/lib/python3.7/dist-packages/boilerpipe/data/boilerpipe-1.2.0/lib\n",
            "byte-compiling /usr/local/lib/python3.7/dist-packages/boilerpipe/extract/__init__.py to __init__.cpython-37.pyc\n",
            "byte-compiling /usr/local/lib/python3.7/dist-packages/boilerpipe/__init__.py to __init__.cpython-37.pyc\n",
            "running install_egg_info\n",
            "Writing /usr/local/lib/python3.7/dist-packages/boilerpipe-1.3.0.0.egg-info\n",
            "/content\n"
          ],
          "name": "stdout"
        }
      ]
    },
    {
      "cell_type": "code",
      "metadata": {
        "id": "5L1zAnM61Ouy"
      },
      "source": [
        "import pandas as pd \r\n",
        "import numpy as np\r\n",
        "import json\r\n",
        "from bs4 import BeautifulSoup\r\n",
        "import re\r\n",
        "import seaborn as sns\r\n",
        "import plotly.express as px\r\n",
        "import matplotlib.pyplot as plt\r\n",
        "from boilerpipe.extract import Extractor\r\n",
        "from sklearn.preprocessing import StandardScaler, Normalizer, LabelEncoder"
      ],
      "execution_count": 1,
      "outputs": []
    },
    {
      "cell_type": "markdown",
      "metadata": {
        "id": "bs2fSH83GkYi"
      },
      "source": [
        "## Preprocessing Functions"
      ]
    },
    {
      "cell_type": "code",
      "metadata": {
        "id": "O793eqjJ7hHp"
      },
      "source": [
        "def extract_domain(df_url):\r\n",
        "    # extract domains\r\n",
        "    domain = df_url.str.lower().apply(lambda x:x.split('/')[2])\r\n",
        "    domain_parts = domain.str.split('.')\r\n",
        "\r\n",
        "    return domain_parts.apply(lambda x:'.'.join(x[-2:]) if x[-2] not in ['com', 'co'] else '.'.join(x[-3:]))"
      ],
      "execution_count": 2,
      "outputs": []
    },
    {
      "cell_type": "code",
      "metadata": {
        "id": "40WYPNJurhol"
      },
      "source": [
        "def clean_string(s):\r\n",
        "  s = re.sub(r'[\\r\\n\\t]', ' ',s)\r\n",
        "  s = re.sub(r\"\\s+\", ' ', s)\r\n",
        "  return s.strip()"
      ],
      "execution_count": 3,
      "outputs": []
    },
    {
      "cell_type": "code",
      "metadata": {
        "id": "JbGBkceEl2nb"
      },
      "source": [
        "def boil_soup(urlid):\r\n",
        "    filename = '/content/raw_content/' + urlid\r\n",
        "\r\n",
        "    with open(filename, 'rb') as f:\r\n",
        "        html = f.read()\r\n",
        "\r\n",
        "        for parser in [\"lxml\", \"xml\", \"html5lib\"]:\r\n",
        "            soup = BeautifulSoup(html, parser)\r\n",
        "            if soup.body:\r\n",
        "                return soup\r\n",
        "\r\n",
        "        return BeautifulSoup(html)"
      ],
      "execution_count": 4,
      "outputs": []
    },
    {
      "cell_type": "code",
      "metadata": {
        "id": "sGJY5HeEnKNy"
      },
      "source": [
        "def get_title(id):\r\n",
        "  \r\n",
        "  TAGS_REMOVE = ['script', 'style']\r\n",
        "  \r\n",
        "  soup = boil_soup(id)\r\n",
        "\r\n",
        "\r\n",
        "  for el in soup.find_all(TAGS_REMOVE):\r\n",
        "    el.extract()\r\n",
        "  \r\n",
        "  texts = soup.find_all('title')\r\n",
        "  texts = [clean_string(x.text) for x in texts]\r\n",
        "\r\n",
        "  try:\r\n",
        "    return texts[np.argmax([len(x.split()) for x in texts])]\r\n",
        "  except ValueError:\r\n",
        "    return np.nan"
      ],
      "execution_count": 5,
      "outputs": []
    },
    {
      "cell_type": "markdown",
      "metadata": {
        "id": "t1YwNdstF1rk"
      },
      "source": [
        "## Dataset"
      ]
    },
    {
      "cell_type": "code",
      "metadata": {
        "id": "DYgFVJ5m7GPi"
      },
      "source": [
        "data = pd.concat([pd.read_csv('/content/train.tsv.zip',sep = '\\t'),\r\n",
        "                  pd.read_csv('/content/test.tsv.zip',sep = '\\t')],ignore_index = True)"
      ],
      "execution_count": 6,
      "outputs": []
    },
    {
      "cell_type": "code",
      "metadata": {
        "id": "ApRP5YIt9L2p"
      },
      "source": [
        "item = data.copy()"
      ],
      "execution_count": 7,
      "outputs": []
    },
    {
      "cell_type": "markdown",
      "metadata": {
        "id": "lE4iSiWeGoLF"
      },
      "source": [
        "## Feature Extraction"
      ]
    },
    {
      "cell_type": "code",
      "metadata": {
        "id": "V5yYB0oC87gc"
      },
      "source": [
        "item['real_url'] = item['url'].str.lower()\r\n",
        "item['domain'] = extract_domain(item['real_url'])\r\n",
        "item['tld'] = item['domain'].str.split('.').apply(lambda x:x[-1])"
      ],
      "execution_count": 8,
      "outputs": []
    },
    {
      "cell_type": "code",
      "metadata": {
        "id": "uIDvACNM9Q0K"
      },
      "source": [
        "item['body'] = item['boilerplate'].apply(lambda x:json.loads(x)['body'])\r\n",
        "item.rename(columns = {'url':'org_url'},inplace = True)\r\n",
        "\r\n",
        "item.drop(columns = ['boilerplate'],inplace = True)"
      ],
      "execution_count": 9,
      "outputs": []
    },
    {
      "cell_type": "code",
      "metadata": {
        "id": "a44cpAUZ9ZAb"
      },
      "source": [
        "item['title'] = item['urlid'].astype(str).apply(get_title)"
      ],
      "execution_count": 11,
      "outputs": []
    },
    {
      "cell_type": "code",
      "metadata": {
        "id": "r0veNO400M9I"
      },
      "source": [
        "item['alchemy_category_score'].replace('?','0.0',inplace = True)\r\n",
        "item['alchemy_category_score'] = item['alchemy_category_score'].apply(float)"
      ],
      "execution_count": 12,
      "outputs": []
    },
    {
      "cell_type": "code",
      "metadata": {
        "id": "aTEBnrU00UlL"
      },
      "source": [
        "item['is_news'].replace('?','0',inplace = True)\r\n",
        "item['is_news'] = item['is_news'].apply(int)"
      ],
      "execution_count": 13,
      "outputs": []
    },
    {
      "cell_type": "code",
      "metadata": {
        "id": "XAybMCOTc-JV"
      },
      "source": [
        "train = item.dropna(subset=['label'])\r\n",
        "test = item[item['label'].isna()]"
      ],
      "execution_count": 15,
      "outputs": []
    },
    {
      "cell_type": "code",
      "metadata": {
        "id": "3AqMC1Al8aWa"
      },
      "source": [
        "scaler1 = StandardScaler()\r\n",
        "scaler1.fit(train['non_markup_alphanum_characters'].values.reshape(-1,1))\r\n",
        "item['non_markup_alphanum_characters'] = scaler1.transform(item['non_markup_alphanum_characters'].values.reshape(-1,1))\r\n",
        "scaler2 = StandardScaler()\r\n",
        "scaler2.fit(train['numberOfLinks'].values.reshape(-1,1)) \r\n",
        "item['numberOfLinks'] = scaler2.transform(item['numberOfLinks'].values.reshape(-1,1))  \r\n",
        "norm = Normalizer()\r\n",
        "norm.fit(train['avglinksize'].values.reshape(-1,1)) \r\n",
        "item['avglinksize'] = norm.transform(item['avglinksize'].values.reshape(-1,1))  "
      ],
      "execution_count": 16,
      "outputs": []
    },
    {
      "cell_type": "code",
      "metadata": {
        "id": "n89ej3PvBeR2"
      },
      "source": [
        "item['alchemy_category_score'] = item['alchemy_category_score'].replace('?',0).astype(float)\r\n",
        "item['alchemy_category'].replace('?','',inplace = True)"
      ],
      "execution_count": 17,
      "outputs": []
    },
    {
      "cell_type": "code",
      "metadata": {
        "id": "OoHgzdlNOat5"
      },
      "source": [
        "le = LabelEncoder()\r\n",
        "item['alchemy_labels'] = le.fit_transform(item['alchemy_category'])"
      ],
      "execution_count": 18,
      "outputs": []
    },
    {
      "cell_type": "code",
      "metadata": {
        "id": "w1ktESWBQDk0"
      },
      "source": [
        "final = item[['urlid','alchemy_category_score','alchemy_labels','avglinksize',\r\n",
        "      'commonlinkratio_1','commonlinkratio_2',\r\n",
        "      'commonlinkratio_3','commonlinkratio_4',\r\n",
        "      'compression_ratio','embed_ratio',\r\n",
        "      'frameTagRatio','hasDomainLink',\r\n",
        "      'html_ratio','image_ratio','is_news',\r\n",
        "      'lengthyLinkDomain','linkwordscore',\r\n",
        "      'news_front_page','non_markup_alphanum_characters',\r\n",
        "      'numberOfLinks','numwords_in_url',\r\n",
        "      'parametrizedLinkRatio','spelling_errors_ratio',\r\n",
        "      'tld','alchemy_category','title','body','label']]"
      ],
      "execution_count": 35,
      "outputs": []
    },
    {
      "cell_type": "code",
      "metadata": {
        "id": "sxe4cQoX4nnS"
      },
      "source": [
        "final.to_json(\"Final_parsed.json\")"
      ],
      "execution_count": 26,
      "outputs": []
    },
    {
      "cell_type": "markdown",
      "metadata": {
        "id": "5vxsnujHtuKr"
      },
      "source": [
        "# Exploration"
      ]
    },
    {
      "cell_type": "code",
      "metadata": {
        "id": "trEq5XKFWH7f"
      },
      "source": [
        "train = final.dropna(subset=['label']).reset_index(drop = True)\r\n",
        "test = final[item['label'].isna()].drop(columns = ['label']).reset_index(drop = True)"
      ],
      "execution_count": 36,
      "outputs": []
    },
    {
      "cell_type": "code",
      "metadata": {
        "colab": {
          "base_uri": "https://localhost:8080/",
          "height": 712
        },
        "id": "-JD67rQ9U8Ts",
        "outputId": "48f6305a-cbe0-43d5-c33c-2d98270be9d2"
      },
      "source": [
        "train.corr()"
      ],
      "execution_count": 22,
      "outputs": [
        {
          "output_type": "execute_result",
          "data": {
            "text/html": [
              "<div>\n",
              "<style scoped>\n",
              "    .dataframe tbody tr th:only-of-type {\n",
              "        vertical-align: middle;\n",
              "    }\n",
              "\n",
              "    .dataframe tbody tr th {\n",
              "        vertical-align: top;\n",
              "    }\n",
              "\n",
              "    .dataframe thead th {\n",
              "        text-align: right;\n",
              "    }\n",
              "</style>\n",
              "<table border=\"1\" class=\"dataframe\">\n",
              "  <thead>\n",
              "    <tr style=\"text-align: right;\">\n",
              "      <th></th>\n",
              "      <th>alchemy_category_score</th>\n",
              "      <th>alchemy_labels</th>\n",
              "      <th>avglinksize</th>\n",
              "      <th>commonlinkratio_1</th>\n",
              "      <th>commonlinkratio_2</th>\n",
              "      <th>commonlinkratio_3</th>\n",
              "      <th>commonlinkratio_4</th>\n",
              "      <th>compression_ratio</th>\n",
              "      <th>embed_ratio</th>\n",
              "      <th>frameTagRatio</th>\n",
              "      <th>hasDomainLink</th>\n",
              "      <th>html_ratio</th>\n",
              "      <th>image_ratio</th>\n",
              "      <th>is_news</th>\n",
              "      <th>lengthyLinkDomain</th>\n",
              "      <th>linkwordscore</th>\n",
              "      <th>non_markup_alphanum_characters</th>\n",
              "      <th>numberOfLinks</th>\n",
              "      <th>numwords_in_url</th>\n",
              "      <th>parametrizedLinkRatio</th>\n",
              "      <th>spelling_errors_ratio</th>\n",
              "      <th>label</th>\n",
              "    </tr>\n",
              "  </thead>\n",
              "  <tbody>\n",
              "    <tr>\n",
              "      <th>alchemy_category_score</th>\n",
              "      <td>1.000000</td>\n",
              "      <td>0.506570</td>\n",
              "      <td>0.013132</td>\n",
              "      <td>0.022478</td>\n",
              "      <td>0.028330</td>\n",
              "      <td>0.011971</td>\n",
              "      <td>0.016006</td>\n",
              "      <td>-0.239797</td>\n",
              "      <td>0.219882</td>\n",
              "      <td>-0.007314</td>\n",
              "      <td>-0.007873</td>\n",
              "      <td>0.013486</td>\n",
              "      <td>-0.009524</td>\n",
              "      <td>0.247166</td>\n",
              "      <td>0.101447</td>\n",
              "      <td>-0.032417</td>\n",
              "      <td>-0.006644</td>\n",
              "      <td>0.027118</td>\n",
              "      <td>0.118177</td>\n",
              "      <td>-0.019124</td>\n",
              "      <td>-0.099137</td>\n",
              "      <td>-0.014582</td>\n",
              "    </tr>\n",
              "    <tr>\n",
              "      <th>alchemy_labels</th>\n",
              "      <td>0.506570</td>\n",
              "      <td>1.000000</td>\n",
              "      <td>0.010618</td>\n",
              "      <td>-0.008147</td>\n",
              "      <td>0.010014</td>\n",
              "      <td>-0.002057</td>\n",
              "      <td>0.004221</td>\n",
              "      <td>-0.135649</td>\n",
              "      <td>0.133520</td>\n",
              "      <td>0.044970</td>\n",
              "      <td>-0.024187</td>\n",
              "      <td>0.041748</td>\n",
              "      <td>0.019064</td>\n",
              "      <td>0.166938</td>\n",
              "      <td>0.026386</td>\n",
              "      <td>0.014369</td>\n",
              "      <td>-0.034088</td>\n",
              "      <td>-0.006031</td>\n",
              "      <td>0.037405</td>\n",
              "      <td>-0.041796</td>\n",
              "      <td>-0.043644</td>\n",
              "      <td>0.009923</td>\n",
              "    </tr>\n",
              "    <tr>\n",
              "      <th>avglinksize</th>\n",
              "      <td>0.013132</td>\n",
              "      <td>0.010618</td>\n",
              "      <td>1.000000</td>\n",
              "      <td>0.171960</td>\n",
              "      <td>0.108938</td>\n",
              "      <td>0.071626</td>\n",
              "      <td>0.050648</td>\n",
              "      <td>-0.033666</td>\n",
              "      <td>0.032873</td>\n",
              "      <td>-0.073075</td>\n",
              "      <td>0.010997</td>\n",
              "      <td>-0.111101</td>\n",
              "      <td>0.005180</td>\n",
              "      <td>0.075762</td>\n",
              "      <td>0.104103</td>\n",
              "      <td>0.105934</td>\n",
              "      <td>0.035131</td>\n",
              "      <td>0.064847</td>\n",
              "      <td>0.048663</td>\n",
              "      <td>0.007874</td>\n",
              "      <td>-0.017535</td>\n",
              "      <td>0.018386</td>\n",
              "    </tr>\n",
              "    <tr>\n",
              "      <th>commonlinkratio_1</th>\n",
              "      <td>0.022478</td>\n",
              "      <td>-0.008147</td>\n",
              "      <td>0.171960</td>\n",
              "      <td>1.000000</td>\n",
              "      <td>0.808047</td>\n",
              "      <td>0.560584</td>\n",
              "      <td>0.388801</td>\n",
              "      <td>-0.017878</td>\n",
              "      <td>0.005280</td>\n",
              "      <td>-0.294860</td>\n",
              "      <td>0.006790</td>\n",
              "      <td>-0.201501</td>\n",
              "      <td>-0.064435</td>\n",
              "      <td>0.082044</td>\n",
              "      <td>0.421284</td>\n",
              "      <td>0.257200</td>\n",
              "      <td>0.193914</td>\n",
              "      <td>0.317293</td>\n",
              "      <td>0.144354</td>\n",
              "      <td>-0.078026</td>\n",
              "      <td>-0.035019</td>\n",
              "      <td>0.083364</td>\n",
              "    </tr>\n",
              "    <tr>\n",
              "      <th>commonlinkratio_2</th>\n",
              "      <td>0.028330</td>\n",
              "      <td>0.010014</td>\n",
              "      <td>0.108938</td>\n",
              "      <td>0.808047</td>\n",
              "      <td>1.000000</td>\n",
              "      <td>0.758330</td>\n",
              "      <td>0.555148</td>\n",
              "      <td>-0.032460</td>\n",
              "      <td>0.019387</td>\n",
              "      <td>-0.259222</td>\n",
              "      <td>0.000263</td>\n",
              "      <td>-0.159702</td>\n",
              "      <td>-0.044663</td>\n",
              "      <td>0.076389</td>\n",
              "      <td>0.398817</td>\n",
              "      <td>0.257594</td>\n",
              "      <td>0.177785</td>\n",
              "      <td>0.311492</td>\n",
              "      <td>0.096940</td>\n",
              "      <td>-0.079485</td>\n",
              "      <td>-0.027888</td>\n",
              "      <td>0.083488</td>\n",
              "    </tr>\n",
              "    <tr>\n",
              "      <th>commonlinkratio_3</th>\n",
              "      <td>0.011971</td>\n",
              "      <td>-0.002057</td>\n",
              "      <td>0.071626</td>\n",
              "      <td>0.560584</td>\n",
              "      <td>0.758330</td>\n",
              "      <td>1.000000</td>\n",
              "      <td>0.850604</td>\n",
              "      <td>-0.016188</td>\n",
              "      <td>0.007578</td>\n",
              "      <td>-0.218559</td>\n",
              "      <td>-0.031097</td>\n",
              "      <td>-0.133370</td>\n",
              "      <td>-0.050357</td>\n",
              "      <td>0.082562</td>\n",
              "      <td>0.363159</td>\n",
              "      <td>0.109654</td>\n",
              "      <td>0.264022</td>\n",
              "      <td>0.283924</td>\n",
              "      <td>0.049203</td>\n",
              "      <td>-0.008652</td>\n",
              "      <td>-0.008599</td>\n",
              "      <td>0.105964</td>\n",
              "    </tr>\n",
              "    <tr>\n",
              "      <th>commonlinkratio_4</th>\n",
              "      <td>0.016006</td>\n",
              "      <td>0.004221</td>\n",
              "      <td>0.050648</td>\n",
              "      <td>0.388801</td>\n",
              "      <td>0.555148</td>\n",
              "      <td>0.850604</td>\n",
              "      <td>1.000000</td>\n",
              "      <td>-0.020415</td>\n",
              "      <td>0.005473</td>\n",
              "      <td>-0.178064</td>\n",
              "      <td>-0.052519</td>\n",
              "      <td>-0.136561</td>\n",
              "      <td>-0.038071</td>\n",
              "      <td>0.112934</td>\n",
              "      <td>0.287159</td>\n",
              "      <td>0.059223</td>\n",
              "      <td>0.162883</td>\n",
              "      <td>0.233898</td>\n",
              "      <td>0.026384</td>\n",
              "      <td>0.036387</td>\n",
              "      <td>-0.013507</td>\n",
              "      <td>0.080464</td>\n",
              "    </tr>\n",
              "    <tr>\n",
              "      <th>compression_ratio</th>\n",
              "      <td>-0.239797</td>\n",
              "      <td>-0.135649</td>\n",
              "      <td>-0.033666</td>\n",
              "      <td>-0.017878</td>\n",
              "      <td>-0.032460</td>\n",
              "      <td>-0.016188</td>\n",
              "      <td>-0.020415</td>\n",
              "      <td>1.000000</td>\n",
              "      <td>-0.889345</td>\n",
              "      <td>0.159335</td>\n",
              "      <td>0.027657</td>\n",
              "      <td>0.106335</td>\n",
              "      <td>-0.188976</td>\n",
              "      <td>-0.122866</td>\n",
              "      <td>-0.090325</td>\n",
              "      <td>0.146470</td>\n",
              "      <td>-0.064163</td>\n",
              "      <td>-0.055388</td>\n",
              "      <td>-0.042614</td>\n",
              "      <td>-0.033772</td>\n",
              "      <td>0.364122</td>\n",
              "      <td>-0.059737</td>\n",
              "    </tr>\n",
              "    <tr>\n",
              "      <th>embed_ratio</th>\n",
              "      <td>0.219882</td>\n",
              "      <td>0.133520</td>\n",
              "      <td>0.032873</td>\n",
              "      <td>0.005280</td>\n",
              "      <td>0.019387</td>\n",
              "      <td>0.007578</td>\n",
              "      <td>0.005473</td>\n",
              "      <td>-0.889345</td>\n",
              "      <td>1.000000</td>\n",
              "      <td>-0.130753</td>\n",
              "      <td>-0.026473</td>\n",
              "      <td>-0.090938</td>\n",
              "      <td>0.183808</td>\n",
              "      <td>0.083488</td>\n",
              "      <td>0.075322</td>\n",
              "      <td>-0.108476</td>\n",
              "      <td>0.046484</td>\n",
              "      <td>0.042942</td>\n",
              "      <td>0.043343</td>\n",
              "      <td>0.037361</td>\n",
              "      <td>-0.342206</td>\n",
              "      <td>0.039536</td>\n",
              "    </tr>\n",
              "    <tr>\n",
              "      <th>frameTagRatio</th>\n",
              "      <td>-0.007314</td>\n",
              "      <td>0.044970</td>\n",
              "      <td>-0.073075</td>\n",
              "      <td>-0.294860</td>\n",
              "      <td>-0.259222</td>\n",
              "      <td>-0.218559</td>\n",
              "      <td>-0.178064</td>\n",
              "      <td>0.159335</td>\n",
              "      <td>-0.130753</td>\n",
              "      <td>1.000000</td>\n",
              "      <td>0.010193</td>\n",
              "      <td>0.384937</td>\n",
              "      <td>-0.088847</td>\n",
              "      <td>0.040760</td>\n",
              "      <td>-0.196673</td>\n",
              "      <td>0.158874</td>\n",
              "      <td>-0.303682</td>\n",
              "      <td>-0.362491</td>\n",
              "      <td>0.049330</td>\n",
              "      <td>-0.094557</td>\n",
              "      <td>0.033663</td>\n",
              "      <td>-0.187762</td>\n",
              "    </tr>\n",
              "    <tr>\n",
              "      <th>hasDomainLink</th>\n",
              "      <td>-0.007873</td>\n",
              "      <td>-0.024187</td>\n",
              "      <td>0.010997</td>\n",
              "      <td>0.006790</td>\n",
              "      <td>0.000263</td>\n",
              "      <td>-0.031097</td>\n",
              "      <td>-0.052519</td>\n",
              "      <td>0.027657</td>\n",
              "      <td>-0.026473</td>\n",
              "      <td>0.010193</td>\n",
              "      <td>1.000000</td>\n",
              "      <td>0.009665</td>\n",
              "      <td>-0.003890</td>\n",
              "      <td>-0.022449</td>\n",
              "      <td>0.008579</td>\n",
              "      <td>0.022583</td>\n",
              "      <td>-0.017361</td>\n",
              "      <td>0.013678</td>\n",
              "      <td>0.058085</td>\n",
              "      <td>0.051330</td>\n",
              "      <td>0.008718</td>\n",
              "      <td>-0.004863</td>\n",
              "    </tr>\n",
              "    <tr>\n",
              "      <th>html_ratio</th>\n",
              "      <td>0.013486</td>\n",
              "      <td>0.041748</td>\n",
              "      <td>-0.111101</td>\n",
              "      <td>-0.201501</td>\n",
              "      <td>-0.159702</td>\n",
              "      <td>-0.133370</td>\n",
              "      <td>-0.136561</td>\n",
              "      <td>0.106335</td>\n",
              "      <td>-0.090938</td>\n",
              "      <td>0.384937</td>\n",
              "      <td>0.009665</td>\n",
              "      <td>1.000000</td>\n",
              "      <td>-0.172924</td>\n",
              "      <td>-0.040634</td>\n",
              "      <td>-0.215809</td>\n",
              "      <td>-0.141363</td>\n",
              "      <td>-0.136550</td>\n",
              "      <td>-0.455636</td>\n",
              "      <td>-0.042001</td>\n",
              "      <td>-0.183350</td>\n",
              "      <td>0.013860</td>\n",
              "      <td>-0.051149</td>\n",
              "    </tr>\n",
              "    <tr>\n",
              "      <th>image_ratio</th>\n",
              "      <td>-0.009524</td>\n",
              "      <td>0.019064</td>\n",
              "      <td>0.005180</td>\n",
              "      <td>-0.064435</td>\n",
              "      <td>-0.044663</td>\n",
              "      <td>-0.050357</td>\n",
              "      <td>-0.038071</td>\n",
              "      <td>-0.188976</td>\n",
              "      <td>0.183808</td>\n",
              "      <td>-0.088847</td>\n",
              "      <td>-0.003890</td>\n",
              "      <td>-0.172924</td>\n",
              "      <td>1.000000</td>\n",
              "      <td>-0.049120</td>\n",
              "      <td>-0.047652</td>\n",
              "      <td>0.051436</td>\n",
              "      <td>-0.026655</td>\n",
              "      <td>0.091977</td>\n",
              "      <td>-0.037265</td>\n",
              "      <td>0.118549</td>\n",
              "      <td>-0.010975</td>\n",
              "      <td>-0.017266</td>\n",
              "    </tr>\n",
              "    <tr>\n",
              "      <th>is_news</th>\n",
              "      <td>0.247166</td>\n",
              "      <td>0.166938</td>\n",
              "      <td>0.075762</td>\n",
              "      <td>0.082044</td>\n",
              "      <td>0.076389</td>\n",
              "      <td>0.082562</td>\n",
              "      <td>0.112934</td>\n",
              "      <td>-0.122866</td>\n",
              "      <td>0.083488</td>\n",
              "      <td>0.040760</td>\n",
              "      <td>-0.022449</td>\n",
              "      <td>-0.040634</td>\n",
              "      <td>-0.049120</td>\n",
              "      <td>1.000000</td>\n",
              "      <td>0.150412</td>\n",
              "      <td>-0.012758</td>\n",
              "      <td>0.031720</td>\n",
              "      <td>0.055781</td>\n",
              "      <td>0.117379</td>\n",
              "      <td>-0.061725</td>\n",
              "      <td>-0.047107</td>\n",
              "      <td>0.009103</td>\n",
              "    </tr>\n",
              "    <tr>\n",
              "      <th>lengthyLinkDomain</th>\n",
              "      <td>0.101447</td>\n",
              "      <td>0.026386</td>\n",
              "      <td>0.104103</td>\n",
              "      <td>0.421284</td>\n",
              "      <td>0.398817</td>\n",
              "      <td>0.363159</td>\n",
              "      <td>0.287159</td>\n",
              "      <td>-0.090325</td>\n",
              "      <td>0.075322</td>\n",
              "      <td>-0.196673</td>\n",
              "      <td>0.008579</td>\n",
              "      <td>-0.215809</td>\n",
              "      <td>-0.047652</td>\n",
              "      <td>0.150412</td>\n",
              "      <td>1.000000</td>\n",
              "      <td>0.130844</td>\n",
              "      <td>0.203278</td>\n",
              "      <td>0.307005</td>\n",
              "      <td>0.229114</td>\n",
              "      <td>-0.034653</td>\n",
              "      <td>-0.031943</td>\n",
              "      <td>0.032824</td>\n",
              "    </tr>\n",
              "    <tr>\n",
              "      <th>linkwordscore</th>\n",
              "      <td>-0.032417</td>\n",
              "      <td>0.014369</td>\n",
              "      <td>0.105934</td>\n",
              "      <td>0.257200</td>\n",
              "      <td>0.257594</td>\n",
              "      <td>0.109654</td>\n",
              "      <td>0.059223</td>\n",
              "      <td>0.146470</td>\n",
              "      <td>-0.108476</td>\n",
              "      <td>0.158874</td>\n",
              "      <td>0.022583</td>\n",
              "      <td>-0.141363</td>\n",
              "      <td>0.051436</td>\n",
              "      <td>-0.012758</td>\n",
              "      <td>0.130844</td>\n",
              "      <td>1.000000</td>\n",
              "      <td>-0.379487</td>\n",
              "      <td>0.171880</td>\n",
              "      <td>-0.011236</td>\n",
              "      <td>-0.000052</td>\n",
              "      <td>0.025707</td>\n",
              "      <td>-0.173800</td>\n",
              "    </tr>\n",
              "    <tr>\n",
              "      <th>non_markup_alphanum_characters</th>\n",
              "      <td>-0.006644</td>\n",
              "      <td>-0.034088</td>\n",
              "      <td>0.035131</td>\n",
              "      <td>0.193914</td>\n",
              "      <td>0.177785</td>\n",
              "      <td>0.264022</td>\n",
              "      <td>0.162883</td>\n",
              "      <td>-0.064163</td>\n",
              "      <td>0.046484</td>\n",
              "      <td>-0.303682</td>\n",
              "      <td>-0.017361</td>\n",
              "      <td>-0.136550</td>\n",
              "      <td>-0.026655</td>\n",
              "      <td>0.031720</td>\n",
              "      <td>0.203278</td>\n",
              "      <td>-0.379487</td>\n",
              "      <td>1.000000</td>\n",
              "      <td>0.375584</td>\n",
              "      <td>0.076632</td>\n",
              "      <td>0.012631</td>\n",
              "      <td>-0.010207</td>\n",
              "      <td>0.097580</td>\n",
              "    </tr>\n",
              "    <tr>\n",
              "      <th>numberOfLinks</th>\n",
              "      <td>0.027118</td>\n",
              "      <td>-0.006031</td>\n",
              "      <td>0.064847</td>\n",
              "      <td>0.317293</td>\n",
              "      <td>0.311492</td>\n",
              "      <td>0.283924</td>\n",
              "      <td>0.233898</td>\n",
              "      <td>-0.055388</td>\n",
              "      <td>0.042942</td>\n",
              "      <td>-0.362491</td>\n",
              "      <td>0.013678</td>\n",
              "      <td>-0.455636</td>\n",
              "      <td>0.091977</td>\n",
              "      <td>0.055781</td>\n",
              "      <td>0.307005</td>\n",
              "      <td>0.171880</td>\n",
              "      <td>0.375584</td>\n",
              "      <td>1.000000</td>\n",
              "      <td>0.068791</td>\n",
              "      <td>0.136482</td>\n",
              "      <td>0.001343</td>\n",
              "      <td>0.080187</td>\n",
              "    </tr>\n",
              "    <tr>\n",
              "      <th>numwords_in_url</th>\n",
              "      <td>0.118177</td>\n",
              "      <td>0.037405</td>\n",
              "      <td>0.048663</td>\n",
              "      <td>0.144354</td>\n",
              "      <td>0.096940</td>\n",
              "      <td>0.049203</td>\n",
              "      <td>0.026384</td>\n",
              "      <td>-0.042614</td>\n",
              "      <td>0.043343</td>\n",
              "      <td>0.049330</td>\n",
              "      <td>0.058085</td>\n",
              "      <td>-0.042001</td>\n",
              "      <td>-0.037265</td>\n",
              "      <td>0.117379</td>\n",
              "      <td>0.229114</td>\n",
              "      <td>-0.011236</td>\n",
              "      <td>0.076632</td>\n",
              "      <td>0.068791</td>\n",
              "      <td>1.000000</td>\n",
              "      <td>-0.095363</td>\n",
              "      <td>-0.107631</td>\n",
              "      <td>-0.024823</td>\n",
              "    </tr>\n",
              "    <tr>\n",
              "      <th>parametrizedLinkRatio</th>\n",
              "      <td>-0.019124</td>\n",
              "      <td>-0.041796</td>\n",
              "      <td>0.007874</td>\n",
              "      <td>-0.078026</td>\n",
              "      <td>-0.079485</td>\n",
              "      <td>-0.008652</td>\n",
              "      <td>0.036387</td>\n",
              "      <td>-0.033772</td>\n",
              "      <td>0.037361</td>\n",
              "      <td>-0.094557</td>\n",
              "      <td>0.051330</td>\n",
              "      <td>-0.183350</td>\n",
              "      <td>0.118549</td>\n",
              "      <td>-0.061725</td>\n",
              "      <td>-0.034653</td>\n",
              "      <td>-0.000052</td>\n",
              "      <td>0.012631</td>\n",
              "      <td>0.136482</td>\n",
              "      <td>-0.095363</td>\n",
              "      <td>1.000000</td>\n",
              "      <td>-0.007397</td>\n",
              "      <td>0.010668</td>\n",
              "    </tr>\n",
              "    <tr>\n",
              "      <th>spelling_errors_ratio</th>\n",
              "      <td>-0.099137</td>\n",
              "      <td>-0.043644</td>\n",
              "      <td>-0.017535</td>\n",
              "      <td>-0.035019</td>\n",
              "      <td>-0.027888</td>\n",
              "      <td>-0.008599</td>\n",
              "      <td>-0.013507</td>\n",
              "      <td>0.364122</td>\n",
              "      <td>-0.342206</td>\n",
              "      <td>0.033663</td>\n",
              "      <td>0.008718</td>\n",
              "      <td>0.013860</td>\n",
              "      <td>-0.010975</td>\n",
              "      <td>-0.047107</td>\n",
              "      <td>-0.031943</td>\n",
              "      <td>0.025707</td>\n",
              "      <td>-0.010207</td>\n",
              "      <td>0.001343</td>\n",
              "      <td>-0.107631</td>\n",
              "      <td>-0.007397</td>\n",
              "      <td>1.000000</td>\n",
              "      <td>-0.058578</td>\n",
              "    </tr>\n",
              "    <tr>\n",
              "      <th>label</th>\n",
              "      <td>-0.014582</td>\n",
              "      <td>0.009923</td>\n",
              "      <td>0.018386</td>\n",
              "      <td>0.083364</td>\n",
              "      <td>0.083488</td>\n",
              "      <td>0.105964</td>\n",
              "      <td>0.080464</td>\n",
              "      <td>-0.059737</td>\n",
              "      <td>0.039536</td>\n",
              "      <td>-0.187762</td>\n",
              "      <td>-0.004863</td>\n",
              "      <td>-0.051149</td>\n",
              "      <td>-0.017266</td>\n",
              "      <td>0.009103</td>\n",
              "      <td>0.032824</td>\n",
              "      <td>-0.173800</td>\n",
              "      <td>0.097580</td>\n",
              "      <td>0.080187</td>\n",
              "      <td>-0.024823</td>\n",
              "      <td>0.010668</td>\n",
              "      <td>-0.058578</td>\n",
              "      <td>1.000000</td>\n",
              "    </tr>\n",
              "  </tbody>\n",
              "</table>\n",
              "</div>"
            ],
            "text/plain": [
              "                                alchemy_category_score  ...     label\n",
              "alchemy_category_score                        1.000000  ... -0.014582\n",
              "alchemy_labels                                0.506570  ...  0.009923\n",
              "avglinksize                                   0.013132  ...  0.018386\n",
              "commonlinkratio_1                             0.022478  ...  0.083364\n",
              "commonlinkratio_2                             0.028330  ...  0.083488\n",
              "commonlinkratio_3                             0.011971  ...  0.105964\n",
              "commonlinkratio_4                             0.016006  ...  0.080464\n",
              "compression_ratio                            -0.239797  ... -0.059737\n",
              "embed_ratio                                   0.219882  ...  0.039536\n",
              "frameTagRatio                                -0.007314  ... -0.187762\n",
              "hasDomainLink                                -0.007873  ... -0.004863\n",
              "html_ratio                                    0.013486  ... -0.051149\n",
              "image_ratio                                  -0.009524  ... -0.017266\n",
              "is_news                                       0.247166  ...  0.009103\n",
              "lengthyLinkDomain                             0.101447  ...  0.032824\n",
              "linkwordscore                                -0.032417  ... -0.173800\n",
              "non_markup_alphanum_characters               -0.006644  ...  0.097580\n",
              "numberOfLinks                                 0.027118  ...  0.080187\n",
              "numwords_in_url                               0.118177  ... -0.024823\n",
              "parametrizedLinkRatio                        -0.019124  ...  0.010668\n",
              "spelling_errors_ratio                        -0.099137  ... -0.058578\n",
              "label                                        -0.014582  ...  1.000000\n",
              "\n",
              "[22 rows x 22 columns]"
            ]
          },
          "metadata": {
            "tags": []
          },
          "execution_count": 22
        }
      ]
    },
    {
      "cell_type": "code",
      "metadata": {
        "colab": {
          "base_uri": "https://localhost:8080/",
          "height": 761
        },
        "id": "h7G-f-U2ubr8",
        "outputId": "5e5d9477-58c8-477f-ac81-b150ce23603d"
      },
      "source": [
        "plt.figure(figsize=(10,10))\r\n",
        "sns.heatmap(train.corr(),cmap='RdBu_r', vmin=0)\r\n",
        "plt.show()"
      ],
      "execution_count": 24,
      "outputs": [
        {
          "output_type": "display_data",
          "data": {
            "image/png": "[encoded data removed]",
            "text/plain": [
              "<Figure size 720x720 with 2 Axes>"
            ]
          },
          "metadata": {
            "tags": [],
            "needs_background": "light"
          }
        }
      ]
    },
    {
      "cell_type": "code",
      "metadata": {
        "colab": {
          "base_uri": "https://localhost:8080/",
          "height": 542
        },
        "id": "LSnTXG7UpNgq",
        "outputId": "8d1bd3b1-96c1-4506-9eb2-7493008e3246"
      },
      "source": [
        "px.histogram(train, x='alchemy_category', color=\"label\", barmode='group')"
      ],
      "execution_count": 25,
      "outputs": [
        {
          "output_type": "display_data",
          "data": {
            "text/html": [
              "<html>\n",
              "<head><meta charset=\"utf-8\" /></head>\n",
              "<body>\n",
              "    <div>\n",
              "            <script src=\"https://cdnjs.cloudflare.com/ajax/libs/mathjax/2.7.5/MathJax.js?config=TeX-AMS-MML_SVG\"></script><script type=\"text/javascript\">if (window.MathJax) {MathJax.Hub.Config({SVG: {font: \"STIX-Web\"}});}</script>\n",
              "                <script type=\"text/javascript\">window.PlotlyConfig = {MathJaxConfig: 'local'};</script>\n",
              "        <script src=\"https://cdn.plot.ly/plotly-latest.min.js\"></script>    \n",
              "            <div id=\"91d407db-6bf0-4303-ad06-99905dffb6f2\" class=\"plotly-graph-div\" style=\"height:525px; width:100%;\"></div>\n",
              "            <script type=\"text/javascript\">\n",
              "                \n",
              "                    window.PLOTLYENV=window.PLOTLYENV || {};\n",
              "                    \n",
              "                if (document.getElementById(\"91d407db-6bf0-4303-ad06-99905dffb6f2\")) {\n",
              "                    Plotly.newPlot(\n",
              "                        '91d407db-6bf0-4303-ad06-99905dffb6f2',\n",
              "                        [{\"alignmentgroup\": \"True\", \"bingroup\": \"x\", \"hoverlabel\": {\"namelength\": 0}, \"hovertemplate\": \"label=0.0<br>alchemy_category=%{x}<br>count=%{y}\", \"legendgroup\": \"label=0.0\", \"marker\": {\"color\": \"#636efa\"}, \"name\": \"label=0.0\", \"offsetgroup\": \"label=0.0\", \"orientation\": \"v\", \"showlegend\": true, \"type\": \"histogram\", \"x\": [\"business\", \"sports\", \"\", \"\", \"business\", \"sports\", \"recreation\", \"recreation\", \"recreation\", \"arts_entertainment\", \"sports\", \"health\", \"sports\", \"sports\", \"business\", \"\", \"recreation\", \"\", \"arts_entertainment\", \"science_technology\", \"\", \"sports\", \"\", \"sports\", \"\", \"business\", \"health\", \"\", \"gaming\", \"culture_politics\", \"arts_entertainment\", \"\", \"sports\", \"culture_politics\", \"\", \"health\", \"sports\", \"computer_internet\", \"recreation\", \"\", \"computer_internet\", \"business\", \"\", \"recreation\", \"\", \"recreation\", \"recreation\", \"arts_entertainment\", \"\", \"culture_politics\", \"culture_politics\", \"gaming\", \"arts_entertainment\", \"\", \"\", \"culture_politics\", \"computer_internet\", \"business\", \"\", \"recreation\", \"\", \"\", \"\", \"arts_entertainment\", \"sports\", \"arts_entertainment\", \"business\", \"sports\", \"science_technology\", \"computer_internet\", \"\", \"recreation\", \"\", \"recreation\", \"\", \"\", \"\", \"arts_entertainment\", \"culture_politics\", \"\", \"\", \"\", \"sports\", \"culture_politics\", \"computer_internet\", \"business\", \"\", \"arts_entertainment\", \"recreation\", \"recreation\", \"health\", \"science_technology\", \"science_technology\", \"\", \"culture_politics\", \"arts_entertainment\", \"\", \"arts_entertainment\", \"\", \"\", \"\", \"recreation\", \"recreation\", \"arts_entertainment\", \"sports\", \"\", \"\", \"\", \"recreation\", \"computer_internet\", \"business\", \"arts_entertainment\", \"\", \"\", \"arts_entertainment\", \"recreation\", \"arts_entertainment\", \"computer_internet\", \"health\", \"culture_politics\", \"\", \"\", \"health\", \"arts_entertainment\", \"religion\", \"recreation\", \"recreation\", \"\", \"health\", \"sports\", \"arts_entertainment\", \"\", \"\", \"computer_internet\", \"health\", \"\", \"gaming\", \"culture_politics\", \"business\", \"computer_internet\", \"\", \"\", \"science_technology\", \"science_technology\", \"culture_politics\", \"arts_entertainment\", \"arts_entertainment\", \"computer_internet\", \"arts_entertainment\", \"\", \"business\", \"recreation\", \"arts_entertainment\", \"\", \"culture_politics\", \"sports\", \"\", \"business\", \"culture_politics\", \"culture_politics\", \"business\", \"health\", \"computer_internet\", \"business\", \"\", \"sports\", \"\", \"\", \"health\", \"\", \"\", \"\", \"gaming\", \"recreation\", \"arts_entertainment\", \"sports\", \"\", \"arts_entertainment\", \"sports\", \"sports\", \"arts_entertainment\", \"arts_entertainment\", \"arts_entertainment\", \"health\", \"\", \"arts_entertainment\", \"arts_entertainment\", \"business\", \"\", \"sports\", \"sports\", \"\", \"business\", \"recreation\", \"science_technology\", \"health\", \"computer_internet\", \"\", \"\", \"health\", \"recreation\", \"business\", \"arts_entertainment\", \"\", \"business\", \"\", \"sports\", \"\", \"\", \"sports\", \"gaming\", \"arts_entertainment\", \"gaming\", \"\", \"arts_entertainment\", \"arts_entertainment\", \"arts_entertainment\", \"\", \"science_technology\", \"arts_entertainment\", \"\", \"\", \"\", \"\", \"recreation\", \"arts_entertainment\", \"computer_internet\", \"culture_politics\", \"arts_entertainment\", \"recreation\", \"business\", \"recreation\", \"\", \"arts_entertainment\", \"\", \"arts_entertainment\", \"business\", \"sports\", \"recreation\", \"health\", \"\", \"\", \"recreation\", \"computer_internet\", \"health\", \"science_technology\", \"\", \"business\", \"sports\", \"\", \"arts_entertainment\", \"sports\", \"health\", \"recreation\", \"\", \"\", \"sports\", \"health\", \"computer_internet\", \"health\", \"\", \"culture_politics\", \"recreation\", \"business\", \"\", \"business\", \"health\", \"science_technology\", \"sports\", \"business\", \"\", \"\", \"arts_entertainment\", \"business\", \"\", \"recreation\", \"computer_internet\", \"computer_internet\", \"business\", \"arts_entertainment\", \"\", \"\", \"recreation\", \"sports\", \"arts_entertainment\", \"\", \"arts_entertainment\", \"\", \"\", \"sports\", \"business\", \"health\", \"science_technology\", \"sports\", \"business\", \"\", \"arts_entertainment\", \"computer_internet\", \"\", \"\", \"recreation\", \"religion\", \"health\", \"science_technology\", \"arts_entertainment\", \"\", \"\", \"science_technology\", \"culture_politics\", \"health\", \"arts_entertainment\", \"arts_entertainment\", \"sports\", \"recreation\", \"\", \"\", \"business\", \"religion\", \"sports\", \"\", \"\", \"recreation\", \"business\", \"\", \"sports\", \"religion\", \"recreation\", \"recreation\", \"\", \"weather\", \"sports\", \"arts_entertainment\", \"\", \"sports\", \"health\", \"health\", \"\", \"recreation\", \"sports\", \"\", \"health\", \"culture_politics\", \"\", \"\", \"computer_internet\", \"sports\", \"\", \"arts_entertainment\", \"\", \"computer_internet\", \"recreation\", \"arts_entertainment\", \"sports\", \"\", \"\", \"recreation\", \"\", \"\", \"recreation\", \"science_technology\", \"computer_internet\", \"\", \"sports\", \"recreation\", \"sports\", \"science_technology\", \"business\", \"computer_internet\", \"health\", \"\", \"\", \"religion\", \"\", \"\", \"\", \"arts_entertainment\", \"arts_entertainment\", \"recreation\", \"\", \"science_technology\", \"health\", \"\", \"\", \"recreation\", \"culture_politics\", \"sports\", \"religion\", \"\", \"computer_internet\", \"sports\", \"culture_politics\", \"\", \"sports\", \"\", \"arts_entertainment\", \"sports\", \"\", \"\", \"computer_internet\", \"computer_internet\", \"\", \"health\", \"science_technology\", \"gaming\", \"arts_entertainment\", \"\", \"\", \"culture_politics\", \"arts_entertainment\", \"recreation\", \"sports\", \"\", \"\", \"\", \"arts_entertainment\", \"sports\", \"religion\", \"\", \"culture_politics\", \"arts_entertainment\", \"recreation\", \"science_technology\", \"health\", \"\", \"computer_internet\", \"science_technology\", \"arts_entertainment\", \"computer_internet\", \"recreation\", \"sports\", \"recreation\", \"health\", \"unknown\", \"computer_internet\", \"\", \"\", \"\", \"religion\", \"sports\", \"business\", \"arts_entertainment\", \"arts_entertainment\", \"\", \"arts_entertainment\", \"recreation\", \"sports\", \"arts_entertainment\", \"arts_entertainment\", \"arts_entertainment\", \"recreation\", \"arts_entertainment\", \"\", \"gaming\", \"\", \"\", \"recreation\", \"science_technology\", \"gaming\", \"\", \"recreation\", \"\", \"\", \"sports\", \"\", \"\", \"computer_internet\", \"\", \"\", \"sports\", \"recreation\", \"recreation\", \"culture_politics\", \"health\", \"science_technology\", \"sports\", \"culture_politics\", \"recreation\", \"culture_politics\", \"\", \"\", \"science_technology\", \"science_technology\", \"sports\", \"\", \"\", \"computer_internet\", \"science_technology\", \"culture_politics\", \"\", \"arts_entertainment\", \"arts_entertainment\", \"\", \"computer_internet\", \"\", \"computer_internet\", \"\", \"recreation\", \"\", \"sports\", \"arts_entertainment\", \"\", \"\", \"business\", \"business\", \"computer_internet\", \"\", \"law_crime\", \"\", \"arts_entertainment\", \"arts_entertainment\", \"sports\", \"\", \"business\", \"arts_entertainment\", \"arts_entertainment\", \"\", \"sports\", \"health\", \"culture_politics\", \"arts_entertainment\", \"culture_politics\", \"\", \"computer_internet\", \"\", \"gaming\", \"health\", \"computer_internet\", \"\", \"business\", \"\", \"culture_politics\", \"\", \"arts_entertainment\", \"gaming\", \"arts_entertainment\", \"\", \"recreation\", \"sports\", \"\", \"recreation\", \"arts_entertainment\", \"\", \"\", \"\", \"culture_politics\", \"\", \"arts_entertainment\", \"culture_politics\", \"science_technology\", \"business\", \"arts_entertainment\", \"\", \"arts_entertainment\", \"\", \"\", \"arts_entertainment\", \"\", \"culture_politics\", \"\", \"\", \"recreation\", \"science_technology\", \"\", \"\", \"arts_entertainment\", \"health\", \"religion\", \"\", \"recreation\", \"\", \"\", \"arts_entertainment\", \"sports\", \"\", \"sports\", \"science_technology\", \"arts_entertainment\", \"\", \"culture_politics\", \"computer_internet\", \"\", \"\", \"science_technology\", \"\", \"\", \"recreation\", \"culture_politics\", \"culture_politics\", \"\", \"\", \"business\", \"arts_entertainment\", \"business\", \"science_technology\", \"culture_politics\", \"\", \"sports\", \"recreation\", \"\", \"science_technology\", \"business\", \"science_technology\", \"health\", \"\", \"science_technology\", \"computer_internet\", \"\", \"culture_politics\", \"computer_internet\", \"sports\", \"recreation\", \"arts_entertainment\", \"\", \"\", \"recreation\", \"\", \"arts_entertainment\", \"\", \"\", \"business\", \"\", \"\", \"arts_entertainment\", \"recreation\", \"business\", \"arts_entertainment\", \"recreation\", \"business\", \"\", \"recreation\", \"science_technology\", \"arts_entertainment\", \"business\", \"\", \"arts_entertainment\", \"\", \"\", \"recreation\", \"arts_entertainment\", \"\", \"\", \"science_technology\", \"arts_entertainment\", \"computer_internet\", \"\", \"sports\", \"science_technology\", \"culture_politics\", \"\", \"arts_entertainment\", \"recreation\", \"\", \"culture_politics\", \"\", \"business\", \"unknown\", \"\", \"science_technology\", \"health\", \"sports\", \"recreation\", \"health\", \"sports\", \"\", \"culture_politics\", \"\", \"\", \"culture_politics\", \"science_technology\", \"\", \"arts_entertainment\", \"recreation\", \"arts_entertainment\", \"sports\", \"arts_entertainment\", \"health\", \"\", \"sports\", \"\", \"health\", \"arts_entertainment\", \"\", \"arts_entertainment\", \"\", \"computer_internet\", \"computer_internet\", \"computer_internet\", \"arts_entertainment\", \"health\", \"arts_entertainment\", \"recreation\", \"business\", \"health\", \"computer_internet\", \"sports\", \"recreation\", \"\", \"\", \"arts_entertainment\", \"computer_internet\", \"computer_internet\", \"arts_entertainment\", \"arts_entertainment\", \"arts_entertainment\", \"\", \"culture_politics\", \"recreation\", \"health\", \"sports\", \"health\", \"\", \"arts_entertainment\", \"culture_politics\", \"\", \"\", \"\", \"\", \"\", \"recreation\", \"health\", \"sports\", \"\", \"computer_internet\", \"culture_politics\", \"\", \"computer_internet\", \"arts_entertainment\", \"sports\", \"\", \"business\", \"arts_entertainment\", \"sports\", \"arts_entertainment\", \"\", \"arts_entertainment\", \"health\", \"\", \"sports\", \"computer_internet\", \"science_technology\", \"\", \"recreation\", \"arts_entertainment\", \"science_technology\", \"business\", \"\", \"culture_politics\", \"\", \"culture_politics\", \"recreation\", \"arts_entertainment\", \"\", \"sports\", \"\", \"\", \"sports\", \"health\", \"sports\", \"\", \"science_technology\", \"health\", \"health\", \"arts_entertainment\", \"health\", \"business\", \"\", \"sports\", \"arts_entertainment\", \"culture_politics\", \"culture_politics\", \"health\", \"culture_politics\", \"\", \"\", \"arts_entertainment\", \"arts_entertainment\", \"recreation\", \"\", \"health\", \"\", \"arts_entertainment\", \"business\", \"\", \"\", \"business\", \"computer_internet\", \"recreation\", \"\", \"\", \"\", \"sports\", \"\", \"arts_entertainment\", \"\", \"\", \"sports\", \"business\", \"computer_internet\", \"arts_entertainment\", \"business\", \"arts_entertainment\", \"\", \"health\", \"sports\", \"\", \"arts_entertainment\", \"computer_internet\", \"\", \"\", \"business\", \"health\", \"\", \"recreation\", \"recreation\", \"\", \"\", \"recreation\", \"\", \"recreation\", \"science_technology\", \"health\", \"\", \"\", \"recreation\", \"business\", \"arts_entertainment\", \"culture_politics\", \"culture_politics\", \"recreation\", \"sports\", \"\", \"arts_entertainment\", \"sports\", \"business\", \"sports\", \"sports\", \"arts_entertainment\", \"recreation\", \"\", \"\", \"recreation\", \"arts_entertainment\", \"arts_entertainment\", \"\", \"\", \"\", \"\", \"recreation\", \"\", \"\", \"\", \"\", \"gaming\", \"arts_entertainment\", \"business\", \"computer_internet\", \"culture_politics\", \"arts_entertainment\", \"business\", \"arts_entertainment\", \"\", \"recreation\", \"religion\", \"culture_politics\", \"health\", \"\", \"recreation\", \"arts_entertainment\", \"\", \"\", \"computer_internet\", \"health\", \"\", \"arts_entertainment\", \"\", \"arts_entertainment\", \"arts_entertainment\", \"arts_entertainment\", \"sports\", \"arts_entertainment\", \"health\", \"gaming\", \"recreation\", \"business\", \"\", \"culture_politics\", \"business\", \"\", \"computer_internet\", \"\", \"\", \"\", \"culture_politics\", \"business\", \"sports\", \"arts_entertainment\", \"\", \"sports\", \"culture_politics\", \"culture_politics\", \"recreation\", \"\", \"arts_entertainment\", \"\", \"\", \"computer_internet\", \"recreation\", \"\", \"science_technology\", \"business\", \"arts_entertainment\", \"business\", \"health\", \"health\", \"computer_internet\", \"\", \"arts_entertainment\", \"arts_entertainment\", \"\", \"science_technology\", \"\", \"\", \"\", \"\", \"arts_entertainment\", \"\", \"\", \"\", \"\", \"sports\", \"\", \"computer_internet\", \"arts_entertainment\", \"\", \"business\", \"arts_entertainment\", \"computer_internet\", \"gaming\", \"health\", \"business\", \"recreation\", \"science_technology\", \"sports\", \"science_technology\", \"\", \"arts_entertainment\", \"recreation\", \"science_technology\", \"health\", \"arts_entertainment\", \"arts_entertainment\", \"\", \"religion\", \"computer_internet\", \"\", \"sports\", \"business\", \"\", \"health\", \"recreation\", \"culture_politics\", \"recreation\", \"\", \"sports\", \"recreation\", \"culture_politics\", \"sports\", \"\", \"\", \"computer_internet\", \"recreation\", \"\", \"arts_entertainment\", \"computer_internet\", \"computer_internet\", \"\", \"science_technology\", \"\", \"computer_internet\", \"computer_internet\", \"recreation\", \"arts_entertainment\", \"business\", \"culture_politics\", \"sports\", \"\", \"religion\", \"arts_entertainment\", \"recreation\", \"recreation\", \"recreation\", \"arts_entertainment\", \"science_technology\", \"business\", \"computer_internet\", \"recreation\", \"arts_entertainment\", \"religion\", \"\", \"business\", \"business\", \"business\", \"\", \"\", \"recreation\", \"sports\", \"health\", \"computer_internet\", \"\", \"gaming\", \"computer_internet\", \"\", \"arts_entertainment\", \"sports\", \"business\", \"business\", \"business\", \"\", \"culture_politics\", \"arts_entertainment\", \"science_technology\", \"computer_internet\", \"recreation\", \"\", \"science_technology\", \"\", \"recreation\", \"\", \"recreation\", \"religion\", \"science_technology\", \"computer_internet\", \"business\", \"sports\", \"\", \"recreation\", \"\", \"computer_internet\", \"arts_entertainment\", \"\", \"sports\", \"\", \"arts_entertainment\", \"arts_entertainment\", \"\", \"arts_entertainment\", \"law_crime\", \"\", \"recreation\", \"recreation\", \"arts_entertainment\", \"business\", \"\", \"arts_entertainment\", \"gaming\", \"\", \"business\", \"health\", \"\", \"arts_entertainment\", \"sports\", \"recreation\", \"arts_entertainment\", \"arts_entertainment\", \"arts_entertainment\", \"health\", \"\", \"business\", \"recreation\", \"recreation\", \"arts_entertainment\", \"\", \"\", \"\", \"\", \"arts_entertainment\", \"arts_entertainment\", \"arts_entertainment\", \"computer_internet\", \"arts_entertainment\", \"arts_entertainment\", \"\", \"religion\", \"culture_politics\", \"sports\", \"business\", \"arts_entertainment\", \"religion\", \"recreation\", \"health\", \"\", \"\", \"\", \"\", \"\", \"business\", \"\", \"business\", \"arts_entertainment\", \"sports\", \"business\", \"computer_internet\", \"arts_entertainment\", \"computer_internet\", \"health\", \"arts_entertainment\", \"science_technology\", \"sports\", \"arts_entertainment\", \"business\", \"\", \"arts_entertainment\", \"computer_internet\", \"arts_entertainment\", \"science_technology\", \"arts_entertainment\", \"business\", \"\", \"culture_politics\", \"business\", \"\", \"health\", \"\", \"\", \"sports\", \"health\", \"business\", \"health\", \"sports\", \"arts_entertainment\", \"arts_entertainment\", \"arts_entertainment\", \"arts_entertainment\", \"arts_entertainment\", \"\", \"recreation\", \"computer_internet\", \"\", \"health\", \"sports\", \"arts_entertainment\", \"sports\", \"\", \"arts_entertainment\", \"recreation\", \"\", \"\", \"computer_internet\", \"health\", \"arts_entertainment\", \"arts_entertainment\", \"\", \"sports\", \"\", \"\", \"computer_internet\", \"\", \"arts_entertainment\", \"business\", \"\", \"arts_entertainment\", \"science_technology\", \"science_technology\", \"\", \"\", \"business\", \"culture_politics\", \"\", \"sports\", \"arts_entertainment\", \"business\", \"business\", \"\", \"arts_entertainment\", \"\", \"business\", \"arts_entertainment\", \"\", \"\", \"recreation\", \"sports\", \"recreation\", \"\", \"law_crime\", \"computer_internet\", \"recreation\", \"religion\", \"computer_internet\", \"\", \"\", \"\", \"\", \"\", \"arts_entertainment\", \"arts_entertainment\", \"\", \"culture_politics\", \"arts_entertainment\", \"computer_internet\", \"computer_internet\", \"recreation\", \"\", \"\", \"business\", \"recreation\", \"\", \"\", \"computer_internet\", \"\", \"\", \"arts_entertainment\", \"arts_entertainment\", \"recreation\", \"arts_entertainment\", \"science_technology\", \"science_technology\", \"\", \"sports\", \"arts_entertainment\", \"\", \"science_technology\", \"\", \"\", \"sports\", \"health\", \"\", \"science_technology\", \"business\", \"arts_entertainment\", \"\", \"sports\", \"recreation\", \"arts_entertainment\", \"\", \"science_technology\", \"arts_entertainment\", \"recreation\", \"culture_politics\", \"\", \"recreation\", \"\", \"\", \"\", \"science_technology\", \"\", \"arts_entertainment\", \"arts_entertainment\", \"culture_politics\", \"recreation\", \"arts_entertainment\", \"business\", \"recreation\", \"\", \"recreation\", \"culture_politics\", \"recreation\", \"\", \"\", \"recreation\", \"science_technology\", \"health\", \"computer_internet\", \"arts_entertainment\", \"\", \"recreation\", \"business\", \"\", \"health\", \"arts_entertainment\", \"business\", \"\", \"\", \"computer_internet\", \"\", \"sports\", \"culture_politics\", \"culture_politics\", \"\", \"\", \"\", \"\", \"gaming\", \"gaming\", \"computer_internet\", \"\", \"\", \"\", \"arts_entertainment\", \"arts_entertainment\", \"arts_entertainment\", \"computer_internet\", \"health\", \"computer_internet\", \"health\", \"\", \"computer_internet\", \"\", \"\", \"sports\", \"arts_entertainment\", \"business\", \"\", \"arts_entertainment\", \"recreation\", \"\", \"recreation\", \"\", \"religion\", \"business\", \"\", \"\", \"arts_entertainment\", \"computer_internet\", \"\", \"\", \"\", \"recreation\", \"health\", \"sports\", \"sports\", \"arts_entertainment\", \"\", \"\", \"religion\", \"business\", \"arts_entertainment\", \"business\", \"recreation\", \"\", \"arts_entertainment\", \"recreation\", \"\", \"recreation\", \"arts_entertainment\", \"\", \"computer_internet\", \"recreation\", \"\", \"computer_internet\", \"business\", \"gaming\", \"\", \"computer_internet\", \"sports\", \"science_technology\", \"\", \"arts_entertainment\", \"sports\", \"\", \"\", \"science_technology\", \"recreation\", \"sports\", \"\", \"recreation\", \"\", \"\", \"business\", \"recreation\", \"\", \"\", \"recreation\", \"sports\", \"sports\", \"business\", \"health\", \"arts_entertainment\", \"\", \"business\", \"\", \"health\", \"business\", \"arts_entertainment\", \"computer_internet\", \"\", \"recreation\", \"sports\", \"recreation\", \"\", \"recreation\", \"business\", \"arts_entertainment\", \"arts_entertainment\", \"\", \"arts_entertainment\", \"arts_entertainment\", \"arts_entertainment\", \"business\", \"business\", \"arts_entertainment\", \"\", \"business\", \"business\", \"\", \"\", \"computer_internet\", \"business\", \"\", \"arts_entertainment\", \"recreation\", \"recreation\", \"arts_entertainment\", \"\", \"health\", \"\", \"arts_entertainment\", \"\", \"\", \"arts_entertainment\", \"\", \"sports\", \"computer_internet\", \"culture_politics\", \"\", \"\", \"arts_entertainment\", \"\", \"culture_politics\", \"sports\", \"\", \"arts_entertainment\", \"arts_entertainment\", \"arts_entertainment\", \"\", \"sports\", \"arts_entertainment\", \"science_technology\", \"arts_entertainment\", \"sports\", \"recreation\", \"religion\", \"arts_entertainment\", \"\", \"\", \"computer_internet\", \"computer_internet\", \"health\", \"\", \"business\", \"computer_internet\", \"\", \"recreation\", \"business\", \"\", \"\", \"science_technology\", \"\", \"\", \"\", \"\", \"health\", \"arts_entertainment\", \"recreation\", \"recreation\", \"computer_internet\", \"\", \"science_technology\", \"arts_entertainment\", \"health\", \"computer_internet\", \"recreation\", \"arts_entertainment\", \"\", \"arts_entertainment\", \"computer_internet\", \"health\", \"\", \"sports\", \"culture_politics\", \"\", \"health\", \"science_technology\", \"\", \"arts_entertainment\", \"science_technology\", \"health\", \"health\", \"recreation\", \"arts_entertainment\", \"recreation\", \"arts_entertainment\", \"\", \"sports\", \"\", \"science_technology\", \"arts_entertainment\", \"business\", \"\", \"arts_entertainment\", \"\", \"\", \"arts_entertainment\", \"\", \"\", \"business\", \"health\", \"\", \"\", \"computer_internet\", \"\", \"gaming\", \"\", \"recreation\", \"arts_entertainment\", \"gaming\", \"science_technology\", \"sports\", \"recreation\", \"arts_entertainment\", \"culture_politics\", \"arts_entertainment\", \"\", \"health\", \"arts_entertainment\", \"\", \"culture_politics\", \"sports\", \"\", \"\", \"arts_entertainment\", \"\", \"recreation\", \"\", \"\", \"science_technology\", \"\", \"computer_internet\", \"\", \"computer_internet\", \"arts_entertainment\", \"\", \"health\", \"\", \"\", \"culture_politics\", \"arts_entertainment\", \"arts_entertainment\", \"\", \"sports\", \"health\", \"science_technology\", \"culture_politics\", \"health\", \"business\", \"recreation\", \"\", \"arts_entertainment\", \"sports\", \"\", \"business\", \"culture_politics\", \"sports\", \"\", \"\", \"recreation\", \"science_technology\", \"\", \"arts_entertainment\", \"arts_entertainment\", \"arts_entertainment\", \"recreation\", \"\", \"sports\", \"\", \"business\", \"arts_entertainment\", \"culture_politics\", \"\", \"\", \"sports\", \"\", \"arts_entertainment\", \"arts_entertainment\", \"health\", \"\", \"health\", \"gaming\", \"\", \"recreation\", \"recreation\", \"\", \"business\", \"\", \"recreation\", \"business\", \"recreation\", \"\", \"\", \"\", \"\", \"arts_entertainment\", \"arts_entertainment\", \"\", \"sports\", \"culture_politics\", \"sports\", \"arts_entertainment\", \"\", \"sports\", \"recreation\", \"\", \"recreation\", \"\", \"science_technology\", \"\", \"\", \"arts_entertainment\", \"\", \"arts_entertainment\", \"health\", \"culture_politics\", \"\", \"\", \"arts_entertainment\", \"sports\", \"recreation\", \"science_technology\", \"health\", \"\", \"\", \"health\", \"culture_politics\", \"\", \"business\", \"computer_internet\", \"\", \"\", \"\", \"sports\", \"health\", \"recreation\", \"science_technology\", \"\", \"arts_entertainment\", \"health\", \"sports\", \"\", \"\", \"culture_politics\", \"\", \"science_technology\", \"arts_entertainment\", \"arts_entertainment\", \"computer_internet\", \"recreation\", \"science_technology\", \"arts_entertainment\", \"\", \"recreation\", \"business\", \"sports\", \"business\", \"arts_entertainment\", \"business\", \"arts_entertainment\", \"business\", \"arts_entertainment\", \"sports\", \"religion\", \"health\", \"\", \"health\", \"recreation\", \"health\", \"recreation\", \"sports\", \"science_technology\", \"recreation\", \"health\", \"health\", \"arts_entertainment\", \"recreation\", \"culture_politics\", \"sports\", \"\", \"\", \"\", \"recreation\", \"\", \"computer_internet\", \"arts_entertainment\", \"recreation\", \"business\", \"\", \"arts_entertainment\", \"science_technology\", \"arts_entertainment\", \"recreation\", \"\", \"culture_politics\", \"law_crime\", \"computer_internet\", \"religion\", \"culture_politics\", \"recreation\", \"computer_internet\", \"\", \"sports\", \"business\", \"\", \"\", \"computer_internet\", \"arts_entertainment\", \"\", \"arts_entertainment\", \"recreation\", \"arts_entertainment\", \"\", \"computer_internet\", \"arts_entertainment\", \"recreation\", \"culture_politics\", \"\", \"sports\", \"recreation\", \"\", \"\", \"recreation\", \"business\", \"arts_entertainment\", \"\", \"computer_internet\", \"arts_entertainment\", \"\", \"law_crime\", \"\", \"computer_internet\", \"\", \"\", \"recreation\", \"health\", \"arts_entertainment\", \"\", \"\", \"arts_entertainment\", \"\", \"\", \"arts_entertainment\", \"\", \"\", \"arts_entertainment\", \"recreation\", \"recreation\", \"computer_internet\", \"\", \"\", \"\", \"health\", \"\", \"arts_entertainment\", \"\", \"arts_entertainment\", \"sports\", \"\", \"computer_internet\", \"recreation\", \"\", \"\", \"culture_politics\", \"\", \"arts_entertainment\", \"\", \"arts_entertainment\", \"culture_politics\", \"\", \"sports\", \"arts_entertainment\", \"\", \"\", \"computer_internet\", \"sports\", \"\", \"\", \"arts_entertainment\", \"arts_entertainment\", \"weather\", \"recreation\", \"\", \"health\", \"business\", \"arts_entertainment\", \"computer_internet\", \"culture_politics\", \"\", \"arts_entertainment\", \"recreation\", \"arts_entertainment\", \"health\", \"sports\", \"\", \"\", \"\", \"\", \"science_technology\", \"\", \"computer_internet\", \"science_technology\", \"\", \"arts_entertainment\", \"sports\", \"sports\", \"arts_entertainment\", \"culture_politics\", \"business\", \"culture_politics\", \"business\", \"computer_internet\", \"arts_entertainment\", \"health\", \"recreation\", \"\", \"recreation\", \"recreation\", \"culture_politics\", \"\", \"\", \"sports\", \"computer_internet\", \"recreation\", \"arts_entertainment\", \"\", \"law_crime\", \"arts_entertainment\", \"gaming\", \"culture_politics\", \"recreation\", \"culture_politics\", \"\", \"recreation\", \"science_technology\", \"culture_politics\", \"arts_entertainment\", \"sports\", \"science_technology\", \"computer_internet\", \"arts_entertainment\", \"sports\", \"health\", \"arts_entertainment\", \"\", \"\", \"science_technology\", \"recreation\", \"\", \"recreation\", \"health\", \"\", \"religion\", \"business\", \"culture_politics\", \"arts_entertainment\", \"arts_entertainment\", \"\", \"\", \"recreation\", \"culture_politics\", \"recreation\", \"business\", \"recreation\", \"business\", \"arts_entertainment\", \"sports\", \"\", \"health\", \"arts_entertainment\", \"sports\", \"sports\", \"business\", \"health\", \"recreation\", \"\", \"\", \"recreation\", \"arts_entertainment\", \"business\", \"computer_internet\", \"computer_internet\", \"science_technology\", \"arts_entertainment\", \"\", \"health\", \"arts_entertainment\", \"gaming\", \"business\", \"recreation\", \"recreation\", \"arts_entertainment\", \"culture_politics\", \"business\", \"culture_politics\", \"sports\", \"recreation\", \"science_technology\", \"sports\", \"recreation\", \"\", \"culture_politics\", \"\", \"culture_politics\", \"business\", \"gaming\", \"arts_entertainment\", \"\", \"business\", \"health\", \"business\", \"business\", \"computer_internet\", \"\", \"\", \"arts_entertainment\", \"sports\", \"religion\", \"sports\", \"arts_entertainment\", \"business\", \"arts_entertainment\", \"\", \"business\", \"arts_entertainment\", \"culture_politics\", \"\", \"gaming\", \"\", \"sports\", \"computer_internet\", \"\", \"recreation\", \"computer_internet\", \"\", \"\", \"business\", \"\", \"recreation\", \"religion\", \"\", \"business\", \"\", \"recreation\", \"\", \"business\", \"computer_internet\", \"\", \"religion\", \"\", \"arts_entertainment\", \"computer_internet\", \"culture_politics\", \"science_technology\", \"sports\", \"arts_entertainment\", \"arts_entertainment\", \"arts_entertainment\", \"health\", \"culture_politics\", \"health\", \"sports\", \"computer_internet\", \"\", \"recreation\", \"culture_politics\", \"\", \"science_technology\", \"\", \"\", \"sports\", \"business\", \"recreation\", \"\", \"\", \"business\", \"health\", \"health\", \"\", \"recreation\", \"gaming\", \"\", \"arts_entertainment\", \"business\", \"\", \"health\", \"arts_entertainment\", \"\", \"\", \"\", \"\", \"arts_entertainment\", \"computer_internet\", \"arts_entertainment\", \"health\", \"\", \"\", \"arts_entertainment\", \"\", \"recreation\", \"\", \"recreation\", \"\", \"sports\", \"recreation\", \"recreation\", \"computer_internet\", \"\", \"\", \"arts_entertainment\", \"\", \"\", \"\", \"gaming\", \"\", \"\", \"arts_entertainment\", \"\", \"sports\", \"sports\", \"recreation\", \"recreation\", \"\", \"\", \"\", \"religion\", \"recreation\", \"arts_entertainment\", \"\", \"science_technology\", \"arts_entertainment\", \"arts_entertainment\", \"\", \"culture_politics\", \"business\", \"arts_entertainment\", \"\", \"sports\", \"computer_internet\", \"arts_entertainment\", \"\", \"\", \"arts_entertainment\", \"\", \"sports\", \"recreation\", \"recreation\", \"health\", \"arts_entertainment\", \"arts_entertainment\", \"\", \"sports\", \"\", \"science_technology\", \"weather\", \"\", \"recreation\", \"\", \"recreation\", \"computer_internet\", \"\", \"business\", \"\", \"culture_politics\", \"arts_entertainment\", \"arts_entertainment\", \"arts_entertainment\", \"sports\", \"sports\", \"\", \"business\", \"arts_entertainment\", \"arts_entertainment\", \"\", \"\", \"computer_internet\", \"\", \"\", \"sports\", \"health\", \"\", \"\", \"arts_entertainment\", \"science_technology\", \"\", \"arts_entertainment\", \"religion\", \"arts_entertainment\", \"\", \"sports\", \"computer_internet\", \"recreation\", \"recreation\", \"\", \"arts_entertainment\", \"arts_entertainment\", \"gaming\", \"\", \"culture_politics\", \"arts_entertainment\", \"law_crime\", \"culture_politics\", \"recreation\", \"\", \"business\", \"culture_politics\", \"\", \"recreation\", \"\", \"science_technology\", \"\", \"recreation\", \"\", \"health\", \"arts_entertainment\", \"culture_politics\", \"\", \"recreation\", \"science_technology\", \"\", \"computer_internet\", \"\", \"gaming\", \"arts_entertainment\", \"\", \"arts_entertainment\", \"sports\", \"\", \"arts_entertainment\", \"\", \"recreation\", \"law_crime\", \"culture_politics\", \"recreation\", \"health\", \"arts_entertainment\", \"\", \"\", \"\", \"business\", \"health\", \"science_technology\", \"computer_internet\", \"\", \"computer_internet\", \"sports\", \"\", \"business\", \"health\", \"\", \"arts_entertainment\", \"recreation\", \"arts_entertainment\", \"culture_politics\", \"business\", \"\", \"\", \"arts_entertainment\", \"arts_entertainment\", \"arts_entertainment\", \"culture_politics\", \"computer_internet\", \"arts_entertainment\", \"health\", \"recreation\", \"\", \"science_technology\", \"arts_entertainment\", \"arts_entertainment\", \"culture_politics\", \"business\", \"\", \"sports\", \"health\", \"\", \"\", \"arts_entertainment\", \"recreation\", \"\", \"\", \"\", \"arts_entertainment\", \"\", \"computer_internet\", \"arts_entertainment\", \"gaming\", \"recreation\", \"arts_entertainment\", \"\", \"computer_internet\", \"business\", \"\", \"health\", \"sports\", \"\", \"\", \"health\", \"arts_entertainment\", \"law_crime\", \"arts_entertainment\", \"recreation\", \"science_technology\", \"culture_politics\", \"recreation\", \"\", \"recreation\", \"\", \"\", \"\", \"\", \"\", \"computer_internet\", \"sports\", \"\", \"arts_entertainment\", \"business\", \"\", \"recreation\", \"arts_entertainment\", \"recreation\", \"\", \"business\", \"\", \"\", \"recreation\", \"recreation\", \"health\", \"\", \"sports\", \"\", \"arts_entertainment\", \"\", \"culture_politics\", \"unknown\", \"arts_entertainment\", \"arts_entertainment\", \"\", \"\", \"sports\", \"\", \"health\", \"\", \"\", \"science_technology\", \"arts_entertainment\", \"arts_entertainment\", \"arts_entertainment\", \"recreation\", \"sports\", \"arts_entertainment\", \"\", \"\", \"\", \"\", \"\", \"arts_entertainment\", \"arts_entertainment\", \"gaming\", \"recreation\", \"\", \"sports\", \"\", \"culture_politics\", \"\", \"arts_entertainment\", \"recreation\", \"\", \"business\", \"arts_entertainment\", \"\", \"\", \"culture_politics\", \"arts_entertainment\", \"culture_politics\", \"\", \"\", \"arts_entertainment\", \"arts_entertainment\", \"business\", \"computer_internet\", \"\", \"\", \"arts_entertainment\", \"science_technology\", \"\", \"\", \"sports\", \"\", \"\", \"\", \"culture_politics\", \"\", \"\", \"\", \"sports\", \"\", \"\", \"sports\", \"religion\", \"\", \"business\", \"\", \"\", \"arts_entertainment\", \"arts_entertainment\", \"\", \"culture_politics\", \"\", \"health\", \"\", \"\", \"religion\", \"health\", \"\", \"sports\", \"recreation\", \"\", \"\", \"recreation\", \"\", \"computer_internet\", \"sports\", \"arts_entertainment\", \"\", \"health\", \"science_technology\", \"health\", \"science_technology\", \"arts_entertainment\", \"sports\", \"\", \"\", \"business\", \"arts_entertainment\", \"arts_entertainment\", \"arts_entertainment\", \"\", \"business\", \"business\", \"recreation\", \"recreation\", \"recreation\", \"business\", \"arts_entertainment\", \"arts_entertainment\", \"health\", \"\", \"sports\", \"\", \"culture_politics\", \"sports\", \"arts_entertainment\", \"\", \"\", \"arts_entertainment\", \"\", \"sports\", \"recreation\", \"\", \"culture_politics\", \"\", \"science_technology\", \"culture_politics\", \"business\", \"\", \"sports\", \"religion\", \"arts_entertainment\", \"health\", \"science_technology\", \"\", \"recreation\", \"\", \"\", \"business\", \"arts_entertainment\", \"\", \"recreation\", \"sports\", \"recreation\", \"\", \"\", \"\", \"computer_internet\", \"computer_internet\", \"arts_entertainment\", \"recreation\", \"health\", \"\", \"sports\", \"science_technology\", \"sports\", \"\", \"\", \"\", \"health\", \"health\", \"computer_internet\", \"computer_internet\", \"arts_entertainment\", \"science_technology\", \"business\", \"computer_internet\", \"\", \"science_technology\", \"\", \"\", \"health\", \"health\", \"health\", \"\", \"arts_entertainment\", \"recreation\", \"recreation\", \"\", \"\", \"arts_entertainment\", \"recreation\", \"religion\", \"recreation\", \"\", \"\", \"recreation\", \"arts_entertainment\", \"arts_entertainment\", \"\", \"arts_entertainment\", \"recreation\", \"\", \"recreation\", \"arts_entertainment\", \"recreation\", \"science_technology\", \"sports\", \"\", \"gaming\", \"\", \"arts_entertainment\", \"business\", \"\", \"\", \"\", \"business\", \"computer_internet\", \"recreation\", \"culture_politics\", \"arts_entertainment\", \"\", \"religion\", \"\", \"arts_entertainment\", \"culture_politics\", \"sports\", \"\", \"\", \"recreation\", \"\", \"recreation\", \"\", \"computer_internet\", \"sports\", \"arts_entertainment\", \"sports\", \"gaming\", \"recreation\", \"\", \"\", \"sports\", \"sports\", \"recreation\", \"business\", \"arts_entertainment\", \"computer_internet\", \"computer_internet\", \"\", \"arts_entertainment\", \"\", \"business\", \"sports\", \"science_technology\", \"\", \"arts_entertainment\", \"\", \"business\", \"computer_internet\", \"recreation\", \"sports\", \"\", \"arts_entertainment\", \"\", \"\", \"recreation\", \"recreation\", \"arts_entertainment\", \"arts_entertainment\", \"health\", \"recreation\", \"\", \"culture_politics\", \"business\", \"\", \"\", \"culture_politics\", \"\", \"culture_politics\", \"\", \"\", \"\", \"\", \"computer_internet\", \"arts_entertainment\", \"science_technology\", \"sports\", \"arts_entertainment\", \"sports\", \"\", \"health\", \"business\", \"\", \"culture_politics\", \"sports\", \"computer_internet\", \"arts_entertainment\", \"arts_entertainment\", \"\", \"\", \"\", \"sports\", \"\", \"\", \"business\", \"\", \"science_technology\", \"computer_internet\", \"sports\", \"sports\", \"recreation\", \"sports\", \"recreation\", \"computer_internet\", \"\", \"science_technology\", \"\", \"\", \"health\", \"\", \"sports\", \"\", \"arts_entertainment\", \"sports\", \"health\", \"\", \"\", \"arts_entertainment\", \"sports\", \"culture_politics\", \"culture_politics\", \"\", \"sports\", \"\", \"computer_internet\", \"\", \"culture_politics\", \"health\", \"\", \"science_technology\", \"\", \"\", \"business\", \"\", \"recreation\", \"\", \"sports\", \"\", \"arts_entertainment\", \"\", \"\", \"sports\", \"gaming\", \"arts_entertainment\", \"arts_entertainment\", \"arts_entertainment\", \"\", \"health\", \"\", \"\", \"culture_politics\", \"recreation\", \"\", \"computer_internet\", \"sports\", \"\", \"sports\", \"sports\", \"arts_entertainment\", \"recreation\", \"\", \"\", \"culture_politics\", \"sports\", \"health\", \"business\", \"\", \"\", \"sports\", \"\", \"recreation\", \"arts_entertainment\", \"\", \"\", \"recreation\", \"culture_politics\", \"\", \"science_technology\", \"recreation\", \"sports\", \"arts_entertainment\", \"\", \"sports\", \"health\", \"\", \"arts_entertainment\", \"\", \"science_technology\", \"business\", \"recreation\", \"\", \"health\", \"science_technology\", \"recreation\", \"recreation\", \"recreation\", \"recreation\", \"business\", \"arts_entertainment\", \"recreation\", \"\", \"business\", \"business\", \"\", \"science_technology\", \"arts_entertainment\", \"arts_entertainment\", \"\", \"sports\", \"arts_entertainment\", \"recreation\", \"health\", \"\", \"science_technology\", \"\", \"culture_politics\", \"business\", \"arts_entertainment\", \"business\", \"sports\", \"business\", \"culture_politics\", \"recreation\", \"computer_internet\", \"business\", \"recreation\", \"\", \"\", \"\", \"\", \"arts_entertainment\", \"business\", \"\", \"\", \"arts_entertainment\", \"\", \"computer_internet\", \"gaming\", \"health\", \"arts_entertainment\", \"arts_entertainment\", \"\", \"\", \"computer_internet\", \"business\", \"\", \"business\", \"health\", \"arts_entertainment\", \"\", \"recreation\", \"recreation\", \"recreation\", \"unknown\", \"recreation\", \"arts_entertainment\", \"\", \"recreation\", \"computer_internet\", \"\", \"\", \"computer_internet\", \"\", \"health\", \"\", \"\", \"\", \"culture_politics\", \"sports\", \"\", \"law_crime\", \"sports\", \"\", \"\", \"sports\", \"sports\", \"arts_entertainment\", \"arts_entertainment\", \"business\", \"\", \"health\", \"\", \"recreation\", \"sports\", \"\", \"sports\", \"\", \"recreation\", \"recreation\", \"\", \"recreation\", \"\", \"arts_entertainment\", \"\", \"computer_internet\", \"\", \"\", \"\", \"law_crime\", \"computer_internet\", \"arts_entertainment\", \"gaming\", \"\", \"\", \"arts_entertainment\", \"sports\", \"business\", \"\", \"\", \"business\", \"sports\", \"sports\", \"\", \"arts_entertainment\", \"recreation\", \"arts_entertainment\", \"arts_entertainment\", \"recreation\", \"\", \"arts_entertainment\", \"arts_entertainment\", \"\", \"health\", \"arts_entertainment\", \"\", \"arts_entertainment\", \"\", \"recreation\", \"science_technology\", \"\", \"sports\", \"sports\", \"business\", \"recreation\", \"health\", \"business\", \"business\", \"\", \"\", \"\", \"religion\", \"business\", \"arts_entertainment\", \"\", \"\", \"science_technology\", \"health\", \"arts_entertainment\", \"sports\", \"\", \"arts_entertainment\", \"culture_politics\", \"arts_entertainment\", \"arts_entertainment\", \"computer_internet\", \"culture_politics\", \"health\", \"business\", \"arts_entertainment\", \"health\", \"arts_entertainment\", \"health\", \"computer_internet\", \"computer_internet\", \"recreation\", \"\", \"health\", \"computer_internet\", \"\", \"recreation\", \"computer_internet\", \"sports\", \"computer_internet\", \"culture_politics\", \"business\", \"\", \"\", \"religion\", \"sports\", \"\", \"\", \"health\", \"\", \"\", \"arts_entertainment\", \"culture_politics\", \"\", \"\", \"\", \"\", \"computer_internet\", \"\", \"health\", \"arts_entertainment\", \"\", \"arts_entertainment\", \"\", \"health\", \"recreation\", \"sports\", \"\", \"recreation\", \"arts_entertainment\", \"culture_politics\", \"\", \"\", \"computer_internet\", \"\", \"sports\", \"\", \"\", \"recreation\", \"business\", \"sports\", \"\", \"\", \"health\", \"\", \"health\", \"\", \"business\", \"\", \"health\", \"\", \"recreation\", \"\", \"arts_entertainment\", \"\", \"business\", \"business\", \"health\", \"gaming\", \"business\", \"science_technology\", \"arts_entertainment\", \"business\", \"\", \"\", \"computer_internet\", \"arts_entertainment\", \"business\", \"computer_internet\", \"computer_internet\", \"sports\", \"arts_entertainment\", \"arts_entertainment\", \"\", \"recreation\", \"\", \"\", \"arts_entertainment\", \"computer_internet\", \"business\", \"\", \"arts_entertainment\", \"arts_entertainment\", \"\", \"\", \"\", \"gaming\", \"recreation\", \"arts_entertainment\", \"recreation\", \"gaming\", \"recreation\", \"\", \"\", \"\", \"business\", \"\", \"recreation\", \"\", \"computer_internet\", \"business\", \"business\", \"recreation\", \"science_technology\", \"culture_politics\", \"arts_entertainment\", \"business\", \"health\", \"recreation\", \"arts_entertainment\", \"\", \"culture_politics\", \"business\", \"sports\", \"computer_internet\", \"\", \"arts_entertainment\", \"recreation\", \"health\", \"\", \"science_technology\", \"recreation\", \"sports\", \"recreation\", \"recreation\", \"computer_internet\", \"recreation\", \"business\", \"\", \"recreation\", \"culture_politics\", \"\", \"\", \"\", \"\", \"recreation\", \"arts_entertainment\", \"\", \"\", \"arts_entertainment\", \"weather\", \"business\", \"arts_entertainment\", \"health\", \"\", \"\", \"gaming\", \"\", \"\", \"arts_entertainment\", \"\", \"arts_entertainment\", \"\", \"arts_entertainment\", \"sports\", \"\", \"recreation\", \"science_technology\", \"\", \"arts_entertainment\", \"\", \"\", \"health\", \"sports\", \"arts_entertainment\", \"\", \"science_technology\", \"business\", \"computer_internet\", \"\", \"\", \"sports\", \"sports\", \"\", \"\", \"culture_politics\", \"\", \"\", \"health\", \"culture_politics\", \"culture_politics\", \"arts_entertainment\", \"health\", \"\", \"arts_entertainment\", \"\", \"culture_politics\", \"\", \"recreation\", \"arts_entertainment\", \"computer_internet\", \"arts_entertainment\", \"\", \"arts_entertainment\", \"health\", \"\", \"recreation\", \"\", \"sports\", \"culture_politics\", \"\", \"\", \"arts_entertainment\", \"\", \"science_technology\", \"\", \"arts_entertainment\", \"recreation\", \"computer_internet\", \"arts_entertainment\", \"computer_internet\", \"culture_politics\", \"health\", \"\", \"\", \"\", \"\", \"computer_internet\", \"culture_politics\", \"science_technology\", \"\", \"business\", \"law_crime\", \"health\", \"\", \"\", \"\", \"\", \"health\", \"recreation\", \"\", \"recreation\", \"sports\", \"\", \"arts_entertainment\", \"\", \"arts_entertainment\", \"science_technology\", \"religion\", \"arts_entertainment\", \"\", \"\", \"business\", \"sports\", \"science_technology\", \"science_technology\", \"sports\", \"arts_entertainment\", \"computer_internet\", \"\", \"sports\", \"recreation\", \"\", \"arts_entertainment\", \"computer_internet\", \"computer_internet\", \"sports\", \"computer_internet\", \"computer_internet\", \"computer_internet\", \"\", \"arts_entertainment\", \"gaming\", \"\", \"\", \"\", \"computer_internet\", \"recreation\", \"business\", \"arts_entertainment\", \"\", \"\", \"\", \"\", \"\", \"arts_entertainment\", \"recreation\", \"\", \"\", \"science_technology\", \"arts_entertainment\", \"health\", \"business\", \"\", \"law_crime\", \"\", \"sports\", \"\", \"\", \"\", \"\", \"culture_politics\", \"\", \"\", \"arts_entertainment\", \"computer_internet\", \"computer_internet\", \"\", \"arts_entertainment\", \"sports\", \"recreation\", \"business\", \"\", \"\", \"arts_entertainment\", \"arts_entertainment\", \"\", \"science_technology\", \"recreation\", \"business\", \"\", \"culture_politics\", \"science_technology\", \"sports\", \"sports\", \"recreation\", \"sports\", \"culture_politics\", \"arts_entertainment\", \"health\", \"\", \"recreation\", \"\", \"sports\", \"\", \"gaming\", \"recreation\", \"\", \"recreation\", \"computer_internet\", \"computer_internet\", \"arts_entertainment\", \"\", \"recreation\", \"culture_politics\", \"arts_entertainment\", \"arts_entertainment\", \"recreation\", \"arts_entertainment\", \"law_crime\", \"\", \"culture_politics\", \"\", \"recreation\", \"business\", \"science_technology\", \"\", \"\", \"\", \"\", \"health\", \"business\", \"arts_entertainment\", \"\", \"arts_entertainment\", \"arts_entertainment\", \"\", \"health\", \"health\", \"business\", \"sports\", \"sports\", \"\", \"health\", \"\", \"business\", \"health\", \"science_technology\", \"arts_entertainment\", \"arts_entertainment\", \"health\", \"computer_internet\", \"\", \"\", \"computer_internet\", \"\", \"health\", \"arts_entertainment\", \"culture_politics\", \"\", \"\", \"\", \"recreation\", \"health\", \"\", \"\", \"\", \"arts_entertainment\", \"sports\", \"recreation\", \"business\", \"sports\", \"\", \"law_crime\", \"arts_entertainment\", \"culture_politics\", \"business\", \"\", \"\", \"\", \"computer_internet\", \"arts_entertainment\", \"arts_entertainment\", \"health\", \"\", \"arts_entertainment\", \"\", \"culture_politics\", \"culture_politics\", \"recreation\", \"\", \"arts_entertainment\", \"recreation\", \"gaming\", \"business\", \"health\", \"\", \"\", \"recreation\", \"\", \"\", \"science_technology\", \"sports\", \"health\", \"\", \"recreation\", \"\", \"recreation\", \"recreation\", \"\", \"sports\", \"arts_entertainment\", \"religion\", \"business\", \"recreation\", \"computer_internet\", \"arts_entertainment\", \"sports\", \"arts_entertainment\", \"sports\", \"arts_entertainment\", \"\", \"computer_internet\", \"sports\", \"business\", \"\", \"arts_entertainment\", \"computer_internet\", \"\", \"recreation\", \"\", \"health\", \"culture_politics\", \"arts_entertainment\", \"arts_entertainment\", \"computer_internet\", \"business\", \"arts_entertainment\", \"recreation\", \"science_technology\", \"business\", \"gaming\", \"\", \"\", \"business\", \"sports\", \"business\", \"\", \"\", \"culture_politics\", \"\", \"\", \"arts_entertainment\", \"sports\", \"culture_politics\", \"arts_entertainment\", \"arts_entertainment\", \"arts_entertainment\", \"recreation\", \"law_crime\", \"arts_entertainment\", \"computer_internet\", \"arts_entertainment\", \"health\", \"health\", \"\", \"arts_entertainment\", \"arts_entertainment\", \"recreation\", \"computer_internet\", \"arts_entertainment\", \"\", \"health\", \"\", \"recreation\", \"recreation\", \"business\", \"arts_entertainment\", \"health\", \"\", \"\", \"recreation\", \"\", \"\", \"arts_entertainment\", \"arts_entertainment\", \"\", \"arts_entertainment\", \"science_technology\", \"\", \"sports\", \"\", \"computer_internet\", \"\", \"sports\", \"\", \"\", \"science_technology\", \"arts_entertainment\", \"business\", \"\", \"\", \"business\", \"\", \"culture_politics\", \"health\", \"\", \"\", \"recreation\", \"sports\", \"\", \"sports\", \"culture_politics\", \"arts_entertainment\", \"arts_entertainment\", \"culture_politics\", \"computer_internet\", \"health\", \"recreation\", \"business\", \"culture_politics\", \"culture_politics\", \"computer_internet\", \"\", \"arts_entertainment\", \"\", \"\", \"business\", \"arts_entertainment\", \"sports\", \"\", \"recreation\", \"science_technology\", \"health\", \"business\", \"\", \"recreation\", \"computer_internet\", \"law_crime\", \"law_crime\", \"gaming\", \"sports\", \"\", \"arts_entertainment\", \"\", \"\", \"\", \"business\", \"recreation\", \"recreation\", \"recreation\", \"arts_entertainment\", \"recreation\", \"science_technology\", \"arts_entertainment\", \"culture_politics\", \"\", \"sports\", \"arts_entertainment\", \"arts_entertainment\", \"science_technology\", \"business\", \"sports\", \"science_technology\", \"arts_entertainment\", \"science_technology\", \"arts_entertainment\", \"recreation\", \"\", \"\", \"arts_entertainment\", \"computer_internet\", \"business\", \"business\", \"culture_politics\", \"science_technology\", \"\", \"\", \"\", \"\", \"sports\", \"arts_entertainment\", \"science_technology\", \"\", \"arts_entertainment\", \"arts_entertainment\", \"\", \"health\", \"business\", \"computer_internet\", \"science_technology\", \"sports\", \"arts_entertainment\", \"religion\", \"arts_entertainment\", \"\", \"sports\", \"religion\", \"arts_entertainment\", \"arts_entertainment\", \"science_technology\", \"health\", \"recreation\", \"arts_entertainment\", \"\", \"science_technology\", \"recreation\", \"arts_entertainment\", \"sports\", \"health\", \"business\", \"\", \"\", \"arts_entertainment\", \"health\", \"\", \"business\", \"recreation\", \"arts_entertainment\", \"\", \"business\", \"recreation\", \"\", \"sports\", \"arts_entertainment\", \"culture_politics\", \"health\", \"\", \"\", \"arts_entertainment\", \"arts_entertainment\", \"\", \"recreation\", \"recreation\", \"\", \"recreation\", \"computer_internet\", \"recreation\", \"\", \"arts_entertainment\", \"business\", \"\", \"\", \"arts_entertainment\", \"arts_entertainment\", \"arts_entertainment\", \"sports\", \"health\", \"recreation\", \"recreation\", \"recreation\", \"arts_entertainment\", \"recreation\", \"sports\", \"\", \"health\", \"\", \"computer_internet\", \"recreation\", \"\", \"arts_entertainment\", \"arts_entertainment\", \"\", \"arts_entertainment\", \"arts_entertainment\", \"computer_internet\", \"culture_politics\", \"sports\", \"computer_internet\", \"\", \"arts_entertainment\", \"religion\", \"science_technology\", \"culture_politics\", \"computer_internet\", \"science_technology\", \"\", \"culture_politics\", \"computer_internet\", \"sports\", \"sports\", \"sports\", \"sports\", \"\", \"culture_politics\", \"sports\", \"\", \"culture_politics\", \"gaming\", \"business\", \"sports\", \"arts_entertainment\", \"health\", \"recreation\", \"\", \"arts_entertainment\", \"arts_entertainment\", \"\", \"health\", \"recreation\", \"\", \"\", \"culture_politics\", \"recreation\", \"recreation\", \"\", \"\", \"\", \"\", \"arts_entertainment\", \"science_technology\", \"science_technology\", \"\", \"\", \"culture_politics\", \"\", \"health\", \"\", \"\", \"arts_entertainment\", \"gaming\", \"\", \"\", \"sports\", \"religion\", \"sports\", \"arts_entertainment\", \"\", \"religion\", \"recreation\", \"\", \"culture_politics\", \"science_technology\", \"computer_internet\", \"sports\", \"\", \"arts_entertainment\", \"\", \"arts_entertainment\", \"\", \"\", \"business\", \"culture_politics\", \"sports\", \"\", \"\", \"arts_entertainment\", \"business\", \"\", \"\", \"sports\", \"arts_entertainment\", \"\", \"science_technology\", \"science_technology\", \"\", \"\", \"health\", \"arts_entertainment\", \"recreation\", \"\", \"recreation\", \"computer_internet\", \"science_technology\", \"arts_entertainment\", \"recreation\", \"computer_internet\", \"\", \"recreation\", \"\", \"recreation\", \"\", \"computer_internet\", \"culture_politics\", \"\"], \"xaxis\": \"x\", \"yaxis\": \"y\"}, {\"alignmentgroup\": \"True\", \"bingroup\": \"x\", \"hoverlabel\": {\"namelength\": 0}, \"hovertemplate\": \"label=1.0<br>alchemy_category=%{x}<br>count=%{y}\", \"legendgroup\": \"label=1.0\", \"marker\": {\"color\": \"#EF553B\"}, \"name\": \"label=1.0\", \"offsetgroup\": \"label=1.0\", \"orientation\": \"v\", \"showlegend\": true, \"type\": \"histogram\", \"x\": [\"recreation\", \"health\", \"health\", \"arts_entertainment\", \"\", \"\", \"health\", \"\", \"recreation\", \"health\", \"recreation\", \"\", \"\", \"\", \"\", \"recreation\", \"recreation\", \"business\", \"\", \"\", \"health\", \"recreation\", \"health\", \"\", \"\", \"recreation\", \"recreation\", \"health\", \"sports\", \"business\", \"sports\", \"arts_entertainment\", \"business\", \"\", \"\", \"culture_politics\", \"\", \"health\", \"science_technology\", \"recreation\", \"sports\", \"business\", \"business\", \"\", \"\", \"\", \"computer_internet\", \"business\", \"recreation\", \"business\", \"\", \"arts_entertainment\", \"recreation\", \"culture_politics\", \"\", \"sports\", \"recreation\", \"computer_internet\", \"arts_entertainment\", \"\", \"\", \"arts_entertainment\", \"arts_entertainment\", \"business\", \"business\", \"business\", \"health\", \"recreation\", \"recreation\", \"\", \"\", \"\", \"arts_entertainment\", \"arts_entertainment\", \"business\", \"business\", \"arts_entertainment\", \"arts_entertainment\", \"arts_entertainment\", \"recreation\", \"health\", \"business\", \"recreation\", \"arts_entertainment\", \"business\", \"arts_entertainment\", \"recreation\", \"business\", \"recreation\", \"\", \"\", \"health\", \"arts_entertainment\", \"law_crime\", \"\", \"recreation\", \"culture_politics\", \"business\", \"business\", \"\", \"health\", \"science_technology\", \"\", \"\", \"\", \"\", \"\", \"arts_entertainment\", \"\", \"recreation\", \"\", \"arts_entertainment\", \"\", \"recreation\", \"\", \"arts_entertainment\", \"recreation\", \"recreation\", \"business\", \"\", \"recreation\", \"\", \"recreation\", \"recreation\", \"\", \"\", \"science_technology\", \"\", \"\", \"recreation\", \"business\", \"\", \"arts_entertainment\", \"recreation\", \"\", \"science_technology\", \"health\", \"recreation\", \"recreation\", \"\", \"health\", \"arts_entertainment\", \"arts_entertainment\", \"\", \"\", \"culture_politics\", \"business\", \"\", \"business\", \"recreation\", \"health\", \"\", \"\", \"\", \"\", \"arts_entertainment\", \"arts_entertainment\", \"\", \"recreation\", \"\", \"recreation\", \"\", \"recreation\", \"\", \"\", \"\", \"computer_internet\", \"recreation\", \"arts_entertainment\", \"\", \"recreation\", \"business\", \"\", \"\", \"\", \"law_crime\", \"\", \"business\", \"\", \"arts_entertainment\", \"science_technology\", \"\", \"culture_politics\", \"\", \"recreation\", \"business\", \"recreation\", \"business\", \"business\", \"science_technology\", \"\", \"business\", \"\", \"recreation\", \"sports\", \"recreation\", \"business\", \"\", \"health\", \"science_technology\", \"sports\", \"science_technology\", \"business\", \"arts_entertainment\", \"arts_entertainment\", \"recreation\", \"gaming\", \"\", \"\", \"arts_entertainment\", \"sports\", \"arts_entertainment\", \"\", \"\", \"\", \"sports\", \"\", \"arts_entertainment\", \"\", \"business\", \"\", \"health\", \"\", \"business\", \"business\", \"sports\", \"recreation\", \"arts_entertainment\", \"business\", \"arts_entertainment\", \"\", \"business\", \"religion\", \"\", \"computer_internet\", \"recreation\", \"science_technology\", \"arts_entertainment\", \"\", \"\", \"business\", \"culture_politics\", \"business\", \"recreation\", \"\", \"recreation\", \"recreation\", \"\", \"business\", \"health\", \"\", \"\", \"health\", \"culture_politics\", \"recreation\", \"health\", \"sports\", \"recreation\", \"recreation\", \"arts_entertainment\", \"recreation\", \"health\", \"\", \"recreation\", \"recreation\", \"\", \"arts_entertainment\", \"science_technology\", \"\", \"business\", \"recreation\", \"recreation\", \"business\", \"science_technology\", \"business\", \"recreation\", \"recreation\", \"recreation\", \"\", \"recreation\", \"\", \"health\", \"arts_entertainment\", \"arts_entertainment\", \"\", \"science_technology\", \"\", \"\", \"science_technology\", \"recreation\", \"\", \"culture_politics\", \"business\", \"business\", \"recreation\", \"\", \"\", \"business\", \"\", \"health\", \"business\", \"\", \"arts_entertainment\", \"\", \"recreation\", \"computer_internet\", \"recreation\", \"arts_entertainment\", \"sports\", \"\", \"recreation\", \"recreation\", \"arts_entertainment\", \"recreation\", \"arts_entertainment\", \"sports\", \"business\", \"arts_entertainment\", \"\", \"recreation\", \"sports\", \"computer_internet\", \"business\", \"science_technology\", \"recreation\", \"science_technology\", \"\", \"recreation\", \"\", \"\", \"arts_entertainment\", \"\", \"arts_entertainment\", \"recreation\", \"business\", \"\", \"arts_entertainment\", \"business\", \"computer_internet\", \"law_crime\", \"recreation\", \"recreation\", \"\", \"science_technology\", \"recreation\", \"\", \"recreation\", \"computer_internet\", \"health\", \"recreation\", \"recreation\", \"business\", \"\", \"recreation\", \"business\", \"\", \"arts_entertainment\", \"computer_internet\", \"recreation\", \"recreation\", \"business\", \"recreation\", \"recreation\", \"arts_entertainment\", \"business\", \"recreation\", \"culture_politics\", \"recreation\", \"\", \"business\", \"arts_entertainment\", \"\", \"\", \"business\", \"\", \"health\", \"culture_politics\", \"\", \"health\", \"religion\", \"health\", \"\", \"science_technology\", \"recreation\", \"recreation\", \"\", \"\", \"\", \"culture_politics\", \"business\", \"\", \"\", \"recreation\", \"\", \"recreation\", \"business\", \"\", \"recreation\", \"recreation\", \"recreation\", \"health\", \"health\", \"\", \"health\", \"culture_politics\", \"sports\", \"arts_entertainment\", \"recreation\", \"arts_entertainment\", \"\", \"business\", \"\", \"recreation\", \"recreation\", \"business\", \"\", \"arts_entertainment\", \"business\", \"health\", \"\", \"\", \"recreation\", \"health\", \"\", \"\", \"sports\", \"\", \"science_technology\", \"recreation\", \"\", \"health\", \"business\", \"business\", \"health\", \"\", \"recreation\", \"recreation\", \"\", \"business\", \"\", \"culture_politics\", \"business\", \"arts_entertainment\", \"\", \"science_technology\", \"\", \"culture_politics\", \"\", \"\", \"\", \"\", \"computer_internet\", \"arts_entertainment\", \"culture_politics\", \"recreation\", \"\", \"\", \"\", \"business\", \"culture_politics\", \"\", \"computer_internet\", \"recreation\", \"business\", \"health\", \"business\", \"\", \"business\", \"business\", \"recreation\", \"health\", \"recreation\", \"recreation\", \"health\", \"\", \"arts_entertainment\", \"\", \"\", \"\", \"arts_entertainment\", \"\", \"recreation\", \"arts_entertainment\", \"recreation\", \"health\", \"law_crime\", \"business\", \"recreation\", \"recreation\", \"\", \"business\", \"unknown\", \"health\", \"religion\", \"health\", \"recreation\", \"arts_entertainment\", \"\", \"\", \"\", \"\", \"business\", \"business\", \"business\", \"arts_entertainment\", \"arts_entertainment\", \"recreation\", \"culture_politics\", \"arts_entertainment\", \"business\", \"health\", \"\", \"recreation\", \"recreation\", \"science_technology\", \"arts_entertainment\", \"health\", \"business\", \"arts_entertainment\", \"\", \"recreation\", \"recreation\", \"business\", \"recreation\", \"recreation\", \"\", \"recreation\", \"\", \"recreation\", \"arts_entertainment\", \"recreation\", \"\", \"\", \"\", \"recreation\", \"\", \"recreation\", \"recreation\", \"\", \"\", \"\", \"health\", \"arts_entertainment\", \"recreation\", \"business\", \"recreation\", \"arts_entertainment\", \"business\", \"recreation\", \"science_technology\", \"\", \"recreation\", \"\", \"business\", \"business\", \"recreation\", \"recreation\", \"\", \"\", \"arts_entertainment\", \"business\", \"health\", \"arts_entertainment\", \"\", \"culture_politics\", \"sports\", \"\", \"arts_entertainment\", \"recreation\", \"culture_politics\", \"recreation\", \"business\", \"business\", \"business\", \"health\", \"\", \"business\", \"health\", \"\", \"\", \"gaming\", \"business\", \"arts_entertainment\", \"\", \"\", \"recreation\", \"\", \"\", \"\", \"health\", \"\", \"\", \"recreation\", \"\", \"\", \"business\", \"recreation\", \"arts_entertainment\", \"arts_entertainment\", \"business\", \"sports\", \"recreation\", \"computer_internet\", \"health\", \"business\", \"\", \"arts_entertainment\", \"\", \"recreation\", \"recreation\", \"health\", \"recreation\", \"business\", \"arts_entertainment\", \"business\", \"\", \"culture_politics\", \"\", \"sports\", \"recreation\", \"business\", \"arts_entertainment\", \"science_technology\", \"business\", \"business\", \"recreation\", \"\", \"recreation\", \"\", \"recreation\", \"\", \"health\", \"\", \"arts_entertainment\", \"business\", \"\", \"arts_entertainment\", \"business\", \"business\", \"business\", \"health\", \"business\", \"\", \"recreation\", \"science_technology\", \"health\", \"religion\", \"recreation\", \"arts_entertainment\", \"\", \"\", \"culture_politics\", \"health\", \"business\", \"science_technology\", \"business\", \"arts_entertainment\", \"recreation\", \"recreation\", \"\", \"recreation\", \"recreation\", \"\", \"\", \"science_technology\", \"gaming\", \"business\", \"arts_entertainment\", \"\", \"recreation\", \"health\", \"business\", \"health\", \"\", \"\", \"recreation\", \"business\", \"computer_internet\", \"\", \"recreation\", \"\", \"\", \"health\", \"health\", \"business\", \"recreation\", \"recreation\", \"science_technology\", \"business\", \"sports\", \"\", \"arts_entertainment\", \"health\", \"culture_politics\", \"culture_politics\", \"recreation\", \"recreation\", \"recreation\", \"recreation\", \"business\", \"arts_entertainment\", \"recreation\", \"business\", \"recreation\", \"\", \"arts_entertainment\", \"arts_entertainment\", \"recreation\", \"\", \"business\", \"\", \"recreation\", \"\", \"health\", \"recreation\", \"culture_politics\", \"\", \"business\", \"\", \"business\", \"\", \"\", \"\", \"business\", \"business\", \"science_technology\", \"\", \"business\", \"health\", \"\", \"\", \"\", \"science_technology\", \"\", \"\", \"recreation\", \"business\", \"recreation\", \"\", \"\", \"health\", \"business\", \"\", \"\", \"business\", \"science_technology\", \"recreation\", \"recreation\", \"recreation\", \"\", \"business\", \"\", \"business\", \"recreation\", \"\", \"\", \"science_technology\", \"arts_entertainment\", \"\", \"science_technology\", \"recreation\", \"health\", \"recreation\", \"sports\", \"health\", \"\", \"arts_entertainment\", \"culture_politics\", \"business\", \"\", \"business\", \"\", \"business\", \"\", \"recreation\", \"\", \"\", \"\", \"health\", \"health\", \"recreation\", \"recreation\", \"arts_entertainment\", \"recreation\", \"business\", \"culture_politics\", \"\", \"computer_internet\", \"business\", \"\", \"\", \"recreation\", \"\", \"business\", \"culture_politics\", \"business\", \"business\", \"business\", \"recreation\", \"culture_politics\", \"health\", \"\", \"business\", \"arts_entertainment\", \"arts_entertainment\", \"\", \"arts_entertainment\", \"recreation\", \"recreation\", \"recreation\", \"\", \"business\", \"\", \"business\", \"business\", \"recreation\", \"\", \"business\", \"recreation\", \"\", \"recreation\", \"culture_politics\", \"recreation\", \"business\", \"\", \"\", \"recreation\", \"recreation\", \"health\", \"\", \"business\", \"recreation\", \"recreation\", \"\", \"arts_entertainment\", \"recreation\", \"\", \"recreation\", \"\", \"health\", \"culture_politics\", \"recreation\", \"culture_politics\", \"recreation\", \"\", \"recreation\", \"\", \"health\", \"recreation\", \"recreation\", \"recreation\", \"recreation\", \"recreation\", \"religion\", \"recreation\", \"recreation\", \"\", \"business\", \"recreation\", \"science_technology\", \"recreation\", \"recreation\", \"recreation\", \"recreation\", \"recreation\", \"\", \"business\", \"gaming\", \"recreation\", \"business\", \"culture_politics\", \"\", \"\", \"\", \"recreation\", \"recreation\", \"\", \"\", \"business\", \"business\", \"business\", \"business\", \"arts_entertainment\", \"business\", \"science_technology\", \"business\", \"arts_entertainment\", \"recreation\", \"recreation\", \"recreation\", \"\", \"science_technology\", \"\", \"business\", \"\", \"culture_politics\", \"health\", \"science_technology\", \"\", \"\", \"recreation\", \"business\", \"\", \"business\", \"business\", \"business\", \"culture_politics\", \"\", \"arts_entertainment\", \"\", \"health\", \"religion\", \"\", \"business\", \"arts_entertainment\", \"business\", \"\", \"business\", \"business\", \"recreation\", \"business\", \"business\", \"\", \"sports\", \"gaming\", \"arts_entertainment\", \"\", \"arts_entertainment\", \"science_technology\", \"\", \"\", \"business\", \"recreation\", \"\", \"computer_internet\", \"health\", \"culture_politics\", \"\", \"\", \"arts_entertainment\", \"\", \"recreation\", \"computer_internet\", \"health\", \"arts_entertainment\", \"health\", \"\", \"arts_entertainment\", \"recreation\", \"business\", \"\", \"arts_entertainment\", \"\", \"\", \"\", \"business\", \"health\", \"science_technology\", \"sports\", \"health\", \"business\", \"business\", \"recreation\", \"business\", \"business\", \"business\", \"sports\", \"recreation\", \"recreation\", \"religion\", \"recreation\", \"recreation\", \"\", \"culture_politics\", \"recreation\", \"\", \"arts_entertainment\", \"recreation\", \"sports\", \"health\", \"\", \"business\", \"business\", \"business\", \"recreation\", \"health\", \"arts_entertainment\", \"arts_entertainment\", \"\", \"\", \"science_technology\", \"recreation\", \"health\", \"business\", \"business\", \"science_technology\", \"\", \"recreation\", \"law_crime\", \"recreation\", \"recreation\", \"recreation\", \"arts_entertainment\", \"\", \"recreation\", \"\", \"recreation\", \"arts_entertainment\", \"health\", \"business\", \"\", \"\", \"business\", \"business\", \"health\", \"health\", \"business\", \"health\", \"\", \"\", \"health\", \"arts_entertainment\", \"arts_entertainment\", \"recreation\", \"\", \"science_technology\", \"\", \"recreation\", \"health\", \"arts_entertainment\", \"business\", \"business\", \"\", \"arts_entertainment\", \"arts_entertainment\", \"health\", \"arts_entertainment\", \"\", \"business\", \"recreation\", \"\", \"business\", \"business\", \"\", \"\", \"arts_entertainment\", \"business\", \"business\", \"health\", \"\", \"recreation\", \"\", \"business\", \"recreation\", \"business\", \"sports\", \"\", \"\", \"\", \"\", \"health\", \"\", \"health\", \"\", \"arts_entertainment\", \"\", \"\", \"recreation\", \"recreation\", \"recreation\", \"recreation\", \"arts_entertainment\", \"\", \"recreation\", \"\", \"business\", \"business\", \"culture_politics\", \"\", \"\", \"\", \"recreation\", \"\", \"recreation\", \"recreation\", \"recreation\", \"health\", \"recreation\", \"arts_entertainment\", \"business\", \"health\", \"religion\", \"business\", \"business\", \"culture_politics\", \"business\", \"gaming\", \"arts_entertainment\", \"recreation\", \"recreation\", \"recreation\", \"computer_internet\", \"recreation\", \"arts_entertainment\", \"business\", \"business\", \"\", \"recreation\", \"\", \"culture_politics\", \"health\", \"\", \"\", \"arts_entertainment\", \"arts_entertainment\", \"business\", \"\", \"business\", \"recreation\", \"culture_politics\", \"\", \"recreation\", \"recreation\", \"\", \"science_technology\", \"business\", \"recreation\", \"science_technology\", \"recreation\", \"recreation\", \"health\", \"\", \"\", \"\", \"health\", \"health\", \"business\", \"\", \"\", \"\", \"business\", \"\", \"\", \"\", \"science_technology\", \"\", \"business\", \"arts_entertainment\", \"\", \"business\", \"\", \"\", \"business\", \"business\", \"health\", \"\", \"recreation\", \"business\", \"\", \"\", \"\", \"recreation\", \"recreation\", \"business\", \"recreation\", \"\", \"arts_entertainment\", \"\", \"recreation\", \"recreation\", \"recreation\", \"recreation\", \"recreation\", \"\", \"business\", \"\", \"recreation\", \"culture_politics\", \"recreation\", \"culture_politics\", \"\", \"culture_politics\", \"\", \"\", \"recreation\", \"\", \"\", \"culture_politics\", \"arts_entertainment\", \"arts_entertainment\", \"business\", \"\", \"business\", \"arts_entertainment\", \"health\", \"\", \"science_technology\", \"health\", \"science_technology\", \"recreation\", \"culture_politics\", \"\", \"business\", \"\", \"arts_entertainment\", \"recreation\", \"science_technology\", \"\", \"business\", \"recreation\", \"\", \"recreation\", \"\", \"health\", \"business\", \"\", \"\", \"gaming\", \"arts_entertainment\", \"\", \"\", \"recreation\", \"\", \"business\", \"\", \"recreation\", \"\", \"recreation\", \"culture_politics\", \"recreation\", \"\", \"business\", \"recreation\", \"recreation\", \"computer_internet\", \"business\", \"arts_entertainment\", \"\", \"\", \"business\", \"recreation\", \"computer_internet\", \"\", \"\", \"\", \"\", \"culture_politics\", \"culture_politics\", \"recreation\", \"culture_politics\", \"recreation\", \"\", \"recreation\", \"business\", \"arts_entertainment\", \"\", \"recreation\", \"\", \"recreation\", \"\", \"recreation\", \"arts_entertainment\", \"\", \"\", \"business\", \"\", \"business\", \"business\", \"\", \"health\", \"\", \"health\", \"recreation\", \"\", \"\", \"\", \"business\", \"recreation\", \"science_technology\", \"arts_entertainment\", \"recreation\", \"business\", \"arts_entertainment\", \"\", \"business\", \"culture_politics\", \"\", \"\", \"science_technology\", \"recreation\", \"\", \"business\", \"\", \"recreation\", \"health\", \"\", \"science_technology\", \"\", \"recreation\", \"sports\", \"health\", \"\", \"science_technology\", \"\", \"\", \"recreation\", \"recreation\", \"\", \"\", \"\", \"recreation\", \"\", \"arts_entertainment\", \"recreation\", \"\", \"business\", \"arts_entertainment\", \"\", \"health\", \"recreation\", \"recreation\", \"\", \"\", \"arts_entertainment\", \"business\", \"health\", \"culture_politics\", \"\", \"arts_entertainment\", \"arts_entertainment\", \"\", \"recreation\", \"business\", \"arts_entertainment\", \"\", \"culture_politics\", \"\", \"recreation\", \"\", \"recreation\", \"health\", \"\", \"arts_entertainment\", \"culture_politics\", \"\", \"recreation\", \"science_technology\", \"arts_entertainment\", \"science_technology\", \"recreation\", \"\", \"culture_politics\", \"health\", \"\", \"\", \"arts_entertainment\", \"computer_internet\", \"health\", \"business\", \"recreation\", \"recreation\", \"arts_entertainment\", \"\", \"\", \"\", \"recreation\", \"health\", \"\", \"recreation\", \"recreation\", \"\", \"recreation\", \"\", \"recreation\", \"business\", \"business\", \"\", \"\", \"\", \"health\", \"recreation\", \"arts_entertainment\", \"business\", \"\", \"business\", \"health\", \"\", \"computer_internet\", \"arts_entertainment\", \"gaming\", \"culture_politics\", \"science_technology\", \"\", \"\", \"culture_politics\", \"health\", \"arts_entertainment\", \"recreation\", \"sports\", \"\", \"business\", \"recreation\", \"recreation\", \"business\", \"\", \"science_technology\", \"science_technology\", \"health\", \"recreation\", \"recreation\", \"\", \"\", \"\", \"\", \"business\", \"\", \"\", \"\", \"recreation\", \"recreation\", \"business\", \"business\", \"\", \"\", \"business\", \"\", \"arts_entertainment\", \"recreation\", \"\", \"\", \"business\", \"recreation\", \"arts_entertainment\", \"recreation\", \"computer_internet\", \"recreation\", \"business\", \"culture_politics\", \"recreation\", \"recreation\", \"\", \"recreation\", \"\", \"recreation\", \"recreation\", \"\", \"business\", \"\", \"\", \"computer_internet\", \"health\", \"recreation\", \"business\", \"health\", \"religion\", \"recreation\", \"health\", \"\", \"culture_politics\", \"recreation\", \"\", \"\", \"\", \"sports\", \"\", \"arts_entertainment\", \"health\", \"business\", \"sports\", \"business\", \"science_technology\", \"\", \"business\", \"arts_entertainment\", \"recreation\", \"business\", \"\", \"computer_internet\", \"\", \"arts_entertainment\", \"\", \"\", \"sports\", \"\", \"arts_entertainment\", \"arts_entertainment\", \"business\", \"business\", \"\", \"culture_politics\", \"arts_entertainment\", \"\", \"recreation\", \"gaming\", \"\", \"computer_internet\", \"recreation\", \"\", \"\", \"\", \"culture_politics\", \"\", \"\", \"recreation\", \"\", \"recreation\", \"health\", \"recreation\", \"culture_politics\", \"recreation\", \"business\", \"\", \"\", \"recreation\", \"\", \"business\", \"business\", \"\", \"\", \"\", \"\", \"\", \"arts_entertainment\", \"business\", \"recreation\", \"arts_entertainment\", \"\", \"health\", \"arts_entertainment\", \"arts_entertainment\", \"sports\", \"\", \"\", \"science_technology\", \"\", \"\", \"science_technology\", \"\", \"culture_politics\", \"recreation\", \"business\", \"science_technology\", \"\", \"sports\", \"recreation\", \"\", \"recreation\", \"\", \"\", \"\", \"\", \"business\", \"arts_entertainment\", \"business\", \"arts_entertainment\", \"\", \"recreation\", \"culture_politics\", \"\", \"arts_entertainment\", \"\", \"arts_entertainment\", \"computer_internet\", \"computer_internet\", \"\", \"\", \"culture_politics\", \"recreation\", \"\", \"\", \"culture_politics\", \"business\", \"recreation\", \"\", \"\", \"\", \"recreation\", \"arts_entertainment\", \"\", \"\", \"recreation\", \"\", \"recreation\", \"\", \"sports\", \"\", \"recreation\", \"\", \"gaming\", \"\", \"recreation\", \"arts_entertainment\", \"recreation\", \"\", \"business\", \"recreation\", \"sports\", \"recreation\", \"\", \"\", \"arts_entertainment\", \"\", \"business\", \"culture_politics\", \"recreation\", \"arts_entertainment\", \"\", \"business\", \"recreation\", \"religion\", \"health\", \"sports\", \"\", \"recreation\", \"\", \"\", \"recreation\", \"recreation\", \"business\", \"recreation\", \"arts_entertainment\", \"business\", \"health\", \"recreation\", \"recreation\", \"business\", \"\", \"recreation\", \"law_crime\", \"recreation\", \"business\", \"\", \"arts_entertainment\", \"recreation\", \"business\", \"arts_entertainment\", \"business\", \"health\", \"culture_politics\", \"arts_entertainment\", \"recreation\", \"\", \"\", \"\", \"\", \"business\", \"recreation\", \"\", \"sports\", \"\", \"recreation\", \"gaming\", \"law_crime\", \"arts_entertainment\", \"\", \"\", \"business\", \"business\", \"sports\", \"recreation\", \"\", \"\", \"\", \"science_technology\", \"business\", \"culture_politics\", \"\", \"\", \"sports\", \"health\", \"recreation\", \"sports\", \"business\", \"arts_entertainment\", \"business\", \"health\", \"religion\", \"\", \"health\", \"sports\", \"\", \"culture_politics\", \"recreation\", \"recreation\", \"\", \"arts_entertainment\", \"gaming\", \"business\", \"arts_entertainment\", \"business\", \"recreation\", \"religion\", \"\", \"business\", \"\", \"sports\", \"science_technology\", \"recreation\", \"\", \"science_technology\", \"religion\", \"recreation\", \"\", \"business\", \"recreation\", \"business\", \"science_technology\", \"business\", \"\", \"\", \"\", \"arts_entertainment\", \"business\", \"arts_entertainment\", \"health\", \"recreation\", \"science_technology\", \"\", \"business\", \"\", \"\", \"computer_internet\", \"\", \"\", \"\", \"\", \"arts_entertainment\", \"culture_politics\", \"\", \"\", \"recreation\", \"arts_entertainment\", \"\", \"recreation\", \"recreation\", \"\", \"health\", \"\", \"recreation\", \"arts_entertainment\", \"\", \"\", \"\", \"\", \"recreation\", \"recreation\", \"recreation\", \"arts_entertainment\", \"\", \"business\", \"\", \"\", \"business\", \"\", \"sports\", \"recreation\", \"business\", \"business\", \"recreation\", \"business\", \"\", \"health\", \"health\", \"business\", \"computer_internet\", \"science_technology\", \"\", \"business\", \"\", \"arts_entertainment\", \"business\", \"computer_internet\", \"recreation\", \"\", \"recreation\", \"business\", \"\", \"\", \"\", \"\", \"religion\", \"recreation\", \"\", \"\", \"arts_entertainment\", \"\", \"health\", \"recreation\", \"business\", \"health\", \"\", \"business\", \"\", \"\", \"recreation\", \"business\", \"recreation\", \"business\", \"recreation\", \"\", \"\", \"health\", \"business\", \"arts_entertainment\", \"culture_politics\", \"culture_politics\", \"recreation\", \"health\", \"health\", \"\", \"\", \"\", \"\", \"recreation\", \"\", \"recreation\", \"business\", \"science_technology\", \"\", \"business\", \"computer_internet\", \"business\", \"recreation\", \"health\", \"\", \"health\", \"recreation\", \"health\", \"health\", \"\", \"\", \"business\", \"\", \"\", \"religion\", \"\", \"business\", \"business\", \"\", \"\", \"business\", \"recreation\", \"health\", \"recreation\", \"\", \"\", \"\", \"recreation\", \"religion\", \"culture_politics\", \"business\", \"business\", \"business\", \"business\", \"recreation\", \"recreation\", \"recreation\", \"\", \"business\", \"\", \"culture_politics\", \"recreation\", \"\", \"recreation\", \"recreation\", \"recreation\", \"health\", \"\", \"\", \"arts_entertainment\", \"recreation\", \"recreation\", \"recreation\", \"health\", \"computer_internet\", \"business\", \"culture_politics\", \"culture_politics\", \"computer_internet\", \"health\", \"\", \"\", \"recreation\", \"business\", \"business\", \"\", \"arts_entertainment\", \"\", \"arts_entertainment\", \"business\", \"\", \"recreation\", \"health\", \"\", \"\", \"\", \"recreation\", \"\", \"business\", \"\", \"\", \"arts_entertainment\", \"arts_entertainment\", \"business\", \"recreation\", \"science_technology\", \"business\", \"arts_entertainment\", \"\", \"\", \"\", \"recreation\", \"\", \"business\", \"recreation\", \"computer_internet\", \"recreation\", \"\", \"recreation\", \"\", \"\", \"\", \"\", \"science_technology\", \"\", \"gaming\", \"recreation\", \"\", \"recreation\", \"business\", \"recreation\", \"religion\", \"\", \"recreation\", \"sports\", \"recreation\", \"business\", \"science_technology\", \"\", \"sports\", \"culture_politics\", \"\", \"gaming\", \"culture_politics\", \"computer_internet\", \"\", \"business\", \"\", \"\", \"business\", \"\", \"recreation\", \"health\", \"arts_entertainment\", \"arts_entertainment\", \"recreation\", \"\", \"culture_politics\", \"culture_politics\", \"recreation\", \"recreation\", \"\", \"\", \"business\", \"\", \"law_crime\", \"business\", \"health\", \"\", \"\", \"arts_entertainment\", \"business\", \"\", \"arts_entertainment\", \"\", \"business\", \"recreation\", \"business\", \"\", \"arts_entertainment\", \"business\", \"health\", \"science_technology\", \"business\", \"health\", \"health\", \"business\", \"science_technology\", \"\", \"\", \"business\", \"health\", \"recreation\", \"\", \"computer_internet\", \"\", \"business\", \"business\", \"\", \"\", \"arts_entertainment\", \"\", \"\", \"\", \"\", \"\", \"\", \"arts_entertainment\", \"recreation\", \"arts_entertainment\", \"recreation\", \"business\", \"business\", \"sports\", \"recreation\", \"business\", \"health\", \"business\", \"health\", \"\", \"\", \"computer_internet\", \"business\", \"\", \"business\", \"arts_entertainment\", \"business\", \"recreation\", \"\", \"recreation\", \"business\", \"\", \"culture_politics\", \"arts_entertainment\", \"health\", \"health\", \"\", \"\", \"\", \"\", \"business\", \"business\", \"\", \"recreation\", \"arts_entertainment\", \"arts_entertainment\", \"arts_entertainment\", \"\", \"culture_politics\", \"\", \"arts_entertainment\", \"health\", \"recreation\", \"recreation\", \"recreation\", \"arts_entertainment\", \"recreation\", \"\", \"\", \"recreation\", \"business\", \"computer_internet\", \"\", \"recreation\", \"religion\", \"science_technology\", \"recreation\", \"religion\", \"health\", \"gaming\", \"\", \"health\", \"culture_politics\", \"business\", \"business\", \"recreation\", \"business\", \"recreation\", \"sports\", \"recreation\", \"recreation\", \"culture_politics\", \"recreation\", \"recreation\", \"\", \"\", \"\", \"arts_entertainment\", \"culture_politics\", \"\", \"\", \"\", \"business\", \"recreation\", \"\", \"business\", \"recreation\", \"business\", \"business\", \"science_technology\", \"health\", \"\", \"recreation\", \"recreation\", \"\", \"recreation\", \"\", \"\", \"business\", \"arts_entertainment\", \"sports\", \"health\", \"recreation\", \"recreation\", \"science_technology\", \"science_technology\", \"recreation\", \"recreation\", \"\", \"\", \"recreation\", \"business\", \"business\", \"recreation\", \"business\", \"recreation\", \"\", \"recreation\", \"health\", \"\", \"business\", \"recreation\", \"\", \"arts_entertainment\", \"business\", \"\", \"\", \"recreation\", \"\", \"\", \"science_technology\", \"health\", \"recreation\", \"recreation\", \"recreation\", \"arts_entertainment\", \"business\", \"recreation\", \"arts_entertainment\", \"recreation\", \"recreation\", \"business\", \"\", \"business\", \"science_technology\", \"sports\", \"\", \"health\", \"business\", \"recreation\", \"business\", \"\", \"business\", \"recreation\", \"recreation\", \"\", \"business\", \"recreation\", \"recreation\", \"culture_politics\", \"arts_entertainment\", \"arts_entertainment\", \"\", \"health\", \"business\", \"recreation\", \"science_technology\", \"recreation\", \"recreation\", \"recreation\", \"business\", \"recreation\", \"recreation\", \"business\", \"business\", \"\", \"arts_entertainment\", \"recreation\", \"recreation\", \"arts_entertainment\", \"business\", \"\", \"\", \"business\", \"business\", \"recreation\", \"recreation\", \"\", \"\", \"business\", \"recreation\", \"recreation\", \"recreation\", \"arts_entertainment\", \"computer_internet\", \"\", \"\", \"recreation\", \"arts_entertainment\", \"recreation\", \"\", \"health\", \"\", \"\", \"\", \"recreation\", \"\", \"recreation\", \"culture_politics\", \"recreation\", \"recreation\", \"business\", \"recreation\", \"\", \"\", \"business\", \"recreation\", \"\", \"\", \"\", \"culture_politics\", \"\", \"\", \"recreation\", \"arts_entertainment\", \"\", \"\", \"arts_entertainment\", \"arts_entertainment\", \"culture_politics\", \"\", \"business\", \"recreation\", \"gaming\", \"business\", \"recreation\", \"recreation\", \"recreation\", \"recreation\", \"business\", \"\", \"business\", \"business\", \"business\", \"recreation\", \"science_technology\", \"gaming\", \"\", \"\", \"\", \"\", \"\", \"business\", \"arts_entertainment\", \"\", \"\", \"recreation\", \"health\", \"health\", \"arts_entertainment\", \"business\", \"computer_internet\", \"\", \"\", \"\", \"recreation\", \"recreation\", \"\", \"recreation\", \"recreation\", \"arts_entertainment\", \"computer_internet\", \"arts_entertainment\", \"\", \"computer_internet\", \"\", \"arts_entertainment\", \"\", \"health\", \"recreation\", \"science_technology\", \"gaming\", \"health\", \"gaming\", \"sports\", \"science_technology\", \"arts_entertainment\", \"business\", \"culture_politics\", \"\", \"\", \"\", \"arts_entertainment\", \"\", \"business\", \"\", \"arts_entertainment\", \"recreation\", \"culture_politics\", \"recreation\", \"business\", \"arts_entertainment\", \"recreation\", \"business\", \"\", \"recreation\", \"health\", \"\", \"business\", \"recreation\", \"recreation\", \"recreation\", \"computer_internet\", \"arts_entertainment\", \"\", \"business\", \"health\", \"culture_politics\", \"business\", \"\", \"recreation\", \"recreation\", \"\", \"\", \"arts_entertainment\", \"business\", \"business\", \"recreation\", \"\", \"recreation\", \"recreation\", \"sports\", \"\", \"\", \"recreation\", \"health\", \"\", \"\", \"recreation\", \"arts_entertainment\", \"\", \"\", \"\", \"\", \"arts_entertainment\", \"business\", \"\", \"\", \"recreation\", \"recreation\", \"recreation\", \"business\", \"arts_entertainment\", \"\", \"recreation\", \"recreation\", \"business\", \"\", \"recreation\", \"recreation\", \"computer_internet\", \"\", \"recreation\", \"recreation\", \"culture_politics\", \"recreation\", \"arts_entertainment\", \"business\", \"business\", \"\", \"recreation\", \"\", \"culture_politics\", \"business\", \"recreation\", \"\", \"\", \"recreation\", \"religion\", \"health\", \"sports\", \"recreation\", \"arts_entertainment\", \"recreation\", \"recreation\", \"business\", \"sports\", \"computer_internet\", \"business\", \"arts_entertainment\", \"culture_politics\", \"recreation\", \"recreation\", \"culture_politics\", \"\", \"business\", \"business\", \"gaming\", \"computer_internet\", \"business\", \"recreation\", \"\", \"\", \"recreation\", \"business\", \"business\", \"sports\", \"recreation\", \"arts_entertainment\", \"arts_entertainment\", \"culture_politics\", \"recreation\", \"\", \"recreation\", \"health\", \"recreation\", \"\", \"arts_entertainment\", \"\", \"recreation\", \"science_technology\", \"gaming\", \"health\", \"business\", \"\", \"recreation\", \"science_technology\", \"business\", \"recreation\", \"health\", \"science_technology\", \"business\", \"\", \"business\", \"business\", \"recreation\", \"business\", \"science_technology\", \"\", \"health\", \"\", \"recreation\", \"recreation\", \"\", \"\", \"recreation\", \"\", \"recreation\", \"\", \"recreation\", \"recreation\", \"recreation\", \"health\", \"\", \"\", \"health\", \"computer_internet\", \"business\", \"\", \"arts_entertainment\", \"culture_politics\", \"recreation\", \"health\", \"\", \"science_technology\", \"\", \"recreation\", \"\", \"\", \"\", \"arts_entertainment\", \"arts_entertainment\", \"arts_entertainment\", \"\", \"recreation\", \"\", \"health\", \"recreation\", \"recreation\", \"\", \"\", \"business\", \"recreation\", \"\", \"arts_entertainment\", \"business\", \"recreation\", \"recreation\", \"business\", \"science_technology\", \"recreation\", \"culture_politics\", \"gaming\", \"health\", \"\", \"\", \"recreation\", \"\", \"business\", \"\", \"\", \"business\", \"arts_entertainment\", \"business\", \"computer_internet\", \"recreation\", \"business\", \"business\", \"\", \"business\", \"\", \"sports\", \"\", \"recreation\", \"recreation\", \"business\", \"health\", \"health\", \"\", \"business\", \"culture_politics\", \"business\", \"recreation\", \"\", \"recreation\", \"arts_entertainment\", \"recreation\", \"\", \"\", \"business\", \"computer_internet\", \"sports\", \"business\", \"recreation\", \"science_technology\", \"\", \"business\", \"\", \"\", \"recreation\", \"\", \"\", \"business\", \"arts_entertainment\", \"\", \"recreation\", \"recreation\", \"business\", \"gaming\", \"arts_entertainment\", \"recreation\", \"\", \"\", \"health\", \"\", \"business\", \"science_technology\", \"recreation\", \"\", \"culture_politics\", \"health\", \"recreation\", \"arts_entertainment\", \"health\", \"recreation\", \"\", \"business\", \"\", \"\", \"recreation\", \"health\", \"\", \"business\", \"arts_entertainment\", \"arts_entertainment\", \"business\", \"business\", \"health\", \"arts_entertainment\", \"\", \"health\", \"\", \"\", \"arts_entertainment\", \"\", \"recreation\", \"culture_politics\", \"\", \"business\", \"\", \"culture_politics\", \"recreation\", \"\", \"\", \"\", \"arts_entertainment\", \"business\", \"business\", \"business\", \"\", \"business\", \"recreation\", \"business\", \"science_technology\", \"\", \"recreation\", \"culture_politics\", \"arts_entertainment\", \"arts_entertainment\", \"recreation\", \"\", \"\", \"\", \"\", \"business\", \"recreation\", \"\", \"health\", \"arts_entertainment\", \"\", \"health\", \"\", \"\", \"science_technology\", \"recreation\", \"arts_entertainment\", \"\", \"\", \"\", \"recreation\", \"health\", \"health\", \"business\", \"arts_entertainment\", \"business\", \"business\", \"business\", \"arts_entertainment\", \"recreation\", \"business\", \"business\", \"health\", \"recreation\", \"recreation\", \"\", \"business\", \"\", \"arts_entertainment\", \"arts_entertainment\", \"recreation\", \"\", \"\", \"\", \"business\", \"\", \"\", \"computer_internet\", \"\", \"\", \"\", \"business\", \"science_technology\", \"arts_entertainment\", \"culture_politics\", \"business\", \"\", \"computer_internet\", \"\", \"\", \"arts_entertainment\", \"health\", \"\", \"business\", \"recreation\", \"\", \"business\", \"\", \"\", \"recreation\", \"\", \"\", \"health\", \"recreation\", \"\", \"recreation\", \"\", \"recreation\", \"business\", \"recreation\", \"business\", \"recreation\", \"\", \"recreation\", \"\", \"recreation\", \"sports\", \"\", \"health\", \"recreation\", \"business\", \"business\", \"sports\", \"health\", \"\", \"business\", \"business\", \"recreation\", \"health\", \"arts_entertainment\", \"computer_internet\", \"business\", \"business\", \"\", \"sports\", \"business\", \"arts_entertainment\", \"science_technology\", \"recreation\", \"recreation\", \"\", \"religion\", \"health\", \"business\", \"recreation\", \"\", \"health\", \"culture_politics\", \"\", \"computer_internet\", \"health\", \"\", \"recreation\", \"\", \"business\", \"\", \"arts_entertainment\", \"recreation\", \"\", \"\", \"recreation\", \"business\", \"culture_politics\", \"recreation\", \"arts_entertainment\", \"recreation\", \"\", \"business\", \"health\", \"arts_entertainment\", \"business\", \"gaming\", \"\", \"\", \"business\", \"business\", \"business\", \"recreation\", \"\", \"\", \"recreation\", \"science_technology\", \"recreation\", \"\", \"recreation\", \"sports\", \"\", \"arts_entertainment\", \"arts_entertainment\", \"business\", \"\", \"recreation\", \"business\", \"recreation\", \"recreation\", \"\", \"recreation\", \"health\", \"arts_entertainment\", \"computer_internet\", \"business\", \"law_crime\", \"\", \"\", \"recreation\", \"recreation\", \"\", \"health\", \"\", \"recreation\", \"arts_entertainment\", \"recreation\", \"health\", \"recreation\", \"\", \"\", \"recreation\", \"\", \"arts_entertainment\", \"culture_politics\", \"recreation\", \"science_technology\", \"\", \"health\", \"\", \"\", \"\", \"science_technology\", \"business\", \"\", \"business\", \"recreation\", \"\", \"\", \"recreation\", \"health\", \"\", \"recreation\", \"culture_politics\", \"business\", \"recreation\", \"recreation\", \"recreation\", \"\", \"culture_politics\", \"\", \"recreation\", \"business\", \"science_technology\", \"health\", \"health\", \"culture_politics\", \"arts_entertainment\", \"business\", \"recreation\", \"recreation\", \"\", \"\", \"\", \"\", \"sports\", \"gaming\", \"recreation\", \"recreation\", \"computer_internet\", \"business\", \"health\", \"recreation\", \"business\", \"health\", \"recreation\", \"\", \"business\", \"science_technology\", \"health\", \"recreation\", \"\", \"recreation\", \"\", \"\", \"\", \"religion\", \"\", \"\", \"science_technology\", \"science_technology\", \"recreation\", \"business\", \"recreation\", \"business\", \"business\", \"recreation\", \"\", \"culture_politics\", \"\", \"business\", \"\", \"business\", \"\", \"business\", \"culture_politics\", \"science_technology\", \"recreation\", \"arts_entertainment\", \"\", \"arts_entertainment\", \"recreation\", \"religion\", \"law_crime\", \"recreation\", \"culture_politics\", \"recreation\", \"recreation\", \"culture_politics\", \"health\", \"\", \"business\", \"\", \"business\", \"religion\", \"health\", \"\", \"\", \"\", \"recreation\", \"\", \"recreation\", \"\", \"business\", \"culture_politics\", \"business\", \"business\", \"arts_entertainment\", \"science_technology\", \"science_technology\", \"recreation\", \"\", \"business\", \"business\", \"culture_politics\", \"arts_entertainment\", \"\", \"\", \"business\", \"\", \"\", \"recreation\", \"business\", \"\", \"\", \"business\", \"\", \"culture_politics\", \"\", \"arts_entertainment\", \"health\", \"\", \"\", \"\", \"arts_entertainment\", \"health\", \"\", \"\", \"recreation\", \"health\", \"business\", \"recreation\", \"computer_internet\", \"recreation\", \"\", \"business\", \"recreation\", \"business\", \"sports\", \"\", \"recreation\", \"arts_entertainment\", \"recreation\", \"business\", \"health\", \"\", \"business\", \"recreation\", \"arts_entertainment\", \"\", \"health\", \"\", \"health\", \"\", \"recreation\", \"business\", \"\", \"recreation\", \"\", \"business\", \"health\", \"recreation\", \"recreation\", \"recreation\", \"business\", \"arts_entertainment\", \"health\", \"sports\", \"health\", \"business\", \"business\", \"health\", \"business\", \"recreation\", \"\", \"recreation\", \"business\", \"recreation\", \"law_crime\", \"culture_politics\", \"business\", \"recreation\", \"recreation\", \"recreation\", \"gaming\", \"business\", \"business\", \"\", \"business\", \"business\", \"\", \"recreation\", \"arts_entertainment\", \"recreation\", \"computer_internet\", \"\", \"business\", \"health\", \"arts_entertainment\", \"\", \"recreation\", \"\", \"business\", \"\", \"health\", \"arts_entertainment\", \"\", \"\", \"\", \"health\", \"recreation\", \"\", \"recreation\", \"arts_entertainment\", \"business\", \"\", \"\", \"\", \"health\", \"business\", \"recreation\", \"sports\", \"arts_entertainment\", \"business\", \"recreation\", \"recreation\", \"business\", \"business\", \"\", \"health\", \"recreation\", \"computer_internet\", \"business\", \"\", \"business\", \"recreation\", \"business\", \"recreation\", \"business\", \"arts_entertainment\", \"science_technology\", \"\", \"arts_entertainment\", \"\", \"\", \"business\", \"\", \"business\", \"recreation\", \"business\", \"business\", \"business\", \"health\", \"business\", \"\", \"recreation\", \"recreation\", \"culture_politics\", \"business\", \"arts_entertainment\", \"recreation\", \"business\", \"health\", \"science_technology\", \"arts_entertainment\", \"recreation\", \"arts_entertainment\", \"\", \"\", \"business\", \"arts_entertainment\", \"recreation\", \"recreation\", \"\", \"recreation\", \"business\", \"culture_politics\", \"health\", \"business\", \"\", \"recreation\", \"recreation\", \"sports\", \"computer_internet\", \"sports\", \"science_technology\", \"\", \"\", \"recreation\", \"business\", \"health\", \"business\", \"computer_internet\", \"\", \"\", \"arts_entertainment\", \"\", \"arts_entertainment\", \"\", \"business\", \"culture_politics\", \"\", \"science_technology\", \"science_technology\", \"\", \"\", \"sports\", \"recreation\", \"recreation\", \"science_technology\", \"business\", \"recreation\", \"health\", \"culture_politics\", \"\", \"\", \"\", \"\", \"recreation\", \"recreation\", \"science_technology\", \"\", \"recreation\", \"science_technology\", \"\", \"business\", \"recreation\", \"arts_entertainment\", \"\", \"health\", \"business\", \"\", \"recreation\", \"arts_entertainment\", \"arts_entertainment\", \"health\", \"\", \"recreation\", \"health\", \"\", \"\", \"recreation\", \"arts_entertainment\", \"recreation\", \"\", \"\", \"\", \"business\", \"\", \"\", \"\", \"business\", \"arts_entertainment\", \"recreation\", \"arts_entertainment\", \"\", \"health\", \"business\", \"recreation\", \"\", \"recreation\", \"business\", \"\", \"\", \"arts_entertainment\", \"business\", \"\", \"\", \"\", \"business\", \"\", \"\", \"health\", \"health\", \"\", \"health\", \"health\", \"\", \"\", \"arts_entertainment\", \"recreation\", \"recreation\", \"\", \"recreation\", \"\", \"business\", \"computer_internet\", \"health\", \"\", \"\", \"recreation\", \"recreation\", \"recreation\", \"recreation\", \"\", \"arts_entertainment\", \"business\", \"business\", \"sports\", \"\", \"business\", \"\", \"\", \"science_technology\", \"\", \"business\", \"recreation\", \"\", \"\", \"recreation\", \"\", \"business\", \"health\", \"business\", \"recreation\", \"recreation\", \"business\", \"\", \"\", \"recreation\", \"\", \"\", \"arts_entertainment\", \"business\", \"culture_politics\", \"business\", \"arts_entertainment\", \"culture_politics\", \"\", \"\", \"arts_entertainment\", \"\", \"\", \"\", \"health\", \"arts_entertainment\", \"recreation\", \"recreation\", \"science_technology\", \"culture_politics\", \"arts_entertainment\", \"recreation\", \"recreation\", \"recreation\", \"\", \"\", \"\", \"\", \"culture_politics\", \"culture_politics\", \"recreation\", \"recreation\", \"recreation\", \"\", \"\", \"arts_entertainment\", \"\", \"\", \"business\", \"recreation\", \"\", \"\", \"\", \"\", \"\", \"business\", \"\", \"recreation\", \"health\", \"\", \"\", \"recreation\", \"recreation\", \"\", \"business\", \"sports\", \"\", \"\", \"health\", \"recreation\", \"recreation\", \"\", \"\", \"arts_entertainment\", \"health\", \"\", \"\", \"science_technology\", \"sports\", \"\", \"\", \"culture_politics\", \"business\", \"culture_politics\", \"culture_politics\", \"health\", \"recreation\", \"\", \"health\", \"recreation\", \"\", \"science_technology\", \"law_crime\", \"recreation\", \"recreation\", \"arts_entertainment\", \"recreation\", \"\", \"culture_politics\", \"health\", \"recreation\", \"\", \"business\", \"business\", \"\", \"culture_politics\", \"health\", \"arts_entertainment\", \"recreation\", \"\", \"sports\", \"\", \"\", \"business\", \"recreation\", \"health\", \"\", \"recreation\", \"recreation\", \"arts_entertainment\", \"recreation\", \"business\", \"business\", \"computer_internet\", \"\", \"culture_politics\", \"computer_internet\", \"health\", \"business\", \"computer_internet\", \"science_technology\", \"\", \"\", \"\", \"health\", \"arts_entertainment\", \"arts_entertainment\", \"business\", \"\", \"\", \"\", \"arts_entertainment\", \"recreation\", \"recreation\", \"\", \"health\", \"recreation\", \"sports\", \"\", \"culture_politics\", \"recreation\", \"arts_entertainment\", \"recreation\", \"\", \"\", \"recreation\", \"arts_entertainment\", \"business\", \"\", \"recreation\", \"\", \"recreation\", \"sports\", \"recreation\", \"business\", \"\", \"\", \"business\", \"recreation\", \"health\", \"arts_entertainment\", \"recreation\", \"business\", \"law_crime\", \"business\", \"\", \"arts_entertainment\", \"computer_internet\", \"\", \"business\", \"recreation\", \"\", \"\", \"\", \"business\", \"business\", \"science_technology\", \"science_technology\", \"health\", \"\", \"business\", \"recreation\", \"business\", \"sports\", \"\", \"health\", \"science_technology\", \"health\", \"\", \"recreation\", \"\", \"\", \"science_technology\", \"\", \"arts_entertainment\", \"arts_entertainment\", \"arts_entertainment\", \"computer_internet\", \"culture_politics\", \"gaming\", \"business\", \"recreation\", \"arts_entertainment\", \"recreation\", \"recreation\", \"arts_entertainment\", \"recreation\", \"health\", \"arts_entertainment\", \"recreation\", \"recreation\", \"\", \"recreation\", \"recreation\", \"\", \"\", \"arts_entertainment\", \"\", \"business\", \"\", \"sports\", \"culture_politics\", \"recreation\", \"science_technology\", \"arts_entertainment\", \"recreation\", \"recreation\", \"culture_politics\", \"arts_entertainment\", \"recreation\", \"business\", \"\", \"\", \"science_technology\", \"recreation\", \"arts_entertainment\", \"recreation\", \"recreation\", \"\", \"business\", \"recreation\", \"\", \"arts_entertainment\", \"health\", \"recreation\", \"culture_politics\", \"arts_entertainment\", \"computer_internet\", \"\", \"recreation\", \"business\", \"science_technology\", \"\", \"business\", \"business\", \"\", \"business\", \"health\", \"\", \"\", \"\", \"recreation\", \"health\", \"\", \"\", \"health\", \"health\", \"\", \"recreation\", \"business\", \"recreation\", \"business\", \"recreation\", \"culture_politics\", \"sports\", \"\", \"\", \"science_technology\", \"recreation\", \"\", \"recreation\", \"recreation\", \"recreation\", \"recreation\", \"recreation\", \"business\", \"\", \"business\", \"health\", \"business\", \"religion\", \"business\", \"arts_entertainment\", \"\", \"culture_politics\", \"recreation\", \"arts_entertainment\", \"health\", \"business\", \"health\", \"\", \"arts_entertainment\", \"\", \"recreation\", \"business\", \"\", \"business\", \"arts_entertainment\", \"\", \"recreation\", \"recreation\", \"\", \"recreation\", \"health\", \"\", \"health\", \"business\", \"religion\", \"business\", \"\", \"\", \"arts_entertainment\", \"business\", \"recreation\", \"health\", \"business\", \"culture_politics\", \"business\", \"health\", \"arts_entertainment\", \"\", \"recreation\", \"recreation\", \"\", \"\", \"\", \"\", \"recreation\", \"recreation\", \"business\", \"\", \"health\", \"\", \"business\", \"recreation\", \"health\", \"\", \"unknown\", \"\", \"computer_internet\", \"science_technology\", \"\", \"science_technology\", \"culture_politics\", \"culture_politics\", \"culture_politics\", \"\", \"business\", \"arts_entertainment\", \"\", \"arts_entertainment\", \"culture_politics\", \"business\", \"\", \"arts_entertainment\", \"business\", \"\", \"business\", \"\", \"business\", \"recreation\", \"business\", \"recreation\", \"arts_entertainment\", \"recreation\", \"recreation\", \"recreation\", \"business\", \"health\", \"recreation\", \"business\", \"business\", \"health\", \"business\", \"arts_entertainment\", \"\", \"computer_internet\", \"culture_politics\", \"recreation\", \"\", \"business\", \"\", \"recreation\", \"culture_politics\", \"\", \"\", \"culture_politics\", \"business\", \"\", \"science_technology\", \"computer_internet\", \"\", \"recreation\", \"health\", \"\", \"recreation\", \"\", \"arts_entertainment\", \"gaming\", \"sports\", \"recreation\", \"\", \"health\", \"\", \"\", \"recreation\", \"recreation\", \"business\", \"science_technology\", \"business\", \"\", \"\", \"business\", \"recreation\", \"recreation\", \"science_technology\", \"business\", \"recreation\", \"recreation\", \"\", \"business\", \"recreation\", \"arts_entertainment\", \"\", \"recreation\", \"\", \"recreation\", \"health\", \"business\", \"business\", \"\", \"health\", \"\", \"business\", \"\", \"\", \"business\", \"recreation\", \"religion\", \"recreation\", \"recreation\", \"recreation\", \"business\", \"computer_internet\", \"\", \"recreation\", \"business\", \"science_technology\", \"\", \"recreation\", \"\", \"\", \"health\", \"recreation\", \"recreation\", \"\", \"computer_internet\", \"recreation\", \"recreation\", \"\", \"culture_politics\", \"recreation\", \"\", \"\", \"health\", \"\", \"business\", \"recreation\", \"arts_entertainment\", \"\", \"health\", \"\", \"health\", \"\", \"\", \"\", \"recreation\", \"science_technology\", \"recreation\", \"business\", \"business\", \"\", \"\", \"arts_entertainment\", \"recreation\", \"\", \"business\", \"culture_politics\", \"culture_politics\", \"health\", \"recreation\", \"\", \"business\", \"\", \"\", \"culture_politics\", \"religion\", \"business\", \"culture_politics\", \"business\", \"business\", \"recreation\", \"\", \"recreation\", \"health\", \"business\", \"business\", \"sports\", \"business\", \"arts_entertainment\", \"recreation\", \"\", \"health\", \"recreation\", \"culture_politics\", \"health\", \"sports\", \"\", \"computer_internet\", \"science_technology\", \"recreation\", \"religion\", \"business\", \"health\", \"religion\", \"\", \"\", \"\", \"\", \"\", \"\", \"culture_politics\", \"recreation\", \"recreation\", \"arts_entertainment\", \"recreation\", \"recreation\", \"\", \"culture_politics\", \"arts_entertainment\", \"recreation\", \"arts_entertainment\"], \"xaxis\": \"x\", \"yaxis\": \"y\"}],\n",
              "                        {\"barmode\": \"group\", \"legend\": {\"tracegroupgap\": 0}, \"margin\": {\"t\": 60}, \"template\": {\"data\": {\"bar\": [{\"error_x\": {\"color\": \"#2a3f5f\"}, \"error_y\": {\"color\": \"#2a3f5f\"}, \"marker\": {\"line\": {\"color\": \"#E5ECF6\", \"width\": 0.5}}, \"type\": \"bar\"}], \"barpolar\": [{\"marker\": {\"line\": {\"color\": \"#E5ECF6\", \"width\": 0.5}}, \"type\": \"barpolar\"}], \"carpet\": [{\"aaxis\": {\"endlinecolor\": \"#2a3f5f\", \"gridcolor\": \"white\", \"linecolor\": \"white\", \"minorgridcolor\": \"white\", \"startlinecolor\": \"#2a3f5f\"}, \"baxis\": {\"endlinecolor\": \"#2a3f5f\", \"gridcolor\": \"white\", \"linecolor\": \"white\", \"minorgridcolor\": \"white\", \"startlinecolor\": \"#2a3f5f\"}, \"type\": \"carpet\"}], \"choropleth\": [{\"colorbar\": {\"outlinewidth\": 0, \"ticks\": \"\"}, \"type\": \"choropleth\"}], \"contour\": [{\"colorbar\": {\"outlinewidth\": 0, \"ticks\": \"\"}, \"colorscale\": [[0.0, \"#0d0887\"], [0.1111111111111111, \"#46039f\"], [0.2222222222222222, \"#7201a8\"], [0.3333333333333333, \"#9c179e\"], [0.4444444444444444, \"#bd3786\"], [0.5555555555555556, \"#d8576b\"], [0.6666666666666666, \"#ed7953\"], [0.7777777777777778, \"#fb9f3a\"], [0.8888888888888888, \"#fdca26\"], [1.0, \"#f0f921\"]], \"type\": \"contour\"}], \"contourcarpet\": [{\"colorbar\": {\"outlinewidth\": 0, \"ticks\": \"\"}, \"type\": \"contourcarpet\"}], \"heatmap\": [{\"colorbar\": {\"outlinewidth\": 0, \"ticks\": \"\"}, \"colorscale\": [[0.0, \"#0d0887\"], [0.1111111111111111, \"#46039f\"], [0.2222222222222222, \"#7201a8\"], [0.3333333333333333, \"#9c179e\"], [0.4444444444444444, \"#bd3786\"], [0.5555555555555556, \"#d8576b\"], [0.6666666666666666, \"#ed7953\"], [0.7777777777777778, \"#fb9f3a\"], [0.8888888888888888, \"#fdca26\"], [1.0, \"#f0f921\"]], \"type\": \"heatmap\"}], \"heatmapgl\": [{\"colorbar\": {\"outlinewidth\": 0, \"ticks\": \"\"}, \"colorscale\": [[0.0, \"#0d0887\"], [0.1111111111111111, \"#46039f\"], [0.2222222222222222, \"#7201a8\"], [0.3333333333333333, \"#9c179e\"], [0.4444444444444444, \"#bd3786\"], [0.5555555555555556, \"#d8576b\"], [0.6666666666666666, \"#ed7953\"], [0.7777777777777778, \"#fb9f3a\"], [0.8888888888888888, \"#fdca26\"], [1.0, \"#f0f921\"]], \"type\": \"heatmapgl\"}], \"histogram\": [{\"marker\": {\"colorbar\": {\"outlinewidth\": 0, \"ticks\": \"\"}}, \"type\": \"histogram\"}], \"histogram2d\": [{\"colorbar\": {\"outlinewidth\": 0, \"ticks\": \"\"}, \"colorscale\": [[0.0, \"#0d0887\"], [0.1111111111111111, \"#46039f\"], [0.2222222222222222, \"#7201a8\"], [0.3333333333333333, \"#9c179e\"], [0.4444444444444444, \"#bd3786\"], [0.5555555555555556, \"#d8576b\"], [0.6666666666666666, \"#ed7953\"], [0.7777777777777778, \"#fb9f3a\"], [0.8888888888888888, \"#fdca26\"], [1.0, \"#f0f921\"]], \"type\": \"histogram2d\"}], \"histogram2dcontour\": [{\"colorbar\": {\"outlinewidth\": 0, \"ticks\": \"\"}, \"colorscale\": [[0.0, \"#0d0887\"], [0.1111111111111111, \"#46039f\"], [0.2222222222222222, \"#7201a8\"], [0.3333333333333333, \"#9c179e\"], [0.4444444444444444, \"#bd3786\"], [0.5555555555555556, \"#d8576b\"], [0.6666666666666666, \"#ed7953\"], [0.7777777777777778, \"#fb9f3a\"], [0.8888888888888888, \"#fdca26\"], [1.0, \"#f0f921\"]], \"type\": \"histogram2dcontour\"}], \"mesh3d\": [{\"colorbar\": {\"outlinewidth\": 0, \"ticks\": \"\"}, \"type\": \"mesh3d\"}], \"parcoords\": [{\"line\": {\"colorbar\": {\"outlinewidth\": 0, \"ticks\": \"\"}}, \"type\": \"parcoords\"}], \"pie\": [{\"automargin\": true, \"type\": \"pie\"}], \"scatter\": [{\"marker\": {\"colorbar\": {\"outlinewidth\": 0, \"ticks\": \"\"}}, \"type\": \"scatter\"}], \"scatter3d\": [{\"line\": {\"colorbar\": {\"outlinewidth\": 0, \"ticks\": \"\"}}, \"marker\": {\"colorbar\": {\"outlinewidth\": 0, \"ticks\": \"\"}}, \"type\": \"scatter3d\"}], \"scattercarpet\": [{\"marker\": {\"colorbar\": {\"outlinewidth\": 0, \"ticks\": \"\"}}, \"type\": \"scattercarpet\"}], \"scattergeo\": [{\"marker\": {\"colorbar\": {\"outlinewidth\": 0, \"ticks\": \"\"}}, \"type\": \"scattergeo\"}], \"scattergl\": [{\"marker\": {\"colorbar\": {\"outlinewidth\": 0, \"ticks\": \"\"}}, \"type\": \"scattergl\"}], \"scattermapbox\": [{\"marker\": {\"colorbar\": {\"outlinewidth\": 0, \"ticks\": \"\"}}, \"type\": \"scattermapbox\"}], \"scatterpolar\": [{\"marker\": {\"colorbar\": {\"outlinewidth\": 0, \"ticks\": \"\"}}, \"type\": \"scatterpolar\"}], \"scatterpolargl\": [{\"marker\": {\"colorbar\": {\"outlinewidth\": 0, \"ticks\": \"\"}}, \"type\": \"scatterpolargl\"}], \"scatterternary\": [{\"marker\": {\"colorbar\": {\"outlinewidth\": 0, \"ticks\": \"\"}}, \"type\": \"scatterternary\"}], \"surface\": [{\"colorbar\": {\"outlinewidth\": 0, \"ticks\": \"\"}, \"colorscale\": [[0.0, \"#0d0887\"], [0.1111111111111111, \"#46039f\"], [0.2222222222222222, \"#7201a8\"], [0.3333333333333333, \"#9c179e\"], [0.4444444444444444, \"#bd3786\"], [0.5555555555555556, \"#d8576b\"], [0.6666666666666666, \"#ed7953\"], [0.7777777777777778, \"#fb9f3a\"], [0.8888888888888888, \"#fdca26\"], [1.0, \"#f0f921\"]], \"type\": \"surface\"}], \"table\": [{\"cells\": {\"fill\": {\"color\": \"#EBF0F8\"}, \"line\": {\"color\": \"white\"}}, \"header\": {\"fill\": {\"color\": \"#C8D4E3\"}, \"line\": {\"color\": \"white\"}}, \"type\": \"table\"}]}, \"layout\": {\"annotationdefaults\": {\"arrowcolor\": \"#2a3f5f\", \"arrowhead\": 0, \"arrowwidth\": 1}, \"coloraxis\": {\"colorbar\": {\"outlinewidth\": 0, \"ticks\": \"\"}}, \"colorscale\": {\"diverging\": [[0, \"#8e0152\"], [0.1, \"#c51b7d\"], [0.2, \"#de77ae\"], [0.3, \"#f1b6da\"], [0.4, \"#fde0ef\"], [0.5, \"#f7f7f7\"], [0.6, \"#e6f5d0\"], [0.7, \"#b8e186\"], [0.8, \"#7fbc41\"], [0.9, \"#4d9221\"], [1, \"#276419\"]], \"sequential\": [[0.0, \"#0d0887\"], [0.1111111111111111, \"#46039f\"], [0.2222222222222222, \"#7201a8\"], [0.3333333333333333, \"#9c179e\"], [0.4444444444444444, \"#bd3786\"], [0.5555555555555556, \"#d8576b\"], [0.6666666666666666, \"#ed7953\"], [0.7777777777777778, \"#fb9f3a\"], [0.8888888888888888, \"#fdca26\"], [1.0, \"#f0f921\"]], \"sequentialminus\": [[0.0, \"#0d0887\"], [0.1111111111111111, \"#46039f\"], [0.2222222222222222, \"#7201a8\"], [0.3333333333333333, \"#9c179e\"], [0.4444444444444444, \"#bd3786\"], [0.5555555555555556, \"#d8576b\"], [0.6666666666666666, \"#ed7953\"], [0.7777777777777778, \"#fb9f3a\"], [0.8888888888888888, \"#fdca26\"], [1.0, \"#f0f921\"]]}, \"colorway\": [\"#636efa\", \"#EF553B\", \"#00cc96\", \"#ab63fa\", \"#FFA15A\", \"#19d3f3\", \"#FF6692\", \"#B6E880\", \"#FF97FF\", \"#FECB52\"], \"font\": {\"color\": \"#2a3f5f\"}, \"geo\": {\"bgcolor\": \"white\", \"lakecolor\": \"white\", \"landcolor\": \"#E5ECF6\", \"showlakes\": true, \"showland\": true, \"subunitcolor\": \"white\"}, \"hoverlabel\": {\"align\": \"left\"}, \"hovermode\": \"closest\", \"mapbox\": {\"style\": \"light\"}, \"paper_bgcolor\": \"white\", \"plot_bgcolor\": \"#E5ECF6\", \"polar\": {\"angularaxis\": {\"gridcolor\": \"white\", \"linecolor\": \"white\", \"ticks\": \"\"}, \"bgcolor\": \"#E5ECF6\", \"radialaxis\": {\"gridcolor\": \"white\", \"linecolor\": \"white\", \"ticks\": \"\"}}, \"scene\": {\"xaxis\": {\"backgroundcolor\": \"#E5ECF6\", \"gridcolor\": \"white\", \"gridwidth\": 2, \"linecolor\": \"white\", \"showbackground\": true, \"ticks\": \"\", \"zerolinecolor\": \"white\"}, \"yaxis\": {\"backgroundcolor\": \"#E5ECF6\", \"gridcolor\": \"white\", \"gridwidth\": 2, \"linecolor\": \"white\", \"showbackground\": true, \"ticks\": \"\", \"zerolinecolor\": \"white\"}, \"zaxis\": {\"backgroundcolor\": \"#E5ECF6\", \"gridcolor\": \"white\", \"gridwidth\": 2, \"linecolor\": \"white\", \"showbackground\": true, \"ticks\": \"\", \"zerolinecolor\": \"white\"}}, \"shapedefaults\": {\"line\": {\"color\": \"#2a3f5f\"}}, \"ternary\": {\"aaxis\": {\"gridcolor\": \"white\", \"linecolor\": \"white\", \"ticks\": \"\"}, \"baxis\": {\"gridcolor\": \"white\", \"linecolor\": \"white\", \"ticks\": \"\"}, \"bgcolor\": \"#E5ECF6\", \"caxis\": {\"gridcolor\": \"white\", \"linecolor\": \"white\", \"ticks\": \"\"}}, \"title\": {\"x\": 0.05}, \"xaxis\": {\"automargin\": true, \"gridcolor\": \"white\", \"linecolor\": \"white\", \"ticks\": \"\", \"title\": {\"standoff\": 15}, \"zerolinecolor\": \"white\", \"zerolinewidth\": 2}, \"yaxis\": {\"automargin\": true, \"gridcolor\": \"white\", \"linecolor\": \"white\", \"ticks\": \"\", \"title\": {\"standoff\": 15}, \"zerolinecolor\": \"white\", \"zerolinewidth\": 2}}}, \"xaxis\": {\"anchor\": \"y\", \"domain\": [0.0, 1.0], \"title\": {\"text\": \"alchemy_category\"}}, \"yaxis\": {\"anchor\": \"x\", \"domain\": [0.0, 1.0], \"title\": {\"text\": \"count\"}}},\n",
              "                        {\"responsive\": true}\n",
              "                    ).then(function(){\n",
              "                            \n",
              "var gd = document.getElementById('91d407db-6bf0-4303-ad06-99905dffb6f2');\n",
              "var x = new MutationObserver(function (mutations, observer) {{\n",
              "        var display = window.getComputedStyle(gd).display;\n",
              "        if (!display || display === 'none') {{\n",
              "            console.log([gd, 'removed!']);\n",
              "            Plotly.purge(gd);\n",
              "            observer.disconnect();\n",
              "        }}\n",
              "}});\n",
              "\n",
              "// Listen for the removal of the full notebook cells\n",
              "var notebookContainer = gd.closest('#notebook-container');\n",
              "if (notebookContainer) {{\n",
              "    x.observe(notebookContainer, {childList: true});\n",
              "}}\n",
              "\n",
              "// Listen for the clearing of the current output cell\n",
              "var outputEl = gd.closest('.output');\n",
              "if (outputEl) {{\n",
              "    x.observe(outputEl, {childList: true});\n",
              "}}\n",
              "\n",
              "                        })\n",
              "                };\n",
              "                \n",
              "            </script>\n",
              "        </div>\n",
              "</body>\n",
              "</html>"
            ]
          },
          "metadata": {
            "tags": []
          }
        }
      ]
    }
  ]
}