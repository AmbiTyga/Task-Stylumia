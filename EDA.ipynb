{
  "nbformat": 4,
  "nbformat_minor": 0,
  "metadata": {
    "colab": {
      "name": "EDA",
      "provenance": [],
      "collapsed_sections": [],
      "toc_visible": true,
      "machine_shape": "hm",
      "include_colab_link": true
    },
    "kernelspec": {
      "name": "python3",
      "display_name": "Python 3"
    }
  },
  "cells": [
    {
      "cell_type": "markdown",
      "metadata": {
        "id": "view-in-github",
        "colab_type": "text"
      },
      "source": [
        "<a href=\"https://colab.research.google.com/github/AmbiTyga/Task-Stylumia/blob/main/EDA.ipynb\" target=\"_parent\"><img src=\"https://colab.research.google.com/assets/colab-badge.svg\" alt=\"Open In Colab\"/></a>"
      ]
    },
    {
      "cell_type": "code",
      "metadata": {
        "id": "x2kqiBG7050G",
        "colab": {
          "resources": {
            "http://localhost:8080/nbextensions/google.colab/files.js": {
              "data": "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",
              "ok": true,
              "headers": [
                [
                  "content-type",
                  "application/javascript"
                ]
              ],
              "status": 200,
              "status_text": ""
            }
          },
          "base_uri": "https://localhost:8080/",
          "height": 304
        },
        "cellView": "form",
        "outputId": "5cebe19f-f535-41c8-e782-2693cf06fb78"
      },
      "source": [
        "#@title Kaggle Download\r\n",
        "! pip install -q kaggle\r\n",
        "from google.colab import files\r\n",
        "files.upload()\r\n",
        "! mkdir ~/.kaggle\r\n",
        "! cp kaggle.json ~/.kaggle/\r\n",
        "! chmod 600 ~/.kaggle/kaggle.json\r\n",
        "! kaggle competitions download -c stumbleupon"
      ],
      "execution_count": 1,
      "outputs": [
        {
          "output_type": "display_data",
          "data": {
            "text/html": [
              "\n",
              "     <input type=\"file\" id=\"files-5105781c-99a3-42c0-b8e6-b02d6ca783ed\" name=\"files[]\" multiple disabled\n",
              "        style=\"border:none\" />\n",
              "     <output id=\"result-5105781c-99a3-42c0-b8e6-b02d6ca783ed\">\n",
              "      Upload widget is only available when the cell has been executed in the\n",
              "      current browser session. Please rerun this cell to enable.\n",
              "      </output>\n",
              "      <script src=\"/nbextensions/google.colab/files.js\"></script> "
            ],
            "text/plain": [
              "<IPython.core.display.HTML object>"
            ]
          },
          "metadata": {
            "tags": []
          }
        },
        {
          "output_type": "stream",
          "text": [
            "Saving kaggle.json to kaggle.json\n",
            "Warning: Looks like you're using an outdated API Version, please consider updating (server 1.5.10 / client 1.5.4)\n",
            "Downloading test.tsv.zip to /content\n",
            "  0% 0.00/3.45M [00:00<?, ?B/s]\n",
            "100% 3.45M/3.45M [00:00<00:00, 56.9MB/s]\n",
            "Downloading sampleSubmission.csv to /content\n",
            "  0% 0.00/21.5k [00:00<?, ?B/s]\n",
            "100% 21.5k/21.5k [00:00<00:00, 22.8MB/s]\n",
            "Downloading train.tsv.zip to /content\n",
            " 62% 5.00M/8.02M [00:00<00:00, 6.48MB/s]\n",
            "100% 8.02M/8.02M [00:00<00:00, 9.71MB/s]\n",
            "Downloading raw_content.zip to /content\n",
            " 95% 150M/157M [00:03<00:00, 61.8MB/s]\n",
            "100% 157M/157M [00:03<00:00, 48.1MB/s]\n"
          ],
          "name": "stdout"
        }
      ]
    },
    {
      "cell_type": "code",
      "metadata": {
        "id": "j3F6Jobi1djH"
      },
      "source": [
        "!unzip -q /content/raw_content.zip"
      ],
      "execution_count": 2,
      "outputs": []
    },
    {
      "cell_type": "code",
      "metadata": {
        "id": "f8z98PsF3xXe",
        "colab": {
          "base_uri": "https://localhost:8080/"
        },
        "outputId": "99acc805-28f9-407a-f45c-ed24d57fc761"
      },
      "source": [
        "!git clone https://github.com/misja/python-boilerpipe.git\r\n",
        "%cd python-boilerpipe\r\n",
        "!pip install -r requirements.txt -q\r\n",
        "!python setup.py install -q\r\n",
        "%cd .."
      ],
      "execution_count": 3,
      "outputs": [
        {
          "output_type": "stream",
          "text": [
            "Cloning into 'python-boilerpipe'...\n",
            "remote: Enumerating objects: 264, done.\u001b[K\n",
            "remote: Total 264 (delta 0), reused 0 (delta 0), pack-reused 264\u001b[K\n",
            "Receiving objects: 100% (264/264), 30.06 KiB | 809.00 KiB/s, done.\n",
            "Resolving deltas: 100% (91/91), done.\n",
            "/content/python-boilerpipe\n",
            "\u001b[K     |████████████████████████████████| 460kB 5.7MB/s \n",
            "\u001b[?25h/usr/lib/python3.7/distutils/dist.py:274: UserWarning: Unknown distribution option: 'install_requires'\n",
            "  warnings.warn(msg)\n",
            "running install\n",
            "running build\n",
            "running build_py\n",
            "creating build\n",
            "creating build/lib\n",
            "creating build/lib/boilerpipe\n",
            "copying src/boilerpipe/__init__.py -> build/lib/boilerpipe\n",
            "creating build/lib/boilerpipe/extract\n",
            "copying src/boilerpipe/extract/__init__.py -> build/lib/boilerpipe/extract\n",
            "creating build/lib/boilerpipe/data\n",
            "creating build/lib/boilerpipe/data/boilerpipe-1.2.0\n",
            "copying src/boilerpipe/data/boilerpipe-1.2.0/boilerpipe-1.2.0.jar -> build/lib/boilerpipe/data/boilerpipe-1.2.0\n",
            "creating build/lib/boilerpipe/data/boilerpipe-1.2.0/lib\n",
            "copying src/boilerpipe/data/boilerpipe-1.2.0/lib/xerces-2.9.1.jar -> build/lib/boilerpipe/data/boilerpipe-1.2.0/lib\n",
            "copying src/boilerpipe/data/boilerpipe-1.2.0/lib/nekohtml-1.9.13.jar -> build/lib/boilerpipe/data/boilerpipe-1.2.0/lib\n",
            "running install_lib\n",
            "creating /usr/local/lib/python3.7/dist-packages/boilerpipe\n",
            "creating /usr/local/lib/python3.7/dist-packages/boilerpipe/extract\n",
            "copying build/lib/boilerpipe/extract/__init__.py -> /usr/local/lib/python3.7/dist-packages/boilerpipe/extract\n",
            "copying build/lib/boilerpipe/__init__.py -> /usr/local/lib/python3.7/dist-packages/boilerpipe\n",
            "creating /usr/local/lib/python3.7/dist-packages/boilerpipe/data\n",
            "creating /usr/local/lib/python3.7/dist-packages/boilerpipe/data/boilerpipe-1.2.0\n",
            "copying build/lib/boilerpipe/data/boilerpipe-1.2.0/boilerpipe-1.2.0.jar -> /usr/local/lib/python3.7/dist-packages/boilerpipe/data/boilerpipe-1.2.0\n",
            "creating /usr/local/lib/python3.7/dist-packages/boilerpipe/data/boilerpipe-1.2.0/lib\n",
            "copying build/lib/boilerpipe/data/boilerpipe-1.2.0/lib/xerces-2.9.1.jar -> /usr/local/lib/python3.7/dist-packages/boilerpipe/data/boilerpipe-1.2.0/lib\n",
            "copying build/lib/boilerpipe/data/boilerpipe-1.2.0/lib/nekohtml-1.9.13.jar -> /usr/local/lib/python3.7/dist-packages/boilerpipe/data/boilerpipe-1.2.0/lib\n",
            "byte-compiling /usr/local/lib/python3.7/dist-packages/boilerpipe/extract/__init__.py to __init__.cpython-37.pyc\n",
            "byte-compiling /usr/local/lib/python3.7/dist-packages/boilerpipe/__init__.py to __init__.cpython-37.pyc\n",
            "running install_egg_info\n",
            "Writing /usr/local/lib/python3.7/dist-packages/boilerpipe-1.3.0.0.egg-info\n",
            "/content\n"
          ],
          "name": "stdout"
        }
      ]
    },
    {
      "cell_type": "code",
      "metadata": {
        "id": "5L1zAnM61Ouy"
      },
      "source": [
        "import pandas as pd \r\n",
        "import numpy as np\r\n",
        "import json\r\n",
        "from bs4 import BeautifulSoup\r\n",
        "import re, operator\r\n",
        "import seaborn as sns\r\n",
        "import plotly.express as px\r\n",
        "import matplotlib.pyplot as plt\r\n",
        "from boilerpipe.extract import Extractor\r\n",
        "from sklearn.preprocessing import StandardScaler, Normalizer, LabelEncoder"
      ],
      "execution_count": 1,
      "outputs": []
    },
    {
      "cell_type": "markdown",
      "metadata": {
        "id": "bs2fSH83GkYi"
      },
      "source": [
        "## Preprocessing Functions"
      ]
    },
    {
      "cell_type": "code",
      "metadata": {
        "id": "O793eqjJ7hHp"
      },
      "source": [
        "def extract_domain(df_url):\r\n",
        "    # extract domains\r\n",
        "    domain = df_url.str.lower().apply(lambda x:x.split('/')[2])\r\n",
        "    domain_parts = domain.str.split('.')\r\n",
        "\r\n",
        "    return domain_parts.apply(lambda x:'.'.join(x[-2:]) if x[-2] not in ['com', 'co'] else '.'.join(x[-3:]))"
      ],
      "execution_count": 2,
      "outputs": []
    },
    {
      "cell_type": "code",
      "metadata": {
        "id": "40WYPNJurhol"
      },
      "source": [
        "def clean_string(s):\r\n",
        "  s = re.sub(r'[\\r\\n\\t]', ' ',s)\r\n",
        "  s = re.sub(r\"\\s+\", ' ', s)\r\n",
        "  return s.strip()"
      ],
      "execution_count": 3,
      "outputs": []
    },
    {
      "cell_type": "code",
      "metadata": {
        "id": "JbGBkceEl2nb"
      },
      "source": [
        "def boil_soup(urlid):\r\n",
        "    filename = '/content/raw_content/' + urlid\r\n",
        "\r\n",
        "    with open(filename, 'rb') as f:\r\n",
        "        html = f.read()\r\n",
        "\r\n",
        "        for parser in [\"lxml\", \"xml\", \"html5lib\"]:\r\n",
        "            soup = BeautifulSoup(html, parser)\r\n",
        "            if soup.body:\r\n",
        "                return soup\r\n",
        "\r\n",
        "        return BeautifulSoup(html)"
      ],
      "execution_count": 4,
      "outputs": []
    },
    {
      "cell_type": "code",
      "metadata": {
        "id": "sGJY5HeEnKNy"
      },
      "source": [
        "def get_title(id):\r\n",
        "  \r\n",
        "  TAGS_REMOVE = ['script', 'style']\r\n",
        "  \r\n",
        "  soup = boil_soup(id)\r\n",
        "\r\n",
        "\r\n",
        "  for el in soup.find_all(TAGS_REMOVE):\r\n",
        "    el.extract()\r\n",
        "  \r\n",
        "  texts = soup.find_all('title')\r\n",
        "  texts = [clean_string(x.text) for x in texts]\r\n",
        "\r\n",
        "  try:\r\n",
        "    return texts[np.argmax([len(x.split()) for x in texts])]\r\n",
        "  except ValueError:\r\n",
        "    return np.nan"
      ],
      "execution_count": 5,
      "outputs": []
    },
    {
      "cell_type": "code",
      "metadata": {
        "id": "xYZyDK7wQUqD"
      },
      "source": [
        "def padding(text,attr = 'title'):\r\n",
        "  max_len = 39 if attr=='title' else 282\r\n",
        "  sent_len = len(text.split())\r\n",
        "  if sent_len>max_len:\r\n",
        "    return \" \".join(text.split()[:max_len])\r\n",
        "  else:\r\n",
        "    text = \" \".join(text.split()+['<pad>']*(max_len-sent_len))\r\n",
        "    return text"
      ],
      "execution_count": 70,
      "outputs": []
    },
    {
      "cell_type": "code",
      "metadata": {
        "id": "QrgKLJFrCCvR"
      },
      "source": [
        "def get_boiled(id):\r\n",
        "  with open('/content/raw_content/'+id,'rb') as f:\r\n",
        "    h = f.read()\r\n",
        "  \r\n",
        "  try:\r\n",
        "    extractor = Extractor(extractor='ArticleExtractor', html = h)\r\n",
        "  except:\r\n",
        "    extractor = Extractor(extractor='ArticleExtractor', html = h.decode('iso-8859-1'))\r\n",
        "  return str(extractor.getText())"
      ],
      "execution_count": 11,
      "outputs": []
    },
    {
      "cell_type": "markdown",
      "metadata": {
        "id": "t1YwNdstF1rk"
      },
      "source": [
        "## Dataset"
      ]
    },
    {
      "cell_type": "code",
      "metadata": {
        "id": "DYgFVJ5m7GPi"
      },
      "source": [
        "data = pd.concat([pd.read_csv('/content/train.tsv.zip',sep = '\\t'),\r\n",
        "                  pd.read_csv('/content/test.tsv.zip',sep = '\\t')],ignore_index = True)"
      ],
      "execution_count": 8,
      "outputs": []
    },
    {
      "cell_type": "code",
      "metadata": {
        "id": "ApRP5YIt9L2p"
      },
      "source": [
        "item[features] = data[features].copy()"
      ],
      "execution_count": 51,
      "outputs": []
    },
    {
      "cell_type": "markdown",
      "metadata": {
        "id": "lE4iSiWeGoLF"
      },
      "source": [
        "## Feature Extraction"
      ]
    },
    {
      "cell_type": "code",
      "metadata": {
        "id": "V5yYB0oC87gc"
      },
      "source": [
        "item['real_url'] = item['url'].str.lower()\r\n",
        "item['domain'] = extract_domain(item['real_url'])\r\n",
        "item['tld'] = item['domain'].str.split('.').apply(lambda x:x[-1])"
      ],
      "execution_count": 10,
      "outputs": []
    },
    {
      "cell_type": "code",
      "metadata": {
        "id": "uIDvACNM9Q0K"
      },
      "source": [
        "item['body'] = item['urlid'].astype(str).apply(get_boiled)\r\n",
        "item.rename(columns = {'url':'org_url'},inplace = True)\r\n",
        "\r\n",
        "item.drop(columns = ['boilerplate'],inplace = True)"
      ],
      "execution_count": 12,
      "outputs": []
    },
    {
      "cell_type": "code",
      "metadata": {
        "id": "a44cpAUZ9ZAb"
      },
      "source": [
        "item['title'] = item['urlid'].astype(str).apply(get_title)"
      ],
      "execution_count": 13,
      "outputs": []
    },
    {
      "cell_type": "code",
      "metadata": {
        "id": "r0veNO400M9I"
      },
      "source": [
        "item['alchemy_category_score'].replace('?','0.0',inplace = True)\r\n",
        "item['alchemy_category_score'] = item['alchemy_category_score'].apply(float)"
      ],
      "execution_count": 52,
      "outputs": []
    },
    {
      "cell_type": "code",
      "metadata": {
        "id": "aTEBnrU00UlL"
      },
      "source": [
        "item['is_news'].replace('?','0',inplace = True)\r\n",
        "item['is_news'] = item['is_news'].apply(int)"
      ],
      "execution_count": 53,
      "outputs": []
    },
    {
      "cell_type": "code",
      "metadata": {
        "id": "n89ej3PvBeR2"
      },
      "source": [
        "item['alchemy_category_score'] = item['alchemy_category_score'].replace('?',0).astype(float)\r\n",
        "item['alchemy_category'].replace('?','',inplace = True)"
      ],
      "execution_count": 54,
      "outputs": []
    },
    {
      "cell_type": "code",
      "metadata": {
        "id": "OoHgzdlNOat5"
      },
      "source": [
        "le = LabelEncoder()\r\n",
        "item['alchemy_labels'] = le.fit_transform(item['alchemy_category'])"
      ],
      "execution_count": 55,
      "outputs": []
    },
    {
      "cell_type": "code",
      "metadata": {
        "id": "7C9TKR_GXVDy"
      },
      "source": [
        "leTLD = LabelEncoder()\r\n",
        "item['tld_labels'] = le.fit_transform(item['tld'])"
      ],
      "execution_count": 56,
      "outputs": []
    },
    {
      "cell_type": "code",
      "metadata": {
        "id": "XAybMCOTc-JV"
      },
      "source": [
        ""
      ],
      "execution_count": 28,
      "outputs": []
    },
    {
      "cell_type": "code",
      "metadata": {
        "id": "L2CJwJ0cygbo"
      },
      "source": [
        "features = ['alchemy_category_score',\r\n",
        "'avglinksize',\r\n",
        "'commonlinkratio_1','commonlinkratio_2','commonlinkratio_3','commonlinkratio_4','compression_ratio',\r\n",
        "'embed_ratio', 'frameTagRatio', 'html_ratio', 'image_ratio', 'is_news', 'lengthyLinkDomain',\r\n",
        "'linkwordscore', 'non_markup_alphanum_characters', 'numberOfLinks', 'numwords_in_url',\r\n",
        "'parametrizedLinkRatio', 'spelling_errors_ratio', 'alchemy_labels','tld_labels']"
      ],
      "execution_count": 57,
      "outputs": []
    },
    {
      "cell_type": "code",
      "metadata": {
        "id": "RO2N5iVj52QE"
      },
      "source": [
        "item['title'].fillna('',inplace = True)\r\n",
        "item['body'].fillna('',inplace = True)"
      ],
      "execution_count": 25,
      "outputs": []
    },
    {
      "cell_type": "code",
      "metadata": {
        "id": "06IXyMeX6FH6"
      },
      "source": [
        "from sklearn.preprocessing import RobustScaler"
      ],
      "execution_count": 58,
      "outputs": []
    },
    {
      "cell_type": "code",
      "metadata": {
        "id": "3AqMC1Al8aWa"
      },
      "source": [
        "scaler = Normalizer()\r\n",
        "item[features] = scaler.fit_transform(item[features].values)"
      ],
      "execution_count": 69,
      "outputs": []
    },
    {
      "cell_type": "code",
      "metadata": {
        "id": "w1ktESWBQDk0"
      },
      "source": [
        "final = item[['alchemy_category_score','avglinksize',\r\n",
        "              'commonlinkratio_1','commonlinkratio_2','commonlinkratio_3','commonlinkratio_4','compression_ratio',\r\n",
        "              'embed_ratio', 'frameTagRatio', 'html_ratio', 'image_ratio', 'is_news', 'lengthyLinkDomain',\r\n",
        "              'linkwordscore', 'non_markup_alphanum_characters', 'numberOfLinks', 'numwords_in_url',\r\n",
        "              'parametrizedLinkRatio', 'spelling_errors_ratio', 'alchemy_labels','tld_labels',\r\n",
        "              'alchemy_category','title','body','label']].copy()"
      ],
      "execution_count": 73,
      "outputs": []
    },
    {
      "cell_type": "code",
      "metadata": {
        "id": "NAxZ2NjSBcJN"
      },
      "source": [
        "del final"
      ],
      "execution_count": null,
      "outputs": []
    },
    {
      "cell_type": "code",
      "metadata": {
        "id": "OCxlCKZNANbM"
      },
      "source": [
        "final = pd.concat([pd.read_json('/content/train_parsed.json'),\r\n",
        "                   pd.read_json('/content/test_parsed.json')],ignore_index = True)"
      ],
      "execution_count": null,
      "outputs": []
    },
    {
      "cell_type": "code",
      "metadata": {
        "id": "BK39kfYdiomG"
      },
      "source": [
        ""
      ],
      "execution_count": null,
      "outputs": []
    },
    {
      "cell_type": "code",
      "metadata": {
        "id": "5BWA2KLn1WBT"
      },
      "source": [
        "final['title'].replace('','NULL',inplace = True)"
      ],
      "execution_count": null,
      "outputs": []
    },
    {
      "cell_type": "code",
      "metadata": {
        "id": "jGcpTDZJmG7A"
      },
      "source": [
        "item['title'] = item['title'].apply(lambda text:re.sub(r'[\\W_]+',' ', text))\r\n",
        "item['body'] = item['body'].apply(lambda text:re.sub(r'[\\W_]+',' ', text))\r\n",
        "\r\n",
        "item['body'] = item['body'].str.replace(r'[½]','half')\r\n",
        "item['body'] = item['body'].str.replace('[¼]','quarter')\r\n",
        "\r\n",
        "pattern = re.compile(r'[^a-zA-Z0-9\\d\\s:]')\r\n",
        "item['body'] = item['body'].str.replace(pattern,' ')\r\n",
        "item['alchemy_category'] = item['alchemy_category'].str.replace(pattern,' ')\r\n",
        "\r\n",
        "spacer = re.compile(r'^\\s+|\\s+$')\r\n",
        "item['title'] = item['title'].apply(lambda x:spacer.sub('',x))\r\n",
        "item['body'] = item['body'].apply(lambda x:spacer.sub('',x))\r\n",
        "\r\n",
        "item['title'] = item['title'].apply(clean_string)\r\n",
        "item['body'] = item['body'].apply(clean_string)"
      ],
      "execution_count": 27,
      "outputs": []
    },
    {
      "cell_type": "code",
      "metadata": {
        "id": "WQJHJ_8XW650",
        "outputId": "93bedf6f-4cd4-4a7f-a405-f15b884477ea",
        "colab": {
          "base_uri": "https://localhost:8080/",
          "height": 235
        }
      },
      "source": [
        "test.query(\"body=='' and title==''\")"
      ],
      "execution_count": 30,
      "outputs": [
        {
          "output_type": "execute_result",
          "data": {
            "text/html": [
              "<div>\n",
              "<style scoped>\n",
              "    .dataframe tbody tr th:only-of-type {\n",
              "        vertical-align: middle;\n",
              "    }\n",
              "\n",
              "    .dataframe tbody tr th {\n",
              "        vertical-align: top;\n",
              "    }\n",
              "\n",
              "    .dataframe thead th {\n",
              "        text-align: right;\n",
              "    }\n",
              "</style>\n",
              "<table border=\"1\" class=\"dataframe\">\n",
              "  <thead>\n",
              "    <tr style=\"text-align: right;\">\n",
              "      <th></th>\n",
              "      <th>org_url</th>\n",
              "      <th>urlid</th>\n",
              "      <th>alchemy_category</th>\n",
              "      <th>alchemy_category_score</th>\n",
              "      <th>avglinksize</th>\n",
              "      <th>commonlinkratio_1</th>\n",
              "      <th>commonlinkratio_2</th>\n",
              "      <th>commonlinkratio_3</th>\n",
              "      <th>commonlinkratio_4</th>\n",
              "      <th>compression_ratio</th>\n",
              "      <th>embed_ratio</th>\n",
              "      <th>framebased</th>\n",
              "      <th>frameTagRatio</th>\n",
              "      <th>hasDomainLink</th>\n",
              "      <th>html_ratio</th>\n",
              "      <th>image_ratio</th>\n",
              "      <th>is_news</th>\n",
              "      <th>lengthyLinkDomain</th>\n",
              "      <th>linkwordscore</th>\n",
              "      <th>news_front_page</th>\n",
              "      <th>non_markup_alphanum_characters</th>\n",
              "      <th>numberOfLinks</th>\n",
              "      <th>numwords_in_url</th>\n",
              "      <th>parametrizedLinkRatio</th>\n",
              "      <th>spelling_errors_ratio</th>\n",
              "      <th>label</th>\n",
              "      <th>real_url</th>\n",
              "      <th>domain</th>\n",
              "      <th>tld</th>\n",
              "      <th>body</th>\n",
              "      <th>title</th>\n",
              "      <th>alchemy_labels</th>\n",
              "    </tr>\n",
              "  </thead>\n",
              "  <tbody>\n",
              "    <tr>\n",
              "      <th>7577</th>\n",
              "      <td>http://borderlinemag.com/borderline01a.php?sec...</td>\n",
              "      <td>9057</td>\n",
              "      <td>recreation</td>\n",
              "      <td>0.000731</td>\n",
              "      <td>0.038981</td>\n",
              "      <td>0.000000</td>\n",
              "      <td>0.0</td>\n",
              "      <td>0.0</td>\n",
              "      <td>0.0</td>\n",
              "      <td>0.204652</td>\n",
              "      <td>-0.009745</td>\n",
              "      <td>0</td>\n",
              "      <td>0.002436</td>\n",
              "      <td>0</td>\n",
              "      <td>0.004683</td>\n",
              "      <td>-0.009745</td>\n",
              "      <td>0.0</td>\n",
              "      <td>0.0</td>\n",
              "      <td>0.974534</td>\n",
              "      <td>0</td>\n",
              "      <td>0.000000</td>\n",
              "      <td>0.009745</td>\n",
              "      <td>0.019491</td>\n",
              "      <td>0.009745</td>\n",
              "      <td>0.003898</td>\n",
              "      <td>NaN</td>\n",
              "      <td>http://borderlinemag.com/borderline01a.php?sec...</td>\n",
              "      <td>borderlinemag.com</td>\n",
              "      <td>com</td>\n",
              "      <td></td>\n",
              "      <td></td>\n",
              "      <td>0.077963</td>\n",
              "    </tr>\n",
              "    <tr>\n",
              "      <th>7888</th>\n",
              "      <td>http://mingmakescupcakes.yolasite.com/</td>\n",
              "      <td>4292</td>\n",
              "      <td>recreation</td>\n",
              "      <td>0.000913</td>\n",
              "      <td>0.035430</td>\n",
              "      <td>0.002577</td>\n",
              "      <td>0.0</td>\n",
              "      <td>0.0</td>\n",
              "      <td>0.0</td>\n",
              "      <td>0.141718</td>\n",
              "      <td>-0.012883</td>\n",
              "      <td>0</td>\n",
              "      <td>0.000773</td>\n",
              "      <td>0</td>\n",
              "      <td>0.003265</td>\n",
              "      <td>-0.012883</td>\n",
              "      <td>0.0</td>\n",
              "      <td>0.0</td>\n",
              "      <td>0.669941</td>\n",
              "      <td>0</td>\n",
              "      <td>0.708591</td>\n",
              "      <td>0.128835</td>\n",
              "      <td>0.000000</td>\n",
              "      <td>0.000000</td>\n",
              "      <td>0.012883</td>\n",
              "      <td>NaN</td>\n",
              "      <td>http://mingmakescupcakes.yolasite.com/</td>\n",
              "      <td>yolasite.com</td>\n",
              "      <td>com</td>\n",
              "      <td></td>\n",
              "      <td></td>\n",
              "      <td>0.103068</td>\n",
              "    </tr>\n",
              "    <tr>\n",
              "      <th>8408</th>\n",
              "      <td>http://urbansavior.com/wp-content/uploads/2011...</td>\n",
              "      <td>9331</td>\n",
              "      <td></td>\n",
              "      <td>0.000000</td>\n",
              "      <td>0.039061</td>\n",
              "      <td>0.000000</td>\n",
              "      <td>0.0</td>\n",
              "      <td>0.0</td>\n",
              "      <td>0.0</td>\n",
              "      <td>0.205072</td>\n",
              "      <td>-0.009765</td>\n",
              "      <td>0</td>\n",
              "      <td>0.002441</td>\n",
              "      <td>1</td>\n",
              "      <td>0.004641</td>\n",
              "      <td>-0.009765</td>\n",
              "      <td>0.0</td>\n",
              "      <td>0.0</td>\n",
              "      <td>0.976535</td>\n",
              "      <td>?</td>\n",
              "      <td>0.000000</td>\n",
              "      <td>0.009765</td>\n",
              "      <td>0.048827</td>\n",
              "      <td>0.009765</td>\n",
              "      <td>0.002441</td>\n",
              "      <td>NaN</td>\n",
              "      <td>http://urbansavior.com/wp-content/uploads/2011...</td>\n",
              "      <td>urbansavior.com</td>\n",
              "      <td>com</td>\n",
              "      <td></td>\n",
              "      <td></td>\n",
              "      <td>0.000000</td>\n",
              "    </tr>\n",
              "    <tr>\n",
              "      <th>8587</th>\n",
              "      <td>http://www.icookgreek.com/index.asp?a_id=46</td>\n",
              "      <td>1857</td>\n",
              "      <td></td>\n",
              "      <td>0.000000</td>\n",
              "      <td>0.048222</td>\n",
              "      <td>0.000000</td>\n",
              "      <td>0.0</td>\n",
              "      <td>0.0</td>\n",
              "      <td>0.0</td>\n",
              "      <td>0.253168</td>\n",
              "      <td>-0.012056</td>\n",
              "      <td>0</td>\n",
              "      <td>0.001507</td>\n",
              "      <td>0</td>\n",
              "      <td>0.008184</td>\n",
              "      <td>-0.012056</td>\n",
              "      <td>0.0</td>\n",
              "      <td>0.0</td>\n",
              "      <td>0.964448</td>\n",
              "      <td>?</td>\n",
              "      <td>0.048222</td>\n",
              "      <td>0.012056</td>\n",
              "      <td>0.024111</td>\n",
              "      <td>0.000000</td>\n",
              "      <td>0.003014</td>\n",
              "      <td>NaN</td>\n",
              "      <td>http://www.icookgreek.com/index.asp?a_id=46</td>\n",
              "      <td>icookgreek.com</td>\n",
              "      <td>com</td>\n",
              "      <td></td>\n",
              "      <td></td>\n",
              "      <td>0.000000</td>\n",
              "    </tr>\n",
              "  </tbody>\n",
              "</table>\n",
              "</div>"
            ],
            "text/plain": [
              "                                                org_url  ...  alchemy_labels\n",
              "7577  http://borderlinemag.com/borderline01a.php?sec...  ...        0.077963\n",
              "7888             http://mingmakescupcakes.yolasite.com/  ...        0.103068\n",
              "8408  http://urbansavior.com/wp-content/uploads/2011...  ...        0.000000\n",
              "8587        http://www.icookgreek.com/index.asp?a_id=46  ...        0.000000\n",
              "\n",
              "[4 rows x 32 columns]"
            ]
          },
          "metadata": {
            "tags": []
          },
          "execution_count": 30
        }
      ]
    },
    {
      "cell_type": "code",
      "metadata": {
        "id": "jtXVh61-2UPR"
      },
      "source": [
        "final['text'] = '<ac> ' + final['alchemy_category'] + ' <title> ' + final['title'].apply(padding)+ ' <body> ' + final['body'].apply(padding,attr='body') "
      ],
      "execution_count": 74,
      "outputs": []
    },
    {
      "cell_type": "code",
      "metadata": {
        "id": "T2MkLRRqFt31"
      },
      "source": [
        "train = final.dropna(subset=['label']).reset_index(drop = True)\r\n",
        "test = final[item['label'].isna()].drop(columns = ['label']).reset_index(drop = True)"
      ],
      "execution_count": 75,
      "outputs": []
    },
    {
      "cell_type": "code",
      "metadata": {
        "id": "OwDKU3GgaV0n"
      },
      "source": [
        "from sklearn.model_selection import train_test_split\r\n",
        "Train,val = train_test_split(train,test_size = 0.2,stratify = train['label'],random_state = 2021)"
      ],
      "execution_count": 77,
      "outputs": []
    },
    {
      "cell_type": "code",
      "metadata": {
        "id": "ObWSt9CfDAI4"
      },
      "source": [
        "Train.to_csv(\"/content/train_parsed.csv\",index=False)\r\n",
        "val.reset_index(drop=True).to_csv(\"/content/val_parsed.csv\",index=False)\r\n",
        "test.to_csv(\"/content/test_parsed.csv\",index=False)"
      ],
      "execution_count": 81,
      "outputs": []
    },
    {
      "cell_type": "code",
      "metadata": {
        "id": "ZwWp_utMQm5I",
        "colab": {
          "base_uri": "https://localhost:8080/"
        },
        "outputId": "a8d2e409-ecc9-40a1-839d-d38f88d5cfbf"
      },
      "source": [
        "!7z a TrainTest.7z test_parsed.csv train_parsed.csv val_parsed.csv"
      ],
      "execution_count": 84,
      "outputs": [
        {
          "output_type": "stream",
          "text": [
            "\n",
            "7-Zip [64] 16.02 : Copyright (c) 1999-2016 Igor Pavlov : 2016-05-21\n",
            "p7zip Version 16.02 (locale=en_US.UTF-8,Utf16=on,HugeFiles=on,64 bits,4 CPUs Intel(R) Xeon(R) CPU @ 2.20GHz (406F0),ASM,AES-NI)\n",
            "\n",
            "Scanning the drive:\n",
            "  0M Scan \b\b\b\b\b\b\b\b\b\b          \b\b\b\b\b\b\b\b\b\b3 files, 55911757 bytes (54 MiB)\n",
            "\n",
            "Creating archive: TrainTest.7z\n",
            "\n",
            "Items to compress: 3\n",
            "\n",
            "  0%\b\b\b\b    \b\b\b\b  2% + test_parsed.csv\b\b\b\b\b\b\b\b\b\b\b\b\b\b\b\b\b\b\b\b\b\b                      \b\b\b\b\b\b\b\b\b\b\b\b\b\b\b\b\b\b\b\b\b\b  3% + test_parsed.csv\b\b\b\b\b\b\b\b\b\b\b\b\b\b\b\b\b\b\b\b\b\b                      \b\b\b\b\b\b\b\b\b\b\b\b\b\b\b\b\b\b\b\b\b\b  5% + test_parsed.csv\b\b\b\b\b\b\b\b\b\b\b\b\b\b\b\b\b\b\b\b\b\b                      \b\b\b\b\b\b\b\b\b\b\b\b\b\b\b\b\b\b\b\b\b\b  6% + test_parsed.csv\b\b\b\b\b\b\b\b\b\b\b\b\b\b\b\b\b\b\b\b\b\b                      \b\b\b\b\b\b\b\b\b\b\b\b\b\b\b\b\b\b\b\b\b\b  7% + test_parsed.csv\b\b\b\b\b\b\b\b\b\b\b\b\b\b\b\b\b\b\b\b\b\b                      \b\b\b\b\b\b\b\b\b\b\b\b\b\b\b\b\b\b\b\b\b\b  8% + test_parsed.csv\b\b\b\b\b\b\b\b\b\b\b\b\b\b\b\b\b\b\b\b\b\b                      \b\b\b\b\b\b\b\b\b\b\b\b\b\b\b\b\b\b\b\b\b\b  9% + test_parsed.csv\b\b\b\b\b\b\b\b\b\b\b\b\b\b\b\b\b\b\b\b\b\b                      \b\b\b\b\b\b\b\b\b\b\b\b\b\b\b\b\b\b\b\b\b\b 10% + test_parsed.csv\b\b\b\b\b\b\b\b\b\b\b\b\b\b\b\b\b\b\b\b\b\b                      \b\b\b\b\b\b\b\b\b\b\b\b\b\b\b\b\b\b\b\b\b\b 11% + test_parsed.csv\b\b\b\b\b\b\b\b\b\b\b\b\b\b\b\b\b\b\b\b\b\b                      \b\b\b\b\b\b\b\b\b\b\b\b\b\b\b\b\b\b\b\b\b\b 12% + test_parsed.csv\b\b\b\b\b\b\b\b\b\b\b\b\b\b\b\b\b\b\b\b\b\b                      \b\b\b\b\b\b\b\b\b\b\b\b\b\b\b\b\b\b\b\b\b\b 14% + test_parsed.csv\b\b\b\b\b\b\b\b\b\b\b\b\b\b\b\b\b\b\b\b\b\b                      \b\b\b\b\b\b\b\b\b\b\b\b\b\b\b\b\b\b\b\b\b\b 15% + test_parsed.csv\b\b\b\b\b\b\b\b\b\b\b\b\b\b\b\b\b\b\b\b\b\b                      \b\b\b\b\b\b\b\b\b\b\b\b\b\b\b\b\b\b\b\b\b\b 16% + test_parsed.csv\b\b\b\b\b\b\b\b\b\b\b\b\b\b\b\b\b\b\b\b\b\b                      \b\b\b\b\b\b\b\b\b\b\b\b\b\b\b\b\b\b\b\b\b\b 17% + test_parsed.csv\b\b\b\b\b\b\b\b\b\b\b\b\b\b\b\b\b\b\b\b\b\b                      \b\b\b\b\b\b\b\b\b\b\b\b\b\b\b\b\b\b\b\b\b\b 18% + test_parsed.csv\b\b\b\b\b\b\b\b\b\b\b\b\b\b\b\b\b\b\b\b\b\b                      \b\b\b\b\b\b\b\b\b\b\b\b\b\b\b\b\b\b\b\b\b\b 19% + test_parsed.csv\b\b\b\b\b\b\b\b\b\b\b\b\b\b\b\b\b\b\b\b\b\b                      \b\b\b\b\b\b\b\b\b\b\b\b\b\b\b\b\b\b\b\b\b\b 21% + test_parsed.csv\b\b\b\b\b\b\b\b\b\b\b\b\b\b\b\b\b\b\b\b\b\b                      \b\b\b\b\b\b\b\b\b\b\b\b\b\b\b\b\b\b\b\b\b\b 22% + test_parsed.csv\b\b\b\b\b\b\b\b\b\b\b\b\b\b\b\b\b\b\b\b\b\b                      \b\b\b\b\b\b\b\b\b\b\b\b\b\b\b\b\b\b\b\b\b\b 23% + test_parsed.csv\b\b\b\b\b\b\b\b\b\b\b\b\b\b\b\b\b\b\b\b\b\b                      \b\b\b\b\b\b\b\b\b\b\b\b\b\b\b\b\b\b\b\b\b\b 24% + test_parsed.csv\b\b\b\b\b\b\b\b\b\b\b\b\b\b\b\b\b\b\b\b\b\b                      \b\b\b\b\b\b\b\b\b\b\b\b\b\b\b\b\b\b\b\b\b\b 25% + test_parsed.csv\b\b\b\b\b\b\b\b\b\b\b\b\b\b\b\b\b\b\b\b\b\b                      \b\b\b\b\b\b\b\b\b\b\b\b\b\b\b\b\b\b\b\b\b\b 26% + test_parsed.csv\b\b\b\b\b\b\b\b\b\b\b\b\b\b\b\b\b\b\b\b\b\b                      \b\b\b\b\b\b\b\b\b\b\b\b\b\b\b\b\b\b\b\b\b\b 27% + test_parsed.csv\b\b\b\b\b\b\b\b\b\b\b\b\b\b\b\b\b\b\b\b\b\b                      \b\b\b\b\b\b\b\b\b\b\b\b\b\b\b\b\b\b\b\b\b\b 29% + test_parsed.csv\b\b\b\b\b\b\b\b\b\b\b\b\b\b\b\b\b\b\b\b\b\b                      \b\b\b\b\b\b\b\b\b\b\b\b\b\b\b\b\b\b\b\b\b\b 29% 1 + train_parsed.csv\b\b\b\b\b\b\b\b\b\b\b\b\b\b\b\b\b\b\b\b\b\b\b\b\b                         \b\b\b\b\b\b\b\b\b\b\b\b\b\b\b\b\b\b\b\b\b\b\b\b\b 31% 1 + train_parsed.csv\b\b\b\b\b\b\b\b\b\b\b\b\b\b\b\b\b\b\b\b\b\b\b\b\b                         \b\b\b\b\b\b\b\b\b\b\b\b\b\b\b\b\b\b\b\b\b\b\b\b\b 32% 1 + train_parsed.csv\b\b\b\b\b\b\b\b\b\b\b\b\b\b\b\b\b\b\b\b\b\b\b\b\b                         \b\b\b\b\b\b\b\b\b\b\b\b\b\b\b\b\b\b\b\b\b\b\b\b\b 33% 1 + train_parsed.csv\b\b\b\b\b\b\b\b\b\b\b\b\b\b\b\b\b\b\b\b\b\b\b\b\b                         \b\b\b\b\b\b\b\b\b\b\b\b\b\b\b\b\b\b\b\b\b\b\b\b\b 34% 1 + train_parsed.csv\b\b\b\b\b\b\b\b\b\b\b\b\b\b\b\b\b\b\b\b\b\b\b\b\b                         \b\b\b\b\b\b\b\b\b\b\b\b\b\b\b\b\b\b\b\b\b\b\b\b\b 35% 1 + train_parsed.csv\b\b\b\b\b\b\b\b\b\b\b\b\b\b\b\b\b\b\b\b\b\b\b\b\b                         \b\b\b\b\b\b\b\b\b\b\b\b\b\b\b\b\b\b\b\b\b\b\b\b\b 37% 1 + train_parsed.csv\b\b\b\b\b\b\b\b\b\b\b\b\b\b\b\b\b\b\b\b\b\b\b\b\b                         \b\b\b\b\b\b\b\b\b\b\b\b\b\b\b\b\b\b\b\b\b\b\b\b\b 38% 1 + train_parsed.csv\b\b\b\b\b\b\b\b\b\b\b\b\b\b\b\b\b\b\b\b\b\b\b\b\b                         \b\b\b\b\b\b\b\b\b\b\b\b\b\b\b\b\b\b\b\b\b\b\b\b\b 39% 1 + train_parsed.csv\b\b\b\b\b\b\b\b\b\b\b\b\b\b\b\b\b\b\b\b\b\b\b\b\b                         \b\b\b\b\b\b\b\b\b\b\b\b\b\b\b\b\b\b\b\b\b\b\b\b\b 40% 1 + train_parsed.csv\b\b\b\b\b\b\b\b\b\b\b\b\b\b\b\b\b\b\b\b\b\b\b\b\b                         \b\b\b\b\b\b\b\b\b\b\b\b\b\b\b\b\b\b\b\b\b\b\b\b\b 41% 1 + train_parsed.csv\b\b\b\b\b\b\b\b\b\b\b\b\b\b\b\b\b\b\b\b\b\b\b\b\b                         \b\b\b\b\b\b\b\b\b\b\b\b\b\b\b\b\b\b\b\b\b\b\b\b\b 42% 1 + train_parsed.csv\b\b\b\b\b\b\b\b\b\b\b\b\b\b\b\b\b\b\b\b\b\b\b\b\b                         \b\b\b\b\b\b\b\b\b\b\b\b\b\b\b\b\b\b\b\b\b\b\b\b\b 43% 1 + train_parsed.csv\b\b\b\b\b\b\b\b\b\b\b\b\b\b\b\b\b\b\b\b\b\b\b\b\b                         \b\b\b\b\b\b\b\b\b\b\b\b\b\b\b\b\b\b\b\b\b\b\b\b\b 45% 1 + train_parsed.csv\b\b\b\b\b\b\b\b\b\b\b\b\b\b\b\b\b\b\b\b\b\b\b\b\b                         \b\b\b\b\b\b\b\b\b\b\b\b\b\b\b\b\b\b\b\b\b\b\b\b\b 46% 1 + train_parsed.csv\b\b\b\b\b\b\b\b\b\b\b\b\b\b\b\b\b\b\b\b\b\b\b\b\b                         \b\b\b\b\b\b\b\b\b\b\b\b\b\b\b\b\b\b\b\b\b\b\b\b\b 47% 1 + train_parsed.csv\b\b\b\b\b\b\b\b\b\b\b\b\b\b\b\b\b\b\b\b\b\b\b\b\b                         \b\b\b\b\b\b\b\b\b\b\b\b\b\b\b\b\b\b\b\b\b\b\b\b\b 48% 1 + train_parsed.csv\b\b\b\b\b\b\b\b\b\b\b\b\b\b\b\b\b\b\b\b\b\b\b\b\b                         \b\b\b\b\b\b\b\b\b\b\b\b\b\b\b\b\b\b\b\b\b\b\b\b\b 49% 1 + train_parsed.csv\b\b\b\b\b\b\b\b\b\b\b\b\b\b\b\b\b\b\b\b\b\b\b\b\b                         \b\b\b\b\b\b\b\b\b\b\b\b\b\b\b\b\b\b\b\b\b\b\b\b\b 50% 1 + train_parsed.csv\b\b\b\b\b\b\b\b\b\b\b\b\b\b\b\b\b\b\b\b\b\b\b\b\b                         \b\b\b\b\b\b\b\b\b\b\b\b\b\b\b\b\b\b\b\b\b\b\b\b\b 51% 1 + train_parsed.csv\b\b\b\b\b\b\b\b\b\b\b\b\b\b\b\b\b\b\b\b\b\b\b\b\b                         \b\b\b\b\b\b\b\b\b\b\b\b\b\b\b\b\b\b\b\b\b\b\b\b\b 53% 1 + train_parsed.csv\b\b\b\b\b\b\b\b\b\b\b\b\b\b\b\b\b\b\b\b\b\b\b\b\b                         \b\b\b\b\b\b\b\b\b\b\b\b\b\b\b\b\b\b\b\b\b\b\b\b\b 54% 1 + train_parsed.csv\b\b\b\b\b\b\b\b\b\b\b\b\b\b\b\b\b\b\b\b\b\b\b\b\b                         \b\b\b\b\b\b\b\b\b\b\b\b\b\b\b\b\b\b\b\b\b\b\b\b\b 55% 1 + train_parsed.csv\b\b\b\b\b\b\b\b\b\b\b\b\b\b\b\b\b\b\b\b\b\b\b\b\b                         \b\b\b\b\b\b\b\b\b\b\b\b\b\b\b\b\b\b\b\b\b\b\b\b\b 56% 1 + train_parsed.csv\b\b\b\b\b\b\b\b\b\b\b\b\b\b\b\b\b\b\b\b\b\b\b\b\b                         \b\b\b\b\b\b\b\b\b\b\b\b\b\b\b\b\b\b\b\b\b\b\b\b\b 57% 1 + train_parsed.csv\b\b\b\b\b\b\b\b\b\b\b\b\b\b\b\b\b\b\b\b\b\b\b\b\b                         \b\b\b\b\b\b\b\b\b\b\b\b\b\b\b\b\b\b\b\b\b\b\b\b\b 58% 1 + train_parsed.csv\b\b\b\b\b\b\b\b\b\b\b\b\b\b\b\b\b\b\b\b\b\b\b\b\b                         \b\b\b\b\b\b\b\b\b\b\b\b\b\b\b\b\b\b\b\b\b\b\b\b\b 59% 1 + train_parsed.csv\b\b\b\b\b\b\b\b\b\b\b\b\b\b\b\b\b\b\b\b\b\b\b\b\b                         \b\b\b\b\b\b\b\b\b\b\b\b\b\b\b\b\b\b\b\b\b\b\b\b\b 60% 1 + train_parsed.csv\b\b\b\b\b\b\b\b\b\b\b\b\b\b\b\b\b\b\b\b\b\b\b\b\b                         \b\b\b\b\b\b\b\b\b\b\b\b\b\b\b\b\b\b\b\b\b\b\b\b\b 61% 1 + train_parsed.csv\b\b\b\b\b\b\b\b\b\b\b\b\b\b\b\b\b\b\b\b\b\b\b\b\b                         \b\b\b\b\b\b\b\b\b\b\b\b\b\b\b\b\b\b\b\b\b\b\b\b\b 62% 1 + train_parsed.csv\b\b\b\b\b\b\b\b\b\b\b\b\b\b\b\b\b\b\b\b\b\b\b\b\b                         \b\b\b\b\b\b\b\b\b\b\b\b\b\b\b\b\b\b\b\b\b\b\b\b\b 64% 1 + train_parsed.csv\b\b\b\b\b\b\b\b\b\b\b\b\b\b\b\b\b\b\b\b\b\b\b\b\b                         \b\b\b\b\b\b\b\b\b\b\b\b\b\b\b\b\b\b\b\b\b\b\b\b\b 65% 1 + train_parsed.csv\b\b\b\b\b\b\b\b\b\b\b\b\b\b\b\b\b\b\b\b\b\b\b\b\b                         \b\b\b\b\b\b\b\b\b\b\b\b\b\b\b\b\b\b\b\b\b\b\b\b\b 66% 1 + train_parsed.csv\b\b\b\b\b\b\b\b\b\b\b\b\b\b\b\b\b\b\b\b\b\b\b\b\b                         \b\b\b\b\b\b\b\b\b\b\b\b\b\b\b\b\b\b\b\b\b\b\b\b\b 67% 1 + train_parsed.csv\b\b\b\b\b\b\b\b\b\b\b\b\b\b\b\b\b\b\b\b\b\b\b\b\b                         \b\b\b\b\b\b\b\b\b\b\b\b\b\b\b\b\b\b\b\b\b\b\b\b\b 69% 1 + train_parsed.csv\b\b\b\b\b\b\b\b\b\b\b\b\b\b\b\b\b\b\b\b\b\b\b\b\b                         \b\b\b\b\b\b\b\b\b\b\b\b\b\b\b\b\b\b\b\b\b\b\b\b\b 70% 1 + train_parsed.csv\b\b\b\b\b\b\b\b\b\b\b\b\b\b\b\b\b\b\b\b\b\b\b\b\b                         \b\b\b\b\b\b\b\b\b\b\b\b\b\b\b\b\b\b\b\b\b\b\b\b\b 71% 1 + train_parsed.csv\b\b\b\b\b\b\b\b\b\b\b\b\b\b\b\b\b\b\b\b\b\b\b\b\b                         \b\b\b\b\b\b\b\b\b\b\b\b\b\b\b\b\b\b\b\b\b\b\b\b\b 72% 1 + train_parsed.csv\b\b\b\b\b\b\b\b\b\b\b\b\b\b\b\b\b\b\b\b\b\b\b\b\b                         \b\b\b\b\b\b\b\b\b\b\b\b\b\b\b\b\b\b\b\b\b\b\b\b\b 73% 1 + train_parsed.csv\b\b\b\b\b\b\b\b\b\b\b\b\b\b\b\b\b\b\b\b\b\b\b\b\b                         \b\b\b\b\b\b\b\b\b\b\b\b\b\b\b\b\b\b\b\b\b\b\b\b\b 74% 1 + train_parsed.csv\b\b\b\b\b\b\b\b\b\b\b\b\b\b\b\b\b\b\b\b\b\b\b\b\b                         \b\b\b\b\b\b\b\b\b\b\b\b\b\b\b\b\b\b\b\b\b\b\b\b\b 75% 1 + train_parsed.csv\b\b\b\b\b\b\b\b\b\b\b\b\b\b\b\b\b\b\b\b\b\b\b\b\b                         \b\b\b\b\b\b\b\b\b\b\b\b\b\b\b\b\b\b\b\b\b\b\b\b\b 77% 1 + train_parsed.csv\b\b\b\b\b\b\b\b\b\b\b\b\b\b\b\b\b\b\b\b\b\b\b\b\b                         \b\b\b\b\b\b\b\b\b\b\b\b\b\b\b\b\b\b\b\b\b\b\b\b\b 78% 1 + train_parsed.csv\b\b\b\b\b\b\b\b\b\b\b\b\b\b\b\b\b\b\b\b\b\b\b\b\b                         \b\b\b\b\b\b\b\b\b\b\b\b\b\b\b\b\b\b\b\b\b\b\b\b\b 79% 1 + train_parsed.csv\b\b\b\b\b\b\b\b\b\b\b\b\b\b\b\b\b\b\b\b\b\b\b\b\b                         \b\b\b\b\b\b\b\b\b\b\b\b\b\b\b\b\b\b\b\b\b\b\b\b\b 80% 1 + train_parsed.csv\b\b\b\b\b\b\b\b\b\b\b\b\b\b\b\b\b\b\b\b\b\b\b\b\b                         \b\b\b\b\b\b\b\b\b\b\b\b\b\b\b\b\b\b\b\b\b\b\b\b\b 81% 1 + train_parsed.csv\b\b\b\b\b\b\b\b\b\b\b\b\b\b\b\b\b\b\b\b\b\b\b\b\b                         \b\b\b\b\b\b\b\b\b\b\b\b\b\b\b\b\b\b\b\b\b\b\b\b\b 82% 1 + train_parsed.csv\b\b\b\b\b\b\b\b\b\b\b\b\b\b\b\b\b\b\b\b\b\b\b\b\b                         \b\b\b\b\b\b\b\b\b\b\b\b\b\b\b\b\b\b\b\b\b\b\b\b\b 84% 1 + train_parsed.csv\b\b\b\b\b\b\b\b\b\b\b\b\b\b\b\b\b\b\b\b\b\b\b\b\b                         \b\b\b\b\b\b\b\b\b\b\b\b\b\b\b\b\b\b\b\b\b\b\b\b\b 85% 1 + train_parsed.csv\b\b\b\b\b\b\b\b\b\b\b\b\b\b\b\b\b\b\b\b\b\b\b\b\b                         \b\b\b\b\b\b\b\b\b\b\b\b\b\b\b\b\b\b\b\b\b\b\b\b\b 86% 2 + val_parsed.csv\b\b\b\b\b\b\b\b\b\b\b\b\b\b\b\b\b\b\b\b\b\b\b                       \b\b\b\b\b\b\b\b\b\b\b\b\b\b\b\b\b\b\b\b\b\b\b 88% 2 + val_parsed.csv\b\b\b\b\b\b\b\b\b\b\b\b\b\b\b\b\b\b\b\b\b\b\b                       \b\b\b\b\b\b\b\b\b\b\b\b\b\b\b\b\b\b\b\b\b\b\b 89% 2 + val_parsed.csv\b\b\b\b\b\b\b\b\b\b\b\b\b\b\b\b\b\b\b\b\b\b\b                       \b\b\b\b\b\b\b\b\b\b\b\b\b\b\b\b\b\b\b\b\b\b\b 90% 2 + val_parsed.csv\b\b\b\b\b\b\b\b\b\b\b\b\b\b\b\b\b\b\b\b\b\b\b                       \b\b\b\b\b\b\b\b\b\b\b\b\b\b\b\b\b\b\b\b\b\b\b 91% 2 + val_parsed.csv\b\b\b\b\b\b\b\b\b\b\b\b\b\b\b\b\b\b\b\b\b\b\b                       \b\b\b\b\b\b\b\b\b\b\b\b\b\b\b\b\b\b\b\b\b\b\b 92% 2 + val_parsed.csv\b\b\b\b\b\b\b\b\b\b\b\b\b\b\b\b\b\b\b\b\b\b\b                       \b\b\b\b\b\b\b\b\b\b\b\b\b\b\b\b\b\b\b\b\b\b\b 93% 2 + val_parsed.csv\b\b\b\b\b\b\b\b\b\b\b\b\b\b\b\b\b\b\b\b\b\b\b                       \b\b\b\b\b\b\b\b\b\b\b\b\b\b\b\b\b\b\b\b\b\b\b 94% 2 + val_parsed.csv\b\b\b\b\b\b\b\b\b\b\b\b\b\b\b\b\b\b\b\b\b\b\b                       \b\b\b\b\b\b\b\b\b\b\b\b\b\b\b\b\b\b\b\b\b\b\b 95% 2 + val_parsed.csv\b\b\b\b\b\b\b\b\b\b\b\b\b\b\b\b\b\b\b\b\b\b\b                       \b\b\b\b\b\b\b\b\b\b\b\b\b\b\b\b\b\b\b\b\b\b\b 96% 2 + val_parsed.csv\b\b\b\b\b\b\b\b\b\b\b\b\b\b\b\b\b\b\b\b\b\b\b                       \b\b\b\b\b\b\b\b\b\b\b\b\b\b\b\b\b\b\b\b\b\b\b 97% 2 + val_parsed.csv\b\b\b\b\b\b\b\b\b\b\b\b\b\b\b\b\b\b\b\b\b\b\b                       \b\b\b\b\b\b\b\b\b\b\b\b\b\b\b\b\b\b\b\b\b\b\b 99% 2 + val_parsed.csv\b\b\b\b\b\b\b\b\b\b\b\b\b\b\b\b\b\b\b\b\b\b\b                       \b\b\b\b\b\b\b\b\b\b\b\b\b\b\b\b\b\b\b\b\b\b\b100% 3 + val_parsed.csv\b\b\b\b\b\b\b\b\b\b\b\b\b\b\b\b\b\b\b\b\b\b\b                       \b\b\b\b\b\b\b\b\b\b\b\b\b\b\b\b\b\b\b\b\b\b\b\n",
            "Files read from disk: 3\n",
            "Archive size: 10005411 bytes (9771 KiB)\n",
            "Everything is Ok\n"
          ],
          "name": "stdout"
        }
      ]
    },
    {
      "cell_type": "markdown",
      "metadata": {
        "id": "5vxsnujHtuKr"
      },
      "source": [
        "# Exploration"
      ]
    },
    {
      "cell_type": "code",
      "metadata": {
        "colab": {
          "base_uri": "https://localhost:8080/",
          "height": 712
        },
        "id": "-JD67rQ9U8Ts",
        "outputId": "82c913fb-d978-4620-a18b-667f17ad49e6"
      },
      "source": [
        "train.corr()"
      ],
      "execution_count": 86,
      "outputs": [
        {
          "output_type": "execute_result",
          "data": {
            "text/html": [
              "<div>\n",
              "<style scoped>\n",
              "    .dataframe tbody tr th:only-of-type {\n",
              "        vertical-align: middle;\n",
              "    }\n",
              "\n",
              "    .dataframe tbody tr th {\n",
              "        vertical-align: top;\n",
              "    }\n",
              "\n",
              "    .dataframe thead th {\n",
              "        text-align: right;\n",
              "    }\n",
              "</style>\n",
              "<table border=\"1\" class=\"dataframe\">\n",
              "  <thead>\n",
              "    <tr style=\"text-align: right;\">\n",
              "      <th></th>\n",
              "      <th>alchemy_category_score</th>\n",
              "      <th>avglinksize</th>\n",
              "      <th>commonlinkratio_1</th>\n",
              "      <th>commonlinkratio_2</th>\n",
              "      <th>commonlinkratio_3</th>\n",
              "      <th>commonlinkratio_4</th>\n",
              "      <th>compression_ratio</th>\n",
              "      <th>embed_ratio</th>\n",
              "      <th>frameTagRatio</th>\n",
              "      <th>html_ratio</th>\n",
              "      <th>image_ratio</th>\n",
              "      <th>is_news</th>\n",
              "      <th>lengthyLinkDomain</th>\n",
              "      <th>linkwordscore</th>\n",
              "      <th>non_markup_alphanum_characters</th>\n",
              "      <th>numberOfLinks</th>\n",
              "      <th>numwords_in_url</th>\n",
              "      <th>parametrizedLinkRatio</th>\n",
              "      <th>spelling_errors_ratio</th>\n",
              "      <th>alchemy_labels</th>\n",
              "      <th>tld_labels</th>\n",
              "      <th>label</th>\n",
              "    </tr>\n",
              "  </thead>\n",
              "  <tbody>\n",
              "    <tr>\n",
              "      <th>alchemy_category_score</th>\n",
              "      <td>1.000000</td>\n",
              "      <td>0.161287</td>\n",
              "      <td>0.317494</td>\n",
              "      <td>0.233315</td>\n",
              "      <td>0.131352</td>\n",
              "      <td>0.086577</td>\n",
              "      <td>0.470981</td>\n",
              "      <td>-0.483037</td>\n",
              "      <td>0.452553</td>\n",
              "      <td>0.540951</td>\n",
              "      <td>-0.104151</td>\n",
              "      <td>0.473958</td>\n",
              "      <td>0.083386</td>\n",
              "      <td>0.501314</td>\n",
              "      <td>-0.488599</td>\n",
              "      <td>0.209661</td>\n",
              "      <td>0.506669</td>\n",
              "      <td>0.335362</td>\n",
              "      <td>0.553880</td>\n",
              "      <td>0.758461</td>\n",
              "      <td>0.586492</td>\n",
              "      <td>-0.109530</td>\n",
              "    </tr>\n",
              "    <tr>\n",
              "      <th>avglinksize</th>\n",
              "      <td>0.161287</td>\n",
              "      <td>1.000000</td>\n",
              "      <td>0.279188</td>\n",
              "      <td>0.260828</td>\n",
              "      <td>0.313549</td>\n",
              "      <td>0.308017</td>\n",
              "      <td>0.149891</td>\n",
              "      <td>-0.136789</td>\n",
              "      <td>0.085526</td>\n",
              "      <td>0.143381</td>\n",
              "      <td>-0.054458</td>\n",
              "      <td>0.104104</td>\n",
              "      <td>0.114773</td>\n",
              "      <td>0.281496</td>\n",
              "      <td>-0.333111</td>\n",
              "      <td>0.123163</td>\n",
              "      <td>0.149777</td>\n",
              "      <td>0.107499</td>\n",
              "      <td>0.159614</td>\n",
              "      <td>0.132628</td>\n",
              "      <td>0.154901</td>\n",
              "      <td>-0.017106</td>\n",
              "    </tr>\n",
              "    <tr>\n",
              "      <th>commonlinkratio_1</th>\n",
              "      <td>0.317494</td>\n",
              "      <td>0.279188</td>\n",
              "      <td>1.000000</td>\n",
              "      <td>0.764869</td>\n",
              "      <td>0.539650</td>\n",
              "      <td>0.337023</td>\n",
              "      <td>0.406592</td>\n",
              "      <td>-0.367310</td>\n",
              "      <td>0.162450</td>\n",
              "      <td>0.291735</td>\n",
              "      <td>-0.128404</td>\n",
              "      <td>0.402597</td>\n",
              "      <td>0.329837</td>\n",
              "      <td>0.653818</td>\n",
              "      <td>-0.392774</td>\n",
              "      <td>0.432652</td>\n",
              "      <td>0.469498</td>\n",
              "      <td>0.141881</td>\n",
              "      <td>0.331405</td>\n",
              "      <td>0.325051</td>\n",
              "      <td>0.373004</td>\n",
              "      <td>-0.131879</td>\n",
              "    </tr>\n",
              "    <tr>\n",
              "      <th>commonlinkratio_2</th>\n",
              "      <td>0.233315</td>\n",
              "      <td>0.260828</td>\n",
              "      <td>0.764869</td>\n",
              "      <td>1.000000</td>\n",
              "      <td>0.659217</td>\n",
              "      <td>0.433438</td>\n",
              "      <td>0.260928</td>\n",
              "      <td>-0.239741</td>\n",
              "      <td>0.096954</td>\n",
              "      <td>0.165267</td>\n",
              "      <td>-0.090431</td>\n",
              "      <td>0.235077</td>\n",
              "      <td>0.323026</td>\n",
              "      <td>0.395747</td>\n",
              "      <td>-0.240636</td>\n",
              "      <td>0.338277</td>\n",
              "      <td>0.299518</td>\n",
              "      <td>0.080898</td>\n",
              "      <td>0.235302</td>\n",
              "      <td>0.239195</td>\n",
              "      <td>0.209536</td>\n",
              "      <td>-0.091562</td>\n",
              "    </tr>\n",
              "    <tr>\n",
              "      <th>commonlinkratio_3</th>\n",
              "      <td>0.131352</td>\n",
              "      <td>0.313549</td>\n",
              "      <td>0.539650</td>\n",
              "      <td>0.659217</td>\n",
              "      <td>1.000000</td>\n",
              "      <td>0.736795</td>\n",
              "      <td>0.230465</td>\n",
              "      <td>-0.214682</td>\n",
              "      <td>0.066928</td>\n",
              "      <td>0.101324</td>\n",
              "      <td>-0.100384</td>\n",
              "      <td>0.262237</td>\n",
              "      <td>0.392948</td>\n",
              "      <td>0.335187</td>\n",
              "      <td>-0.203249</td>\n",
              "      <td>0.255686</td>\n",
              "      <td>0.263471</td>\n",
              "      <td>0.061773</td>\n",
              "      <td>0.172344</td>\n",
              "      <td>0.155001</td>\n",
              "      <td>0.170183</td>\n",
              "      <td>-0.057964</td>\n",
              "    </tr>\n",
              "    <tr>\n",
              "      <th>commonlinkratio_4</th>\n",
              "      <td>0.086577</td>\n",
              "      <td>0.308017</td>\n",
              "      <td>0.337023</td>\n",
              "      <td>0.433438</td>\n",
              "      <td>0.736795</td>\n",
              "      <td>1.000000</td>\n",
              "      <td>0.163839</td>\n",
              "      <td>-0.153210</td>\n",
              "      <td>0.050898</td>\n",
              "      <td>0.059003</td>\n",
              "      <td>-0.075776</td>\n",
              "      <td>0.182351</td>\n",
              "      <td>0.327775</td>\n",
              "      <td>0.231616</td>\n",
              "      <td>-0.155784</td>\n",
              "      <td>0.180018</td>\n",
              "      <td>0.162163</td>\n",
              "      <td>0.019242</td>\n",
              "      <td>0.100439</td>\n",
              "      <td>0.089868</td>\n",
              "      <td>0.114916</td>\n",
              "      <td>-0.044074</td>\n",
              "    </tr>\n",
              "    <tr>\n",
              "      <th>compression_ratio</th>\n",
              "      <td>0.470981</td>\n",
              "      <td>0.149891</td>\n",
              "      <td>0.406592</td>\n",
              "      <td>0.260928</td>\n",
              "      <td>0.230465</td>\n",
              "      <td>0.163839</td>\n",
              "      <td>1.000000</td>\n",
              "      <td>-0.976554</td>\n",
              "      <td>0.426003</td>\n",
              "      <td>0.524320</td>\n",
              "      <td>-0.557325</td>\n",
              "      <td>0.460921</td>\n",
              "      <td>0.045701</td>\n",
              "      <td>0.550374</td>\n",
              "      <td>-0.500381</td>\n",
              "      <td>0.129469</td>\n",
              "      <td>0.558625</td>\n",
              "      <td>0.459908</td>\n",
              "      <td>0.538087</td>\n",
              "      <td>0.498978</td>\n",
              "      <td>0.515055</td>\n",
              "      <td>-0.060412</td>\n",
              "    </tr>\n",
              "    <tr>\n",
              "      <th>embed_ratio</th>\n",
              "      <td>-0.483037</td>\n",
              "      <td>-0.136789</td>\n",
              "      <td>-0.367310</td>\n",
              "      <td>-0.239741</td>\n",
              "      <td>-0.214682</td>\n",
              "      <td>-0.153210</td>\n",
              "      <td>-0.976554</td>\n",
              "      <td>1.000000</td>\n",
              "      <td>-0.426268</td>\n",
              "      <td>-0.503734</td>\n",
              "      <td>0.591099</td>\n",
              "      <td>-0.494972</td>\n",
              "      <td>-0.040370</td>\n",
              "      <td>-0.497288</td>\n",
              "      <td>0.471031</td>\n",
              "      <td>-0.110120</td>\n",
              "      <td>-0.532050</td>\n",
              "      <td>-0.415273</td>\n",
              "      <td>-0.523965</td>\n",
              "      <td>-0.536353</td>\n",
              "      <td>-0.477203</td>\n",
              "      <td>0.051947</td>\n",
              "    </tr>\n",
              "    <tr>\n",
              "      <th>frameTagRatio</th>\n",
              "      <td>0.452553</td>\n",
              "      <td>0.085526</td>\n",
              "      <td>0.162450</td>\n",
              "      <td>0.096954</td>\n",
              "      <td>0.066928</td>\n",
              "      <td>0.050898</td>\n",
              "      <td>0.426003</td>\n",
              "      <td>-0.426268</td>\n",
              "      <td>1.000000</td>\n",
              "      <td>0.930080</td>\n",
              "      <td>-0.151479</td>\n",
              "      <td>0.362483</td>\n",
              "      <td>0.025811</td>\n",
              "      <td>0.322118</td>\n",
              "      <td>-0.510066</td>\n",
              "      <td>0.088453</td>\n",
              "      <td>0.404688</td>\n",
              "      <td>0.296558</td>\n",
              "      <td>0.710418</td>\n",
              "      <td>0.426124</td>\n",
              "      <td>0.745383</td>\n",
              "      <td>-0.069571</td>\n",
              "    </tr>\n",
              "    <tr>\n",
              "      <th>html_ratio</th>\n",
              "      <td>0.540951</td>\n",
              "      <td>0.143381</td>\n",
              "      <td>0.291735</td>\n",
              "      <td>0.165267</td>\n",
              "      <td>0.101324</td>\n",
              "      <td>0.059003</td>\n",
              "      <td>0.524320</td>\n",
              "      <td>-0.503734</td>\n",
              "      <td>0.930080</td>\n",
              "      <td>1.000000</td>\n",
              "      <td>-0.159427</td>\n",
              "      <td>0.383130</td>\n",
              "      <td>0.045466</td>\n",
              "      <td>0.497741</td>\n",
              "      <td>-0.628220</td>\n",
              "      <td>0.166038</td>\n",
              "      <td>0.504407</td>\n",
              "      <td>0.341749</td>\n",
              "      <td>0.778298</td>\n",
              "      <td>0.496792</td>\n",
              "      <td>0.832431</td>\n",
              "      <td>-0.092852</td>\n",
              "    </tr>\n",
              "    <tr>\n",
              "      <th>image_ratio</th>\n",
              "      <td>-0.104151</td>\n",
              "      <td>-0.054458</td>\n",
              "      <td>-0.128404</td>\n",
              "      <td>-0.090431</td>\n",
              "      <td>-0.100384</td>\n",
              "      <td>-0.075776</td>\n",
              "      <td>-0.557325</td>\n",
              "      <td>0.591099</td>\n",
              "      <td>-0.151479</td>\n",
              "      <td>-0.159427</td>\n",
              "      <td>1.000000</td>\n",
              "      <td>-0.188598</td>\n",
              "      <td>0.013017</td>\n",
              "      <td>-0.124602</td>\n",
              "      <td>0.136297</td>\n",
              "      <td>0.135314</td>\n",
              "      <td>-0.138773</td>\n",
              "      <td>-0.178643</td>\n",
              "      <td>-0.131863</td>\n",
              "      <td>-0.158446</td>\n",
              "      <td>-0.114753</td>\n",
              "      <td>-0.034139</td>\n",
              "    </tr>\n",
              "    <tr>\n",
              "      <th>is_news</th>\n",
              "      <td>0.473958</td>\n",
              "      <td>0.104104</td>\n",
              "      <td>0.402597</td>\n",
              "      <td>0.235077</td>\n",
              "      <td>0.262237</td>\n",
              "      <td>0.182351</td>\n",
              "      <td>0.460921</td>\n",
              "      <td>-0.494972</td>\n",
              "      <td>0.362483</td>\n",
              "      <td>0.383130</td>\n",
              "      <td>-0.188598</td>\n",
              "      <td>1.000000</td>\n",
              "      <td>0.178785</td>\n",
              "      <td>0.546324</td>\n",
              "      <td>-0.422143</td>\n",
              "      <td>0.219691</td>\n",
              "      <td>0.485759</td>\n",
              "      <td>0.224399</td>\n",
              "      <td>0.396789</td>\n",
              "      <td>0.523520</td>\n",
              "      <td>0.430797</td>\n",
              "      <td>-0.094167</td>\n",
              "    </tr>\n",
              "    <tr>\n",
              "      <th>lengthyLinkDomain</th>\n",
              "      <td>0.083386</td>\n",
              "      <td>0.114773</td>\n",
              "      <td>0.329837</td>\n",
              "      <td>0.323026</td>\n",
              "      <td>0.392948</td>\n",
              "      <td>0.327775</td>\n",
              "      <td>0.045701</td>\n",
              "      <td>-0.040370</td>\n",
              "      <td>0.025811</td>\n",
              "      <td>0.045466</td>\n",
              "      <td>0.013017</td>\n",
              "      <td>0.178785</td>\n",
              "      <td>1.000000</td>\n",
              "      <td>0.269551</td>\n",
              "      <td>-0.149419</td>\n",
              "      <td>0.343234</td>\n",
              "      <td>0.232925</td>\n",
              "      <td>0.030858</td>\n",
              "      <td>0.054487</td>\n",
              "      <td>0.105203</td>\n",
              "      <td>0.135531</td>\n",
              "      <td>-0.092725</td>\n",
              "    </tr>\n",
              "    <tr>\n",
              "      <th>linkwordscore</th>\n",
              "      <td>0.501314</td>\n",
              "      <td>0.281496</td>\n",
              "      <td>0.653818</td>\n",
              "      <td>0.395747</td>\n",
              "      <td>0.335187</td>\n",
              "      <td>0.231616</td>\n",
              "      <td>0.550374</td>\n",
              "      <td>-0.497288</td>\n",
              "      <td>0.322118</td>\n",
              "      <td>0.497741</td>\n",
              "      <td>-0.124602</td>\n",
              "      <td>0.546324</td>\n",
              "      <td>0.269551</td>\n",
              "      <td>1.000000</td>\n",
              "      <td>-0.777846</td>\n",
              "      <td>0.434097</td>\n",
              "      <td>0.599010</td>\n",
              "      <td>0.365938</td>\n",
              "      <td>0.480563</td>\n",
              "      <td>0.490728</td>\n",
              "      <td>0.577641</td>\n",
              "      <td>-0.129953</td>\n",
              "    </tr>\n",
              "    <tr>\n",
              "      <th>non_markup_alphanum_characters</th>\n",
              "      <td>-0.488599</td>\n",
              "      <td>-0.333111</td>\n",
              "      <td>-0.392774</td>\n",
              "      <td>-0.240636</td>\n",
              "      <td>-0.203249</td>\n",
              "      <td>-0.155784</td>\n",
              "      <td>-0.500381</td>\n",
              "      <td>0.471031</td>\n",
              "      <td>-0.510066</td>\n",
              "      <td>-0.628220</td>\n",
              "      <td>0.136297</td>\n",
              "      <td>-0.422143</td>\n",
              "      <td>-0.149419</td>\n",
              "      <td>-0.777846</td>\n",
              "      <td>1.000000</td>\n",
              "      <td>-0.482656</td>\n",
              "      <td>-0.501467</td>\n",
              "      <td>-0.385398</td>\n",
              "      <td>-0.536004</td>\n",
              "      <td>-0.469653</td>\n",
              "      <td>-0.636826</td>\n",
              "      <td>0.079499</td>\n",
              "    </tr>\n",
              "    <tr>\n",
              "      <th>numberOfLinks</th>\n",
              "      <td>0.209661</td>\n",
              "      <td>0.123163</td>\n",
              "      <td>0.432652</td>\n",
              "      <td>0.338277</td>\n",
              "      <td>0.255686</td>\n",
              "      <td>0.180018</td>\n",
              "      <td>0.129469</td>\n",
              "      <td>-0.110120</td>\n",
              "      <td>0.088453</td>\n",
              "      <td>0.166038</td>\n",
              "      <td>0.135314</td>\n",
              "      <td>0.219691</td>\n",
              "      <td>0.343234</td>\n",
              "      <td>0.434097</td>\n",
              "      <td>-0.482656</td>\n",
              "      <td>1.000000</td>\n",
              "      <td>0.319455</td>\n",
              "      <td>0.157265</td>\n",
              "      <td>0.203173</td>\n",
              "      <td>0.184903</td>\n",
              "      <td>0.265711</td>\n",
              "      <td>-0.128280</td>\n",
              "    </tr>\n",
              "    <tr>\n",
              "      <th>numwords_in_url</th>\n",
              "      <td>0.506669</td>\n",
              "      <td>0.149777</td>\n",
              "      <td>0.469498</td>\n",
              "      <td>0.299518</td>\n",
              "      <td>0.263471</td>\n",
              "      <td>0.162163</td>\n",
              "      <td>0.558625</td>\n",
              "      <td>-0.532050</td>\n",
              "      <td>0.404688</td>\n",
              "      <td>0.504407</td>\n",
              "      <td>-0.138773</td>\n",
              "      <td>0.485759</td>\n",
              "      <td>0.232925</td>\n",
              "      <td>0.599010</td>\n",
              "      <td>-0.501467</td>\n",
              "      <td>0.319455</td>\n",
              "      <td>1.000000</td>\n",
              "      <td>0.331757</td>\n",
              "      <td>0.476034</td>\n",
              "      <td>0.443833</td>\n",
              "      <td>0.570684</td>\n",
              "      <td>-0.126248</td>\n",
              "    </tr>\n",
              "    <tr>\n",
              "      <th>parametrizedLinkRatio</th>\n",
              "      <td>0.335362</td>\n",
              "      <td>0.107499</td>\n",
              "      <td>0.141881</td>\n",
              "      <td>0.080898</td>\n",
              "      <td>0.061773</td>\n",
              "      <td>0.019242</td>\n",
              "      <td>0.459908</td>\n",
              "      <td>-0.415273</td>\n",
              "      <td>0.296558</td>\n",
              "      <td>0.341749</td>\n",
              "      <td>-0.178643</td>\n",
              "      <td>0.224399</td>\n",
              "      <td>0.030858</td>\n",
              "      <td>0.365938</td>\n",
              "      <td>-0.385398</td>\n",
              "      <td>0.157265</td>\n",
              "      <td>0.331757</td>\n",
              "      <td>1.000000</td>\n",
              "      <td>0.350838</td>\n",
              "      <td>0.317383</td>\n",
              "      <td>0.399576</td>\n",
              "      <td>-0.050440</td>\n",
              "    </tr>\n",
              "    <tr>\n",
              "      <th>spelling_errors_ratio</th>\n",
              "      <td>0.553880</td>\n",
              "      <td>0.159614</td>\n",
              "      <td>0.331405</td>\n",
              "      <td>0.235302</td>\n",
              "      <td>0.172344</td>\n",
              "      <td>0.100439</td>\n",
              "      <td>0.538087</td>\n",
              "      <td>-0.523965</td>\n",
              "      <td>0.710418</td>\n",
              "      <td>0.778298</td>\n",
              "      <td>-0.131863</td>\n",
              "      <td>0.396789</td>\n",
              "      <td>0.054487</td>\n",
              "      <td>0.480563</td>\n",
              "      <td>-0.536004</td>\n",
              "      <td>0.203173</td>\n",
              "      <td>0.476034</td>\n",
              "      <td>0.350838</td>\n",
              "      <td>1.000000</td>\n",
              "      <td>0.475589</td>\n",
              "      <td>0.742299</td>\n",
              "      <td>-0.087159</td>\n",
              "    </tr>\n",
              "    <tr>\n",
              "      <th>alchemy_labels</th>\n",
              "      <td>0.758461</td>\n",
              "      <td>0.132628</td>\n",
              "      <td>0.325051</td>\n",
              "      <td>0.239195</td>\n",
              "      <td>0.155001</td>\n",
              "      <td>0.089868</td>\n",
              "      <td>0.498978</td>\n",
              "      <td>-0.536353</td>\n",
              "      <td>0.426124</td>\n",
              "      <td>0.496792</td>\n",
              "      <td>-0.158446</td>\n",
              "      <td>0.523520</td>\n",
              "      <td>0.105203</td>\n",
              "      <td>0.490728</td>\n",
              "      <td>-0.469653</td>\n",
              "      <td>0.184903</td>\n",
              "      <td>0.443833</td>\n",
              "      <td>0.317383</td>\n",
              "      <td>0.475589</td>\n",
              "      <td>1.000000</td>\n",
              "      <td>0.541400</td>\n",
              "      <td>-0.082229</td>\n",
              "    </tr>\n",
              "    <tr>\n",
              "      <th>tld_labels</th>\n",
              "      <td>0.586492</td>\n",
              "      <td>0.154901</td>\n",
              "      <td>0.373004</td>\n",
              "      <td>0.209536</td>\n",
              "      <td>0.170183</td>\n",
              "      <td>0.114916</td>\n",
              "      <td>0.515055</td>\n",
              "      <td>-0.477203</td>\n",
              "      <td>0.745383</td>\n",
              "      <td>0.832431</td>\n",
              "      <td>-0.114753</td>\n",
              "      <td>0.430797</td>\n",
              "      <td>0.135531</td>\n",
              "      <td>0.577641</td>\n",
              "      <td>-0.636826</td>\n",
              "      <td>0.265711</td>\n",
              "      <td>0.570684</td>\n",
              "      <td>0.399576</td>\n",
              "      <td>0.742299</td>\n",
              "      <td>0.541400</td>\n",
              "      <td>1.000000</td>\n",
              "      <td>-0.126305</td>\n",
              "    </tr>\n",
              "    <tr>\n",
              "      <th>label</th>\n",
              "      <td>-0.109530</td>\n",
              "      <td>-0.017106</td>\n",
              "      <td>-0.131879</td>\n",
              "      <td>-0.091562</td>\n",
              "      <td>-0.057964</td>\n",
              "      <td>-0.044074</td>\n",
              "      <td>-0.060412</td>\n",
              "      <td>0.051947</td>\n",
              "      <td>-0.069571</td>\n",
              "      <td>-0.092852</td>\n",
              "      <td>-0.034139</td>\n",
              "      <td>-0.094167</td>\n",
              "      <td>-0.092725</td>\n",
              "      <td>-0.129953</td>\n",
              "      <td>0.079499</td>\n",
              "      <td>-0.128280</td>\n",
              "      <td>-0.126248</td>\n",
              "      <td>-0.050440</td>\n",
              "      <td>-0.087159</td>\n",
              "      <td>-0.082229</td>\n",
              "      <td>-0.126305</td>\n",
              "      <td>1.000000</td>\n",
              "    </tr>\n",
              "  </tbody>\n",
              "</table>\n",
              "</div>"
            ],
            "text/plain": [
              "                                alchemy_category_score  ...     label\n",
              "alchemy_category_score                        1.000000  ... -0.109530\n",
              "avglinksize                                   0.161287  ... -0.017106\n",
              "commonlinkratio_1                             0.317494  ... -0.131879\n",
              "commonlinkratio_2                             0.233315  ... -0.091562\n",
              "commonlinkratio_3                             0.131352  ... -0.057964\n",
              "commonlinkratio_4                             0.086577  ... -0.044074\n",
              "compression_ratio                             0.470981  ... -0.060412\n",
              "embed_ratio                                  -0.483037  ...  0.051947\n",
              "frameTagRatio                                 0.452553  ... -0.069571\n",
              "html_ratio                                    0.540951  ... -0.092852\n",
              "image_ratio                                  -0.104151  ... -0.034139\n",
              "is_news                                       0.473958  ... -0.094167\n",
              "lengthyLinkDomain                             0.083386  ... -0.092725\n",
              "linkwordscore                                 0.501314  ... -0.129953\n",
              "non_markup_alphanum_characters               -0.488599  ...  0.079499\n",
              "numberOfLinks                                 0.209661  ... -0.128280\n",
              "numwords_in_url                               0.506669  ... -0.126248\n",
              "parametrizedLinkRatio                         0.335362  ... -0.050440\n",
              "spelling_errors_ratio                         0.553880  ... -0.087159\n",
              "alchemy_labels                                0.758461  ... -0.082229\n",
              "tld_labels                                    0.586492  ... -0.126305\n",
              "label                                        -0.109530  ...  1.000000\n",
              "\n",
              "[22 rows x 22 columns]"
            ]
          },
          "metadata": {
            "tags": []
          },
          "execution_count": 86
        }
      ]
    },
    {
      "cell_type": "code",
      "metadata": {
        "colab": {
          "base_uri": "https://localhost:8080/",
          "height": 761
        },
        "id": "h7G-f-U2ubr8",
        "outputId": "6f84351e-59ce-4c52-98d4-9a3f0259dbfd"
      },
      "source": [
        "plt.figure(figsize=(10,10))\r\n",
        "sns.heatmap(train.corr(),cmap='RdBu_r', vmin=0)\r\n",
        "plt.show()"
      ],
      "execution_count": 87,
      "outputs": [
        {
          "output_type": "display_data",
          "data": {
            "image/png": "[encoded data removed]",
            "text/plain": [
              "<Figure size 720x720 with 2 Axes>"
            ]
          },
          "metadata": {
            "tags": [],
            "needs_background": "light"
          }
        }
      ]
    },
    {
      "cell_type": "code",
      "metadata": {
        "colab": {
          "base_uri": "https://localhost:8080/",
          "height": 542
        },
        "id": "LSnTXG7UpNgq",
        "outputId": "11481698-cab0-40e6-b7a1-296ef34f87f3"
      },
      "source": [
        "px.histogram(train, x='alchemy_category', color=\"label\", barmode='group')"
      ],
      "execution_count": 88,
      "outputs": [
        {
          "output_type": "display_data",
          "data": {
            "text/html": [
              "<html>\n",
              "<head><meta charset=\"utf-8\" /></head>\n",
              "<body>\n",
              "    <div>\n",
              "            <script src=\"https://cdnjs.cloudflare.com/ajax/libs/mathjax/2.7.5/MathJax.js?config=TeX-AMS-MML_SVG\"></script><script type=\"text/javascript\">if (window.MathJax) {MathJax.Hub.Config({SVG: {font: \"STIX-Web\"}});}</script>\n",
              "                <script type=\"text/javascript\">window.PlotlyConfig = {MathJaxConfig: 'local'};</script>\n",
              "        <script src=\"https://cdn.plot.ly/plotly-latest.min.js\"></script>    \n",
              "            <div id=\"2e2815f2-db66-4935-9dcb-05b8617d0a6d\" class=\"plotly-graph-div\" style=\"height:525px; width:100%;\"></div>\n",
              "            <script type=\"text/javascript\">\n",
              "                \n",
              "                    window.PLOTLYENV=window.PLOTLYENV || {};\n",
              "                    \n",
              "                if (document.getElementById(\"2e2815f2-db66-4935-9dcb-05b8617d0a6d\")) {\n",
              "                    Plotly.newPlot(\n",
              "                        '2e2815f2-db66-4935-9dcb-05b8617d0a6d',\n",
              "                        [{\"alignmentgroup\": \"True\", \"bingroup\": \"x\", \"hoverlabel\": {\"namelength\": 0}, \"hovertemplate\": \"label=0.0<br>alchemy_category=%{x}<br>count=%{y}\", \"legendgroup\": \"label=0.0\", \"marker\": {\"color\": \"#636efa\"}, \"name\": \"label=0.0\", \"offsetgroup\": \"label=0.0\", \"orientation\": \"v\", \"showlegend\": true, \"type\": \"histogram\", \"x\": [\"business\", \"sports\", \"\", \"\", \"business\", \"sports\", \"recreation\", \"recreation\", \"recreation\", \"arts entertainment\", \"sports\", \"health\", \"sports\", \"sports\", \"business\", \"\", \"recreation\", \"\", \"arts entertainment\", \"science technology\", \"\", \"sports\", \"\", \"sports\", \"\", \"business\", \"health\", \"\", \"gaming\", \"culture politics\", \"arts entertainment\", \"\", \"sports\", \"culture politics\", \"\", \"health\", \"sports\", \"computer internet\", \"recreation\", \"\", \"computer internet\", \"business\", \"\", \"recreation\", \"\", \"recreation\", \"recreation\", \"arts entertainment\", \"\", \"culture politics\", \"culture politics\", \"gaming\", \"arts entertainment\", \"\", \"\", \"culture politics\", \"computer internet\", \"business\", \"\", \"recreation\", \"\", \"\", \"\", \"arts entertainment\", \"sports\", \"arts entertainment\", \"business\", \"sports\", \"science technology\", \"computer internet\", \"\", \"recreation\", \"\", \"recreation\", \"\", \"\", \"\", \"arts entertainment\", \"culture politics\", \"\", \"\", \"\", \"sports\", \"culture politics\", \"computer internet\", \"business\", \"\", \"arts entertainment\", \"recreation\", \"recreation\", \"health\", \"science technology\", \"science technology\", \"\", \"culture politics\", \"arts entertainment\", \"\", \"arts entertainment\", \"\", \"\", \"\", \"recreation\", \"recreation\", \"arts entertainment\", \"sports\", \"\", \"\", \"\", \"recreation\", \"computer internet\", \"business\", \"arts entertainment\", \"\", \"\", \"arts entertainment\", \"recreation\", \"arts entertainment\", \"computer internet\", \"health\", \"culture politics\", \"\", \"\", \"health\", \"arts entertainment\", \"religion\", \"recreation\", \"recreation\", \"\", \"health\", \"sports\", \"arts entertainment\", \"\", \"\", \"computer internet\", \"health\", \"\", \"gaming\", \"culture politics\", \"business\", \"computer internet\", \"\", \"\", \"science technology\", \"science technology\", \"culture politics\", \"arts entertainment\", \"arts entertainment\", \"computer internet\", \"arts entertainment\", \"\", \"business\", \"recreation\", \"arts entertainment\", \"\", \"culture politics\", \"sports\", \"\", \"business\", \"culture politics\", \"culture politics\", \"business\", \"health\", \"computer internet\", \"business\", \"\", \"sports\", \"\", \"\", \"health\", \"\", \"\", \"\", \"gaming\", \"recreation\", \"arts entertainment\", \"sports\", \"\", \"arts entertainment\", \"sports\", \"sports\", \"arts entertainment\", \"arts entertainment\", \"arts entertainment\", \"health\", \"\", \"arts entertainment\", \"arts entertainment\", \"business\", \"\", \"sports\", \"sports\", \"\", \"business\", \"recreation\", \"science technology\", \"health\", \"computer internet\", \"\", \"\", \"health\", \"recreation\", \"business\", \"arts entertainment\", \"\", \"business\", \"\", \"sports\", \"\", \"\", \"sports\", \"gaming\", \"arts entertainment\", \"gaming\", \"\", \"arts entertainment\", \"arts entertainment\", \"arts entertainment\", \"\", \"science technology\", \"arts entertainment\", \"\", \"\", \"\", \"\", \"recreation\", \"arts entertainment\", \"computer internet\", \"culture politics\", \"arts entertainment\", \"recreation\", \"business\", \"recreation\", \"\", \"arts entertainment\", \"\", \"arts entertainment\", \"business\", \"sports\", \"recreation\", \"health\", \"\", \"\", \"recreation\", \"computer internet\", \"health\", \"science technology\", \"\", \"business\", \"sports\", \"\", \"arts entertainment\", \"sports\", \"health\", \"recreation\", \"\", \"\", \"sports\", \"health\", \"computer internet\", \"health\", \"\", \"culture politics\", \"recreation\", \"business\", \"\", \"business\", \"health\", \"science technology\", \"sports\", \"business\", \"\", \"\", \"arts entertainment\", \"business\", \"\", \"recreation\", \"computer internet\", \"computer internet\", \"business\", \"arts entertainment\", \"\", \"\", \"recreation\", \"sports\", \"arts entertainment\", \"\", \"arts entertainment\", \"\", \"\", \"sports\", \"business\", \"health\", \"science technology\", \"sports\", \"business\", \"\", \"arts entertainment\", \"computer internet\", \"\", \"\", \"recreation\", \"religion\", \"health\", \"science technology\", \"arts entertainment\", \"\", \"\", \"science technology\", \"culture politics\", \"health\", \"arts entertainment\", \"arts entertainment\", \"sports\", \"recreation\", \"\", \"\", \"business\", \"religion\", \"sports\", \"\", \"\", \"recreation\", \"business\", \"\", \"sports\", \"religion\", \"recreation\", \"recreation\", \"\", \"weather\", \"sports\", \"arts entertainment\", \"\", \"sports\", \"health\", \"health\", \"\", \"recreation\", \"sports\", \"\", \"health\", \"culture politics\", \"\", \"\", \"computer internet\", \"sports\", \"\", \"arts entertainment\", \"\", \"computer internet\", \"recreation\", \"arts entertainment\", \"sports\", \"\", \"\", \"recreation\", \"\", \"\", \"recreation\", \"science technology\", \"computer internet\", \"\", \"sports\", \"recreation\", \"sports\", \"science technology\", \"business\", \"computer internet\", \"health\", \"\", \"\", \"religion\", \"\", \"\", \"\", \"arts entertainment\", \"arts entertainment\", \"recreation\", \"\", \"science technology\", \"health\", \"\", \"\", \"recreation\", \"culture politics\", \"sports\", \"religion\", \"\", \"computer internet\", \"sports\", \"culture politics\", \"\", \"sports\", \"\", \"arts entertainment\", \"sports\", \"\", \"\", \"computer internet\", \"computer internet\", \"\", \"health\", \"science technology\", \"gaming\", \"arts entertainment\", \"\", \"\", \"culture politics\", \"arts entertainment\", \"recreation\", \"sports\", \"\", \"\", \"\", \"arts entertainment\", \"sports\", \"religion\", \"\", \"culture politics\", \"arts entertainment\", \"recreation\", \"science technology\", \"health\", \"\", \"computer internet\", \"science technology\", \"arts entertainment\", \"computer internet\", \"recreation\", \"sports\", \"recreation\", \"health\", \"unknown\", \"computer internet\", \"\", \"\", \"\", \"religion\", \"sports\", \"business\", \"arts entertainment\", \"arts entertainment\", \"\", \"arts entertainment\", \"recreation\", \"sports\", \"arts entertainment\", \"arts entertainment\", \"arts entertainment\", \"recreation\", \"arts entertainment\", \"\", \"gaming\", \"\", \"\", \"recreation\", \"science technology\", \"gaming\", \"\", \"recreation\", \"\", \"\", \"sports\", \"\", \"\", \"computer internet\", \"\", \"\", \"sports\", \"recreation\", \"recreation\", \"culture politics\", \"health\", \"science technology\", \"sports\", \"culture politics\", \"recreation\", \"culture politics\", \"\", \"\", \"science technology\", \"science technology\", \"sports\", \"\", \"\", \"computer internet\", \"science technology\", \"culture politics\", \"\", \"arts entertainment\", \"arts entertainment\", \"\", \"computer internet\", \"\", \"computer internet\", \"\", \"recreation\", \"\", \"sports\", \"arts entertainment\", \"\", \"\", \"business\", \"business\", \"computer internet\", \"\", \"law crime\", \"\", \"arts entertainment\", \"arts entertainment\", \"sports\", \"\", \"business\", \"arts entertainment\", \"arts entertainment\", \"\", \"sports\", \"health\", \"culture politics\", \"arts entertainment\", \"culture politics\", \"\", \"computer internet\", \"\", \"gaming\", \"health\", \"computer internet\", \"\", \"business\", \"\", \"culture politics\", \"\", \"arts entertainment\", \"gaming\", \"arts entertainment\", \"\", \"recreation\", \"sports\", \"\", \"recreation\", \"arts entertainment\", \"\", \"\", \"\", \"culture politics\", \"\", \"arts entertainment\", \"culture politics\", \"science technology\", \"business\", \"arts entertainment\", \"\", \"arts entertainment\", \"\", \"\", \"arts entertainment\", \"\", \"culture politics\", \"\", \"\", \"recreation\", \"science technology\", \"\", \"\", \"arts entertainment\", \"health\", \"religion\", \"\", \"recreation\", \"\", \"\", \"arts entertainment\", \"sports\", \"\", \"sports\", \"science technology\", \"arts entertainment\", \"\", \"culture politics\", \"computer internet\", \"\", \"\", \"science technology\", \"\", \"\", \"recreation\", \"culture politics\", \"culture politics\", \"\", \"\", \"business\", \"arts entertainment\", \"business\", \"science technology\", \"culture politics\", \"\", \"sports\", \"recreation\", \"\", \"science technology\", \"business\", \"science technology\", \"health\", \"\", \"science technology\", \"computer internet\", \"\", \"culture politics\", \"computer internet\", \"sports\", \"recreation\", \"arts entertainment\", \"\", \"\", \"recreation\", \"\", \"arts entertainment\", \"\", \"\", \"business\", \"\", \"\", \"arts entertainment\", \"recreation\", \"business\", \"arts entertainment\", \"recreation\", \"business\", \"\", \"recreation\", \"science technology\", \"arts entertainment\", \"business\", \"\", \"arts entertainment\", \"\", \"\", \"recreation\", \"arts entertainment\", \"\", \"\", \"science technology\", \"arts entertainment\", \"computer internet\", \"\", \"sports\", \"science technology\", \"culture politics\", \"\", \"arts entertainment\", \"recreation\", \"\", \"culture politics\", \"\", \"business\", \"unknown\", \"\", \"science technology\", \"health\", \"sports\", \"recreation\", \"health\", \"sports\", \"\", \"culture politics\", \"\", \"\", \"culture politics\", \"science technology\", \"\", \"arts entertainment\", \"recreation\", \"arts entertainment\", \"sports\", \"arts entertainment\", \"health\", \"\", \"sports\", \"\", \"health\", \"arts entertainment\", \"\", \"arts entertainment\", \"\", \"computer internet\", \"computer internet\", \"computer internet\", \"arts entertainment\", \"health\", \"arts entertainment\", \"recreation\", \"business\", \"health\", \"computer internet\", \"sports\", \"recreation\", \"\", \"\", \"arts entertainment\", \"computer internet\", \"computer internet\", \"arts entertainment\", \"arts entertainment\", \"arts entertainment\", \"\", \"culture politics\", \"recreation\", \"health\", \"sports\", \"health\", \"\", \"arts entertainment\", \"culture politics\", \"\", \"\", \"\", \"\", \"\", \"recreation\", \"health\", \"sports\", \"\", \"computer internet\", \"culture politics\", \"\", \"computer internet\", \"arts entertainment\", \"sports\", \"\", \"business\", \"arts entertainment\", \"sports\", \"arts entertainment\", \"\", \"arts entertainment\", \"health\", \"\", \"sports\", \"computer internet\", \"science technology\", \"\", \"recreation\", \"arts entertainment\", \"science technology\", \"business\", \"\", \"culture politics\", \"\", \"culture politics\", \"recreation\", \"arts entertainment\", \"\", \"sports\", \"\", \"\", \"sports\", \"health\", \"sports\", \"\", \"science technology\", \"health\", \"health\", \"arts entertainment\", \"health\", \"business\", \"\", \"sports\", \"arts entertainment\", \"culture politics\", \"culture politics\", \"health\", \"culture politics\", \"\", \"\", \"arts entertainment\", \"arts entertainment\", \"recreation\", \"\", \"health\", \"\", \"arts entertainment\", \"business\", \"\", \"\", \"business\", \"computer internet\", \"recreation\", \"\", \"\", \"\", \"sports\", \"\", \"arts entertainment\", \"\", \"\", \"sports\", \"business\", \"computer internet\", \"arts entertainment\", \"business\", \"arts entertainment\", \"\", \"health\", \"sports\", \"\", \"arts entertainment\", \"computer internet\", \"\", \"\", \"business\", \"health\", \"\", \"recreation\", \"recreation\", \"\", \"\", \"recreation\", \"\", \"recreation\", \"science technology\", \"health\", \"\", \"\", \"recreation\", \"business\", \"arts entertainment\", \"culture politics\", \"culture politics\", \"recreation\", \"sports\", \"\", \"arts entertainment\", \"sports\", \"business\", \"sports\", \"sports\", \"arts entertainment\", \"recreation\", \"\", \"\", \"recreation\", \"arts entertainment\", \"arts entertainment\", \"\", \"\", \"\", \"\", \"recreation\", \"\", \"\", \"\", \"\", \"gaming\", \"arts entertainment\", \"business\", \"computer internet\", \"culture politics\", \"arts entertainment\", \"business\", \"arts entertainment\", \"\", \"recreation\", \"religion\", \"culture politics\", \"health\", \"\", \"recreation\", \"arts entertainment\", \"\", \"\", \"computer internet\", \"health\", \"\", \"arts entertainment\", \"\", \"arts entertainment\", \"arts entertainment\", \"arts entertainment\", \"sports\", \"arts entertainment\", \"health\", \"gaming\", \"recreation\", \"business\", \"\", \"culture politics\", \"business\", \"\", \"computer internet\", \"\", \"\", \"\", \"culture politics\", \"business\", \"sports\", \"arts entertainment\", \"\", \"sports\", \"culture politics\", \"culture politics\", \"recreation\", \"\", \"arts entertainment\", \"\", \"\", \"computer internet\", \"recreation\", \"\", \"science technology\", \"business\", \"arts entertainment\", \"business\", \"health\", \"health\", \"computer internet\", \"\", \"arts entertainment\", \"arts entertainment\", \"\", \"science technology\", \"\", \"\", \"\", \"\", \"arts entertainment\", \"\", \"\", \"\", \"\", \"sports\", \"\", \"computer internet\", \"arts entertainment\", \"\", \"business\", \"arts entertainment\", \"computer internet\", \"gaming\", \"health\", \"business\", \"recreation\", \"science technology\", \"sports\", \"science technology\", \"\", \"arts entertainment\", \"recreation\", \"science technology\", \"health\", \"arts entertainment\", \"arts entertainment\", \"\", \"religion\", \"computer internet\", \"\", \"sports\", \"business\", \"\", \"health\", \"recreation\", \"culture politics\", \"recreation\", \"\", \"sports\", \"recreation\", \"culture politics\", \"sports\", \"\", \"\", \"computer internet\", \"recreation\", \"\", \"arts entertainment\", \"computer internet\", \"computer internet\", \"\", \"science technology\", \"\", \"computer internet\", \"computer internet\", \"recreation\", \"arts entertainment\", \"business\", \"culture politics\", \"sports\", \"\", \"religion\", \"arts entertainment\", \"recreation\", \"recreation\", \"recreation\", \"arts entertainment\", \"science technology\", \"business\", \"computer internet\", \"recreation\", \"arts entertainment\", \"religion\", \"\", \"business\", \"business\", \"business\", \"\", \"\", \"recreation\", \"sports\", \"health\", \"computer internet\", \"\", \"gaming\", \"computer internet\", \"\", \"arts entertainment\", \"sports\", \"business\", \"business\", \"business\", \"\", \"culture politics\", \"arts entertainment\", \"science technology\", \"computer internet\", \"recreation\", \"\", \"science technology\", \"\", \"recreation\", \"\", \"recreation\", \"religion\", \"science technology\", \"computer internet\", \"business\", \"sports\", \"\", \"recreation\", \"\", \"computer internet\", \"arts entertainment\", \"\", \"sports\", \"\", \"arts entertainment\", \"arts entertainment\", \"\", \"arts entertainment\", \"law crime\", \"\", \"recreation\", \"recreation\", \"arts entertainment\", \"business\", \"\", \"arts entertainment\", \"gaming\", \"\", \"business\", \"health\", \"\", \"arts entertainment\", \"sports\", \"recreation\", \"arts entertainment\", \"arts entertainment\", \"arts entertainment\", \"health\", \"\", \"business\", \"recreation\", \"recreation\", \"arts entertainment\", \"\", \"\", \"\", \"\", \"arts entertainment\", \"arts entertainment\", \"arts entertainment\", \"computer internet\", \"arts entertainment\", \"arts entertainment\", \"\", \"religion\", \"culture politics\", \"sports\", \"business\", \"arts entertainment\", \"religion\", \"recreation\", \"health\", \"\", \"\", \"\", \"\", \"\", \"business\", \"\", \"business\", \"arts entertainment\", \"sports\", \"business\", \"computer internet\", \"arts entertainment\", \"computer internet\", \"health\", \"arts entertainment\", \"science technology\", \"sports\", \"arts entertainment\", \"business\", \"\", \"arts entertainment\", \"computer internet\", \"arts entertainment\", \"science technology\", \"arts entertainment\", \"business\", \"\", \"culture politics\", \"business\", \"\", \"health\", \"\", \"\", \"sports\", \"health\", \"business\", \"health\", \"sports\", \"arts entertainment\", \"arts entertainment\", \"arts entertainment\", \"arts entertainment\", \"arts entertainment\", \"\", \"recreation\", \"computer internet\", \"\", \"health\", \"sports\", \"arts entertainment\", \"sports\", \"\", \"arts entertainment\", \"recreation\", \"\", \"\", \"computer internet\", \"health\", \"arts entertainment\", \"arts entertainment\", \"\", \"sports\", \"\", \"\", \"computer internet\", \"\", \"arts entertainment\", \"business\", \"\", \"arts entertainment\", \"science technology\", \"science technology\", \"\", \"\", \"business\", \"culture politics\", \"\", \"sports\", \"arts entertainment\", \"business\", \"business\", \"\", \"arts entertainment\", \"\", \"business\", \"arts entertainment\", \"\", \"\", \"recreation\", \"sports\", \"recreation\", \"\", \"law crime\", \"computer internet\", \"recreation\", \"religion\", \"computer internet\", \"\", \"\", \"\", \"\", \"\", \"arts entertainment\", \"arts entertainment\", \"\", \"culture politics\", \"arts entertainment\", \"computer internet\", \"computer internet\", \"recreation\", \"\", \"\", \"business\", \"recreation\", \"\", \"\", \"computer internet\", \"\", \"\", \"arts entertainment\", \"arts entertainment\", \"recreation\", \"arts entertainment\", \"science technology\", \"science technology\", \"\", \"sports\", \"arts entertainment\", \"\", \"science technology\", \"\", \"\", \"sports\", \"health\", \"\", \"science technology\", \"business\", \"arts entertainment\", \"\", \"sports\", \"recreation\", \"arts entertainment\", \"\", \"science technology\", \"arts entertainment\", \"recreation\", \"culture politics\", \"\", \"recreation\", \"\", \"\", \"\", \"science technology\", \"\", \"arts entertainment\", \"arts entertainment\", \"culture politics\", \"recreation\", \"arts entertainment\", \"business\", \"recreation\", \"\", \"recreation\", \"culture politics\", \"recreation\", \"\", \"\", \"recreation\", \"science technology\", \"health\", \"computer internet\", \"arts entertainment\", \"\", \"recreation\", \"business\", \"\", \"health\", \"arts entertainment\", \"business\", \"\", \"\", \"computer internet\", \"\", \"sports\", \"culture politics\", \"culture politics\", \"\", \"\", \"\", \"\", \"gaming\", \"gaming\", \"computer internet\", \"\", \"\", \"\", \"arts entertainment\", \"arts entertainment\", \"arts entertainment\", \"computer internet\", \"health\", \"computer internet\", \"health\", \"\", \"computer internet\", \"\", \"\", \"sports\", \"arts entertainment\", \"business\", \"\", \"arts entertainment\", \"recreation\", \"\", \"recreation\", \"\", \"religion\", \"business\", \"\", \"\", \"arts entertainment\", \"computer internet\", \"\", \"\", \"\", \"recreation\", \"health\", \"sports\", \"sports\", \"arts entertainment\", \"\", \"\", \"religion\", \"business\", \"arts entertainment\", \"business\", \"recreation\", \"\", \"arts entertainment\", \"recreation\", \"\", \"recreation\", \"arts entertainment\", \"\", \"computer internet\", \"recreation\", \"\", \"computer internet\", \"business\", \"gaming\", \"\", \"computer internet\", \"sports\", \"science technology\", \"\", \"arts entertainment\", \"sports\", \"\", \"\", \"science technology\", \"recreation\", \"sports\", \"\", \"recreation\", \"\", \"\", \"business\", \"recreation\", \"\", \"\", \"recreation\", \"sports\", \"sports\", \"business\", \"health\", \"arts entertainment\", \"\", \"business\", \"\", \"health\", \"business\", \"arts entertainment\", \"computer internet\", \"\", \"recreation\", \"sports\", \"recreation\", \"\", \"recreation\", \"business\", \"arts entertainment\", \"arts entertainment\", \"\", \"arts entertainment\", \"arts entertainment\", \"arts entertainment\", \"business\", \"business\", \"arts entertainment\", \"\", \"business\", \"business\", \"\", \"\", \"computer internet\", \"business\", \"\", \"arts entertainment\", \"recreation\", \"recreation\", \"arts entertainment\", \"\", \"health\", \"\", \"arts entertainment\", \"\", \"\", \"arts entertainment\", \"\", \"sports\", \"computer internet\", \"culture politics\", \"\", \"\", \"arts entertainment\", \"\", \"culture politics\", \"sports\", \"\", \"arts entertainment\", \"arts entertainment\", \"arts entertainment\", \"\", \"sports\", \"arts entertainment\", \"science technology\", \"arts entertainment\", \"sports\", \"recreation\", \"religion\", \"arts entertainment\", \"\", \"\", \"computer internet\", \"computer internet\", \"health\", \"\", \"business\", \"computer internet\", \"\", \"recreation\", \"business\", \"\", \"\", \"science technology\", \"\", \"\", \"\", \"\", \"health\", \"arts entertainment\", \"recreation\", \"recreation\", \"computer internet\", \"\", \"science technology\", \"arts entertainment\", \"health\", \"computer internet\", \"recreation\", \"arts entertainment\", \"\", \"arts entertainment\", \"computer internet\", \"health\", \"\", \"sports\", \"culture politics\", \"\", \"health\", \"science technology\", \"\", \"arts entertainment\", \"science technology\", \"health\", \"health\", \"recreation\", \"arts entertainment\", \"recreation\", \"arts entertainment\", \"\", \"sports\", \"\", \"science technology\", \"arts entertainment\", \"business\", \"\", \"arts entertainment\", \"\", \"\", \"arts entertainment\", \"\", \"\", \"business\", \"health\", \"\", \"\", \"computer internet\", \"\", \"gaming\", \"\", \"recreation\", \"arts entertainment\", \"gaming\", \"science technology\", \"sports\", \"recreation\", \"arts entertainment\", \"culture politics\", \"arts entertainment\", \"\", \"health\", \"arts entertainment\", \"\", \"culture politics\", \"sports\", \"\", \"\", \"arts entertainment\", \"\", \"recreation\", \"\", \"\", \"science technology\", \"\", \"computer internet\", \"\", \"computer internet\", \"arts entertainment\", \"\", \"health\", \"\", \"\", \"culture politics\", \"arts entertainment\", \"arts entertainment\", \"\", \"sports\", \"health\", \"science technology\", \"culture politics\", \"health\", \"business\", \"recreation\", \"\", \"arts entertainment\", \"sports\", \"\", \"business\", \"culture politics\", \"sports\", \"\", \"\", \"recreation\", \"science technology\", \"\", \"arts entertainment\", \"arts entertainment\", \"arts entertainment\", \"recreation\", \"\", \"sports\", \"\", \"business\", \"arts entertainment\", \"culture politics\", \"\", \"\", \"sports\", \"\", \"arts entertainment\", \"arts entertainment\", \"health\", \"\", \"health\", \"gaming\", \"\", \"recreation\", \"recreation\", \"\", \"business\", \"\", \"recreation\", \"business\", \"recreation\", \"\", \"\", \"\", \"\", \"arts entertainment\", \"arts entertainment\", \"\", \"sports\", \"culture politics\", \"sports\", \"arts entertainment\", \"\", \"sports\", \"recreation\", \"\", \"recreation\", \"\", \"science technology\", \"\", \"\", \"arts entertainment\", \"\", \"arts entertainment\", \"health\", \"culture politics\", \"\", \"\", \"arts entertainment\", \"sports\", \"recreation\", \"science technology\", \"health\", \"\", \"\", \"health\", \"culture politics\", \"\", \"business\", \"computer internet\", \"\", \"\", \"\", \"sports\", \"health\", \"recreation\", \"science technology\", \"\", \"arts entertainment\", \"health\", \"sports\", \"\", \"\", \"culture politics\", \"\", \"science technology\", \"arts entertainment\", \"arts entertainment\", \"computer internet\", \"recreation\", \"science technology\", \"arts entertainment\", \"\", \"recreation\", \"business\", \"sports\", \"business\", \"arts entertainment\", \"business\", \"arts entertainment\", \"business\", \"arts entertainment\", \"sports\", \"religion\", \"health\", \"\", \"health\", \"recreation\", \"health\", \"recreation\", \"sports\", \"science technology\", \"recreation\", \"health\", \"health\", \"arts entertainment\", \"recreation\", \"culture politics\", \"sports\", \"\", \"\", \"\", \"recreation\", \"\", \"computer internet\", \"arts entertainment\", \"recreation\", \"business\", \"\", \"arts entertainment\", \"science technology\", \"arts entertainment\", \"recreation\", \"\", \"culture politics\", \"law crime\", \"computer internet\", \"religion\", \"culture politics\", \"recreation\", \"computer internet\", \"\", \"sports\", \"business\", \"\", \"\", \"computer internet\", \"arts entertainment\", \"\", \"arts entertainment\", \"recreation\", \"arts entertainment\", \"\", \"computer internet\", \"arts entertainment\", \"recreation\", \"culture politics\", \"\", \"sports\", \"recreation\", \"\", \"\", \"recreation\", \"business\", \"arts entertainment\", \"\", \"computer internet\", \"arts entertainment\", \"\", \"law crime\", \"\", \"computer internet\", \"\", \"\", \"recreation\", \"health\", \"arts entertainment\", \"\", \"\", \"arts entertainment\", \"\", \"\", \"arts entertainment\", \"\", \"\", \"arts entertainment\", \"recreation\", \"recreation\", \"computer internet\", \"\", \"\", \"\", \"health\", \"\", \"arts entertainment\", \"\", \"arts entertainment\", \"sports\", \"\", \"computer internet\", \"recreation\", \"\", \"\", \"culture politics\", \"\", \"arts entertainment\", \"\", \"arts entertainment\", \"culture politics\", \"\", \"sports\", \"arts entertainment\", \"\", \"\", \"computer internet\", \"sports\", \"\", \"\", \"arts entertainment\", \"arts entertainment\", \"weather\", \"recreation\", \"\", \"health\", \"business\", \"arts entertainment\", \"computer internet\", \"culture politics\", \"\", \"arts entertainment\", \"recreation\", \"arts entertainment\", \"health\", \"sports\", \"\", \"\", \"\", \"\", \"science technology\", \"\", \"computer internet\", \"science technology\", \"\", \"arts entertainment\", \"sports\", \"sports\", \"arts entertainment\", \"culture politics\", \"business\", \"culture politics\", \"business\", \"computer internet\", \"arts entertainment\", \"health\", \"recreation\", \"\", \"recreation\", \"recreation\", \"culture politics\", \"\", \"\", \"sports\", \"computer internet\", \"recreation\", \"arts entertainment\", \"\", \"law crime\", \"arts entertainment\", \"gaming\", \"culture politics\", \"recreation\", \"culture politics\", \"\", \"recreation\", \"science technology\", \"culture politics\", \"arts entertainment\", \"sports\", \"science technology\", \"computer internet\", \"arts entertainment\", \"sports\", \"health\", \"arts entertainment\", \"\", \"\", \"science technology\", \"recreation\", \"\", \"recreation\", \"health\", \"\", \"religion\", \"business\", \"culture politics\", \"arts entertainment\", \"arts entertainment\", \"\", \"\", \"recreation\", \"culture politics\", \"recreation\", \"business\", \"recreation\", \"business\", \"arts entertainment\", \"sports\", \"\", \"health\", \"arts entertainment\", \"sports\", \"sports\", \"business\", \"health\", \"recreation\", \"\", \"\", \"recreation\", \"arts entertainment\", \"business\", \"computer internet\", \"computer internet\", \"science technology\", \"arts entertainment\", \"\", \"health\", \"arts entertainment\", \"gaming\", \"business\", \"recreation\", \"recreation\", \"arts entertainment\", \"culture politics\", \"business\", \"culture politics\", \"sports\", \"recreation\", \"science technology\", \"sports\", \"recreation\", \"\", \"culture politics\", \"\", \"culture politics\", \"business\", \"gaming\", \"arts entertainment\", \"\", \"business\", \"health\", \"business\", \"business\", \"computer internet\", \"\", \"\", \"arts entertainment\", \"sports\", \"religion\", \"sports\", \"arts entertainment\", \"business\", \"arts entertainment\", \"\", \"business\", \"arts entertainment\", \"culture politics\", \"\", \"gaming\", \"\", \"sports\", \"computer internet\", \"\", \"recreation\", \"computer internet\", \"\", \"\", \"business\", \"\", \"recreation\", \"religion\", \"\", \"business\", \"\", \"recreation\", \"\", \"business\", \"computer internet\", \"\", \"religion\", \"\", \"arts entertainment\", \"computer internet\", \"culture politics\", \"science technology\", \"sports\", \"arts entertainment\", \"arts entertainment\", \"arts entertainment\", \"health\", \"culture politics\", \"health\", \"sports\", \"computer internet\", \"\", \"recreation\", \"culture politics\", \"\", \"science technology\", \"\", \"\", \"sports\", \"business\", \"recreation\", \"\", \"\", \"business\", \"health\", \"health\", \"\", \"recreation\", \"gaming\", \"\", \"arts entertainment\", \"business\", \"\", \"health\", \"arts entertainment\", \"\", \"\", \"\", \"\", \"arts entertainment\", \"computer internet\", \"arts entertainment\", \"health\", \"\", \"\", \"arts entertainment\", \"\", \"recreation\", \"\", \"recreation\", \"\", \"sports\", \"recreation\", \"recreation\", \"computer internet\", \"\", \"\", \"arts entertainment\", \"\", \"\", \"\", \"gaming\", \"\", \"\", \"arts entertainment\", \"\", \"sports\", \"sports\", \"recreation\", \"recreation\", \"\", \"\", \"\", \"religion\", \"recreation\", \"arts entertainment\", \"\", \"science technology\", \"arts entertainment\", \"arts entertainment\", \"\", \"culture politics\", \"business\", \"arts entertainment\", \"\", \"sports\", \"computer internet\", \"arts entertainment\", \"\", \"\", \"arts entertainment\", \"\", \"sports\", \"recreation\", \"recreation\", \"health\", \"arts entertainment\", \"arts entertainment\", \"\", \"sports\", \"\", \"science technology\", \"weather\", \"\", \"recreation\", \"\", \"recreation\", \"computer internet\", \"\", \"business\", \"\", \"culture politics\", \"arts entertainment\", \"arts entertainment\", \"arts entertainment\", \"sports\", \"sports\", \"\", \"business\", \"arts entertainment\", \"arts entertainment\", \"\", \"\", \"computer internet\", \"\", \"\", \"sports\", \"health\", \"\", \"\", \"arts entertainment\", \"science technology\", \"\", \"arts entertainment\", \"religion\", \"arts entertainment\", \"\", \"sports\", \"computer internet\", \"recreation\", \"recreation\", \"\", \"arts entertainment\", \"arts entertainment\", \"gaming\", \"\", \"culture politics\", \"arts entertainment\", \"law crime\", \"culture politics\", \"recreation\", \"\", \"business\", \"culture politics\", \"\", \"recreation\", \"\", \"science technology\", \"\", \"recreation\", \"\", \"health\", \"arts entertainment\", \"culture politics\", \"\", \"recreation\", \"science technology\", \"\", \"computer internet\", \"\", \"gaming\", \"arts entertainment\", \"\", \"arts entertainment\", \"sports\", \"\", \"arts entertainment\", \"\", \"recreation\", \"law crime\", \"culture politics\", \"recreation\", \"health\", \"arts entertainment\", \"\", \"\", \"\", \"business\", \"health\", \"science technology\", \"computer internet\", \"\", \"computer internet\", \"sports\", \"\", \"business\", \"health\", \"\", \"arts entertainment\", \"recreation\", \"arts entertainment\", \"culture politics\", \"business\", \"\", \"\", \"arts entertainment\", \"arts entertainment\", \"arts entertainment\", \"culture politics\", \"computer internet\", \"arts entertainment\", \"health\", \"recreation\", \"\", \"science technology\", \"arts entertainment\", \"arts entertainment\", \"culture politics\", \"business\", \"\", \"sports\", \"health\", \"\", \"\", \"arts entertainment\", \"recreation\", \"\", \"\", \"\", \"arts entertainment\", \"\", \"computer internet\", \"arts entertainment\", \"gaming\", \"recreation\", \"arts entertainment\", \"\", \"computer internet\", \"business\", \"\", \"health\", \"sports\", \"\", \"\", \"health\", \"arts entertainment\", \"law crime\", \"arts entertainment\", \"recreation\", \"science technology\", \"culture politics\", \"recreation\", \"\", \"recreation\", \"\", \"\", \"\", \"\", \"\", \"computer internet\", \"sports\", \"\", \"arts entertainment\", \"business\", \"\", \"recreation\", \"arts entertainment\", \"recreation\", \"\", \"business\", \"\", \"\", \"recreation\", \"recreation\", \"health\", \"\", \"sports\", \"\", \"arts entertainment\", \"\", \"culture politics\", \"unknown\", \"arts entertainment\", \"arts entertainment\", \"\", \"\", \"sports\", \"\", \"health\", \"\", \"\", \"science technology\", \"arts entertainment\", \"arts entertainment\", \"arts entertainment\", \"recreation\", \"sports\", \"arts entertainment\", \"\", \"\", \"\", \"\", \"\", \"arts entertainment\", \"arts entertainment\", \"gaming\", \"recreation\", \"\", \"sports\", \"\", \"culture politics\", \"\", \"arts entertainment\", \"recreation\", \"\", \"business\", \"arts entertainment\", \"\", \"\", \"culture politics\", \"arts entertainment\", \"culture politics\", \"\", \"\", \"arts entertainment\", \"arts entertainment\", \"business\", \"computer internet\", \"\", \"\", \"arts entertainment\", \"science technology\", \"\", \"\", \"sports\", \"\", \"\", \"\", \"culture politics\", \"\", \"\", \"\", \"sports\", \"\", \"\", \"sports\", \"religion\", \"\", \"business\", \"\", \"\", \"arts entertainment\", \"arts entertainment\", \"\", \"culture politics\", \"\", \"health\", \"\", \"\", \"religion\", \"health\", \"\", \"sports\", \"recreation\", \"\", \"\", \"recreation\", \"\", \"computer internet\", \"sports\", \"arts entertainment\", \"\", \"health\", \"science technology\", \"health\", \"science technology\", \"arts entertainment\", \"sports\", \"\", \"\", \"business\", \"arts entertainment\", \"arts entertainment\", \"arts entertainment\", \"\", \"business\", \"business\", \"recreation\", \"recreation\", \"recreation\", \"business\", \"arts entertainment\", \"arts entertainment\", \"health\", \"\", \"sports\", \"\", \"culture politics\", \"sports\", \"arts entertainment\", \"\", \"\", \"arts entertainment\", \"\", \"sports\", \"recreation\", \"\", \"culture politics\", \"\", \"science technology\", \"culture politics\", \"business\", \"\", \"sports\", \"religion\", \"arts entertainment\", \"health\", \"science technology\", \"\", \"recreation\", \"\", \"\", \"business\", \"arts entertainment\", \"\", \"recreation\", \"sports\", \"recreation\", \"\", \"\", \"\", \"computer internet\", \"computer internet\", \"arts entertainment\", \"recreation\", \"health\", \"\", \"sports\", \"science technology\", \"sports\", \"\", \"\", \"\", \"health\", \"health\", \"computer internet\", \"computer internet\", \"arts entertainment\", \"science technology\", \"business\", \"computer internet\", \"\", \"science technology\", \"\", \"\", \"health\", \"health\", \"health\", \"\", \"arts entertainment\", \"recreation\", \"recreation\", \"\", \"\", \"arts entertainment\", \"recreation\", \"religion\", \"recreation\", \"\", \"\", \"recreation\", \"arts entertainment\", \"arts entertainment\", \"\", \"arts entertainment\", \"recreation\", \"\", \"recreation\", \"arts entertainment\", \"recreation\", \"science technology\", \"sports\", \"\", \"gaming\", \"\", \"arts entertainment\", \"business\", \"\", \"\", \"\", \"business\", \"computer internet\", \"recreation\", \"culture politics\", \"arts entertainment\", \"\", \"religion\", \"\", \"arts entertainment\", \"culture politics\", \"sports\", \"\", \"\", \"recreation\", \"\", \"recreation\", \"\", \"computer internet\", \"sports\", \"arts entertainment\", \"sports\", \"gaming\", \"recreation\", \"\", \"\", \"sports\", \"sports\", \"recreation\", \"business\", \"arts entertainment\", \"computer internet\", \"computer internet\", \"\", \"arts entertainment\", \"\", \"business\", \"sports\", \"science technology\", \"\", \"arts entertainment\", \"\", \"business\", \"computer internet\", \"recreation\", \"sports\", \"\", \"arts entertainment\", \"\", \"\", \"recreation\", \"recreation\", \"arts entertainment\", \"arts entertainment\", \"health\", \"recreation\", \"\", \"culture politics\", \"business\", \"\", \"\", \"culture politics\", \"\", \"culture politics\", \"\", \"\", \"\", \"\", \"computer internet\", \"arts entertainment\", \"science technology\", \"sports\", \"arts entertainment\", \"sports\", \"\", \"health\", \"business\", \"\", \"culture politics\", \"sports\", \"computer internet\", \"arts entertainment\", \"arts entertainment\", \"\", \"\", \"\", \"sports\", \"\", \"\", \"business\", \"\", \"science technology\", \"computer internet\", \"sports\", \"sports\", \"recreation\", \"sports\", \"recreation\", \"computer internet\", \"\", \"science technology\", \"\", \"\", \"health\", \"\", \"sports\", \"\", \"arts entertainment\", \"sports\", \"health\", \"\", \"\", \"arts entertainment\", \"sports\", \"culture politics\", \"culture politics\", \"\", \"sports\", \"\", \"computer internet\", \"\", \"culture politics\", \"health\", \"\", \"science technology\", \"\", \"\", \"business\", \"\", \"recreation\", \"\", \"sports\", \"\", \"arts entertainment\", \"\", \"\", \"sports\", \"gaming\", \"arts entertainment\", \"arts entertainment\", \"arts entertainment\", \"\", \"health\", \"\", \"\", \"culture politics\", \"recreation\", \"\", \"computer internet\", \"sports\", \"\", \"sports\", \"sports\", \"arts entertainment\", \"recreation\", \"\", \"\", \"culture politics\", \"sports\", \"health\", \"business\", \"\", \"\", \"sports\", \"\", \"recreation\", \"arts entertainment\", \"\", \"\", \"recreation\", \"culture politics\", \"\", \"science technology\", \"recreation\", \"sports\", \"arts entertainment\", \"\", \"sports\", \"health\", \"\", \"arts entertainment\", \"\", \"science technology\", \"business\", \"recreation\", \"\", \"health\", \"science technology\", \"recreation\", \"recreation\", \"recreation\", \"recreation\", \"business\", \"arts entertainment\", \"recreation\", \"\", \"business\", \"business\", \"\", \"science technology\", \"arts entertainment\", \"arts entertainment\", \"\", \"sports\", \"arts entertainment\", \"recreation\", \"health\", \"\", \"science technology\", \"\", \"culture politics\", \"business\", \"arts entertainment\", \"business\", \"sports\", \"business\", \"culture politics\", \"recreation\", \"computer internet\", \"business\", \"recreation\", \"\", \"\", \"\", \"\", \"arts entertainment\", \"business\", \"\", \"\", \"arts entertainment\", \"\", \"computer internet\", \"gaming\", \"health\", \"arts entertainment\", \"arts entertainment\", \"\", \"\", \"computer internet\", \"business\", \"\", \"business\", \"health\", \"arts entertainment\", \"\", \"recreation\", \"recreation\", \"recreation\", \"unknown\", \"recreation\", \"arts entertainment\", \"\", \"recreation\", \"computer internet\", \"\", \"\", \"computer internet\", \"\", \"health\", \"\", \"\", \"\", \"culture politics\", \"sports\", \"\", \"law crime\", \"sports\", \"\", \"\", \"sports\", \"sports\", \"arts entertainment\", \"arts entertainment\", \"business\", \"\", \"health\", \"\", \"recreation\", \"sports\", \"\", \"sports\", \"\", \"recreation\", \"recreation\", \"\", \"recreation\", \"\", \"arts entertainment\", \"\", \"computer internet\", \"\", \"\", \"\", \"law crime\", \"computer internet\", \"arts entertainment\", \"gaming\", \"\", \"\", \"arts entertainment\", \"sports\", \"business\", \"\", \"\", \"business\", \"sports\", \"sports\", \"\", \"arts entertainment\", \"recreation\", \"arts entertainment\", \"arts entertainment\", \"recreation\", \"\", \"arts entertainment\", \"arts entertainment\", \"\", \"health\", \"arts entertainment\", \"\", \"arts entertainment\", \"\", \"recreation\", \"science technology\", \"\", \"sports\", \"sports\", \"business\", \"recreation\", \"health\", \"business\", \"business\", \"\", \"\", \"\", \"religion\", \"business\", \"arts entertainment\", \"\", \"\", \"science technology\", \"health\", \"arts entertainment\", \"sports\", \"\", \"arts entertainment\", \"culture politics\", \"arts entertainment\", \"arts entertainment\", \"computer internet\", \"culture politics\", \"health\", \"business\", \"arts entertainment\", \"health\", \"arts entertainment\", \"health\", \"computer internet\", \"computer internet\", \"recreation\", \"\", \"health\", \"computer internet\", \"\", \"recreation\", \"computer internet\", \"sports\", \"computer internet\", \"culture politics\", \"business\", \"\", \"\", \"religion\", \"sports\", \"\", \"\", \"health\", \"\", \"\", \"arts entertainment\", \"culture politics\", \"\", \"\", \"\", \"\", \"computer internet\", \"\", \"health\", \"arts entertainment\", \"\", \"arts entertainment\", \"\", \"health\", \"recreation\", \"sports\", \"\", \"recreation\", \"arts entertainment\", \"culture politics\", \"\", \"\", \"computer internet\", \"\", \"sports\", \"\", \"\", \"recreation\", \"business\", \"sports\", \"\", \"\", \"health\", \"\", \"health\", \"\", \"business\", \"\", \"health\", \"\", \"recreation\", \"\", \"arts entertainment\", \"\", \"business\", \"business\", \"health\", \"gaming\", \"business\", \"science technology\", \"arts entertainment\", \"business\", \"\", \"\", \"computer internet\", \"arts entertainment\", \"business\", \"computer internet\", \"computer internet\", \"sports\", \"arts entertainment\", \"arts entertainment\", \"\", \"recreation\", \"\", \"\", \"arts entertainment\", \"computer internet\", \"business\", \"\", \"arts entertainment\", \"arts entertainment\", \"\", \"\", \"\", \"gaming\", \"recreation\", \"arts entertainment\", \"recreation\", \"gaming\", \"recreation\", \"\", \"\", \"\", \"business\", \"\", \"recreation\", \"\", \"computer internet\", \"business\", \"business\", \"recreation\", \"science technology\", \"culture politics\", \"arts entertainment\", \"business\", \"health\", \"recreation\", \"arts entertainment\", \"\", \"culture politics\", \"business\", \"sports\", \"computer internet\", \"\", \"arts entertainment\", \"recreation\", \"health\", \"\", \"science technology\", \"recreation\", \"sports\", \"recreation\", \"recreation\", \"computer internet\", \"recreation\", \"business\", \"\", \"recreation\", \"culture politics\", \"\", \"\", \"\", \"\", \"recreation\", \"arts entertainment\", \"\", \"\", \"arts entertainment\", \"weather\", \"business\", \"arts entertainment\", \"health\", \"\", \"\", \"gaming\", \"\", \"\", \"arts entertainment\", \"\", \"arts entertainment\", \"\", \"arts entertainment\", \"sports\", \"\", \"recreation\", \"science technology\", \"\", \"arts entertainment\", \"\", \"\", \"health\", \"sports\", \"arts entertainment\", \"\", \"science technology\", \"business\", \"computer internet\", \"\", \"\", \"sports\", \"sports\", \"\", \"\", \"culture politics\", \"\", \"\", \"health\", \"culture politics\", \"culture politics\", \"arts entertainment\", \"health\", \"\", \"arts entertainment\", \"\", \"culture politics\", \"\", \"recreation\", \"arts entertainment\", \"computer internet\", \"arts entertainment\", \"\", \"arts entertainment\", \"health\", \"\", \"recreation\", \"\", \"sports\", \"culture politics\", \"\", \"\", \"arts entertainment\", \"\", \"science technology\", \"\", \"arts entertainment\", \"recreation\", \"computer internet\", \"arts entertainment\", \"computer internet\", \"culture politics\", \"health\", \"\", \"\", \"\", \"\", \"computer internet\", \"culture politics\", \"science technology\", \"\", \"business\", \"law crime\", \"health\", \"\", \"\", \"\", \"\", \"health\", \"recreation\", \"\", \"recreation\", \"sports\", \"\", \"arts entertainment\", \"\", \"arts entertainment\", \"science technology\", \"religion\", \"arts entertainment\", \"\", \"\", \"business\", \"sports\", \"science technology\", \"science technology\", \"sports\", \"arts entertainment\", \"computer internet\", \"\", \"sports\", \"recreation\", \"\", \"arts entertainment\", \"computer internet\", \"computer internet\", \"sports\", \"computer internet\", \"computer internet\", \"computer internet\", \"\", \"arts entertainment\", \"gaming\", \"\", \"\", \"\", \"computer internet\", \"recreation\", \"business\", \"arts entertainment\", \"\", \"\", \"\", \"\", \"\", \"arts entertainment\", \"recreation\", \"\", \"\", \"science technology\", \"arts entertainment\", \"health\", \"business\", \"\", \"law crime\", \"\", \"sports\", \"\", \"\", \"\", \"\", \"culture politics\", \"\", \"\", \"arts entertainment\", \"computer internet\", \"computer internet\", \"\", \"arts entertainment\", \"sports\", \"recreation\", \"business\", \"\", \"\", \"arts entertainment\", \"arts entertainment\", \"\", \"science technology\", \"recreation\", \"business\", \"\", \"culture politics\", \"science technology\", \"sports\", \"sports\", \"recreation\", \"sports\", \"culture politics\", \"arts entertainment\", \"health\", \"\", \"recreation\", \"\", \"sports\", \"\", \"gaming\", \"recreation\", \"\", \"recreation\", \"computer internet\", \"computer internet\", \"arts entertainment\", \"\", \"recreation\", \"culture politics\", \"arts entertainment\", \"arts entertainment\", \"recreation\", \"arts entertainment\", \"law crime\", \"\", \"culture politics\", \"\", \"recreation\", \"business\", \"science technology\", \"\", \"\", \"\", \"\", \"health\", \"business\", \"arts entertainment\", \"\", \"arts entertainment\", \"arts entertainment\", \"\", \"health\", \"health\", \"business\", \"sports\", \"sports\", \"\", \"health\", \"\", \"business\", \"health\", \"science technology\", \"arts entertainment\", \"arts entertainment\", \"health\", \"computer internet\", \"\", \"\", \"computer internet\", \"\", \"health\", \"arts entertainment\", \"culture politics\", \"\", \"\", \"\", \"recreation\", \"health\", \"\", \"\", \"\", \"arts entertainment\", \"sports\", \"recreation\", \"business\", \"sports\", \"\", \"law crime\", \"arts entertainment\", \"culture politics\", \"business\", \"\", \"\", \"\", \"computer internet\", \"arts entertainment\", \"arts entertainment\", \"health\", \"\", \"arts entertainment\", \"\", \"culture politics\", \"culture politics\", \"recreation\", \"\", \"arts entertainment\", \"recreation\", \"gaming\", \"business\", \"health\", \"\", \"\", \"recreation\", \"\", \"\", \"science technology\", \"sports\", \"health\", \"\", \"recreation\", \"\", \"recreation\", \"recreation\", \"\", \"sports\", \"arts entertainment\", \"religion\", \"business\", \"recreation\", \"computer internet\", \"arts entertainment\", \"sports\", \"arts entertainment\", \"sports\", \"arts entertainment\", \"\", \"computer internet\", \"sports\", \"business\", \"\", \"arts entertainment\", \"computer internet\", \"\", \"recreation\", \"\", \"health\", \"culture politics\", \"arts entertainment\", \"arts entertainment\", \"computer internet\", \"business\", \"arts entertainment\", \"recreation\", \"science technology\", \"business\", \"gaming\", \"\", \"\", \"business\", \"sports\", \"business\", \"\", \"\", \"culture politics\", \"\", \"\", \"arts entertainment\", \"sports\", \"culture politics\", \"arts entertainment\", \"arts entertainment\", \"arts entertainment\", \"recreation\", \"law crime\", \"arts entertainment\", \"computer internet\", \"arts entertainment\", \"health\", \"health\", \"\", \"arts entertainment\", \"arts entertainment\", \"recreation\", \"computer internet\", \"arts entertainment\", \"\", \"health\", \"\", \"recreation\", \"recreation\", \"business\", \"arts entertainment\", \"health\", \"\", \"\", \"recreation\", \"\", \"\", \"arts entertainment\", \"arts entertainment\", \"\", \"arts entertainment\", \"science technology\", \"\", \"sports\", \"\", \"computer internet\", \"\", \"sports\", \"\", \"\", \"science technology\", \"arts entertainment\", \"business\", \"\", \"\", \"business\", \"\", \"culture politics\", \"health\", \"\", \"\", \"recreation\", \"sports\", \"\", \"sports\", \"culture politics\", \"arts entertainment\", \"arts entertainment\", \"culture politics\", \"computer internet\", \"health\", \"recreation\", \"business\", \"culture politics\", \"culture politics\", \"computer internet\", \"\", \"arts entertainment\", \"\", \"\", \"business\", \"arts entertainment\", \"sports\", \"\", \"recreation\", \"science technology\", \"health\", \"business\", \"\", \"recreation\", \"computer internet\", \"law crime\", \"law crime\", \"gaming\", \"sports\", \"\", \"arts entertainment\", \"\", \"\", \"\", \"business\", \"recreation\", \"recreation\", \"recreation\", \"arts entertainment\", \"recreation\", \"science technology\", \"arts entertainment\", \"culture politics\", \"\", \"sports\", \"arts entertainment\", \"arts entertainment\", \"science technology\", \"business\", \"sports\", \"science technology\", \"arts entertainment\", \"science technology\", \"arts entertainment\", \"recreation\", \"\", \"\", \"arts entertainment\", \"computer internet\", \"business\", \"business\", \"culture politics\", \"science technology\", \"\", \"\", \"\", \"\", \"sports\", \"arts entertainment\", \"science technology\", \"\", \"arts entertainment\", \"arts entertainment\", \"\", \"health\", \"business\", \"computer internet\", \"science technology\", \"sports\", \"arts entertainment\", \"religion\", \"arts entertainment\", \"\", \"sports\", \"religion\", \"arts entertainment\", \"arts entertainment\", \"science technology\", \"health\", \"recreation\", \"arts entertainment\", \"\", \"science technology\", \"recreation\", \"arts entertainment\", \"sports\", \"health\", \"business\", \"\", \"\", \"arts entertainment\", \"health\", \"\", \"business\", \"recreation\", \"arts entertainment\", \"\", \"business\", \"recreation\", \"\", \"sports\", \"arts entertainment\", \"culture politics\", \"health\", \"\", \"\", \"arts entertainment\", \"arts entertainment\", \"\", \"recreation\", \"recreation\", \"\", \"recreation\", \"computer internet\", \"recreation\", \"\", \"arts entertainment\", \"business\", \"\", \"\", \"arts entertainment\", \"arts entertainment\", \"arts entertainment\", \"sports\", \"health\", \"recreation\", \"recreation\", \"recreation\", \"arts entertainment\", \"recreation\", \"sports\", \"\", \"health\", \"\", \"computer internet\", \"recreation\", \"\", \"arts entertainment\", \"arts entertainment\", \"\", \"arts entertainment\", \"arts entertainment\", \"computer internet\", \"culture politics\", \"sports\", \"computer internet\", \"\", \"arts entertainment\", \"religion\", \"science technology\", \"culture politics\", \"computer internet\", \"science technology\", \"\", \"culture politics\", \"computer internet\", \"sports\", \"sports\", \"sports\", \"sports\", \"\", \"culture politics\", \"sports\", \"\", \"culture politics\", \"gaming\", \"business\", \"sports\", \"arts entertainment\", \"health\", \"recreation\", \"\", \"arts entertainment\", \"arts entertainment\", \"\", \"health\", \"recreation\", \"\", \"\", \"culture politics\", \"recreation\", \"recreation\", \"\", \"\", \"\", \"\", \"arts entertainment\", \"science technology\", \"science technology\", \"\", \"\", \"culture politics\", \"\", \"health\", \"\", \"\", \"arts entertainment\", \"gaming\", \"\", \"\", \"sports\", \"religion\", \"sports\", \"arts entertainment\", \"\", \"religion\", \"recreation\", \"\", \"culture politics\", \"science technology\", \"computer internet\", \"sports\", \"\", \"arts entertainment\", \"\", \"arts entertainment\", \"\", \"\", \"business\", \"culture politics\", \"sports\", \"\", \"\", \"arts entertainment\", \"business\", \"\", \"\", \"sports\", \"arts entertainment\", \"\", \"science technology\", \"science technology\", \"\", \"\", \"health\", \"arts entertainment\", \"recreation\", \"\", \"recreation\", \"computer internet\", \"science technology\", \"arts entertainment\", \"recreation\", \"computer internet\", \"\", \"recreation\", \"\", \"recreation\", \"\", \"computer internet\", \"culture politics\", \"\"], \"xaxis\": \"x\", \"yaxis\": \"y\"}, {\"alignmentgroup\": \"True\", \"bingroup\": \"x\", \"hoverlabel\": {\"namelength\": 0}, \"hovertemplate\": \"label=1.0<br>alchemy_category=%{x}<br>count=%{y}\", \"legendgroup\": \"label=1.0\", \"marker\": {\"color\": \"#EF553B\"}, \"name\": \"label=1.0\", \"offsetgroup\": \"label=1.0\", \"orientation\": \"v\", \"showlegend\": true, \"type\": \"histogram\", \"x\": [\"recreation\", \"health\", \"health\", \"arts entertainment\", \"\", \"\", \"health\", \"\", \"recreation\", \"health\", \"recreation\", \"\", \"\", \"\", \"\", \"recreation\", \"recreation\", \"business\", \"\", \"\", \"health\", \"recreation\", \"health\", \"\", \"\", \"recreation\", \"recreation\", \"health\", \"sports\", \"business\", \"sports\", \"arts entertainment\", \"business\", \"\", \"\", \"culture politics\", \"\", \"health\", \"science technology\", \"recreation\", \"sports\", \"business\", \"business\", \"\", \"\", \"\", \"computer internet\", \"business\", \"recreation\", \"business\", \"\", \"arts entertainment\", \"recreation\", \"culture politics\", \"\", \"sports\", \"recreation\", \"computer internet\", \"arts entertainment\", \"\", \"\", \"arts entertainment\", \"arts entertainment\", \"business\", \"business\", \"business\", \"health\", \"recreation\", \"recreation\", \"\", \"\", \"\", \"arts entertainment\", \"arts entertainment\", \"business\", \"business\", \"arts entertainment\", \"arts entertainment\", \"arts entertainment\", \"recreation\", \"health\", \"business\", \"recreation\", \"arts entertainment\", \"business\", \"arts entertainment\", \"recreation\", \"business\", \"recreation\", \"\", \"\", \"health\", \"arts entertainment\", \"law crime\", \"\", \"recreation\", \"culture politics\", \"business\", \"business\", \"\", \"health\", \"science technology\", \"\", \"\", \"\", \"\", \"\", \"arts entertainment\", \"\", \"recreation\", \"\", \"arts entertainment\", \"\", \"recreation\", \"\", \"arts entertainment\", \"recreation\", \"recreation\", \"business\", \"\", \"recreation\", \"\", \"recreation\", \"recreation\", \"\", \"\", \"science technology\", \"\", \"\", \"recreation\", \"business\", \"\", \"arts entertainment\", \"recreation\", \"\", \"science technology\", \"health\", \"recreation\", \"recreation\", \"\", \"health\", \"arts entertainment\", \"arts entertainment\", \"\", \"\", \"culture politics\", \"business\", \"\", \"business\", \"recreation\", \"health\", \"\", \"\", \"\", \"\", \"arts entertainment\", \"arts entertainment\", \"\", \"recreation\", \"\", \"recreation\", \"\", \"recreation\", \"\", \"\", \"\", \"computer internet\", \"recreation\", \"arts entertainment\", \"\", \"recreation\", \"business\", \"\", \"\", \"\", \"law crime\", \"\", \"business\", \"\", \"arts entertainment\", \"science technology\", \"\", \"culture politics\", \"\", \"recreation\", \"business\", \"recreation\", \"business\", \"business\", \"science technology\", \"\", \"business\", \"\", \"recreation\", \"sports\", \"recreation\", \"business\", \"\", \"health\", \"science technology\", \"sports\", \"science technology\", \"business\", \"arts entertainment\", \"arts entertainment\", \"recreation\", \"gaming\", \"\", \"\", \"arts entertainment\", \"sports\", \"arts entertainment\", \"\", \"\", \"\", \"sports\", \"\", \"arts entertainment\", \"\", \"business\", \"\", \"health\", \"\", \"business\", \"business\", \"sports\", \"recreation\", \"arts entertainment\", \"business\", \"arts entertainment\", \"\", \"business\", \"religion\", \"\", \"computer internet\", \"recreation\", \"science technology\", \"arts entertainment\", \"\", \"\", \"business\", \"culture politics\", \"business\", \"recreation\", \"\", \"recreation\", \"recreation\", \"\", \"business\", \"health\", \"\", \"\", \"health\", \"culture politics\", \"recreation\", \"health\", \"sports\", \"recreation\", \"recreation\", \"arts entertainment\", \"recreation\", \"health\", \"\", \"recreation\", \"recreation\", \"\", \"arts entertainment\", \"science technology\", \"\", \"business\", \"recreation\", \"recreation\", \"business\", \"science technology\", \"business\", \"recreation\", \"recreation\", \"recreation\", \"\", \"recreation\", \"\", \"health\", \"arts entertainment\", \"arts entertainment\", \"\", \"science technology\", \"\", \"\", \"science technology\", \"recreation\", \"\", \"culture politics\", \"business\", \"business\", \"recreation\", \"\", \"\", \"business\", \"\", \"health\", \"business\", \"\", \"arts entertainment\", \"\", \"recreation\", \"computer internet\", \"recreation\", \"arts entertainment\", \"sports\", \"\", \"recreation\", \"recreation\", \"arts entertainment\", \"recreation\", \"arts entertainment\", \"sports\", \"business\", \"arts entertainment\", \"\", \"recreation\", \"sports\", \"computer internet\", \"business\", \"science technology\", \"recreation\", \"science technology\", \"\", \"recreation\", \"\", \"\", \"arts entertainment\", \"\", \"arts entertainment\", \"recreation\", \"business\", \"\", \"arts entertainment\", \"business\", \"computer internet\", \"law crime\", \"recreation\", \"recreation\", \"\", \"science technology\", \"recreation\", \"\", \"recreation\", \"computer internet\", \"health\", \"recreation\", \"recreation\", \"business\", \"\", \"recreation\", \"business\", \"\", \"arts entertainment\", \"computer internet\", \"recreation\", \"recreation\", \"business\", \"recreation\", \"recreation\", \"arts entertainment\", \"business\", \"recreation\", \"culture politics\", \"recreation\", \"\", \"business\", \"arts entertainment\", \"\", \"\", \"business\", \"\", \"health\", \"culture politics\", \"\", \"health\", \"religion\", \"health\", \"\", \"science technology\", \"recreation\", \"recreation\", \"\", \"\", \"\", \"culture politics\", \"business\", \"\", \"\", \"recreation\", \"\", \"recreation\", \"business\", \"\", \"recreation\", \"recreation\", \"recreation\", \"health\", \"health\", \"\", \"health\", \"culture politics\", \"sports\", \"arts entertainment\", \"recreation\", \"arts entertainment\", \"\", \"business\", \"\", \"recreation\", \"recreation\", \"business\", \"\", \"arts entertainment\", \"business\", \"health\", \"\", \"\", \"recreation\", \"health\", \"\", \"\", \"sports\", \"\", \"science technology\", \"recreation\", \"\", \"health\", \"business\", \"business\", \"health\", \"\", \"recreation\", \"recreation\", \"\", \"business\", \"\", \"culture politics\", \"business\", \"arts entertainment\", \"\", \"science technology\", \"\", \"culture politics\", \"\", \"\", \"\", \"\", \"computer internet\", \"arts entertainment\", \"culture politics\", \"recreation\", \"\", \"\", \"\", \"business\", \"culture politics\", \"\", \"computer internet\", \"recreation\", \"business\", \"health\", \"business\", \"\", \"business\", \"business\", \"recreation\", \"health\", \"recreation\", \"recreation\", \"health\", \"\", \"arts entertainment\", \"\", \"\", \"\", \"arts entertainment\", \"\", \"recreation\", \"arts entertainment\", \"recreation\", \"health\", \"law crime\", \"business\", \"recreation\", \"recreation\", \"\", \"business\", \"unknown\", \"health\", \"religion\", \"health\", \"recreation\", \"arts entertainment\", \"\", \"\", \"\", \"\", \"business\", \"business\", \"business\", \"arts entertainment\", \"arts entertainment\", \"recreation\", \"culture politics\", \"arts entertainment\", \"business\", \"health\", \"\", \"recreation\", \"recreation\", \"science technology\", \"arts entertainment\", \"health\", \"business\", \"arts entertainment\", \"\", \"recreation\", \"recreation\", \"business\", \"recreation\", \"recreation\", \"\", \"recreation\", \"\", \"recreation\", \"arts entertainment\", \"recreation\", \"\", \"\", \"\", \"recreation\", \"\", \"recreation\", \"recreation\", \"\", \"\", \"\", \"health\", \"arts entertainment\", \"recreation\", \"business\", \"recreation\", \"arts entertainment\", \"business\", \"recreation\", \"science technology\", \"\", \"recreation\", \"\", \"business\", \"business\", \"recreation\", \"recreation\", \"\", \"\", \"arts entertainment\", \"business\", \"health\", \"arts entertainment\", \"\", \"culture politics\", \"sports\", \"\", \"arts entertainment\", \"recreation\", \"culture politics\", \"recreation\", \"business\", \"business\", \"business\", \"health\", \"\", \"business\", \"health\", \"\", \"\", \"gaming\", \"business\", \"arts entertainment\", \"\", \"\", \"recreation\", \"\", \"\", \"\", \"health\", \"\", \"\", \"recreation\", \"\", \"\", \"business\", \"recreation\", \"arts entertainment\", \"arts entertainment\", \"business\", \"sports\", \"recreation\", \"computer internet\", \"health\", \"business\", \"\", \"arts entertainment\", \"\", \"recreation\", \"recreation\", \"health\", \"recreation\", \"business\", \"arts entertainment\", \"business\", \"\", \"culture politics\", \"\", \"sports\", \"recreation\", \"business\", \"arts entertainment\", \"science technology\", \"business\", \"business\", \"recreation\", \"\", \"recreation\", \"\", \"recreation\", \"\", \"health\", \"\", \"arts entertainment\", \"business\", \"\", \"arts entertainment\", \"business\", \"business\", \"business\", \"health\", \"business\", \"\", \"recreation\", \"science technology\", \"health\", \"religion\", \"recreation\", \"arts entertainment\", \"\", \"\", \"culture politics\", \"health\", \"business\", \"science technology\", \"business\", \"arts entertainment\", \"recreation\", \"recreation\", \"\", \"recreation\", \"recreation\", \"\", \"\", \"science technology\", \"gaming\", \"business\", \"arts entertainment\", \"\", \"recreation\", \"health\", \"business\", \"health\", \"\", \"\", \"recreation\", \"business\", \"computer internet\", \"\", \"recreation\", \"\", \"\", \"health\", \"health\", \"business\", \"recreation\", \"recreation\", \"science technology\", \"business\", \"sports\", \"\", \"arts entertainment\", \"health\", \"culture politics\", \"culture politics\", \"recreation\", \"recreation\", \"recreation\", \"recreation\", \"business\", \"arts entertainment\", \"recreation\", \"business\", \"recreation\", \"\", \"arts entertainment\", \"arts entertainment\", \"recreation\", \"\", \"business\", \"\", \"recreation\", \"\", \"health\", \"recreation\", \"culture politics\", \"\", \"business\", \"\", \"business\", \"\", \"\", \"\", \"business\", \"business\", \"science technology\", \"\", \"business\", \"health\", \"\", \"\", \"\", \"science technology\", \"\", \"\", \"recreation\", \"business\", \"recreation\", \"\", \"\", \"health\", \"business\", \"\", \"\", \"business\", \"science technology\", \"recreation\", \"recreation\", \"recreation\", \"\", \"business\", \"\", \"business\", \"recreation\", \"\", \"\", \"science technology\", \"arts entertainment\", \"\", \"science technology\", \"recreation\", \"health\", \"recreation\", \"sports\", \"health\", \"\", \"arts entertainment\", \"culture politics\", \"business\", \"\", \"business\", \"\", \"business\", \"\", \"recreation\", \"\", \"\", \"\", \"health\", \"health\", \"recreation\", \"recreation\", \"arts entertainment\", \"recreation\", \"business\", \"culture politics\", \"\", \"computer internet\", \"business\", \"\", \"\", \"recreation\", \"\", \"business\", \"culture politics\", \"business\", \"business\", \"business\", \"recreation\", \"culture politics\", \"health\", \"\", \"business\", \"arts entertainment\", \"arts entertainment\", \"\", \"arts entertainment\", \"recreation\", \"recreation\", \"recreation\", \"\", \"business\", \"\", \"business\", \"business\", \"recreation\", \"\", \"business\", \"recreation\", \"\", \"recreation\", \"culture politics\", \"recreation\", \"business\", \"\", \"\", \"recreation\", \"recreation\", \"health\", \"\", \"business\", \"recreation\", \"recreation\", \"\", \"arts entertainment\", \"recreation\", \"\", \"recreation\", \"\", \"health\", \"culture politics\", \"recreation\", \"culture politics\", \"recreation\", \"\", \"recreation\", \"\", \"health\", \"recreation\", \"recreation\", \"recreation\", \"recreation\", \"recreation\", \"religion\", \"recreation\", \"recreation\", \"\", \"business\", \"recreation\", \"science technology\", \"recreation\", \"recreation\", \"recreation\", \"recreation\", \"recreation\", \"\", \"business\", \"gaming\", \"recreation\", \"business\", \"culture politics\", \"\", \"\", \"\", \"recreation\", \"recreation\", \"\", \"\", \"business\", \"business\", \"business\", \"business\", \"arts entertainment\", \"business\", \"science technology\", \"business\", \"arts entertainment\", \"recreation\", \"recreation\", \"recreation\", \"\", \"science technology\", \"\", \"business\", \"\", \"culture politics\", \"health\", \"science technology\", \"\", \"\", \"recreation\", \"business\", \"\", \"business\", \"business\", \"business\", \"culture politics\", \"\", \"arts entertainment\", \"\", \"health\", \"religion\", \"\", \"business\", \"arts entertainment\", \"business\", \"\", \"business\", \"business\", \"recreation\", \"business\", \"business\", \"\", \"sports\", \"gaming\", \"arts entertainment\", \"\", \"arts entertainment\", \"science technology\", \"\", \"\", \"business\", \"recreation\", \"\", \"computer internet\", \"health\", \"culture politics\", \"\", \"\", \"arts entertainment\", \"\", \"recreation\", \"computer internet\", \"health\", \"arts entertainment\", \"health\", \"\", \"arts entertainment\", \"recreation\", \"business\", \"\", \"arts entertainment\", \"\", \"\", \"\", \"business\", \"health\", \"science technology\", \"sports\", \"health\", \"business\", \"business\", \"recreation\", \"business\", \"business\", \"business\", \"sports\", \"recreation\", \"recreation\", \"religion\", \"recreation\", \"recreation\", \"\", \"culture politics\", \"recreation\", \"\", \"arts entertainment\", \"recreation\", \"sports\", \"health\", \"\", \"business\", \"business\", \"business\", \"recreation\", \"health\", \"arts entertainment\", \"arts entertainment\", \"\", \"\", \"science technology\", \"recreation\", \"health\", \"business\", \"business\", \"science technology\", \"\", \"recreation\", \"law crime\", \"recreation\", \"recreation\", \"recreation\", \"arts entertainment\", \"\", \"recreation\", \"\", \"recreation\", \"arts entertainment\", \"health\", \"business\", \"\", \"\", \"business\", \"business\", \"health\", \"health\", \"business\", \"health\", \"\", \"\", \"health\", \"arts entertainment\", \"arts entertainment\", \"recreation\", \"\", \"science technology\", \"\", \"recreation\", \"health\", \"arts entertainment\", \"business\", \"business\", \"\", \"arts entertainment\", \"arts entertainment\", \"health\", \"arts entertainment\", \"\", \"business\", \"recreation\", \"\", \"business\", \"business\", \"\", \"\", \"arts entertainment\", \"business\", \"business\", \"health\", \"\", \"recreation\", \"\", \"business\", \"recreation\", \"business\", \"sports\", \"\", \"\", \"\", \"\", \"health\", \"\", \"health\", \"\", \"arts entertainment\", \"\", \"\", \"recreation\", \"recreation\", \"recreation\", \"recreation\", \"arts entertainment\", \"\", \"recreation\", \"\", \"business\", \"business\", \"culture politics\", \"\", \"\", \"\", \"recreation\", \"\", \"recreation\", \"recreation\", \"recreation\", \"health\", \"recreation\", \"arts entertainment\", \"business\", \"health\", \"religion\", \"business\", \"business\", \"culture politics\", \"business\", \"gaming\", \"arts entertainment\", \"recreation\", \"recreation\", \"recreation\", \"computer internet\", \"recreation\", \"arts entertainment\", \"business\", \"business\", \"\", \"recreation\", \"\", \"culture politics\", \"health\", \"\", \"\", \"arts entertainment\", \"arts entertainment\", \"business\", \"\", \"business\", \"recreation\", \"culture politics\", \"\", \"recreation\", \"recreation\", \"\", \"science technology\", \"business\", \"recreation\", \"science technology\", \"recreation\", \"recreation\", \"health\", \"\", \"\", \"\", \"health\", \"health\", \"business\", \"\", \"\", \"\", \"business\", \"\", \"\", \"\", \"science technology\", \"\", \"business\", \"arts entertainment\", \"\", \"business\", \"\", \"\", \"business\", \"business\", \"health\", \"\", \"recreation\", \"business\", \"\", \"\", \"\", \"recreation\", \"recreation\", \"business\", \"recreation\", \"\", \"arts entertainment\", \"\", \"recreation\", \"recreation\", \"recreation\", \"recreation\", \"recreation\", \"\", \"business\", \"\", \"recreation\", \"culture politics\", \"recreation\", \"culture politics\", \"\", \"culture politics\", \"\", \"\", \"recreation\", \"\", \"\", \"culture politics\", \"arts entertainment\", \"arts entertainment\", \"business\", \"\", \"business\", \"arts entertainment\", \"health\", \"\", \"science technology\", \"health\", \"science technology\", \"recreation\", \"culture politics\", \"\", \"business\", \"\", \"arts entertainment\", \"recreation\", \"science technology\", \"\", \"business\", \"recreation\", \"\", \"recreation\", \"\", \"health\", \"business\", \"\", \"\", \"gaming\", \"arts entertainment\", \"\", \"\", \"recreation\", \"\", \"business\", \"\", \"recreation\", \"\", \"recreation\", \"culture politics\", \"recreation\", \"\", \"business\", \"recreation\", \"recreation\", \"computer internet\", \"business\", \"arts entertainment\", \"\", \"\", \"business\", \"recreation\", \"computer internet\", \"\", \"\", \"\", \"\", \"culture politics\", \"culture politics\", \"recreation\", \"culture politics\", \"recreation\", \"\", \"recreation\", \"business\", \"arts entertainment\", \"\", \"recreation\", \"\", \"recreation\", \"\", \"recreation\", \"arts entertainment\", \"\", \"\", \"business\", \"\", \"business\", \"business\", \"\", \"health\", \"\", \"health\", \"recreation\", \"\", \"\", \"\", \"business\", \"recreation\", \"science technology\", \"arts entertainment\", \"recreation\", \"business\", \"arts entertainment\", \"\", \"business\", \"culture politics\", \"\", \"\", \"science technology\", \"recreation\", \"\", \"business\", \"\", \"recreation\", \"health\", \"\", \"science technology\", \"\", \"recreation\", \"sports\", \"health\", \"\", \"science technology\", \"\", \"\", \"recreation\", \"recreation\", \"\", \"\", \"\", \"recreation\", \"\", \"arts entertainment\", \"recreation\", \"\", \"business\", \"arts entertainment\", \"\", \"health\", \"recreation\", \"recreation\", \"\", \"\", \"arts entertainment\", \"business\", \"health\", \"culture politics\", \"\", \"arts entertainment\", \"arts entertainment\", \"\", \"recreation\", \"business\", \"arts entertainment\", \"\", \"culture politics\", \"\", \"recreation\", \"\", \"recreation\", \"health\", \"\", \"arts entertainment\", \"culture politics\", \"\", \"recreation\", \"science technology\", \"arts entertainment\", \"science technology\", \"recreation\", \"\", \"culture politics\", \"health\", \"\", \"\", \"arts entertainment\", \"computer internet\", \"health\", \"business\", \"recreation\", \"recreation\", \"arts entertainment\", \"\", \"\", \"\", \"recreation\", \"health\", \"\", \"recreation\", \"recreation\", \"\", \"recreation\", \"\", \"recreation\", \"business\", \"business\", \"\", \"\", \"\", \"health\", \"recreation\", \"arts entertainment\", \"business\", \"\", \"business\", \"health\", \"\", \"computer internet\", \"arts entertainment\", \"gaming\", \"culture politics\", \"science technology\", \"\", \"\", \"culture politics\", \"health\", \"arts entertainment\", \"recreation\", \"sports\", \"\", \"business\", \"recreation\", \"recreation\", \"business\", \"\", \"science technology\", \"science technology\", \"health\", \"recreation\", \"recreation\", \"\", \"\", \"\", \"\", \"business\", \"\", \"\", \"\", \"recreation\", \"recreation\", \"business\", \"business\", \"\", \"\", \"business\", \"\", \"arts entertainment\", \"recreation\", \"\", \"\", \"business\", \"recreation\", \"arts entertainment\", \"recreation\", \"computer internet\", \"recreation\", \"business\", \"culture politics\", \"recreation\", \"recreation\", \"\", \"recreation\", \"\", \"recreation\", \"recreation\", \"\", \"business\", \"\", \"\", \"computer internet\", \"health\", \"recreation\", \"business\", \"health\", \"religion\", \"recreation\", \"health\", \"\", \"culture politics\", \"recreation\", \"\", \"\", \"\", \"sports\", \"\", \"arts entertainment\", \"health\", \"business\", \"sports\", \"business\", \"science technology\", \"\", \"business\", \"arts entertainment\", \"recreation\", \"business\", \"\", \"computer internet\", \"\", \"arts entertainment\", \"\", \"\", \"sports\", \"\", \"arts entertainment\", \"arts entertainment\", \"business\", \"business\", \"\", \"culture politics\", \"arts entertainment\", \"\", \"recreation\", \"gaming\", \"\", \"computer internet\", \"recreation\", \"\", \"\", \"\", \"culture politics\", \"\", \"\", \"recreation\", \"\", \"recreation\", \"health\", \"recreation\", \"culture politics\", \"recreation\", \"business\", \"\", \"\", \"recreation\", \"\", \"business\", \"business\", \"\", \"\", \"\", \"\", \"\", \"arts entertainment\", \"business\", \"recreation\", \"arts entertainment\", \"\", \"health\", \"arts entertainment\", \"arts entertainment\", \"sports\", \"\", \"\", \"science technology\", \"\", \"\", \"science technology\", \"\", \"culture politics\", \"recreation\", \"business\", \"science technology\", \"\", \"sports\", \"recreation\", \"\", \"recreation\", \"\", \"\", \"\", \"\", \"business\", \"arts entertainment\", \"business\", \"arts entertainment\", \"\", \"recreation\", \"culture politics\", \"\", \"arts entertainment\", \"\", \"arts entertainment\", \"computer internet\", \"computer internet\", \"\", \"\", \"culture politics\", \"recreation\", \"\", \"\", \"culture politics\", \"business\", \"recreation\", \"\", \"\", \"\", \"recreation\", \"arts entertainment\", \"\", \"\", \"recreation\", \"\", \"recreation\", \"\", \"sports\", \"\", \"recreation\", \"\", \"gaming\", \"\", \"recreation\", \"arts entertainment\", \"recreation\", \"\", \"business\", \"recreation\", \"sports\", \"recreation\", \"\", \"\", \"arts entertainment\", \"\", \"business\", \"culture politics\", \"recreation\", \"arts entertainment\", \"\", \"business\", \"recreation\", \"religion\", \"health\", \"sports\", \"\", \"recreation\", \"\", \"\", \"recreation\", \"recreation\", \"business\", \"recreation\", \"arts entertainment\", \"business\", \"health\", \"recreation\", \"recreation\", \"business\", \"\", \"recreation\", \"law crime\", \"recreation\", \"business\", \"\", \"arts entertainment\", \"recreation\", \"business\", \"arts entertainment\", \"business\", \"health\", \"culture politics\", \"arts entertainment\", \"recreation\", \"\", \"\", \"\", \"\", \"business\", \"recreation\", \"\", \"sports\", \"\", \"recreation\", \"gaming\", \"law crime\", \"arts entertainment\", \"\", \"\", \"business\", \"business\", \"sports\", \"recreation\", \"\", \"\", \"\", \"science technology\", \"business\", \"culture politics\", \"\", \"\", \"sports\", \"health\", \"recreation\", \"sports\", \"business\", \"arts entertainment\", \"business\", \"health\", \"religion\", \"\", \"health\", \"sports\", \"\", \"culture politics\", \"recreation\", \"recreation\", \"\", \"arts entertainment\", \"gaming\", \"business\", \"arts entertainment\", \"business\", \"recreation\", \"religion\", \"\", \"business\", \"\", \"sports\", \"science technology\", \"recreation\", \"\", \"science technology\", \"religion\", \"recreation\", \"\", \"business\", \"recreation\", \"business\", \"science technology\", \"business\", \"\", \"\", \"\", \"arts entertainment\", \"business\", \"arts entertainment\", \"health\", \"recreation\", \"science technology\", \"\", \"business\", \"\", \"\", \"computer internet\", \"\", \"\", \"\", \"\", \"arts entertainment\", \"culture politics\", \"\", \"\", \"recreation\", \"arts entertainment\", \"\", \"recreation\", \"recreation\", \"\", \"health\", \"\", \"recreation\", \"arts entertainment\", \"\", \"\", \"\", \"\", \"recreation\", \"recreation\", \"recreation\", \"arts entertainment\", \"\", \"business\", \"\", \"\", \"business\", \"\", \"sports\", \"recreation\", \"business\", \"business\", \"recreation\", \"business\", \"\", \"health\", \"health\", \"business\", \"computer internet\", \"science technology\", \"\", \"business\", \"\", \"arts entertainment\", \"business\", \"computer internet\", \"recreation\", \"\", \"recreation\", \"business\", \"\", \"\", \"\", \"\", \"religion\", \"recreation\", \"\", \"\", \"arts entertainment\", \"\", \"health\", \"recreation\", \"business\", \"health\", \"\", \"business\", \"\", \"\", \"recreation\", \"business\", \"recreation\", \"business\", \"recreation\", \"\", \"\", \"health\", \"business\", \"arts entertainment\", \"culture politics\", \"culture politics\", \"recreation\", \"health\", \"health\", \"\", \"\", \"\", \"\", \"recreation\", \"\", \"recreation\", \"business\", \"science technology\", \"\", \"business\", \"computer internet\", \"business\", \"recreation\", \"health\", \"\", \"health\", \"recreation\", \"health\", \"health\", \"\", \"\", \"business\", \"\", \"\", \"religion\", \"\", \"business\", \"business\", \"\", \"\", \"business\", \"recreation\", \"health\", \"recreation\", \"\", \"\", \"\", \"recreation\", \"religion\", \"culture politics\", \"business\", \"business\", \"business\", \"business\", \"recreation\", \"recreation\", \"recreation\", \"\", \"business\", \"\", \"culture politics\", \"recreation\", \"\", \"recreation\", \"recreation\", \"recreation\", \"health\", \"\", \"\", \"arts entertainment\", \"recreation\", \"recreation\", \"recreation\", \"health\", \"computer internet\", \"business\", \"culture politics\", \"culture politics\", \"computer internet\", \"health\", \"\", \"\", \"recreation\", \"business\", \"business\", \"\", \"arts entertainment\", \"\", \"arts entertainment\", \"business\", \"\", \"recreation\", \"health\", \"\", \"\", \"\", \"recreation\", \"\", \"business\", \"\", \"\", \"arts entertainment\", \"arts entertainment\", \"business\", \"recreation\", \"science technology\", \"business\", \"arts entertainment\", \"\", \"\", \"\", \"recreation\", \"\", \"business\", \"recreation\", \"computer internet\", \"recreation\", \"\", \"recreation\", \"\", \"\", \"\", \"\", \"science technology\", \"\", \"gaming\", \"recreation\", \"\", \"recreation\", \"business\", \"recreation\", \"religion\", \"\", \"recreation\", \"sports\", \"recreation\", \"business\", \"science technology\", \"\", \"sports\", \"culture politics\", \"\", \"gaming\", \"culture politics\", \"computer internet\", \"\", \"business\", \"\", \"\", \"business\", \"\", \"recreation\", \"health\", \"arts entertainment\", \"arts entertainment\", \"recreation\", \"\", \"culture politics\", \"culture politics\", \"recreation\", \"recreation\", \"\", \"\", \"business\", \"\", \"law crime\", \"business\", \"health\", \"\", \"\", \"arts entertainment\", \"business\", \"\", \"arts entertainment\", \"\", \"business\", \"recreation\", \"business\", \"\", \"arts entertainment\", \"business\", \"health\", \"science technology\", \"business\", \"health\", \"health\", \"business\", \"science technology\", \"\", \"\", \"business\", \"health\", \"recreation\", \"\", \"computer internet\", \"\", \"business\", \"business\", \"\", \"\", \"arts entertainment\", \"\", \"\", \"\", \"\", \"\", \"\", \"arts entertainment\", \"recreation\", \"arts entertainment\", \"recreation\", \"business\", \"business\", \"sports\", \"recreation\", \"business\", \"health\", \"business\", \"health\", \"\", \"\", \"computer internet\", \"business\", \"\", \"business\", \"arts entertainment\", \"business\", \"recreation\", \"\", \"recreation\", \"business\", \"\", \"culture politics\", \"arts entertainment\", \"health\", \"health\", \"\", \"\", \"\", \"\", \"business\", \"business\", \"\", \"recreation\", \"arts entertainment\", \"arts entertainment\", \"arts entertainment\", \"\", \"culture politics\", \"\", \"arts entertainment\", \"health\", \"recreation\", \"recreation\", \"recreation\", \"arts entertainment\", \"recreation\", \"\", \"\", \"recreation\", \"business\", \"computer internet\", \"\", \"recreation\", \"religion\", \"science technology\", \"recreation\", \"religion\", \"health\", \"gaming\", \"\", \"health\", \"culture politics\", \"business\", \"business\", \"recreation\", \"business\", \"recreation\", \"sports\", \"recreation\", \"recreation\", \"culture politics\", \"recreation\", \"recreation\", \"\", \"\", \"\", \"arts entertainment\", \"culture politics\", \"\", \"\", \"\", \"business\", \"recreation\", \"\", \"business\", \"recreation\", \"business\", \"business\", \"science technology\", \"health\", \"\", \"recreation\", \"recreation\", \"\", \"recreation\", \"\", \"\", \"business\", \"arts entertainment\", \"sports\", \"health\", \"recreation\", \"recreation\", \"science technology\", \"science technology\", \"recreation\", \"recreation\", \"\", \"\", \"recreation\", \"business\", \"business\", \"recreation\", \"business\", \"recreation\", \"\", \"recreation\", \"health\", \"\", \"business\", \"recreation\", \"\", \"arts entertainment\", \"business\", \"\", \"\", \"recreation\", \"\", \"\", \"science technology\", \"health\", \"recreation\", \"recreation\", \"recreation\", \"arts entertainment\", \"business\", \"recreation\", \"arts entertainment\", \"recreation\", \"recreation\", \"business\", \"\", \"business\", \"science technology\", \"sports\", \"\", \"health\", \"business\", \"recreation\", \"business\", \"\", \"business\", \"recreation\", \"recreation\", \"\", \"business\", \"recreation\", \"recreation\", \"culture politics\", \"arts entertainment\", \"arts entertainment\", \"\", \"health\", \"business\", \"recreation\", \"science technology\", \"recreation\", \"recreation\", \"recreation\", \"business\", \"recreation\", \"recreation\", \"business\", \"business\", \"\", \"arts entertainment\", \"recreation\", \"recreation\", \"arts entertainment\", \"business\", \"\", \"\", \"business\", \"business\", \"recreation\", \"recreation\", \"\", \"\", \"business\", \"recreation\", \"recreation\", \"recreation\", \"arts entertainment\", \"computer internet\", \"\", \"\", \"recreation\", \"arts entertainment\", \"recreation\", \"\", \"health\", \"\", \"\", \"\", \"recreation\", \"\", \"recreation\", \"culture politics\", \"recreation\", \"recreation\", \"business\", \"recreation\", \"\", \"\", \"business\", \"recreation\", \"\", \"\", \"\", \"culture politics\", \"\", \"\", \"recreation\", \"arts entertainment\", \"\", \"\", \"arts entertainment\", \"arts entertainment\", \"culture politics\", \"\", \"business\", \"recreation\", \"gaming\", \"business\", \"recreation\", \"recreation\", \"recreation\", \"recreation\", \"business\", \"\", \"business\", \"business\", \"business\", \"recreation\", \"science technology\", \"gaming\", \"\", \"\", \"\", \"\", \"\", \"business\", \"arts entertainment\", \"\", \"\", \"recreation\", \"health\", \"health\", \"arts entertainment\", \"business\", \"computer internet\", \"\", \"\", \"\", \"recreation\", \"recreation\", \"\", \"recreation\", \"recreation\", \"arts entertainment\", \"computer internet\", \"arts entertainment\", \"\", \"computer internet\", \"\", \"arts entertainment\", \"\", \"health\", \"recreation\", \"science technology\", \"gaming\", \"health\", \"gaming\", \"sports\", \"science technology\", \"arts entertainment\", \"business\", \"culture politics\", \"\", \"\", \"\", \"arts entertainment\", \"\", \"business\", \"\", \"arts entertainment\", \"recreation\", \"culture politics\", \"recreation\", \"business\", \"arts entertainment\", \"recreation\", \"business\", \"\", \"recreation\", \"health\", \"\", \"business\", \"recreation\", \"recreation\", \"recreation\", \"computer internet\", \"arts entertainment\", \"\", \"business\", \"health\", \"culture politics\", \"business\", \"\", \"recreation\", \"recreation\", \"\", \"\", \"arts entertainment\", \"business\", \"business\", \"recreation\", \"\", \"recreation\", \"recreation\", \"sports\", \"\", \"\", \"recreation\", \"health\", \"\", \"\", \"recreation\", \"arts entertainment\", \"\", \"\", \"\", \"\", \"arts entertainment\", \"business\", \"\", \"\", \"recreation\", \"recreation\", \"recreation\", \"business\", \"arts entertainment\", \"\", \"recreation\", \"recreation\", \"business\", \"\", \"recreation\", \"recreation\", \"computer internet\", \"\", \"recreation\", \"recreation\", \"culture politics\", \"recreation\", \"arts entertainment\", \"business\", \"business\", \"\", \"recreation\", \"\", \"culture politics\", \"business\", \"recreation\", \"\", \"\", \"recreation\", \"religion\", \"health\", \"sports\", \"recreation\", \"arts entertainment\", \"recreation\", \"recreation\", \"business\", \"sports\", \"computer internet\", \"business\", \"arts entertainment\", \"culture politics\", \"recreation\", \"recreation\", \"culture politics\", \"\", \"business\", \"business\", \"gaming\", \"computer internet\", \"business\", \"recreation\", \"\", \"\", \"recreation\", \"business\", \"business\", \"sports\", \"recreation\", \"arts entertainment\", \"arts entertainment\", \"culture politics\", \"recreation\", \"\", \"recreation\", \"health\", \"recreation\", \"\", \"arts entertainment\", \"\", \"recreation\", \"science technology\", \"gaming\", \"health\", \"business\", \"\", \"recreation\", \"science technology\", \"business\", \"recreation\", \"health\", \"science technology\", \"business\", \"\", \"business\", \"business\", \"recreation\", \"business\", \"science technology\", \"\", \"health\", \"\", \"recreation\", \"recreation\", \"\", \"\", \"recreation\", \"\", \"recreation\", \"\", \"recreation\", \"recreation\", \"recreation\", \"health\", \"\", \"\", \"health\", \"computer internet\", \"business\", \"\", \"arts entertainment\", \"culture politics\", \"recreation\", \"health\", \"\", \"science technology\", \"\", \"recreation\", \"\", \"\", \"\", \"arts entertainment\", \"arts entertainment\", \"arts entertainment\", \"\", \"recreation\", \"\", \"health\", \"recreation\", \"recreation\", \"\", \"\", \"business\", \"recreation\", \"\", \"arts entertainment\", \"business\", \"recreation\", \"recreation\", \"business\", \"science technology\", \"recreation\", \"culture politics\", \"gaming\", \"health\", \"\", \"\", \"recreation\", \"\", \"business\", \"\", \"\", \"business\", \"arts entertainment\", \"business\", \"computer internet\", \"recreation\", \"business\", \"business\", \"\", \"business\", \"\", \"sports\", \"\", \"recreation\", \"recreation\", \"business\", \"health\", \"health\", \"\", \"business\", \"culture politics\", \"business\", \"recreation\", \"\", \"recreation\", \"arts entertainment\", \"recreation\", \"\", \"\", \"business\", \"computer internet\", \"sports\", \"business\", \"recreation\", \"science technology\", \"\", \"business\", \"\", \"\", \"recreation\", \"\", \"\", \"business\", \"arts entertainment\", \"\", \"recreation\", \"recreation\", \"business\", \"gaming\", \"arts entertainment\", \"recreation\", \"\", \"\", \"health\", \"\", \"business\", \"science technology\", \"recreation\", \"\", \"culture politics\", \"health\", \"recreation\", \"arts entertainment\", \"health\", \"recreation\", \"\", \"business\", \"\", \"\", \"recreation\", \"health\", \"\", \"business\", \"arts entertainment\", \"arts entertainment\", \"business\", \"business\", \"health\", \"arts entertainment\", \"\", \"health\", \"\", \"\", \"arts entertainment\", \"\", \"recreation\", \"culture politics\", \"\", \"business\", \"\", \"culture politics\", \"recreation\", \"\", \"\", \"\", \"arts entertainment\", \"business\", \"business\", \"business\", \"\", \"business\", \"recreation\", \"business\", \"science technology\", \"\", \"recreation\", \"culture politics\", \"arts entertainment\", \"arts entertainment\", \"recreation\", \"\", \"\", \"\", \"\", \"business\", \"recreation\", \"\", \"health\", \"arts entertainment\", \"\", \"health\", \"\", \"\", \"science technology\", \"recreation\", \"arts entertainment\", \"\", \"\", \"\", \"recreation\", \"health\", \"health\", \"business\", \"arts entertainment\", \"business\", \"business\", \"business\", \"arts entertainment\", \"recreation\", \"business\", \"business\", \"health\", \"recreation\", \"recreation\", \"\", \"business\", \"\", \"arts entertainment\", \"arts entertainment\", \"recreation\", \"\", \"\", \"\", \"business\", \"\", \"\", \"computer internet\", \"\", \"\", \"\", \"business\", \"science technology\", \"arts entertainment\", \"culture politics\", \"business\", \"\", \"computer internet\", \"\", \"\", \"arts entertainment\", \"health\", \"\", \"business\", \"recreation\", \"\", \"business\", \"\", \"\", \"recreation\", \"\", \"\", \"health\", \"recreation\", \"\", \"recreation\", \"\", \"recreation\", \"business\", \"recreation\", \"business\", \"recreation\", \"\", \"recreation\", \"\", \"recreation\", \"sports\", \"\", \"health\", \"recreation\", \"business\", \"business\", \"sports\", \"health\", \"\", \"business\", \"business\", \"recreation\", \"health\", \"arts entertainment\", \"computer internet\", \"business\", \"business\", \"\", \"sports\", \"business\", \"arts entertainment\", \"science technology\", \"recreation\", \"recreation\", \"\", \"religion\", \"health\", \"business\", \"recreation\", \"\", \"health\", \"culture politics\", \"\", \"computer internet\", \"health\", \"\", \"recreation\", \"\", \"business\", \"\", \"arts entertainment\", \"recreation\", \"\", \"\", \"recreation\", \"business\", \"culture politics\", \"recreation\", \"arts entertainment\", \"recreation\", \"\", \"business\", \"health\", \"arts entertainment\", \"business\", \"gaming\", \"\", \"\", \"business\", \"business\", \"business\", \"recreation\", \"\", \"\", \"recreation\", \"science technology\", \"recreation\", \"\", \"recreation\", \"sports\", \"\", \"arts entertainment\", \"arts entertainment\", \"business\", \"\", \"recreation\", \"business\", \"recreation\", \"recreation\", \"\", \"recreation\", \"health\", \"arts entertainment\", \"computer internet\", \"business\", \"law crime\", \"\", \"\", \"recreation\", \"recreation\", \"\", \"health\", \"\", \"recreation\", \"arts entertainment\", \"recreation\", \"health\", \"recreation\", \"\", \"\", \"recreation\", \"\", \"arts entertainment\", \"culture politics\", \"recreation\", \"science technology\", \"\", \"health\", \"\", \"\", \"\", \"science technology\", \"business\", \"\", \"business\", \"recreation\", \"\", \"\", \"recreation\", \"health\", \"\", \"recreation\", \"culture politics\", \"business\", \"recreation\", \"recreation\", \"recreation\", \"\", \"culture politics\", \"\", \"recreation\", \"business\", \"science technology\", \"health\", \"health\", \"culture politics\", \"arts entertainment\", \"business\", \"recreation\", \"recreation\", \"\", \"\", \"\", \"\", \"sports\", \"gaming\", \"recreation\", \"recreation\", \"computer internet\", \"business\", \"health\", \"recreation\", \"business\", \"health\", \"recreation\", \"\", \"business\", \"science technology\", \"health\", \"recreation\", \"\", \"recreation\", \"\", \"\", \"\", \"religion\", \"\", \"\", \"science technology\", \"science technology\", \"recreation\", \"business\", \"recreation\", \"business\", \"business\", \"recreation\", \"\", \"culture politics\", \"\", \"business\", \"\", \"business\", \"\", \"business\", \"culture politics\", \"science technology\", \"recreation\", \"arts entertainment\", \"\", \"arts entertainment\", \"recreation\", \"religion\", \"law crime\", \"recreation\", \"culture politics\", \"recreation\", \"recreation\", \"culture politics\", \"health\", \"\", \"business\", \"\", \"business\", \"religion\", \"health\", \"\", \"\", \"\", \"recreation\", \"\", \"recreation\", \"\", \"business\", \"culture politics\", \"business\", \"business\", \"arts entertainment\", \"science technology\", \"science technology\", \"recreation\", \"\", \"business\", \"business\", \"culture politics\", \"arts entertainment\", \"\", \"\", \"business\", \"\", \"\", \"recreation\", \"business\", \"\", \"\", \"business\", \"\", \"culture politics\", \"\", \"arts entertainment\", \"health\", \"\", \"\", \"\", \"arts entertainment\", \"health\", \"\", \"\", \"recreation\", \"health\", \"business\", \"recreation\", \"computer internet\", \"recreation\", \"\", \"business\", \"recreation\", \"business\", \"sports\", \"\", \"recreation\", \"arts entertainment\", \"recreation\", \"business\", \"health\", \"\", \"business\", \"recreation\", \"arts entertainment\", \"\", \"health\", \"\", \"health\", \"\", \"recreation\", \"business\", \"\", \"recreation\", \"\", \"business\", \"health\", \"recreation\", \"recreation\", \"recreation\", \"business\", \"arts entertainment\", \"health\", \"sports\", \"health\", \"business\", \"business\", \"health\", \"business\", \"recreation\", \"\", \"recreation\", \"business\", \"recreation\", \"law crime\", \"culture politics\", \"business\", \"recreation\", \"recreation\", \"recreation\", \"gaming\", \"business\", \"business\", \"\", \"business\", \"business\", \"\", \"recreation\", \"arts entertainment\", \"recreation\", \"computer internet\", \"\", \"business\", \"health\", \"arts entertainment\", \"\", \"recreation\", \"\", \"business\", \"\", \"health\", \"arts entertainment\", \"\", \"\", \"\", \"health\", \"recreation\", \"\", \"recreation\", \"arts entertainment\", \"business\", \"\", \"\", \"\", \"health\", \"business\", \"recreation\", \"sports\", \"arts entertainment\", \"business\", \"recreation\", \"recreation\", \"business\", \"business\", \"\", \"health\", \"recreation\", \"computer internet\", \"business\", \"\", \"business\", \"recreation\", \"business\", \"recreation\", \"business\", \"arts entertainment\", \"science technology\", \"\", \"arts entertainment\", \"\", \"\", \"business\", \"\", \"business\", \"recreation\", \"business\", \"business\", \"business\", \"health\", \"business\", \"\", \"recreation\", \"recreation\", \"culture politics\", \"business\", \"arts entertainment\", \"recreation\", \"business\", \"health\", \"science technology\", \"arts entertainment\", \"recreation\", \"arts entertainment\", \"\", \"\", \"business\", \"arts entertainment\", \"recreation\", \"recreation\", \"\", \"recreation\", \"business\", \"culture politics\", \"health\", \"business\", \"\", \"recreation\", \"recreation\", \"sports\", \"computer internet\", \"sports\", \"science technology\", \"\", \"\", \"recreation\", \"business\", \"health\", \"business\", \"computer internet\", \"\", \"\", \"arts entertainment\", \"\", \"arts entertainment\", \"\", \"business\", \"culture politics\", \"\", \"science technology\", \"science technology\", \"\", \"\", \"sports\", \"recreation\", \"recreation\", \"science technology\", \"business\", \"recreation\", \"health\", \"culture politics\", \"\", \"\", \"\", \"\", \"recreation\", \"recreation\", \"science technology\", \"\", \"recreation\", \"science technology\", \"\", \"business\", \"recreation\", \"arts entertainment\", \"\", \"health\", \"business\", \"\", \"recreation\", \"arts entertainment\", \"arts entertainment\", \"health\", \"\", \"recreation\", \"health\", \"\", \"\", \"recreation\", \"arts entertainment\", \"recreation\", \"\", \"\", \"\", \"business\", \"\", \"\", \"\", \"business\", \"arts entertainment\", \"recreation\", \"arts entertainment\", \"\", \"health\", \"business\", \"recreation\", \"\", \"recreation\", \"business\", \"\", \"\", \"arts entertainment\", \"business\", \"\", \"\", \"\", \"business\", \"\", \"\", \"health\", \"health\", \"\", \"health\", \"health\", \"\", \"\", \"arts entertainment\", \"recreation\", \"recreation\", \"\", \"recreation\", \"\", \"business\", \"computer internet\", \"health\", \"\", \"\", \"recreation\", \"recreation\", \"recreation\", \"recreation\", \"\", \"arts entertainment\", \"business\", \"business\", \"sports\", \"\", \"business\", \"\", \"\", \"science technology\", \"\", \"business\", \"recreation\", \"\", \"\", \"recreation\", \"\", \"business\", \"health\", \"business\", \"recreation\", \"recreation\", \"business\", \"\", \"\", \"recreation\", \"\", \"\", \"arts entertainment\", \"business\", \"culture politics\", \"business\", \"arts entertainment\", \"culture politics\", \"\", \"\", \"arts entertainment\", \"\", \"\", \"\", \"health\", \"arts entertainment\", \"recreation\", \"recreation\", \"science technology\", \"culture politics\", \"arts entertainment\", \"recreation\", \"recreation\", \"recreation\", \"\", \"\", \"\", \"\", \"culture politics\", \"culture politics\", \"recreation\", \"recreation\", \"recreation\", \"\", \"\", \"arts entertainment\", \"\", \"\", \"business\", \"recreation\", \"\", \"\", \"\", \"\", \"\", \"business\", \"\", \"recreation\", \"health\", \"\", \"\", \"recreation\", \"recreation\", \"\", \"business\", \"sports\", \"\", \"\", \"health\", \"recreation\", \"recreation\", \"\", \"\", \"arts entertainment\", \"health\", \"\", \"\", \"science technology\", \"sports\", \"\", \"\", \"culture politics\", \"business\", \"culture politics\", \"culture politics\", \"health\", \"recreation\", \"\", \"health\", \"recreation\", \"\", \"science technology\", \"law crime\", \"recreation\", \"recreation\", \"arts entertainment\", \"recreation\", \"\", \"culture politics\", \"health\", \"recreation\", \"\", \"business\", \"business\", \"\", \"culture politics\", \"health\", \"arts entertainment\", \"recreation\", \"\", \"sports\", \"\", \"\", \"business\", \"recreation\", \"health\", \"\", \"recreation\", \"recreation\", \"arts entertainment\", \"recreation\", \"business\", \"business\", \"computer internet\", \"\", \"culture politics\", \"computer internet\", \"health\", \"business\", \"computer internet\", \"science technology\", \"\", \"\", \"\", \"health\", \"arts entertainment\", \"arts entertainment\", \"business\", \"\", \"\", \"\", \"arts entertainment\", \"recreation\", \"recreation\", \"\", \"health\", \"recreation\", \"sports\", \"\", \"culture politics\", \"recreation\", \"arts entertainment\", \"recreation\", \"\", \"\", \"recreation\", \"arts entertainment\", \"business\", \"\", \"recreation\", \"\", \"recreation\", \"sports\", \"recreation\", \"business\", \"\", \"\", \"business\", \"recreation\", \"health\", \"arts entertainment\", \"recreation\", \"business\", \"law crime\", \"business\", \"\", \"arts entertainment\", \"computer internet\", \"\", \"business\", \"recreation\", \"\", \"\", \"\", \"business\", \"business\", \"science technology\", \"science technology\", \"health\", \"\", \"business\", \"recreation\", \"business\", \"sports\", \"\", \"health\", \"science technology\", \"health\", \"\", \"recreation\", \"\", \"\", \"science technology\", \"\", \"arts entertainment\", \"arts entertainment\", \"arts entertainment\", \"computer internet\", \"culture politics\", \"gaming\", \"business\", \"recreation\", \"arts entertainment\", \"recreation\", \"recreation\", \"arts entertainment\", \"recreation\", \"health\", \"arts entertainment\", \"recreation\", \"recreation\", \"\", \"recreation\", \"recreation\", \"\", \"\", \"arts entertainment\", \"\", \"business\", \"\", \"sports\", \"culture politics\", \"recreation\", \"science technology\", \"arts entertainment\", \"recreation\", \"recreation\", \"culture politics\", \"arts entertainment\", \"recreation\", \"business\", \"\", \"\", \"science technology\", \"recreation\", \"arts entertainment\", \"recreation\", \"recreation\", \"\", \"business\", \"recreation\", \"\", \"arts entertainment\", \"health\", \"recreation\", \"culture politics\", \"arts entertainment\", \"computer internet\", \"\", \"recreation\", \"business\", \"science technology\", \"\", \"business\", \"business\", \"\", \"business\", \"health\", \"\", \"\", \"\", \"recreation\", \"health\", \"\", \"\", \"health\", \"health\", \"\", \"recreation\", \"business\", \"recreation\", \"business\", \"recreation\", \"culture politics\", \"sports\", \"\", \"\", \"science technology\", \"recreation\", \"\", \"recreation\", \"recreation\", \"recreation\", \"recreation\", \"recreation\", \"business\", \"\", \"business\", \"health\", \"business\", \"religion\", \"business\", \"arts entertainment\", \"\", \"culture politics\", \"recreation\", \"arts entertainment\", \"health\", \"business\", \"health\", \"\", \"arts entertainment\", \"\", \"recreation\", \"business\", \"\", \"business\", \"arts entertainment\", \"\", \"recreation\", \"recreation\", \"\", \"recreation\", \"health\", \"\", \"health\", \"business\", \"religion\", \"business\", \"\", \"\", \"arts entertainment\", \"business\", \"recreation\", \"health\", \"business\", \"culture politics\", \"business\", \"health\", \"arts entertainment\", \"\", \"recreation\", \"recreation\", \"\", \"\", \"\", \"\", \"recreation\", \"recreation\", \"business\", \"\", \"health\", \"\", \"business\", \"recreation\", \"health\", \"\", \"unknown\", \"\", \"computer internet\", \"science technology\", \"\", \"science technology\", \"culture politics\", \"culture politics\", \"culture politics\", \"\", \"business\", \"arts entertainment\", \"\", \"arts entertainment\", \"culture politics\", \"business\", \"\", \"arts entertainment\", \"business\", \"\", \"business\", \"\", \"business\", \"recreation\", \"business\", \"recreation\", \"arts entertainment\", \"recreation\", \"recreation\", \"recreation\", \"business\", \"health\", \"recreation\", \"business\", \"business\", \"health\", \"business\", \"arts entertainment\", \"\", \"computer internet\", \"culture politics\", \"recreation\", \"\", \"business\", \"\", \"recreation\", \"culture politics\", \"\", \"\", \"culture politics\", \"business\", \"\", \"science technology\", \"computer internet\", \"\", \"recreation\", \"health\", \"\", \"recreation\", \"\", \"arts entertainment\", \"gaming\", \"sports\", \"recreation\", \"\", \"health\", \"\", \"\", \"recreation\", \"recreation\", \"business\", \"science technology\", \"business\", \"\", \"\", \"business\", \"recreation\", \"recreation\", \"science technology\", \"business\", \"recreation\", \"recreation\", \"\", \"business\", \"recreation\", \"arts entertainment\", \"\", \"recreation\", \"\", \"recreation\", \"health\", \"business\", \"business\", \"\", \"health\", \"\", \"business\", \"\", \"\", \"business\", \"recreation\", \"religion\", \"recreation\", \"recreation\", \"recreation\", \"business\", \"computer internet\", \"\", \"recreation\", \"business\", \"science technology\", \"\", \"recreation\", \"\", \"\", \"health\", \"recreation\", \"recreation\", \"\", \"computer internet\", \"recreation\", \"recreation\", \"\", \"culture politics\", \"recreation\", \"\", \"\", \"health\", \"\", \"business\", \"recreation\", \"arts entertainment\", \"\", \"health\", \"\", \"health\", \"\", \"\", \"\", \"recreation\", \"science technology\", \"recreation\", \"business\", \"business\", \"\", \"\", \"arts entertainment\", \"recreation\", \"\", \"business\", \"culture politics\", \"culture politics\", \"health\", \"recreation\", \"\", \"business\", \"\", \"\", \"culture politics\", \"religion\", \"business\", \"culture politics\", \"business\", \"business\", \"recreation\", \"\", \"recreation\", \"health\", \"business\", \"business\", \"sports\", \"business\", \"arts entertainment\", \"recreation\", \"\", \"health\", \"recreation\", \"culture politics\", \"health\", \"sports\", \"\", \"computer internet\", \"science technology\", \"recreation\", \"religion\", \"business\", \"health\", \"religion\", \"\", \"\", \"\", \"\", \"\", \"\", \"culture politics\", \"recreation\", \"recreation\", \"arts entertainment\", \"recreation\", \"recreation\", \"\", \"culture politics\", \"arts entertainment\", \"recreation\", \"arts entertainment\"], \"xaxis\": \"x\", \"yaxis\": \"y\"}],\n",
              "                        {\"barmode\": \"group\", \"legend\": {\"tracegroupgap\": 0}, \"margin\": {\"t\": 60}, \"template\": {\"data\": {\"bar\": [{\"error_x\": {\"color\": \"#2a3f5f\"}, \"error_y\": {\"color\": \"#2a3f5f\"}, \"marker\": {\"line\": {\"color\": \"#E5ECF6\", \"width\": 0.5}}, \"type\": \"bar\"}], \"barpolar\": [{\"marker\": {\"line\": {\"color\": \"#E5ECF6\", \"width\": 0.5}}, \"type\": \"barpolar\"}], \"carpet\": [{\"aaxis\": {\"endlinecolor\": \"#2a3f5f\", \"gridcolor\": \"white\", \"linecolor\": \"white\", \"minorgridcolor\": \"white\", \"startlinecolor\": \"#2a3f5f\"}, \"baxis\": {\"endlinecolor\": \"#2a3f5f\", \"gridcolor\": \"white\", \"linecolor\": \"white\", \"minorgridcolor\": \"white\", \"startlinecolor\": \"#2a3f5f\"}, \"type\": \"carpet\"}], \"choropleth\": [{\"colorbar\": {\"outlinewidth\": 0, \"ticks\": \"\"}, \"type\": \"choropleth\"}], \"contour\": [{\"colorbar\": {\"outlinewidth\": 0, \"ticks\": \"\"}, \"colorscale\": [[0.0, \"#0d0887\"], [0.1111111111111111, \"#46039f\"], [0.2222222222222222, \"#7201a8\"], [0.3333333333333333, \"#9c179e\"], [0.4444444444444444, \"#bd3786\"], [0.5555555555555556, \"#d8576b\"], [0.6666666666666666, \"#ed7953\"], [0.7777777777777778, \"#fb9f3a\"], [0.8888888888888888, \"#fdca26\"], [1.0, \"#f0f921\"]], \"type\": \"contour\"}], \"contourcarpet\": [{\"colorbar\": {\"outlinewidth\": 0, \"ticks\": \"\"}, \"type\": \"contourcarpet\"}], \"heatmap\": [{\"colorbar\": {\"outlinewidth\": 0, \"ticks\": \"\"}, \"colorscale\": [[0.0, \"#0d0887\"], [0.1111111111111111, \"#46039f\"], [0.2222222222222222, \"#7201a8\"], [0.3333333333333333, \"#9c179e\"], [0.4444444444444444, \"#bd3786\"], [0.5555555555555556, \"#d8576b\"], [0.6666666666666666, \"#ed7953\"], [0.7777777777777778, \"#fb9f3a\"], [0.8888888888888888, \"#fdca26\"], [1.0, \"#f0f921\"]], \"type\": \"heatmap\"}], \"heatmapgl\": [{\"colorbar\": {\"outlinewidth\": 0, \"ticks\": \"\"}, \"colorscale\": [[0.0, \"#0d0887\"], [0.1111111111111111, \"#46039f\"], [0.2222222222222222, \"#7201a8\"], [0.3333333333333333, \"#9c179e\"], [0.4444444444444444, \"#bd3786\"], [0.5555555555555556, \"#d8576b\"], [0.6666666666666666, \"#ed7953\"], [0.7777777777777778, \"#fb9f3a\"], [0.8888888888888888, \"#fdca26\"], [1.0, \"#f0f921\"]], \"type\": \"heatmapgl\"}], \"histogram\": [{\"marker\": {\"colorbar\": {\"outlinewidth\": 0, \"ticks\": \"\"}}, \"type\": \"histogram\"}], \"histogram2d\": [{\"colorbar\": {\"outlinewidth\": 0, \"ticks\": \"\"}, \"colorscale\": [[0.0, \"#0d0887\"], [0.1111111111111111, \"#46039f\"], [0.2222222222222222, \"#7201a8\"], [0.3333333333333333, \"#9c179e\"], [0.4444444444444444, \"#bd3786\"], [0.5555555555555556, \"#d8576b\"], [0.6666666666666666, \"#ed7953\"], [0.7777777777777778, \"#fb9f3a\"], [0.8888888888888888, \"#fdca26\"], [1.0, \"#f0f921\"]], \"type\": \"histogram2d\"}], \"histogram2dcontour\": [{\"colorbar\": {\"outlinewidth\": 0, \"ticks\": \"\"}, \"colorscale\": [[0.0, \"#0d0887\"], [0.1111111111111111, \"#46039f\"], [0.2222222222222222, \"#7201a8\"], [0.3333333333333333, \"#9c179e\"], [0.4444444444444444, \"#bd3786\"], [0.5555555555555556, \"#d8576b\"], [0.6666666666666666, \"#ed7953\"], [0.7777777777777778, \"#fb9f3a\"], [0.8888888888888888, \"#fdca26\"], [1.0, \"#f0f921\"]], \"type\": \"histogram2dcontour\"}], \"mesh3d\": [{\"colorbar\": {\"outlinewidth\": 0, \"ticks\": \"\"}, \"type\": \"mesh3d\"}], \"parcoords\": [{\"line\": {\"colorbar\": {\"outlinewidth\": 0, \"ticks\": \"\"}}, \"type\": \"parcoords\"}], \"pie\": [{\"automargin\": true, \"type\": \"pie\"}], \"scatter\": [{\"marker\": {\"colorbar\": {\"outlinewidth\": 0, \"ticks\": \"\"}}, \"type\": \"scatter\"}], \"scatter3d\": [{\"line\": {\"colorbar\": {\"outlinewidth\": 0, \"ticks\": \"\"}}, \"marker\": {\"colorbar\": {\"outlinewidth\": 0, \"ticks\": \"\"}}, \"type\": \"scatter3d\"}], \"scattercarpet\": [{\"marker\": {\"colorbar\": {\"outlinewidth\": 0, \"ticks\": \"\"}}, \"type\": \"scattercarpet\"}], \"scattergeo\": [{\"marker\": {\"colorbar\": {\"outlinewidth\": 0, \"ticks\": \"\"}}, \"type\": \"scattergeo\"}], \"scattergl\": [{\"marker\": {\"colorbar\": {\"outlinewidth\": 0, \"ticks\": \"\"}}, \"type\": \"scattergl\"}], \"scattermapbox\": [{\"marker\": {\"colorbar\": {\"outlinewidth\": 0, \"ticks\": \"\"}}, \"type\": \"scattermapbox\"}], \"scatterpolar\": [{\"marker\": {\"colorbar\": {\"outlinewidth\": 0, \"ticks\": \"\"}}, \"type\": \"scatterpolar\"}], \"scatterpolargl\": [{\"marker\": {\"colorbar\": {\"outlinewidth\": 0, \"ticks\": \"\"}}, \"type\": \"scatterpolargl\"}], \"scatterternary\": [{\"marker\": {\"colorbar\": {\"outlinewidth\": 0, \"ticks\": \"\"}}, \"type\": \"scatterternary\"}], \"surface\": [{\"colorbar\": {\"outlinewidth\": 0, \"ticks\": \"\"}, \"colorscale\": [[0.0, \"#0d0887\"], [0.1111111111111111, \"#46039f\"], [0.2222222222222222, \"#7201a8\"], [0.3333333333333333, \"#9c179e\"], [0.4444444444444444, \"#bd3786\"], [0.5555555555555556, \"#d8576b\"], [0.6666666666666666, \"#ed7953\"], [0.7777777777777778, \"#fb9f3a\"], [0.8888888888888888, \"#fdca26\"], [1.0, \"#f0f921\"]], \"type\": \"surface\"}], \"table\": [{\"cells\": {\"fill\": {\"color\": \"#EBF0F8\"}, \"line\": {\"color\": \"white\"}}, \"header\": {\"fill\": {\"color\": \"#C8D4E3\"}, \"line\": {\"color\": \"white\"}}, \"type\": \"table\"}]}, \"layout\": {\"annotationdefaults\": {\"arrowcolor\": \"#2a3f5f\", \"arrowhead\": 0, \"arrowwidth\": 1}, \"coloraxis\": {\"colorbar\": {\"outlinewidth\": 0, \"ticks\": \"\"}}, \"colorscale\": {\"diverging\": [[0, \"#8e0152\"], [0.1, \"#c51b7d\"], [0.2, \"#de77ae\"], [0.3, \"#f1b6da\"], [0.4, \"#fde0ef\"], [0.5, \"#f7f7f7\"], [0.6, \"#e6f5d0\"], [0.7, \"#b8e186\"], [0.8, \"#7fbc41\"], [0.9, \"#4d9221\"], [1, \"#276419\"]], \"sequential\": [[0.0, \"#0d0887\"], [0.1111111111111111, \"#46039f\"], [0.2222222222222222, \"#7201a8\"], [0.3333333333333333, \"#9c179e\"], [0.4444444444444444, \"#bd3786\"], [0.5555555555555556, \"#d8576b\"], [0.6666666666666666, \"#ed7953\"], [0.7777777777777778, \"#fb9f3a\"], [0.8888888888888888, \"#fdca26\"], [1.0, \"#f0f921\"]], \"sequentialminus\": [[0.0, \"#0d0887\"], [0.1111111111111111, \"#46039f\"], [0.2222222222222222, \"#7201a8\"], [0.3333333333333333, \"#9c179e\"], [0.4444444444444444, \"#bd3786\"], [0.5555555555555556, \"#d8576b\"], [0.6666666666666666, \"#ed7953\"], [0.7777777777777778, \"#fb9f3a\"], [0.8888888888888888, \"#fdca26\"], [1.0, \"#f0f921\"]]}, \"colorway\": [\"#636efa\", \"#EF553B\", \"#00cc96\", \"#ab63fa\", \"#FFA15A\", \"#19d3f3\", \"#FF6692\", \"#B6E880\", \"#FF97FF\", \"#FECB52\"], \"font\": {\"color\": \"#2a3f5f\"}, \"geo\": {\"bgcolor\": \"white\", \"lakecolor\": \"white\", \"landcolor\": \"#E5ECF6\", \"showlakes\": true, \"showland\": true, \"subunitcolor\": \"white\"}, \"hoverlabel\": {\"align\": \"left\"}, \"hovermode\": \"closest\", \"mapbox\": {\"style\": \"light\"}, \"paper_bgcolor\": \"white\", \"plot_bgcolor\": \"#E5ECF6\", \"polar\": {\"angularaxis\": {\"gridcolor\": \"white\", \"linecolor\": \"white\", \"ticks\": \"\"}, \"bgcolor\": \"#E5ECF6\", \"radialaxis\": {\"gridcolor\": \"white\", \"linecolor\": \"white\", \"ticks\": \"\"}}, \"scene\": {\"xaxis\": {\"backgroundcolor\": \"#E5ECF6\", \"gridcolor\": \"white\", \"gridwidth\": 2, \"linecolor\": \"white\", \"showbackground\": true, \"ticks\": \"\", \"zerolinecolor\": \"white\"}, \"yaxis\": {\"backgroundcolor\": \"#E5ECF6\", \"gridcolor\": \"white\", \"gridwidth\": 2, \"linecolor\": \"white\", \"showbackground\": true, \"ticks\": \"\", \"zerolinecolor\": \"white\"}, \"zaxis\": {\"backgroundcolor\": \"#E5ECF6\", \"gridcolor\": \"white\", \"gridwidth\": 2, \"linecolor\": \"white\", \"showbackground\": true, \"ticks\": \"\", \"zerolinecolor\": \"white\"}}, \"shapedefaults\": {\"line\": {\"color\": \"#2a3f5f\"}}, \"ternary\": {\"aaxis\": {\"gridcolor\": \"white\", \"linecolor\": \"white\", \"ticks\": \"\"}, \"baxis\": {\"gridcolor\": \"white\", \"linecolor\": \"white\", \"ticks\": \"\"}, \"bgcolor\": \"#E5ECF6\", \"caxis\": {\"gridcolor\": \"white\", \"linecolor\": \"white\", \"ticks\": \"\"}}, \"title\": {\"x\": 0.05}, \"xaxis\": {\"automargin\": true, \"gridcolor\": \"white\", \"linecolor\": \"white\", \"ticks\": \"\", \"title\": {\"standoff\": 15}, \"zerolinecolor\": \"white\", \"zerolinewidth\": 2}, \"yaxis\": {\"automargin\": true, \"gridcolor\": \"white\", \"linecolor\": \"white\", \"ticks\": \"\", \"title\": {\"standoff\": 15}, \"zerolinecolor\": \"white\", \"zerolinewidth\": 2}}}, \"xaxis\": {\"anchor\": \"y\", \"domain\": [0.0, 1.0], \"title\": {\"text\": \"alchemy_category\"}}, \"yaxis\": {\"anchor\": \"x\", \"domain\": [0.0, 1.0], \"title\": {\"text\": \"count\"}}},\n",
              "                        {\"responsive\": true}\n",
              "                    ).then(function(){\n",
              "                            \n",
              "var gd = document.getElementById('2e2815f2-db66-4935-9dcb-05b8617d0a6d');\n",
              "var x = new MutationObserver(function (mutations, observer) {{\n",
              "        var display = window.getComputedStyle(gd).display;\n",
              "        if (!display || display === 'none') {{\n",
              "            console.log([gd, 'removed!']);\n",
              "            Plotly.purge(gd);\n",
              "            observer.disconnect();\n",
              "        }}\n",
              "}});\n",
              "\n",
              "// Listen for the removal of the full notebook cells\n",
              "var notebookContainer = gd.closest('#notebook-container');\n",
              "if (notebookContainer) {{\n",
              "    x.observe(notebookContainer, {childList: true});\n",
              "}}\n",
              "\n",
              "// Listen for the clearing of the current output cell\n",
              "var outputEl = gd.closest('.output');\n",
              "if (outputEl) {{\n",
              "    x.observe(outputEl, {childList: true});\n",
              "}}\n",
              "\n",
              "                        })\n",
              "                };\n",
              "                \n",
              "            </script>\n",
              "        </div>\n",
              "</body>\n",
              "</html>"
            ]
          },
          "metadata": {
            "tags": []
          }
        }
      ]
    },
    {
      "cell_type": "markdown",
      "metadata": {
        "id": "YT_GAuxT5h3h"
      },
      "source": [
        "## Text EDA"
      ]
    },
    {
      "cell_type": "code",
      "metadata": {
        "id": "OECUwp855pf4"
      },
      "source": [
        "import requests\r\n",
        "\r\n",
        "def download_file_from_google_drive(id, destination):\r\n",
        "    URL = \"https://docs.google.com/uc?export=download\"\r\n",
        "\r\n",
        "    session = requests.Session()\r\n",
        "\r\n",
        "    response = session.get(URL, params = { 'id' : id }, stream = True)\r\n",
        "    token = get_confirm_token(response)\r\n",
        "\r\n",
        "    if token:\r\n",
        "        params = { 'id' : id, 'confirm' : token }\r\n",
        "        response = session.get(URL, params = params, stream = True)\r\n",
        "\r\n",
        "    save_response_content(response, destination)    \r\n",
        "\r\n",
        "def get_confirm_token(response):\r\n",
        "    for key, value in response.cookies.items():\r\n",
        "        if key.startswith('download_warning'):\r\n",
        "            return value\r\n",
        "\r\n",
        "    return None\r\n",
        "\r\n",
        "def save_response_content(response, destination):\r\n",
        "    CHUNK_SIZE = 32768\r\n",
        "\r\n",
        "    with open(destination, \"wb\") as f:\r\n",
        "        for chunk in response.iter_content(CHUNK_SIZE):\r\n",
        "            if chunk: # filter out keep-alive new chunks\r\n",
        "                f.write(chunk)\r\n",
        "\r\n",
        "download_file_from_google_drive('1KfiHaW7Ei31VSmi7gqfSdegTjHB8xuAm', '/content/glove.840B.300d.zip')"
      ],
      "execution_count": 89,
      "outputs": []
    },
    {
      "cell_type": "code",
      "metadata": {
        "id": "qCiSfRhP53m4"
      },
      "source": [
        "def load_embed(file):\r\n",
        "  '''\r\n",
        "  Loads GLoVe embeddings\r\n",
        "  file -> path to glove embeddings\r\n",
        "  load_embed(...) -> Dict()\r\n",
        "  '''\r\n",
        "  def get_coefs(word,*arr): \r\n",
        "      return word, np.asarray(arr, dtype='float32')\r\n",
        "  \r\n",
        "  embeddings_index = dict(get_coefs(*o.split(\" \")) for o in open(file, encoding='utf-8'))\r\n",
        "      \r\n",
        "  return embeddings_index\r\n",
        "\r\n",
        "# Build vocab from dataset\r\n",
        "def build_vocab(texts):\r\n",
        "  '''\r\n",
        "  Creates a vocabulary from the given corpus\r\n",
        "  texts -> pandas Series object\r\n",
        "  build_vocab(...) -> Dict()\r\n",
        "  '''\r\n",
        "  sentences = texts.str.split().values\r\n",
        "  vocab = {}\r\n",
        "  for sentence in sentences:\r\n",
        "      for word in sentence:\r\n",
        "          try:\r\n",
        "              vocab[word] += 1\r\n",
        "          except KeyError:\r\n",
        "              vocab[word] = 1\r\n",
        "  return vocab\r\n",
        "\r\n",
        "# Checks how many words present in embeddings wrt dataset\r\n",
        "def check_coverage(vocab, embeddings_index):\r\n",
        "  '''\r\n",
        "  Checks the vocabulary from the given corpus with GLoVE data\r\n",
        "  Returns out of vocabulary words from corpus that are not present in GLoVE data\r\n",
        "  '''\r\n",
        "  known_words = {}\r\n",
        "  unknown_words = {}\r\n",
        "  nb_known_words = 0\r\n",
        "  nb_unknown_words = 0\r\n",
        "  for word in vocab.keys():\r\n",
        "      try:\r\n",
        "          known_words[word] = embeddings_index[word]\r\n",
        "          nb_known_words += vocab[word]\r\n",
        "      except:\r\n",
        "          unknown_words[word] = vocab[word]\r\n",
        "          nb_unknown_words += vocab[word]\r\n",
        "          pass\r\n",
        "\r\n",
        "  print('Found embeddings for {:.3%} of vocab'.format(len(known_words) / len(vocab)))\r\n",
        "  print('Found embeddings for  {:.3%} of all text'.format(nb_known_words / (nb_known_words + nb_unknown_words)))\r\n",
        "  unknown_words = sorted(unknown_words.items(), key=operator.itemgetter(1))[::-1]\r\n",
        "  unknown_words = pd.DataFrame(unknown_words,columns=['Word','Count'])\r\n",
        "  return unknown_words"
      ],
      "execution_count": 90,
      "outputs": []
    },
    {
      "cell_type": "code",
      "metadata": {
        "id": "FNCE7_jD59S9",
        "outputId": "756671f3-c64f-4176-a493-6201e50f2278",
        "colab": {
          "base_uri": "https://localhost:8080/"
        }
      },
      "source": [
        "!unzip /content/glove.840B.300d.zip\r\n",
        "glove = load_embed(\"/content/glove.840B.300d.txt\")"
      ],
      "execution_count": 92,
      "outputs": [
        {
          "output_type": "stream",
          "text": [
            "Archive:  /content/glove.840B.300d.zip\n",
            "  inflating: glove.840B.300d.txt     \n"
          ],
          "name": "stdout"
        }
      ]
    },
    {
      "cell_type": "code",
      "metadata": {
        "id": "bXiYZ9Srb2jm"
      },
      "source": [
        "final['raw_text'] = final['alchemy_category'] + ' ' + final['title'] + ' ' + final['body']"
      ],
      "execution_count": 93,
      "outputs": []
    },
    {
      "cell_type": "code",
      "metadata": {
        "colab": {
          "base_uri": "https://localhost:8080/"
        },
        "id": "KVH8GtZF6DQM",
        "outputId": "bde8c989-ec3d-40b4-fa25-6498eaee161c"
      },
      "source": [
        "vocab = build_vocab(final['raw_text'])\r\n",
        "oov_glove = check_coverage(vocab, glove)"
      ],
      "execution_count": 94,
      "outputs": [
        {
          "output_type": "stream",
          "text": [
            "Found embeddings for 84.381% of vocab\n",
            "Found embeddings for  98.949% of all text\n"
          ],
          "name": "stdout"
        }
      ]
    },
    {
      "cell_type": "code",
      "metadata": {
        "colab": {
          "base_uri": "https://localhost:8080/",
          "height": 1000
        },
        "id": "h8Jk2LAhAXA_",
        "outputId": "6153a16d-5b76-4375-bb65-5774c886af3a"
      },
      "source": [
        "oov_glove.query(\"Count>100\")"
      ],
      "execution_count": 96,
      "outputs": [
        {
          "output_type": "execute_result",
          "data": {
            "text/html": [
              "<div>\n",
              "<style scoped>\n",
              "    .dataframe tbody tr th:only-of-type {\n",
              "        vertical-align: middle;\n",
              "    }\n",
              "\n",
              "    .dataframe tbody tr th {\n",
              "        vertical-align: top;\n",
              "    }\n",
              "\n",
              "    .dataframe thead th {\n",
              "        text-align: right;\n",
              "    }\n",
              "</style>\n",
              "<table border=\"1\" class=\"dataframe\">\n",
              "  <thead>\n",
              "    <tr style=\"text-align: right;\">\n",
              "      <th></th>\n",
              "      <th>Word</th>\n",
              "      <th>Count</th>\n",
              "    </tr>\n",
              "  </thead>\n",
              "  <tbody>\n",
              "    <tr>\n",
              "      <th>0</th>\n",
              "      <td>RssHelper</td>\n",
              "      <td>6844</td>\n",
              "    </tr>\n",
              "    <tr>\n",
              "      <th>1</th>\n",
              "      <td>XmlHelper</td>\n",
              "      <td>5434</td>\n",
              "    </tr>\n",
              "    <tr>\n",
              "      <th>2</th>\n",
              "      <td>FormatHelper</td>\n",
              "      <td>4842</td>\n",
              "    </tr>\n",
              "    <tr>\n",
              "      <th>3</th>\n",
              "      <td>argSeparator</td>\n",
              "      <td>2002</td>\n",
              "    </tr>\n",
              "    <tr>\n",
              "      <th>4</th>\n",
              "      <td>ArticlesController</td>\n",
              "      <td>936</td>\n",
              "    </tr>\n",
              "    <tr>\n",
              "      <th>5</th>\n",
              "      <td>InsidersHealth</td>\n",
              "      <td>553</td>\n",
              "    </tr>\n",
              "    <tr>\n",
              "      <th>6</th>\n",
              "      <td>fashionshows</td>\n",
              "      <td>534</td>\n",
              "    </tr>\n",
              "    <tr>\n",
              "      <th>7</th>\n",
              "      <td>menrunway</td>\n",
              "      <td>434</td>\n",
              "    </tr>\n",
              "    <tr>\n",
              "      <th>8</th>\n",
              "      <td>insidershealth</td>\n",
              "      <td>399</td>\n",
              "    </tr>\n",
              "    <tr>\n",
              "      <th>9</th>\n",
              "      <td>stateprovince</td>\n",
              "      <td>306</td>\n",
              "    </tr>\n",
              "    <tr>\n",
              "      <th>10</th>\n",
              "      <td>refunder</td>\n",
              "      <td>306</td>\n",
              "    </tr>\n",
              "    <tr>\n",
              "      <th>11</th>\n",
              "      <td>navState</td>\n",
              "      <td>306</td>\n",
              "    </tr>\n",
              "    <tr>\n",
              "      <th>12</th>\n",
              "      <td>commentCount</td>\n",
              "      <td>306</td>\n",
              "    </tr>\n",
              "    <tr>\n",
              "      <th>13</th>\n",
              "      <td>ContentLevel</td>\n",
              "      <td>306</td>\n",
              "    </tr>\n",
              "    <tr>\n",
              "      <th>14</th>\n",
              "      <td>SecondaryExpert</td>\n",
              "      <td>306</td>\n",
              "    </tr>\n",
              "    <tr>\n",
              "      <th>15</th>\n",
              "      <td>PrimaryExpert</td>\n",
              "      <td>306</td>\n",
              "    </tr>\n",
              "    <tr>\n",
              "      <th>16</th>\n",
              "      <td>metaKeywords</td>\n",
              "      <td>306</td>\n",
              "    </tr>\n",
              "    <tr>\n",
              "      <th>17</th>\n",
              "      <td>docTypes</td>\n",
              "      <td>286</td>\n",
              "    </tr>\n",
              "    <tr>\n",
              "      <th>18</th>\n",
              "      <td>relatedBlogs</td>\n",
              "      <td>256</td>\n",
              "    </tr>\n",
              "    <tr>\n",
              "      <th>19</th>\n",
              "      <td>relatedVideos</td>\n",
              "      <td>256</td>\n",
              "    </tr>\n",
              "    <tr>\n",
              "      <th>20</th>\n",
              "      <td>relatedArticles</td>\n",
              "      <td>256</td>\n",
              "    </tr>\n",
              "    <tr>\n",
              "      <th>21</th>\n",
              "      <td>contentSidebarData</td>\n",
              "      <td>256</td>\n",
              "    </tr>\n",
              "    <tr>\n",
              "      <th>22</th>\n",
              "      <td>lifeseries</td>\n",
              "      <td>153</td>\n",
              "    </tr>\n",
              "    <tr>\n",
              "      <th>23</th>\n",
              "      <td>socialgo</td>\n",
              "      <td>153</td>\n",
              "    </tr>\n",
              "    <tr>\n",
              "      <th>24</th>\n",
              "      <td>accnumber</td>\n",
              "      <td>153</td>\n",
              "    </tr>\n",
              "    <tr>\n",
              "      <th>25</th>\n",
              "      <td>routnumber</td>\n",
              "      <td>153</td>\n",
              "    </tr>\n",
              "    <tr>\n",
              "      <th>26</th>\n",
              "      <td>refnumber</td>\n",
              "      <td>153</td>\n",
              "    </tr>\n",
              "    <tr>\n",
              "      <th>27</th>\n",
              "      <td>cancelingreason</td>\n",
              "      <td>153</td>\n",
              "    </tr>\n",
              "    <tr>\n",
              "      <th>28</th>\n",
              "      <td>originalorderid</td>\n",
              "      <td>153</td>\n",
              "    </tr>\n",
              "    <tr>\n",
              "      <th>29</th>\n",
              "      <td>processorid</td>\n",
              "      <td>153</td>\n",
              "    </tr>\n",
              "    <tr>\n",
              "      <th>30</th>\n",
              "      <td>nutricell</td>\n",
              "      <td>153</td>\n",
              "    </tr>\n",
              "    <tr>\n",
              "      <th>31</th>\n",
              "      <td>adkey</td>\n",
              "      <td>153</td>\n",
              "    </tr>\n",
              "    <tr>\n",
              "      <th>32</th>\n",
              "      <td>loadHelpers</td>\n",
              "      <td>153</td>\n",
              "    </tr>\n",
              "    <tr>\n",
              "      <th>33</th>\n",
              "      <td>dataForView</td>\n",
              "      <td>153</td>\n",
              "    </tr>\n",
              "    <tr>\n",
              "      <th>34</th>\n",
              "      <td>Cholemin</td>\n",
              "      <td>152</td>\n",
              "    </tr>\n",
              "    <tr>\n",
              "      <th>35</th>\n",
              "      <td>Cardigen</td>\n",
              "      <td>152</td>\n",
              "    </tr>\n",
              "    <tr>\n",
              "      <th>36</th>\n",
              "      <td>loadedHelpers</td>\n",
              "      <td>133</td>\n",
              "    </tr>\n",
              "    <tr>\n",
              "      <th>37</th>\n",
              "      <td>1101c44f01949c17e1da96024ecf8da9</td>\n",
              "      <td>112</td>\n",
              "    </tr>\n",
              "    <tr>\n",
              "      <th>38</th>\n",
              "      <td>askdrdesilva</td>\n",
              "      <td>110</td>\n",
              "    </tr>\n",
              "    <tr>\n",
              "      <th>39</th>\n",
              "      <td>Desilver85x850</td>\n",
              "      <td>110</td>\n",
              "    </tr>\n",
              "    <tr>\n",
              "      <th>40</th>\n",
              "      <td>AgeMed</td>\n",
              "      <td>110</td>\n",
              "    </tr>\n",
              "    <tr>\n",
              "      <th>41</th>\n",
              "      <td>NightLine</td>\n",
              "      <td>110</td>\n",
              "    </tr>\n",
              "    <tr>\n",
              "      <th>42</th>\n",
              "      <td>staticflickr</td>\n",
              "      <td>107</td>\n",
              "    </tr>\n",
              "    <tr>\n",
              "      <th>43</th>\n",
              "      <td>121631</td>\n",
              "      <td>105</td>\n",
              "    </tr>\n",
              "    <tr>\n",
              "      <th>44</th>\n",
              "      <td>closeWhenOthersOpen</td>\n",
              "      <td>102</td>\n",
              "    </tr>\n",
              "    <tr>\n",
              "      <th>45</th>\n",
              "      <td>311px</td>\n",
              "      <td>102</td>\n",
              "    </tr>\n",
              "    <tr>\n",
              "      <th>46</th>\n",
              "      <td>c7c7c7</td>\n",
              "      <td>102</td>\n",
              "    </tr>\n",
              "    <tr>\n",
              "      <th>47</th>\n",
              "      <td>strokeStyle</td>\n",
              "      <td>102</td>\n",
              "    </tr>\n",
              "    <tr>\n",
              "      <th>48</th>\n",
              "      <td>spikeLength</td>\n",
              "      <td>102</td>\n",
              "    </tr>\n",
              "    <tr>\n",
              "      <th>49</th>\n",
              "      <td>spikeGirth</td>\n",
              "      <td>102</td>\n",
              "    </tr>\n",
              "    <tr>\n",
              "      <th>50</th>\n",
              "      <td>contentSelector</td>\n",
              "      <td>102</td>\n",
              "    </tr>\n",
              "  </tbody>\n",
              "</table>\n",
              "</div>"
            ],
            "text/plain": [
              "                                Word  Count\n",
              "0                          RssHelper   6844\n",
              "1                          XmlHelper   5434\n",
              "2                       FormatHelper   4842\n",
              "3                       argSeparator   2002\n",
              "4                 ArticlesController    936\n",
              "5                     InsidersHealth    553\n",
              "6                       fashionshows    534\n",
              "7                          menrunway    434\n",
              "8                     insidershealth    399\n",
              "9                      stateprovince    306\n",
              "10                          refunder    306\n",
              "11                          navState    306\n",
              "12                      commentCount    306\n",
              "13                      ContentLevel    306\n",
              "14                   SecondaryExpert    306\n",
              "15                     PrimaryExpert    306\n",
              "16                      metaKeywords    306\n",
              "17                          docTypes    286\n",
              "18                      relatedBlogs    256\n",
              "19                     relatedVideos    256\n",
              "20                   relatedArticles    256\n",
              "21                contentSidebarData    256\n",
              "22                        lifeseries    153\n",
              "23                          socialgo    153\n",
              "24                         accnumber    153\n",
              "25                        routnumber    153\n",
              "26                         refnumber    153\n",
              "27                   cancelingreason    153\n",
              "28                   originalorderid    153\n",
              "29                       processorid    153\n",
              "30                         nutricell    153\n",
              "31                             adkey    153\n",
              "32                       loadHelpers    153\n",
              "33                       dataForView    153\n",
              "34                          Cholemin    152\n",
              "35                          Cardigen    152\n",
              "36                     loadedHelpers    133\n",
              "37  1101c44f01949c17e1da96024ecf8da9    112\n",
              "38                      askdrdesilva    110\n",
              "39                    Desilver85x850    110\n",
              "40                            AgeMed    110\n",
              "41                         NightLine    110\n",
              "42                      staticflickr    107\n",
              "43                            121631    105\n",
              "44               closeWhenOthersOpen    102\n",
              "45                             311px    102\n",
              "46                            c7c7c7    102\n",
              "47                       strokeStyle    102\n",
              "48                       spikeLength    102\n",
              "49                        spikeGirth    102\n",
              "50                   contentSelector    102"
            ]
          },
          "metadata": {
            "tags": []
          },
          "execution_count": 96
        }
      ]
    },
    {
      "cell_type": "code",
      "metadata": {
        "id": "kI4GXn8Q71ck"
      },
      "source": [
        ""
      ],
      "execution_count": null,
      "outputs": []
    }
  ]
}