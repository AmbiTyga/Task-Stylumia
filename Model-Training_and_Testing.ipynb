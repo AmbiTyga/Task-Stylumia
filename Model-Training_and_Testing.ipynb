{
  "nbformat": 4,
  "nbformat_minor": 0,
  "metadata": {
    "colab": {
      "name": "Model-Training and Testing",
      "provenance": [],
      "collapsed_sections": [],
      "machine_shape": "hm",
      "include_colab_link": true
    },
    "kernelspec": {
      "name": "python3",
      "display_name": "Python 3"
    },
    "accelerator": "GPU"
  },
  "cells": [
    {
      "cell_type": "markdown",
      "metadata": {
        "id": "view-in-github",
        "colab_type": "text"
      },
      "source": [
        "<a href=\"https://colab.research.google.com/github/AmbiTyga/Task-Stylumia/blob/main/Model-Training_and_Testing.ipynb\" target=\"_parent\"><img src=\"https://colab.research.google.com/assets/colab-badge.svg\" alt=\"Open In Colab\"/></a>"
      ]
    },
    {
      "cell_type": "markdown",
      "metadata": {
        "id": "T5y8quFA-xhc"
      },
      "source": [
        "## Downloading Dataset \r\n",
        "From Repository saved at EDA.ipynb"
      ]
    },
    {
      "cell_type": "code",
      "metadata": {
        "id": "ASqB2wYxxZQj",
        "colab": {
          "base_uri": "https://localhost:8080/"
        },
        "outputId": "d71f5773-e67a-4dec-dd0c-6784e43704d3"
      },
      "source": [
        "!wget https://raw.githubusercontent.com/AmbiTyga/Task-Stylumia/main/TrainValTest.7z"
      ],
      "execution_count": 1,
      "outputs": [
        {
          "output_type": "stream",
          "text": [
            "--2021-03-01 07:05:31--  https://raw.githubusercontent.com/AmbiTyga/Task-Stylumia/Basic/TrainTest.7z\n",
            "Resolving raw.githubusercontent.com (raw.githubusercontent.com)... 185.199.108.133, 185.199.109.133, 185.199.110.133, ...\n",
            "Connecting to raw.githubusercontent.com (raw.githubusercontent.com)|185.199.108.133|:443... connected.\n",
            "HTTP request sent, awaiting response... 200 OK\n",
            "Length: 10005411 (9.5M) [application/octet-stream]\n",
            "Saving to: ‘TrainTest.7z’\n",
            "\n",
            "TrainTest.7z        100%[===================>]   9.54M  30.6MB/s    in 0.3s    \n",
            "\n",
            "2021-03-01 07:05:32 (30.6 MB/s) - ‘TrainTest.7z’ saved [10005411/10005411]\n",
            "\n"
          ],
          "name": "stdout"
        }
      ]
    },
    {
      "cell_type": "code",
      "metadata": {
        "id": "qh4t8ETbx_u1",
        "colab": {
          "base_uri": "https://localhost:8080/"
        },
        "outputId": "a863cece-6141-46e9-def2-5ee0ee18a697"
      },
      "source": [
        "!7z x TrainValTest.7z"
      ],
      "execution_count": 4,
      "outputs": [
        {
          "output_type": "stream",
          "text": [
            "\n",
            "7-Zip [64] 16.02 : Copyright (c) 1999-2016 Igor Pavlov : 2016-05-21\n",
            "p7zip Version 16.02 (locale=en_US.UTF-8,Utf16=on,HugeFiles=on,64 bits,4 CPUs Intel(R) Xeon(R) CPU @ 2.20GHz (406F0),ASM,AES-NI)\n",
            "\n",
            "Scanning the drive for archives:\n",
            "  0M Scan\b\b\b\b\b\b\b\b\b         \b\b\b\b\b\b\b\b\b1 file, 9145122 bytes (8931 KiB)\n",
            "\n",
            "Extracting archive: TrainValTest.7z\n",
            "--\n",
            "Path = TrainValTest.7z\n",
            "Type = 7z\n",
            "Physical Size = 9145122\n",
            "Headers Size = 213\n",
            "Method = LZMA2:24\n",
            "Solid = +\n",
            "Blocks = 1\n",
            "\n",
            "  0%\b\b\b\b    \b\b\b\b 41% 1 - train_parsed.csv\b\b\b\b\b\b\b\b\b\b\b\b\b\b\b\b\b\b\b\b\b\b\b\b\b                         \b\b\b\b\b\b\b\b\b\b\b\b\b\b\b\b\b\b\b\b\b\b\b\b\b 79% 1 - train_parsed.csv\b\b\b\b\b\b\b\b\b\b\b\b\b\b\b\b\b\b\b\b\b\b\b\b\b                         \b\b\b\b\b\b\b\b\b\b\b\b\b\b\b\b\b\b\b\b\b\b\b\b\bEverything is Ok\n",
            "\n",
            "Files: 3\n",
            "Size:       51145612\n",
            "Compressed: 9145122\n"
          ],
          "name": "stdout"
        }
      ]
    },
    {
      "cell_type": "markdown",
      "metadata": {
        "id": "c1ORw86X-7rt"
      },
      "source": [
        "## Downloading and importing packages"
      ]
    },
    {
      "cell_type": "code",
      "metadata": {
        "colab": {
          "base_uri": "https://localhost:8080/"
        },
        "id": "8ypwJeGM6B9t",
        "outputId": "d143348c-2e47-4608-dca9-2e2d6b84ca94"
      },
      "source": [
        "!pip install pytorch-nlp -q"
      ],
      "execution_count": 7,
      "outputs": [
        {
          "output_type": "stream",
          "text": [
            "\u001b[?25l\r\u001b[K     |███▋                            | 10kB 22.3MB/s eta 0:00:01\r\u001b[K     |███████▎                        | 20kB 10.1MB/s eta 0:00:01\r\u001b[K     |███████████                     | 30kB 8.1MB/s eta 0:00:01\r\u001b[K     |██████████████▌                 | 40kB 7.4MB/s eta 0:00:01\r\u001b[K     |██████████████████▏             | 51kB 4.2MB/s eta 0:00:01\r\u001b[K     |█████████████████████▉          | 61kB 4.7MB/s eta 0:00:01\r\u001b[K     |█████████████████████████▌      | 71kB 4.8MB/s eta 0:00:01\r\u001b[K     |█████████████████████████████   | 81kB 5.2MB/s eta 0:00:01\r\u001b[K     |████████████████████████████████| 92kB 3.9MB/s \n",
            "\u001b[?25h"
          ],
          "name": "stdout"
        }
      ]
    },
    {
      "cell_type": "code",
      "metadata": {
        "id": "psECtCenyDMf",
        "colab": {
          "base_uri": "https://localhost:8080/"
        },
        "outputId": "6c9a7033-6df8-4cbf-e776-731a346e8b4c"
      },
      "source": [
        "import pandas as pd\r\n",
        "import numpy as np\r\n",
        "import torch \r\n",
        "from torchtext import data\r\n",
        "from torchtext.vocab import GloVe\r\n",
        "import torch.nn as nn\r\n",
        "from torch.nn import functional as F\r\n",
        "from torch.autograd import Variable\r\n",
        "import re\r\n",
        "import nltk\r\n",
        "from nltk.corpus import stopwords\r\n",
        "nltk.download('stopwords')\r\n",
        "STOPWORDS = stopwords.words('english')"
      ],
      "execution_count": 1,
      "outputs": [
        {
          "output_type": "stream",
          "text": [
            "[nltk_data] Downloading package stopwords to /root/nltk_data...\n",
            "[nltk_data]   Unzipping corpora/stopwords.zip.\n"
          ],
          "name": "stdout"
        }
      ]
    },
    {
      "cell_type": "code",
      "metadata": {
        "id": "C0geNMvkiCZx"
      },
      "source": [
        "train = pd.read_csv('/content/train_parsed.csv')\r\n",
        "val = pd.read_csv('/content/val_parsed.csv')\r\n",
        "test = pd.read_csv('/content/test_parsed.csv')"
      ],
      "execution_count": 5,
      "outputs": []
    },
    {
      "cell_type": "code",
      "metadata": {
        "id": "IrZDvIZXL2Cj"
      },
      "source": [
        "train['text'] = train['text'].apply(lambda x: \" \".join([y for y in x.split() if y not in STOPWORDS]).lower())\r\n",
        "val['text'] = val['text'].apply(lambda x: \" \".join([y for y in x.split() if y not in STOPWORDS]).lower())\r\n",
        "test['text'] = test['text'].apply(lambda x: \" \".join([y for y in x.split() if y not in STOPWORDS]).lower())"
      ],
      "execution_count": 6,
      "outputs": []
    },
    {
      "cell_type": "code",
      "metadata": {
        "id": "46HFFQavDz1Z"
      },
      "source": [
        "def load_embed(file):\r\n",
        "  '''\r\n",
        "  Loads GLoVe embeddings\r\n",
        "  file -> path to glove embeddings\r\n",
        "  load_embed(...) -> Dict()\r\n",
        "  '''\r\n",
        "  def get_coefs(word,*arr): \r\n",
        "      return word, torch.from_numpy(np.array(arr,dtype=np.float32))\r\n",
        "  \r\n",
        "  embeddings_index = dict(get_coefs(*o.split(\" \")) for o in open(file, encoding='utf-8'))\r\n",
        "      \r\n",
        "  return embeddings_index"
      ],
      "execution_count": 8,
      "outputs": []
    },
    {
      "cell_type": "markdown",
      "metadata": {
        "id": "YlmXEjokBwhf"
      },
      "source": [
        "## Data Class and Data loader"
      ]
    },
    {
      "cell_type": "code",
      "metadata": {
        "id": "qTiirvGFjkpK"
      },
      "source": [
        "from torchnlp.encoders.text import StaticTokenizerEncoder, pad_tensor\r\n",
        "\r\n",
        "class MultiModalDataset(torch.utils.data.Dataset):\r\n",
        "  def __init__(self,data):\r\n",
        "    self.features = ['alchemy_category_score', 'avglinksize', 'commonlinkratio_1',\r\n",
        "       'commonlinkratio_2', 'commonlinkratio_3', 'commonlinkratio_4',\r\n",
        "       'compression_ratio', 'embed_ratio', 'frameTagRatio', 'html_ratio',\r\n",
        "       'image_ratio', 'is_news', 'lengthyLinkDomain', 'linkwordscore',\r\n",
        "       'non_markup_alphanum_characters', 'numberOfLinks', 'numwords_in_url',\r\n",
        "       'parametrizedLinkRatio', 'spelling_errors_ratio', 'alchemy_labels',\r\n",
        "       'tld_labels']\r\n",
        "    self.data = data\r\n",
        "    \r\n",
        "    self.tokenizer = StaticTokenizerEncoder(data['text'].values, tokenize=lambda s: s.split())\r\n",
        "    \r\n",
        "  def __getitem__(self,i):\r\n",
        "    text = pad_tensor(self.tokenizer.encode(self.data.loc[i,'text']),length=328)\r\n",
        "    X = self.data.loc[i,self.features].astype(float).values\r\n",
        "    y = self.data.loc[i,'label']\r\n",
        "\r\n",
        "    return text,torch.FloatTensor(X),torch.FloatTensor([y])\r\n",
        "  \r\n",
        "  def __len__(self):\r\n",
        "    return len(self.data)"
      ],
      "execution_count": 9,
      "outputs": []
    },
    {
      "cell_type": "code",
      "metadata": {
        "id": "UUv8CgwXNou0"
      },
      "source": [
        "# Get Word Index for the embedding weights\r\n",
        "total_data = pd.concat([pd.read_csv('/content/train_parsed.csv'),\r\n",
        "                        pd.read_csv('/content/val_parsed.csv')],ignore_index = True)\r\n",
        "all = MultiModalDataset(total_data)\r\n",
        "word_index = all.tokenizer.token_to_index\r\n",
        "del all, total_data"
      ],
      "execution_count": 10,
      "outputs": []
    },
    {
      "cell_type": "code",
      "metadata": {
        "id": "AdEg0wLtFr_V"
      },
      "source": [
        "# Train dataloader\r\n",
        "train = pd.read_csv('/content/train_parsed.csv')\r\n",
        "train_data = MultiModalDataset(train)\r\n",
        "train_dataloader = torch.utils.data.DataLoader(train_data,batch_size=29)\r\n",
        "\r\n",
        "# Validation dataloader\r\n",
        "val = pd.read_csv('/content/val_parsed.csv')\r\n",
        "val_data = MultiModalDataset(val)\r\n",
        "val_dataloader = torch.utils.data.DataLoader(val_data,batch_size=29)"
      ],
      "execution_count": 11,
      "outputs": []
    },
    {
      "cell_type": "code",
      "metadata": {
        "id": "aRAqsJ40P916"
      },
      "source": [
        "# Loading GloVE embeddings\r\n",
        "embeddings_index = load_embed('glove.840B.300d.txt')\r\n",
        "\r\n",
        "# Saving embeddings for word from vocab\r\n",
        "EMBEDDING_DIM = 300\r\n",
        "embedding_matrix = torch.zeros((len(word_index) + 1, EMBEDDING_DIM))\r\n",
        "for word, i in word_index.items():\r\n",
        "    embedding_vector = embeddings_index.get(word)\r\n",
        "    if embedding_vector is not None:\r\n",
        "        # words not found in embedding index will be all-zeros.\r\n",
        "        embedding_matrix[i] = embedding_vector"
      ],
      "execution_count": 12,
      "outputs": []
    },
    {
      "cell_type": "markdown",
      "metadata": {
        "id": "gJYK-xkSBpPh"
      },
      "source": [
        "## Bilinear Network"
      ]
    },
    {
      "cell_type": "code",
      "metadata": {
        "id": "04ZzGnr4tMl3"
      },
      "source": [
        "class BiLinearModel(nn.Module):\r\n",
        "  def __init__(self ,vocab_size,seq_length,feature_length,embedding_length,weights):\r\n",
        "    super(BiLinearModel, self).__init__()\r\n",
        "\r\n",
        "    # self.batch_size = batch_size\r\n",
        "    # self.hidden_size = hidden_size\r\n",
        "    self.vocab_size = vocab_size\r\n",
        "    self.em_len = embedding_length\r\n",
        "    self.embedding_matrix = weights\r\n",
        "\r\n",
        "    ## Textual Network\r\n",
        "    self.word_embeddings = nn.Embedding(vocab_size, embedding_length)\r\n",
        "    self.word_embeddings.weights = nn.Parameter(weights, requires_grad=False)\r\n",
        "    # self.lstm = nn.LSTM(embedding_length, hidden_size,bidirectional = True,num_layers=4)\r\n",
        "    self.encoder_layer = nn.TransformerEncoderLayer(d_model=embedding_length, nhead=6)\r\n",
        "    self.transformer_encoder = nn.TransformerEncoder(self.encoder_layer, num_layers=3)\r\n",
        "    \r\n",
        "    self.encoder_layer2 = nn.TransformerEncoderLayer(d_model=embedding_length, nhead=5)\r\n",
        "    self.transformer_encoder2 = nn.TransformerEncoder(self.encoder_layer, num_layers=3)\r\n",
        "\r\n",
        "    self.transformerNN = nn.Linear(seq_length,256)\r\n",
        "    self.transformerBatchNorm = nn.BatchNorm1d(256)\r\n",
        "\r\n",
        "    ## Numerical Features\r\n",
        "    self.numericals = nn.Sequential(\r\n",
        "        nn.Linear(feature_length,128),\r\n",
        "        nn.ReLU(),\r\n",
        "        nn.Linear(128,64),\r\n",
        "        nn.ReLU(),\r\n",
        "        nn.Dropout(0.4),\r\n",
        "        nn.Linear(64,64),\r\n",
        "        nn.ReLU(),\r\n",
        "        nn.Linear(64,32),\r\n",
        "        nn.ReLU()\r\n",
        "    )\r\n",
        "    self.bn1 = nn.BatchNorm1d(32)\r\n",
        "\r\n",
        "    ## Concatenation of Layers\r\n",
        "    self.biNN = nn.Bilinear(32,256,128)\r\n",
        "    self.dropout = nn.Dropout(0.4)\r\n",
        "    self.fc1 = nn.Linear(128,32)\r\n",
        "    self.bn2 = nn.BatchNorm1d(32)\r\n",
        "    \r\n",
        "    self.classifier = nn.Linear(32,1)\r\n",
        "\r\n",
        "\r\n",
        "  def forward(self,X,text):\r\n",
        "    # Textual\r\n",
        "    text = self.word_embeddings(text)\r\n",
        "\r\n",
        "    output = self.transformer_encoder(text)\r\n",
        "    output = self.transformer_encoder2(output)\r\n",
        "\r\n",
        "    output = output.mean(dim=2)\r\n",
        "\r\n",
        "    output = self.transformerNN(output)\r\n",
        "    output = self.transformerBatchNorm(output)\r\n",
        "\r\n",
        "    ## Numerical\r\n",
        "    vec = self.numericals(X)\r\n",
        "    vec = self.bn1(vec)\r\n",
        "\r\n",
        "    # Concatenate\r\n",
        "    x = F.relu(self.biNN(vec,output))\r\n",
        "    x = self.dropout(x)\r\n",
        "    x = F.relu(self.fc1(x))\r\n",
        "    x = self.bn2(x)\r\n",
        "    x = self.classifier(x)\r\n",
        "    \r\n",
        "    return x\r\n"
      ],
      "execution_count": 61,
      "outputs": []
    },
    {
      "cell_type": "code",
      "metadata": {
        "id": "87x_XSo1ditX"
      },
      "source": [
        ""
      ],
      "execution_count": 61,
      "outputs": []
    },
    {
      "cell_type": "code",
      "metadata": {
        "colab": {
          "base_uri": "https://localhost:8080/"
        },
        "id": "sgekPMvsDvVC",
        "outputId": "fd6d1817-a009-400c-c36f-2f7261e312d9"
      },
      "source": [
        "learning_rate = 1e-5\r\n",
        "embedding_length = 300\r\n",
        "word_embeddings = embedding_matrix\r\n",
        "vocab_size = len(word_index)\r\n",
        "device = torch.device('cuda')\r\n",
        "sequence_length = 328\r\n",
        "feature_length = 21\r\n",
        "\r\n",
        "model = BiLinearModel(vocab_size,sequence_length,feature_length, embedding_length,word_embeddings)\r\n",
        "optim = torch.optim.Adam(filter(lambda p: p.requires_grad, model.parameters()),lr = learning_rate)\r\n",
        "loss_fn = nn.BCEWithLogitsLoss().to(device)\r\n",
        "\r\n",
        "model.cuda()\r\n",
        "\r\n",
        "train_losses = []\r\n",
        "train_accs = []\r\n",
        "val_losses = []\r\n",
        "val_accs = []\r\n",
        "\r\n",
        "for epoch in range(30):\r\n",
        "  train_epoch_loss = 0\r\n",
        "  train_epoch_acc = 0\r\n",
        "  model.train()\r\n",
        "  steps = 0\r\n",
        "  for idx, batch in enumerate(train_dataloader):\r\n",
        "    text, X, target = batch\r\n",
        "    text = text.to(device)\r\n",
        "    X = X.to(device)\r\n",
        "    target = target.to(device)\r\n",
        "    optim.zero_grad()\r\n",
        "    prediction = model(X,text)\r\n",
        "    loss = loss_fn(prediction, target)\r\n",
        "    num_corrects = ((prediction>0.5).float().view(target.size()).data == target.data).sum()\r\n",
        "    acc = 100.0 * (num_corrects/target.size(0))\r\n",
        "    loss.backward()\r\n",
        "    # clip_gradient(model, 1e-1)\r\n",
        "    optim.step()\r\n",
        "    steps += 1\r\n",
        "    \r\n",
        "    if steps % 50 == 0:\r\n",
        "        print (f'\\t Train - Epoch: {epoch+1}, Idx: {idx+1}, Training Loss: {loss.item():.4f}, Training Accuracy: {acc.item(): .2f}%')\r\n",
        "    \r\n",
        "    train_epoch_loss += loss.item()\r\n",
        "    train_epoch_acc += acc.item()\r\n",
        "  \r\n",
        "  train_losses.append(train_epoch_loss/len(train_dataloader))\r\n",
        "  train_accs.append(train_epoch_acc/len(train_dataloader))\r\n",
        "\r\n",
        "  val_epoch_loss = 0\r\n",
        "  val_epoch_acc = 0\r\n",
        "  model.eval()\r\n",
        "  val_steps = 0\r\n",
        "  with torch.no_grad():\r\n",
        "    for idx, batch in enumerate(val_dataloader):\r\n",
        "      text, X, target = batch\r\n",
        "      text = text.to(device)\r\n",
        "      X = X.to(device)\r\n",
        "      target = target.to(device)\r\n",
        "      prediction = model(X,text)\r\n",
        "      loss = loss_fn(prediction, target)\r\n",
        "      num_corrects = ((prediction>0.5).float().view(target.size()).data == target.data).sum()\r\n",
        "      acc = 100.0 * (num_corrects/target.size(0))\r\n",
        "      val_epoch_loss += loss.item()\r\n",
        "      val_epoch_acc += acc.item()\r\n",
        "      val_steps +=1\r\n",
        "  \r\n",
        "  \r\n",
        "  val_losses.append(val_epoch_loss/len(val_dataloader))\r\n",
        "  val_accs.append(val_epoch_acc/len(val_dataloader))\r\n",
        "  \r\n",
        "  print(f\"Epoch: {epoch+1:02}, Train Loss: {train_epoch_loss/steps:.3f}, Train Acc: {train_epoch_acc/steps:.2f}%, Val. Loss: {val_epoch_loss/val_steps:3f}, Val. Acc: {val_epoch_acc/val_steps:.2f}% \\n{90*'='}\")\r\n",
        "\r\n",
        "# Saving Model\r\n",
        "torch.save(model.state_dict(), '/content/Model.bin')"
      ],
      "execution_count": 62,
      "outputs": [
        {
          "output_type": "stream",
          "text": [
            "\t Train - Epoch: 1, Idx: 50, Training Loss: 0.7778, Training Accuracy:  41.38%\n",
            "\t Train - Epoch: 1, Idx: 100, Training Loss: 0.6892, Training Accuracy:  41.38%\n",
            "\t Train - Epoch: 1, Idx: 150, Training Loss: 0.7177, Training Accuracy:  58.62%\n",
            "\t Train - Epoch: 1, Idx: 200, Training Loss: 0.6385, Training Accuracy:  48.28%\n",
            "Epoch: 01, Train Loss: 0.706, Train Acc: 49.76%, Val. Loss: 0.698678, Val. Acc: 48.68% \n",
            "==========================================================================================\n",
            "\t Train - Epoch: 2, Idx: 50, Training Loss: 0.6690, Training Accuracy:  58.62%\n",
            "\t Train - Epoch: 2, Idx: 100, Training Loss: 0.7166, Training Accuracy:  34.48%\n",
            "\t Train - Epoch: 2, Idx: 150, Training Loss: 0.7796, Training Accuracy:  48.28%\n",
            "\t Train - Epoch: 2, Idx: 200, Training Loss: 0.7152, Training Accuracy:  37.93%\n",
            "Epoch: 02, Train Loss: 0.711, Train Acc: 48.95%, Val. Loss: 0.703062, Val. Acc: 48.68% \n",
            "==========================================================================================\n",
            "\t Train - Epoch: 3, Idx: 50, Training Loss: 0.7415, Training Accuracy:  51.72%\n",
            "\t Train - Epoch: 3, Idx: 100, Training Loss: 0.6953, Training Accuracy:  44.83%\n",
            "\t Train - Epoch: 3, Idx: 150, Training Loss: 0.7218, Training Accuracy:  51.72%\n",
            "\t Train - Epoch: 3, Idx: 200, Training Loss: 0.6922, Training Accuracy:  34.48%\n",
            "Epoch: 03, Train Loss: 0.711, Train Acc: 49.12%, Val. Loss: 0.697033, Val. Acc: 48.68% \n",
            "==========================================================================================\n",
            "\t Train - Epoch: 4, Idx: 50, Training Loss: 0.7204, Training Accuracy:  58.62%\n",
            "\t Train - Epoch: 4, Idx: 100, Training Loss: 0.7084, Training Accuracy:  41.38%\n",
            "\t Train - Epoch: 4, Idx: 150, Training Loss: 0.7493, Training Accuracy:  51.72%\n",
            "\t Train - Epoch: 4, Idx: 200, Training Loss: 0.7101, Training Accuracy:  31.03%\n",
            "Epoch: 04, Train Loss: 0.709, Train Acc: 48.73%, Val. Loss: 0.696709, Val. Acc: 48.68% \n",
            "==========================================================================================\n",
            "\t Train - Epoch: 5, Idx: 50, Training Loss: 0.7146, Training Accuracy:  62.07%\n",
            "\t Train - Epoch: 5, Idx: 100, Training Loss: 0.7061, Training Accuracy:  51.72%\n",
            "\t Train - Epoch: 5, Idx: 150, Training Loss: 0.7701, Training Accuracy:  51.72%\n",
            "\t Train - Epoch: 5, Idx: 200, Training Loss: 0.7108, Training Accuracy:  44.83%\n",
            "Epoch: 05, Train Loss: 0.706, Train Acc: 48.97%, Val. Loss: 0.695741, Val. Acc: 48.68% \n",
            "==========================================================================================\n",
            "\t Train - Epoch: 6, Idx: 50, Training Loss: 0.7817, Training Accuracy:  51.72%\n",
            "\t Train - Epoch: 6, Idx: 100, Training Loss: 0.6864, Training Accuracy:  51.72%\n",
            "\t Train - Epoch: 6, Idx: 150, Training Loss: 0.6917, Training Accuracy:  62.07%\n",
            "\t Train - Epoch: 6, Idx: 200, Training Loss: 0.7201, Training Accuracy:  31.03%\n",
            "Epoch: 06, Train Loss: 0.705, Train Acc: 49.54%, Val. Loss: 0.695632, Val. Acc: 48.68% \n",
            "==========================================================================================\n",
            "\t Train - Epoch: 7, Idx: 50, Training Loss: 0.7705, Training Accuracy:  51.72%\n",
            "\t Train - Epoch: 7, Idx: 100, Training Loss: 0.6924, Training Accuracy:  41.38%\n",
            "\t Train - Epoch: 7, Idx: 150, Training Loss: 0.7698, Training Accuracy:  48.28%\n",
            "\t Train - Epoch: 7, Idx: 200, Training Loss: 0.6814, Training Accuracy:  37.93%\n",
            "Epoch: 07, Train Loss: 0.699, Train Acc: 49.29%, Val. Loss: 0.695637, Val. Acc: 48.68% \n",
            "==========================================================================================\n",
            "\t Train - Epoch: 8, Idx: 50, Training Loss: 0.7024, Training Accuracy:  51.72%\n",
            "\t Train - Epoch: 8, Idx: 100, Training Loss: 0.6677, Training Accuracy:  51.72%\n",
            "\t Train - Epoch: 8, Idx: 150, Training Loss: 0.6916, Training Accuracy:  62.07%\n",
            "\t Train - Epoch: 8, Idx: 200, Training Loss: 0.7025, Training Accuracy:  37.93%\n",
            "Epoch: 08, Train Loss: 0.701, Train Acc: 49.59%, Val. Loss: 0.696489, Val. Acc: 48.68% \n",
            "==========================================================================================\n",
            "\t Train - Epoch: 9, Idx: 50, Training Loss: 0.7082, Training Accuracy:  58.62%\n",
            "\t Train - Epoch: 9, Idx: 100, Training Loss: 0.6795, Training Accuracy:  51.72%\n",
            "\t Train - Epoch: 9, Idx: 150, Training Loss: 0.7641, Training Accuracy:  55.17%\n",
            "\t Train - Epoch: 9, Idx: 200, Training Loss: 0.7125, Training Accuracy:  37.93%\n",
            "Epoch: 09, Train Loss: 0.705, Train Acc: 49.00%, Val. Loss: 0.697645, Val. Acc: 48.68% \n",
            "==========================================================================================\n",
            "\t Train - Epoch: 10, Idx: 50, Training Loss: 0.6932, Training Accuracy:  62.07%\n",
            "\t Train - Epoch: 10, Idx: 100, Training Loss: 0.7241, Training Accuracy:  55.17%\n",
            "\t Train - Epoch: 10, Idx: 150, Training Loss: 0.7011, Training Accuracy:  62.07%\n",
            "\t Train - Epoch: 10, Idx: 200, Training Loss: 0.7092, Training Accuracy:  34.48%\n",
            "Epoch: 10, Train Loss: 0.704, Train Acc: 49.39%, Val. Loss: 0.695964, Val. Acc: 48.68% \n",
            "==========================================================================================\n",
            "\t Train - Epoch: 11, Idx: 50, Training Loss: 0.7479, Training Accuracy:  44.83%\n",
            "\t Train - Epoch: 11, Idx: 100, Training Loss: 0.6793, Training Accuracy:  44.83%\n",
            "\t Train - Epoch: 11, Idx: 150, Training Loss: 0.7580, Training Accuracy:  51.72%\n",
            "\t Train - Epoch: 11, Idx: 200, Training Loss: 0.6638, Training Accuracy:  48.28%\n",
            "Epoch: 11, Train Loss: 0.698, Train Acc: 49.51%, Val. Loss: 0.700379, Val. Acc: 48.68% \n",
            "==========================================================================================\n",
            "\t Train - Epoch: 12, Idx: 50, Training Loss: 0.7414, Training Accuracy:  48.28%\n",
            "\t Train - Epoch: 12, Idx: 100, Training Loss: 0.6839, Training Accuracy:  34.48%\n",
            "\t Train - Epoch: 12, Idx: 150, Training Loss: 0.6928, Training Accuracy:  62.07%\n",
            "\t Train - Epoch: 12, Idx: 200, Training Loss: 0.7066, Training Accuracy:  27.59%\n",
            "Epoch: 12, Train Loss: 0.693, Train Acc: 50.20%, Val. Loss: 0.698560, Val. Acc: 48.68% \n",
            "==========================================================================================\n",
            "\t Train - Epoch: 13, Idx: 50, Training Loss: 0.7613, Training Accuracy:  48.28%\n",
            "\t Train - Epoch: 13, Idx: 100, Training Loss: 0.7032, Training Accuracy:  37.93%\n",
            "\t Train - Epoch: 13, Idx: 150, Training Loss: 0.7288, Training Accuracy:  58.62%\n",
            "\t Train - Epoch: 13, Idx: 200, Training Loss: 0.6935, Training Accuracy:  34.48%\n",
            "Epoch: 13, Train Loss: 0.694, Train Acc: 49.02%, Val. Loss: 0.698550, Val. Acc: 48.68% \n",
            "==========================================================================================\n",
            "\t Train - Epoch: 14, Idx: 50, Training Loss: 0.7796, Training Accuracy:  58.62%\n",
            "\t Train - Epoch: 14, Idx: 100, Training Loss: 0.6741, Training Accuracy:  44.83%\n",
            "\t Train - Epoch: 14, Idx: 150, Training Loss: 0.7043, Training Accuracy:  62.07%\n",
            "\t Train - Epoch: 14, Idx: 200, Training Loss: 0.6774, Training Accuracy:  41.38%\n",
            "Epoch: 14, Train Loss: 0.692, Train Acc: 49.97%, Val. Loss: 0.703592, Val. Acc: 48.68% \n",
            "==========================================================================================\n",
            "\t Train - Epoch: 15, Idx: 50, Training Loss: 0.6931, Training Accuracy:  58.62%\n",
            "\t Train - Epoch: 15, Idx: 100, Training Loss: 0.6947, Training Accuracy:  44.83%\n",
            "\t Train - Epoch: 15, Idx: 150, Training Loss: 0.7597, Training Accuracy:  48.28%\n",
            "\t Train - Epoch: 15, Idx: 200, Training Loss: 0.6708, Training Accuracy:  48.28%\n",
            "Epoch: 15, Train Loss: 0.694, Train Acc: 49.75%, Val. Loss: 0.700221, Val. Acc: 48.68% \n",
            "==========================================================================================\n",
            "\t Train - Epoch: 16, Idx: 50, Training Loss: 0.7369, Training Accuracy:  62.07%\n",
            "\t Train - Epoch: 16, Idx: 100, Training Loss: 0.6813, Training Accuracy:  37.93%\n",
            "\t Train - Epoch: 16, Idx: 150, Training Loss: 0.6570, Training Accuracy:  65.52%\n",
            "\t Train - Epoch: 16, Idx: 200, Training Loss: 0.7171, Training Accuracy:  31.03%\n",
            "Epoch: 16, Train Loss: 0.693, Train Acc: 50.34%, Val. Loss: 0.699468, Val. Acc: 48.68% \n",
            "==========================================================================================\n",
            "\t Train - Epoch: 17, Idx: 50, Training Loss: 0.6925, Training Accuracy:  55.17%\n",
            "\t Train - Epoch: 17, Idx: 100, Training Loss: 0.6734, Training Accuracy:  48.28%\n",
            "\t Train - Epoch: 17, Idx: 150, Training Loss: 0.7721, Training Accuracy:  48.28%\n",
            "\t Train - Epoch: 17, Idx: 200, Training Loss: 0.6625, Training Accuracy:  41.38%\n",
            "Epoch: 17, Train Loss: 0.691, Train Acc: 49.97%, Val. Loss: 0.701300, Val. Acc: 48.68% \n",
            "==========================================================================================\n",
            "\t Train - Epoch: 18, Idx: 50, Training Loss: 0.7198, Training Accuracy:  55.17%\n",
            "\t Train - Epoch: 18, Idx: 100, Training Loss: 0.6508, Training Accuracy:  51.72%\n",
            "\t Train - Epoch: 18, Idx: 150, Training Loss: 0.6880, Training Accuracy:  62.07%\n",
            "\t Train - Epoch: 18, Idx: 200, Training Loss: 0.6866, Training Accuracy:  41.38%\n",
            "Epoch: 18, Train Loss: 0.689, Train Acc: 50.59%, Val. Loss: 0.698388, Val. Acc: 48.68% \n",
            "==========================================================================================\n",
            "\t Train - Epoch: 19, Idx: 50, Training Loss: 0.6757, Training Accuracy:  58.62%\n",
            "\t Train - Epoch: 19, Idx: 100, Training Loss: 0.6469, Training Accuracy:  51.72%\n",
            "\t Train - Epoch: 19, Idx: 150, Training Loss: 0.7467, Training Accuracy:  55.17%\n",
            "\t Train - Epoch: 19, Idx: 200, Training Loss: 0.7421, Training Accuracy:  34.48%\n",
            "Epoch: 19, Train Loss: 0.690, Train Acc: 50.52%, Val. Loss: 0.701455, Val. Acc: 48.68% \n",
            "==========================================================================================\n",
            "\t Train - Epoch: 20, Idx: 50, Training Loss: 0.7334, Training Accuracy:  58.62%\n",
            "\t Train - Epoch: 20, Idx: 100, Training Loss: 0.6609, Training Accuracy:  48.28%\n",
            "\t Train - Epoch: 20, Idx: 150, Training Loss: 0.6457, Training Accuracy:  75.86%\n",
            "\t Train - Epoch: 20, Idx: 200, Training Loss: 0.6243, Training Accuracy:  37.93%\n",
            "Epoch: 20, Train Loss: 0.688, Train Acc: 50.69%, Val. Loss: 0.701474, Val. Acc: 48.68% \n",
            "==========================================================================================\n",
            "\t Train - Epoch: 21, Idx: 50, Training Loss: 0.7267, Training Accuracy:  55.17%\n",
            "\t Train - Epoch: 21, Idx: 100, Training Loss: 0.6924, Training Accuracy:  41.38%\n",
            "\t Train - Epoch: 21, Idx: 150, Training Loss: 0.7414, Training Accuracy:  58.62%\n",
            "\t Train - Epoch: 21, Idx: 200, Training Loss: 0.6823, Training Accuracy:  34.48%\n",
            "Epoch: 21, Train Loss: 0.692, Train Acc: 50.03%, Val. Loss: 0.701414, Val. Acc: 48.68% \n",
            "==========================================================================================\n",
            "\t Train - Epoch: 22, Idx: 50, Training Loss: 0.6927, Training Accuracy:  68.97%\n",
            "\t Train - Epoch: 22, Idx: 100, Training Loss: 0.6928, Training Accuracy:  51.72%\n",
            "\t Train - Epoch: 22, Idx: 150, Training Loss: 0.6496, Training Accuracy:  58.62%\n",
            "\t Train - Epoch: 22, Idx: 200, Training Loss: 0.7434, Training Accuracy:  31.03%\n",
            "Epoch: 22, Train Loss: 0.687, Train Acc: 50.93%, Val. Loss: 0.702169, Val. Acc: 48.68% \n",
            "==========================================================================================\n",
            "\t Train - Epoch: 23, Idx: 50, Training Loss: 0.6620, Training Accuracy:  62.07%\n",
            "\t Train - Epoch: 23, Idx: 100, Training Loss: 0.6629, Training Accuracy:  37.93%\n",
            "\t Train - Epoch: 23, Idx: 150, Training Loss: 0.7348, Training Accuracy:  62.07%\n",
            "\t Train - Epoch: 23, Idx: 200, Training Loss: 0.6913, Training Accuracy:  41.38%\n",
            "Epoch: 23, Train Loss: 0.687, Train Acc: 51.79%, Val. Loss: 0.700607, Val. Acc: 48.68% \n",
            "==========================================================================================\n",
            "\t Train - Epoch: 24, Idx: 50, Training Loss: 0.7092, Training Accuracy:  51.72%\n",
            "\t Train - Epoch: 24, Idx: 100, Training Loss: 0.6794, Training Accuracy:  44.83%\n",
            "\t Train - Epoch: 24, Idx: 150, Training Loss: 0.7280, Training Accuracy:  58.62%\n",
            "\t Train - Epoch: 24, Idx: 200, Training Loss: 0.6776, Training Accuracy:  37.93%\n",
            "Epoch: 24, Train Loss: 0.686, Train Acc: 50.71%, Val. Loss: 0.700062, Val. Acc: 48.68% \n",
            "==========================================================================================\n",
            "\t Train - Epoch: 25, Idx: 50, Training Loss: 0.7265, Training Accuracy:  55.17%\n",
            "\t Train - Epoch: 25, Idx: 100, Training Loss: 0.6721, Training Accuracy:  44.83%\n",
            "\t Train - Epoch: 25, Idx: 150, Training Loss: 0.7347, Training Accuracy:  55.17%\n",
            "\t Train - Epoch: 25, Idx: 200, Training Loss: 0.6500, Training Accuracy:  41.38%\n",
            "Epoch: 25, Train Loss: 0.688, Train Acc: 51.00%, Val. Loss: 0.699814, Val. Acc: 48.68% \n",
            "==========================================================================================\n",
            "\t Train - Epoch: 26, Idx: 50, Training Loss: 0.6839, Training Accuracy:  68.97%\n",
            "\t Train - Epoch: 26, Idx: 100, Training Loss: 0.6439, Training Accuracy:  51.72%\n",
            "\t Train - Epoch: 26, Idx: 150, Training Loss: 0.6766, Training Accuracy:  65.52%\n",
            "\t Train - Epoch: 26, Idx: 200, Training Loss: 0.6834, Training Accuracy:  37.93%\n",
            "Epoch: 26, Train Loss: 0.684, Train Acc: 51.01%, Val. Loss: 0.697911, Val. Acc: 48.68% \n",
            "==========================================================================================\n",
            "\t Train - Epoch: 27, Idx: 50, Training Loss: 0.7066, Training Accuracy:  55.17%\n",
            "\t Train - Epoch: 27, Idx: 100, Training Loss: 0.6655, Training Accuracy:  51.72%\n",
            "\t Train - Epoch: 27, Idx: 150, Training Loss: 0.7105, Training Accuracy:  65.52%\n",
            "\t Train - Epoch: 27, Idx: 200, Training Loss: 0.6899, Training Accuracy:  41.38%\n",
            "Epoch: 27, Train Loss: 0.685, Train Acc: 51.56%, Val. Loss: 0.703514, Val. Acc: 48.68% \n",
            "==========================================================================================\n",
            "\t Train - Epoch: 28, Idx: 50, Training Loss: 0.7389, Training Accuracy:  51.72%\n",
            "\t Train - Epoch: 28, Idx: 100, Training Loss: 0.7226, Training Accuracy:  48.28%\n",
            "\t Train - Epoch: 28, Idx: 150, Training Loss: 0.7229, Training Accuracy:  62.07%\n",
            "\t Train - Epoch: 28, Idx: 200, Training Loss: 0.6526, Training Accuracy:  37.93%\n",
            "Epoch: 28, Train Loss: 0.681, Train Acc: 51.54%, Val. Loss: 0.700734, Val. Acc: 48.68% \n",
            "==========================================================================================\n",
            "\t Train - Epoch: 29, Idx: 50, Training Loss: 0.7829, Training Accuracy:  51.72%\n",
            "\t Train - Epoch: 29, Idx: 100, Training Loss: 0.6178, Training Accuracy:  44.83%\n",
            "\t Train - Epoch: 29, Idx: 150, Training Loss: 0.7015, Training Accuracy:  68.97%\n",
            "\t Train - Epoch: 29, Idx: 200, Training Loss: 0.6684, Training Accuracy:  41.38%\n",
            "Epoch: 29, Train Loss: 0.683, Train Acc: 51.49%, Val. Loss: 0.705476, Val. Acc: 48.68% \n",
            "==========================================================================================\n",
            "\t Train - Epoch: 30, Idx: 50, Training Loss: 0.6505, Training Accuracy:  58.62%\n",
            "\t Train - Epoch: 30, Idx: 100, Training Loss: 0.6464, Training Accuracy:  41.38%\n",
            "\t Train - Epoch: 30, Idx: 150, Training Loss: 0.7118, Training Accuracy:  62.07%\n",
            "\t Train - Epoch: 30, Idx: 200, Training Loss: 0.7031, Training Accuracy:  51.72%\n",
            "Epoch: 30, Train Loss: 0.683, Train Acc: 51.96%, Val. Loss: 0.701530, Val. Acc: 48.68% \n",
            "==========================================================================================\n"
          ],
          "name": "stdout"
        }
      ]
    },
    {
      "cell_type": "code",
      "metadata": {
        "colab": {
          "base_uri": "https://localhost:8080/",
          "height": 1000
        },
        "id": "VKMLKLHLfHmn",
        "outputId": "c759c6dd-5192-4a0c-897b-138f2e54f400"
      },
      "source": [
        "import matplotlib.pyplot as plt\r\n",
        "plt.figure(figsize=(20,10))\r\n",
        "plt.plot(train_accs,label='Training Accuracy')\r\n",
        "plt.plot(val_accs,label='Validation Accuracy')\r\n",
        "plt.legend(loc = 'upper right')\r\n",
        "plt.show()\r\n",
        "\r\n",
        "\r\n",
        "plt.figure(figsize=(20,10))\r\n",
        "plt.plot(train_losses,label='Training Losses')\r\n",
        "plt.plot(val_losses,label='Validation Losses')\r\n",
        "plt.legend(loc = 'upper right')\r\n",
        "plt.show()"
      ],
      "execution_count": 63,
      "outputs": [
        {
          "output_type": "display_data",
          "data": {
            "image/png": "[encoded data removed]",
            "text/plain": [
              "<Figure size 1440x720 with 1 Axes>"
            ]
          },
          "metadata": {
            "tags": [],
            "needs_background": "light"
          }
        },
        {
          "output_type": "display_data",
          "data": {
            "image/png": "[encoded data removed]",
            "text/plain": [
              "<Figure size 1440x720 with 1 Axes>"
            ]
          },
          "metadata": {
            "tags": [],
            "needs_background": "light"
          }
        }
      ]
    },
    {
      "cell_type": "markdown",
      "metadata": {
        "id": "wlUfLmGY_21F"
      },
      "source": [
        "# Evaluation and Prediction"
      ]
    },
    {
      "cell_type": "code",
      "metadata": {
        "id": "BR6AJPLaBCxl"
      },
      "source": [
        "from sklearn.metrics import classification_report"
      ],
      "execution_count": 64,
      "outputs": []
    },
    {
      "cell_type": "code",
      "metadata": {
        "id": "DFBBzGlMcGf3"
      },
      "source": [
        "val = pd.read_csv('/content/val_parsed.csv')\r\n",
        "val_data = MultiModalDataset(val)\r\n",
        "val_dataloader = torch.utils.data.DataLoader(val_data,batch_size=29)"
      ],
      "execution_count": 99,
      "outputs": []
    },
    {
      "cell_type": "code",
      "metadata": {
        "id": "gcTDkJy1fPzx"
      },
      "source": [
        "target.cpu().flatten().tolist()"
      ],
      "execution_count": null,
      "outputs": []
    },
    {
      "cell_type": "code",
      "metadata": {
        "id": "L9cPjMf8djum"
      },
      "source": [
        "target.cpu().numpy().reshape(1,-1)[0]"
      ],
      "execution_count": null,
      "outputs": []
    },
    {
      "cell_type": "code",
      "metadata": {
        "colab": {
          "base_uri": "https://localhost:8080/"
        },
        "id": "OdMigQlV_445",
        "outputId": "69f7aa2a-be46-4d03-9b24-3e90bea8ee57"
      },
      "source": [
        "model.cuda()\r\n",
        "model.eval()\r\n",
        "\r\n",
        "targets = []\r\n",
        "predictions = []\r\n",
        "\r\n",
        "val_iterator = iter(val_dataloader)\r\n",
        "for idx,batch in enumerate(val_dataloader):\r\n",
        "  with torch.no_grad():\r\n",
        "    text, X, target = batch\r\n",
        "    text = text.to(device)\r\n",
        "    X = X.to(device)\r\n",
        "    target = target.to(device)\r\n",
        "\r\n",
        "    prediction = model(X,text)\r\n",
        "    targets\r\n",
        "    loss = loss_fn(prediction, target)\r\n",
        "\r\n",
        "  targets += target.cpu().flatten().tolist()\r\n",
        "  predictions += (prediction>0.5).float().cpu().flatten().tolist()\r\n",
        "\r\n",
        "print(classification_report(targets,predictions))"
      ],
      "execution_count": 100,
      "outputs": [
        {
          "output_type": "stream",
          "text": [
            "              precision    recall  f1-score   support\n",
            "\n",
            "         0.0       0.49      1.00      0.65       720\n",
            "         1.0       0.00      0.00      0.00       759\n",
            "\n",
            "    accuracy                           0.49      1479\n",
            "   macro avg       0.24      0.50      0.33      1479\n",
            "weighted avg       0.24      0.49      0.32      1479\n",
            "\n"
          ],
          "name": "stdout"
        },
        {
          "output_type": "stream",
          "text": [
            "/usr/local/lib/python3.7/dist-packages/sklearn/metrics/_classification.py:1272: UndefinedMetricWarning: Precision and F-score are ill-defined and being set to 0.0 in labels with no predicted samples. Use `zero_division` parameter to control this behavior.\n",
            "  _warn_prf(average, modifier, msg_start, len(result))\n"
          ],
          "name": "stderr"
        }
      ]
    },
    {
      "cell_type": "code",
      "metadata": {
        "colab": {
          "base_uri": "https://localhost:8080/",
          "height": 428
        },
        "id": "UmtTiGKReZnA",
        "outputId": "2876c88c-c830-4234-ab9f-e73e2d4de417"
      },
      "source": [
        "from sklearn.metrics import confusion_matrix\r\n",
        "cf = confusion_matrix(targets,predictions)\r\n",
        "cf = pd.DataFrame(cf, index = ['evergreen','non-evergreen'],\r\n",
        "                  columns = ['evergreen','non-evergreen'])\r\n",
        "plt.figure(figsize = (10,7))\r\n",
        "sn.heatmap(cf, annot=True,fmt='.3g')\r\n",
        "plt.show()"
      ],
      "execution_count": 108,
      "outputs": [
        {
          "output_type": "display_data",
          "data": {
            "image/png": "[encoded data removed]",
            "text/plain": [
              "<Figure size 720x504 with 2 Axes>"
            ]
          },
          "metadata": {
            "tags": [],
            "needs_background": "light"
          }
        }
      ]
    },
    {
      "cell_type": "code",
      "metadata": {
        "id": "jumhOUaRhgvL"
      },
      "source": [
        ""
      ],
      "execution_count": null,
      "outputs": []
    }
  ]
}